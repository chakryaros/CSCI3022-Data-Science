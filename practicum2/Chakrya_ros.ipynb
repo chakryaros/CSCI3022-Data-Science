{
 "cells": [
  {
   "cell_type": "markdown",
   "metadata": {},
   "source": [
    "<a id='top'></a>\n",
    "\n",
    "# CSCI 3022: Intro to Data Science - Spring 2019 Practicum 2\n",
    "***\n",
    "\n",
    "This practicum is due on Canvas by **11:59 PM on Friday May 3**. Your solutions to theoretical questions should be done in Markdown/MathJax directly below the associated question.  Your solutions to computational questions should include any specified Python code and results as well as written commentary on your conclusions.  \n",
    "\n",
    "**Here are the rules:** \n",
    "\n",
    "1. All work, code and analysis, must be your own. \n",
    "1. You may use your course notes, posted lecture slides, textbooks, in-class notebooks, and homework solutions as resources.  You may also search online for answers to general knowledge questions like the form of a probability distribution function or how to perform a particular operation in Python/Pandas. \n",
    "1. This is meant to be like a coding portion of your midterm exam. So, the instructional team will be much less helpful than we typically are with homework. For example, we will not check answers, help debug your code, and so on.\n",
    "1. If something is left open-ended, it is because we want to see how you approach the kinds of problems you will encounter in the wild, where it will not always be clear what sort of tests/methods should be applied. Feel free to ask clarifying questions though.\n",
    "2. You may **NOT** post to message boards or other online resources asking for help.\n",
    "3. You may **NOT** copy-paste solutions *from anywhere*.\n",
    "4. You may **NOT** collaborate with classmates or anyone else.\n",
    "5. In short, **your work must be your own**. It really is that simple.\n",
    "\n",
    "Violation of the above rules will result in an immediate academic sanction (*at the very least*, you will receive a 0 on this practicum or an F in the course, depending on severity), and a trip to the Honor Code Council.\n",
    "\n",
    "**By submitting this assignment, you agree to abide by the rules given above.**\n",
    "\n",
    "***\n",
    "\n",
    "**Name**:  Chakrya Ros\n",
    "\n",
    "***\n",
    "\n",
    "\n",
    "**NOTES**: \n",
    "\n",
    "- You may not use late days on the practicums nor can you drop your practicum grades. \n",
    "- If you have a question for us, post it as a **PRIVATE** message on Piazza.  If we decide that the question is appropriate for the entire class, then we will add it to a Practicum clarifications thread. \n",
    "- Do **NOT** load or use any Python packages that are not available in Anaconda 3.6. \n",
    "- Some problems with code may be autograded.  If we provide a function API **do not** change it.  If we do not provide a function API then you're free to structure your code however you like. \n",
    "- Submit only this Jupyter notebook to Canvas.  Do not compress it using tar, rar, zip, etc. \n",
    "- This should go without saying, but... For any question that asks you to calculate something, you **must show all work to receive credit**. Sparse or nonexistent work will receive sparse or nonexistent credit.\n",
    "\n",
    "---\n",
    "**Shortcuts:**  [Problem 1](#p1) | [Problem 2](#p2) | [Bottom](#bot)\n",
    "\n",
    "---"
   ]
  },
  {
   "cell_type": "code",
   "execution_count": 2,
   "metadata": {},
   "outputs": [],
   "source": [
    "# import whatever packages you think you will need here!\n",
    "from scipy import stats\n",
    "import numpy as np \n",
    "import pandas as pd\n",
    "import statsmodels.api as sm\n",
    "import matplotlib.pyplot as plt\n",
    "%matplotlib inline\n"
   ]
  },
  {
   "cell_type": "markdown",
   "metadata": {},
   "source": [
    "<br>\n",
    "\n",
    "---\n",
    "<a id='p1'></a>\n",
    "[Back to top](#top)\n",
    "\n",
    "### [30 points] Problem 1:  What's the best Oreo flavor?\n",
    "\n",
    "> <img src=\"https://media2.s-nbcnews.com/j/newscms/2015_52/1351976/151223-watermelon-oreos-flickr-yh-1234p_a4c4ba1016261e5d799a789666948a6e.fit-760w.jpg\" style=\"width: 400px;\"/>\n",
    "**Figure 1.** Watermelon Oreos. These are undeniably the absolute _worst_ Oreo flavor, but not a part of our data set. If they were, the problem would be too easy.\n",
    "\n",
    "You're skipping down the road one day, singing a merry tune without a care in the world. Every so often you hop and click your heels together. After one such hop, though, you stumble and nearly trip. Under your feet is a fun data set!\n",
    "\n",
    "In particular, this rascally data set includes ratings from 5 different individuals for 12 different types of Oreo cookie. Because some of the raters are allergic to disgusting flavors of Oreo, not every taster tasted every type of cookie. More information about the data set can be found [here](https://www.kaggle.com/rtatman/oreo-flavors-tastetest-ratings).\n",
    "\n",
    "As you examine the data, a booming voice from the sky instructs you to analyze the data to answer two key questions:\n",
    "1. is there some difference in mean rating given to different flavors of Oreo? and\n",
    "2. which flavor (out of those in the data set) is the best?\n",
    "\n",
    "**Part A:** Load the data set as a Pandas DataFrame. Then, process it as you see fit. For the analysis, you might create a new DataFrame, or other kinds of Python objects to use the data. Do what feels right, and include an **explanation** in Markdown of how you are processing the data. You **may not** alter the original data file."
   ]
  },
  {
   "cell_type": "code",
   "execution_count": 1,
   "metadata": {},
   "outputs": [
    {
     "ename": "NameError",
     "evalue": "name 'pd' is not defined",
     "output_type": "error",
     "traceback": [
      "\u001b[0;31m---------------------------------------------------------------------------\u001b[0m",
      "\u001b[0;31mNameError\u001b[0m                                 Traceback (most recent call last)",
      "\u001b[0;32m<ipython-input-1-4021bacefb94>\u001b[0m in \u001b[0;36m<module>\u001b[0;34m\u001b[0m\n\u001b[0;32m----> 1\u001b[0;31m \u001b[0mpf\u001b[0m \u001b[0;34m=\u001b[0m \u001b[0mpd\u001b[0m\u001b[0;34m.\u001b[0m\u001b[0mread_csv\u001b[0m\u001b[0;34m(\u001b[0m\u001b[0;34m\"oreo_rankings.csv\"\u001b[0m\u001b[0;34m)\u001b[0m\u001b[0;34m\u001b[0m\u001b[0;34m\u001b[0m\u001b[0m\n\u001b[0m\u001b[1;32m      2\u001b[0m \u001b[0mpf\u001b[0m\u001b[0;34m.\u001b[0m\u001b[0mhead\u001b[0m\u001b[0;34m(\u001b[0m\u001b[0;34m)\u001b[0m\u001b[0;34m\u001b[0m\u001b[0;34m\u001b[0m\u001b[0m\n",
      "\u001b[0;31mNameError\u001b[0m: name 'pd' is not defined"
     ]
    }
   ],
   "source": [
    "pf = pd.read_csv(\"oreo_rankings.csv\")\n",
    "pf.head()"
   ]
  },
  {
   "cell_type": "markdown",
   "metadata": {},
   "source": [
    "**Part B:** In the remainder of this problem, you will perform some hypothesis tests to examine whether these data suggest there are significant differences in the mean ratings of the different Oreo flavors. Pick a level of significance for these experiments, and explain how you decided to use that significance level. \"Because we used it a lot in class\" is ***not*** a good reason."
   ]
  },
  {
   "cell_type": "markdown",
   "metadata": {
    "collapsed": true
   },
   "source": []
  },
  {
   "cell_type": "markdown",
   "metadata": {},
   "source": [
    "**Part C:** Perform an **Analysis of Variance hypothesis test** in order to determine if there is evidence that there is _some_ difference among the mean ratings given to these 12 Oreo flavors. Clearly state your null and alternative hypothesis, and use the significance level identified in **Part B**. You must show **all** calculations **by hand** (and may of course use Python as a calculator, and to compute values from a distribution using the appropriate percent-point-function (ppf) or cumulative distribution function (cdf)).\n",
    "\n",
    "In addition to showing the code for your calculations, make comments **in Markdown** explaining what you are doing."
   ]
  },
  {
   "cell_type": "code",
   "execution_count": null,
   "metadata": {},
   "outputs": [],
   "source": [
    "dfnew1 = df.copy()\n",
    "dfnew1 = dfnew1.replace({\"-\":np.nan})\n",
    "dfOreo = pd.DataFrame(columns=['pb&j', 'mega stuf', \"lemon\", \"chocolate\",\"birthday cake\",\"double stuf\",\n",
    "                               \"red velvet\",\"Dunkin' Donuts Mocha\",\"mini\",\"thins, coconut\",\"mint\",\"cinnamon bun\"])\n",
    "\n",
    "list_ = {0:'pb&j', 1:'mega stuf', 2:\"lemon\", 3:\"chocolate\",4:\"birthday cake\",5:\"double stuf\",\n",
    "            6:\"red velvet\",7:\"Dunkin' Donuts Mocha\",8:\"mini\",9:\"thins, coconut\",10:\"mint\",11:\"cinnamon bun\"}\n",
    "\n",
    "def newDataFrame(df, list_):\n",
    "    df_new = pd.DataFrame(columns=['pb&j', 'mega stuf', \"lemon\", \"chocolate\",\"birthday cake\",\"double stuf\",\n",
    "                               \"red velvet\",\"Dunkin' Donuts Mocha\",\"mini\",\"thins, coconut\",\"mint\",\"cinnamon bun\"])\n",
    "    \n",
    "    for l in list_:\n",
    "        x = df.loc[df['oreo_flavor'] == list_[l], 'rater_n':'rater_a']\n",
    "        x = pd.to_numeric(x.loc[l])\n",
    "        df_new[list_[l]] = x\n",
    "    return df_new\n",
    "\n",
    "dfOreo = newDataFrame(dfnew1, list_)\n",
    "# dfOreo = dfOreo.dropna()\n",
    "dfOreo"
   ]
  },
  {
   "cell_type": "markdown",
   "metadata": {},
   "source": [
    "**Part D:** Perform a **t hypothesis test** to determine if there is evidence supporting the claim that cinnamon bun Oreos have a higher mean rating than PB&J Oreos. Use the significance level you identified in **Part B**. Clearly state your null and alternative hypotheses, your conclusions, and show all work. Again, you may not use any canned t-test function."
   ]
  },
  {
   "cell_type": "code",
   "execution_count": null,
   "metadata": {},
   "outputs": [],
   "source": [
    "n = 7\n",
    "xbarCin = dfOreo['cinnamon bun'].mean()\n",
    "varCin = np.sum((dfOreo['cinnamon bun'] - xbarCin)**2)/n-1\n",
    "\n",
    "xbarPB = dfOreo['pb&j'].mean()\n",
    "varPB = np.sum((dfOreo['pb&j'] - xbarPB)**2)/n-1\n",
    "# print(varPB)\n",
    "# print(varCin)\n",
    "\n",
    "numerator = xbarCin - xbarPB\n",
    "denomerator = np.sqrt((varCin/n) + (varPB/n))\n",
    "T = numerator / denomerator\n",
    "# print(numerator)\n",
    "# print(denomerator)\n",
    "\n",
    "print(\"Test_statistic T = {:.3f}\".format(T))\n",
    "p_value =stats.t.cdf(T,22)\n",
    "print(\"p-value = {:.3f}\".format(p_value))\n",
    "if T < t_alp :\n",
    "    print(\"Reject Null Hypothesis\")\n",
    "else:\n",
    "    print(\"Failed to reject Null\")"
   ]
  },
  {
   "cell_type": "markdown",
   "metadata": {},
   "source": [
    "**Part E:** Do your results from Parts C and D agree with one another? If they agree, explain how they are in agreement in _words_. If they do not agree, explain why you think they do not agree.\n",
    "\n",
    "_Hint: if they do not agree, consider carefully what assumptions we make in ANOVA and the t-test._"
   ]
  },
  {
   "cell_type": "code",
   "execution_count": null,
   "metadata": {},
   "outputs": [],
   "source": []
  },
  {
   "cell_type": "markdown",
   "metadata": {},
   "source": [
    "<br>\n",
    "\n",
    "---\n",
    "<a id='p2'></a>\n",
    "[Back to top](#top)\n",
    "\n",
    "### [30 points] Problem 2: Multiple Linear Regression to Explain House Hauntings\n",
    "\n",
    "<img src=\"https://s-media-cache-ak0.pinimg.com/originals/09/72/01/09720128cff5de4d4af038cd3fcf7f69.jpg\" style=\"width: 300px;\"/>\n",
    "\n",
    "In an effort to control the skyrocketing prices of real estate in the Colorado Front Range, Governor Polis implemented a cutting edge new intervention. This new program oversaw the introduction of ghosts back into their natural ecosystem, after the ghost population seriously dwindled in recent decades due to overhaunting. However, an unfortunate miscalculation has led to haunted houses becoming a very serious problem in Colorado. Modern problems require modern solutions, so Governor Polis has hired you and the famous hedgehog data scientist/part-time ghostbuster Amy to determine what features of a house may be used to best predict a `haunted` score, related to the probability that a house with the given features is haunted (higher $\\leftrightarrow$ more likely to be haunted).\n",
    "\n",
    "You decide to use multiple linear regression to understand and predict what factors lead to increased haunted house hazard. You collected a data set from Haunted Zillow, the lesser-known database of haunted house prices and attributes. The data cover a variety of potential features, and you'll find this data in the file `houses.csv`. \n",
    "\n",
    "**Response**: \n",
    "\n",
    "- $\\texttt{haunted}$: a haunting score, related to the probability that a house with the given features is haunted (higher $\\leftrightarrow$ more likely to be haunted)\n",
    "\n",
    "**Features**: \n",
    "\n",
    "- $\\texttt{age}$: age of the house, in years\n",
    "- $\\texttt{area}$: square footage of interior of house\n",
    "- $\\texttt{bathrooms}$: number of bathrooms\n",
    "- $\\texttt{distance metro}$: distance to the nearest major metropolitan area (in miles)\n",
    "- $\\texttt{distance cemetery}$: distance to the nearest cemetery (in miles)\n",
    "- $\\texttt{cats}$: the number of cats within a one-block radius of the house\n",
    "- $\\texttt{howls}$: the number of wolf howls heard on an average night in the house's neighborhood\n",
    "- $\\texttt{clouds}$: what percentage of the sky was covered by clouds (fraction, 0-1)\n",
    "- $\\texttt{precipitation}$: amount of precipitation in the past 72 hours (inches)\n",
    "- $\\texttt{misery index}$: an economic indicator for how miserable the average United States citizen is, based on the unemployment rate and the inflation rate. More [here](https://www.stuffyoushouldknow.com/podcasts/whats-the-misery-index.htm) and [here](https://en.wikipedia.org/wiki/Misery_index_(economics)). Higher values correspond to more miserable citizens.\n",
    "- $\\texttt{ice cream sold}$: the number of units of ice cream sold at the farmer's market the week the house was most recently sold"
   ]
  },
  {
   "cell_type": "markdown",
   "metadata": {},
   "source": [
    "**Part A**: Read the data from `houses.csv` into a Pandas DataFrame.  Note that since we will be doing a multiple linear regression we will need all of the features, so you should drop any row in the DataFrame that is missing data. "
   ]
  },
  {
   "cell_type": "code",
   "execution_count": 4,
   "metadata": {},
   "outputs": [
    {
     "data": {
      "text/html": [
       "<div>\n",
       "<style scoped>\n",
       "    .dataframe tbody tr th:only-of-type {\n",
       "        vertical-align: middle;\n",
       "    }\n",
       "\n",
       "    .dataframe tbody tr th {\n",
       "        vertical-align: top;\n",
       "    }\n",
       "\n",
       "    .dataframe thead th {\n",
       "        text-align: right;\n",
       "    }\n",
       "</style>\n",
       "<table border=\"1\" class=\"dataframe\">\n",
       "  <thead>\n",
       "    <tr style=\"text-align: right;\">\n",
       "      <th></th>\n",
       "      <th>age</th>\n",
       "      <th>area</th>\n",
       "      <th>bathrooms</th>\n",
       "      <th>distance metro</th>\n",
       "      <th>distance cemetery</th>\n",
       "      <th>cats</th>\n",
       "      <th>howls</th>\n",
       "      <th>clouds</th>\n",
       "      <th>precipitation</th>\n",
       "      <th>misery index</th>\n",
       "      <th>ice cream sold</th>\n",
       "      <th>haunted</th>\n",
       "    </tr>\n",
       "  </thead>\n",
       "  <tbody>\n",
       "    <tr>\n",
       "      <th>0</th>\n",
       "      <td>65.06</td>\n",
       "      <td>2041</td>\n",
       "      <td>1.0</td>\n",
       "      <td>7.1</td>\n",
       "      <td>10.01</td>\n",
       "      <td>7</td>\n",
       "      <td>3</td>\n",
       "      <td>1.00</td>\n",
       "      <td>0.82</td>\n",
       "      <td>12.99</td>\n",
       "      <td>273</td>\n",
       "      <td>-0.596150</td>\n",
       "    </tr>\n",
       "    <tr>\n",
       "      <th>1</th>\n",
       "      <td>141.48</td>\n",
       "      <td>1564</td>\n",
       "      <td>0.0</td>\n",
       "      <td>7.4</td>\n",
       "      <td>4.07</td>\n",
       "      <td>5</td>\n",
       "      <td>5</td>\n",
       "      <td>1.00</td>\n",
       "      <td>0.99</td>\n",
       "      <td>16.77</td>\n",
       "      <td>184</td>\n",
       "      <td>-0.146465</td>\n",
       "    </tr>\n",
       "    <tr>\n",
       "      <th>2</th>\n",
       "      <td>7.58</td>\n",
       "      <td>1637</td>\n",
       "      <td>3.0</td>\n",
       "      <td>7.0</td>\n",
       "      <td>3.36</td>\n",
       "      <td>2</td>\n",
       "      <td>0</td>\n",
       "      <td>1.00</td>\n",
       "      <td>1.17</td>\n",
       "      <td>16.49</td>\n",
       "      <td>141</td>\n",
       "      <td>-0.303117</td>\n",
       "    </tr>\n",
       "    <tr>\n",
       "      <th>3</th>\n",
       "      <td>51.47</td>\n",
       "      <td>2021</td>\n",
       "      <td>2.0</td>\n",
       "      <td>7.9</td>\n",
       "      <td>3.43</td>\n",
       "      <td>6</td>\n",
       "      <td>8</td>\n",
       "      <td>0.13</td>\n",
       "      <td>0.92</td>\n",
       "      <td>8.28</td>\n",
       "      <td>146</td>\n",
       "      <td>0.339912</td>\n",
       "    </tr>\n",
       "    <tr>\n",
       "      <th>4</th>\n",
       "      <td>259.44</td>\n",
       "      <td>1642</td>\n",
       "      <td>1.0</td>\n",
       "      <td>7.5</td>\n",
       "      <td>3.19</td>\n",
       "      <td>4</td>\n",
       "      <td>1</td>\n",
       "      <td>1.00</td>\n",
       "      <td>1.73</td>\n",
       "      <td>5.90</td>\n",
       "      <td>178</td>\n",
       "      <td>0.724867</td>\n",
       "    </tr>\n",
       "  </tbody>\n",
       "</table>\n",
       "</div>"
      ],
      "text/plain": [
       "      age  area  bathrooms  distance metro  distance cemetery  cats  howls  \\\n",
       "0   65.06  2041        1.0             7.1              10.01     7      3   \n",
       "1  141.48  1564        0.0             7.4               4.07     5      5   \n",
       "2    7.58  1637        3.0             7.0               3.36     2      0   \n",
       "3   51.47  2021        2.0             7.9               3.43     6      8   \n",
       "4  259.44  1642        1.0             7.5               3.19     4      1   \n",
       "\n",
       "   clouds  precipitation  misery index  ice cream sold   haunted  \n",
       "0    1.00           0.82         12.99             273 -0.596150  \n",
       "1    1.00           0.99         16.77             184 -0.146465  \n",
       "2    1.00           1.17         16.49             141 -0.303117  \n",
       "3    0.13           0.92          8.28             146  0.339912  \n",
       "4    1.00           1.73          5.90             178  0.724867  "
      ]
     },
     "execution_count": 4,
     "metadata": {},
     "output_type": "execute_result"
    }
   ],
   "source": [
    "dfHouse = pd.read_csv(\"houses.csv\")\n",
    "dfHouse = dfHouse.dropna()\n",
    "dfHouse.head()"
   ]
  },
  {
   "cell_type": "markdown",
   "metadata": {},
   "source": [
    "**Part B**: Perform the appropriate statistical test at the $\\alpha = 0.01$ significance level to determine if _at least one_ of the features is related to the the response $y$.  Clearly describe your methodology and show all computations in Python. "
   ]
  },
  {
   "cell_type": "markdown",
   "metadata": {
    "collapsed": true
   },
   "source": [
    "**Solution:**\n",
    "\n",
    "If there is a significant linear relationship between the independent variable X and the dependent variable Y, the slope will not equal zero.\n",
    "\n",
    "Hypotheses testing:\n",
    "$$\n",
    "H_0 : \\beta = 0 \\\\\n",
    "H_1 : \\beta \\ne 0\n",
    "$$\n",
    "\n",
    "Test Statistic:\n",
    "\n",
    "$$ TB = \\dfrac{\\hat{\\beta} - 0}{SE(\\hat{\\beta})}$$\n",
    "\n",
    "where, $SE(\\hat{\\beta}) = \\dfrac{\\hat{\\sigma}}{\\sqrt{\\sum(x_i - \\bar{x})^2}}$\n",
    "\n",
    "and $$\\hat{\\sigma} = \\sqrt{\\dfrac{SSE}{n-2}} = \\sqrt{\\dfrac{\\sum(y_i - \\hat{y}_i)^2)}{n-2}} $$\n",
    "\n",
    "**p-value** = 2*(stats.t.cdf(T, df=len(x)-2) < $\\alpha$\n",
    "\n",
    "Is there sufficient evidence to conclude that the observed relationship between the features is related to the response y.\n",
    "\n",
    "The features that we want to test are age, area, bathrooms."
   ]
  },
  {
   "cell_type": "code",
   "execution_count": 11,
   "metadata": {},
   "outputs": [],
   "source": [
    "def findPvalue(x, y, name_features):\n",
    "    print(name_features)\n",
    "    bhat, ahat, rval, pval, stderr = stats.linregress(x, y)\n",
    "    yhat = ahat + bhat*x\n",
    "    SSE = np.sum((y - yhat)**2)\n",
    "    print(\"SSE : {}\".format(SSE))\n",
    "    varhat = SSE/ (len(x)-2)\n",
    "\n",
    "    xbar = np.mean(x)\n",
    "    SEbeta = np.sqrt(varhat/np.sum((x-xbar)**2))\n",
    "    TB = (bhat-0)/SEbeta\n",
    "    tpval = 2*(stats.t.cdf(TB, df=len(x)-2))\n",
    "    return tpval"
   ]
  },
  {
   "cell_type": "code",
   "execution_count": 12,
   "metadata": {},
   "outputs": [
    {
     "name": "stdout",
     "output_type": "stream",
     "text": [
      "age\n",
      "SSE : 0.0\n",
      "p-value = 2.0\n"
     ]
    },
    {
     "name": "stderr",
     "output_type": "stream",
     "text": [
      "C:\\Users\\chakrya\\Anaconda3\\lib\\site-packages\\ipykernel_launcher.py:11: RuntimeWarning: divide by zero encountered in double_scalars\n",
      "  # This is added back by InteractiveShellApp.init_path()\n"
     ]
    }
   ],
   "source": [
    "#Age\n",
    "x_age = dfHouse[\"age\"]\n",
    "y_age = dfHouse[\"age\"]\n",
    "pval_age = findPvalue(x_age, y_age, \"age\")\n",
    "print(\"p-value = {}\".format(pval_age))"
   ]
  },
  {
   "cell_type": "code",
   "execution_count": 13,
   "metadata": {},
   "outputs": [
    {
     "name": "stdout",
     "output_type": "stream",
     "text": [
      "Area\n",
      "SSE : 52.4748766215231\n",
      "p-value = 1.1045346795380375\n"
     ]
    }
   ],
   "source": [
    "#Area\n",
    "x_area = dfHouse[\"area\"]\n",
    "y_area = dfHouse[\"haunted\"]\n",
    "pval_area = findPvalue(x_area, y_area, \"Area\")\n",
    "print(\"p-value = {}\".format(pval_area))"
   ]
  },
  {
   "cell_type": "code",
   "execution_count": 16,
   "metadata": {},
   "outputs": [
    {
     "name": "stdout",
     "output_type": "stream",
     "text": [
      "bathrroms\n",
      "SSE : 51.91419114115229\n",
      "p-value = 0.3923476025816687\n"
     ]
    }
   ],
   "source": [
    "#bathroom\n",
    "x_area = dfHouse[\"bathrooms\"]\n",
    "y_area = dfHouse[\"haunted\"]\n",
    "pval_area = findPvalue(x_area, y_area, \"bathrroms\")\n",
    "print(\"p-value = {}\".format(pval_area))"
   ]
  },
  {
   "cell_type": "markdown",
   "metadata": {},
   "source": [
    "Since the p-value is greater than  𝛼=0.01  we fail to reject the null hypothesis and conclude that there is not sufficient statistical evidence that  $\\beta \\ne 0$  and the relationship between the area and haunted is real."
   ]
  },
  {
   "cell_type": "code",
   "execution_count": 14,
   "metadata": {},
   "outputs": [
    {
     "name": "stdout",
     "output_type": "stream",
     "text": [
      "Bathrooms\n",
      "SSE : 5.788952699088558\n",
      "p-value = 8.64632347094066e-34\n"
     ]
    }
   ],
   "source": [
    "#distance cemetery\n",
    "x_bath = dfHouse[\"distance cemetery\"]\n",
    "pval_bathrooms = findPvalue(x_bath, dfHouse[\"haunted\"], \"Bathrooms\")\n",
    "print(\"p-value = {}\".format(pval_bathrooms))"
   ]
  },
  {
   "cell_type": "code",
   "execution_count": 17,
   "metadata": {},
   "outputs": [
    {
     "name": "stdout",
     "output_type": "stream",
     "text": [
      "distance metro\n",
      "SSE : 51.678187961785646\n",
      "p-value = 0.3090649388449295\n"
     ]
    }
   ],
   "source": [
    "#distance metro\n",
    "x_area = dfHouse[\"distance metro\"]\n",
    "y_area = dfHouse[\"haunted\"]\n",
    "pval_area = findPvalue(x_area, y_area, \"distance metro\")\n",
    "print(\"p-value = {}\".format(pval_area))"
   ]
  },
  {
   "cell_type": "code",
   "execution_count": 18,
   "metadata": {},
   "outputs": [
    {
     "name": "stdout",
     "output_type": "stream",
     "text": [
      "cats\n",
      "SSE : 52.481706967455985\n",
      "p-value = 1.0739220781179775\n"
     ]
    }
   ],
   "source": [
    "#cats\t\n",
    "x_area = dfHouse[\"cats\"]\n",
    "y_area = dfHouse[\"haunted\"]\n",
    "pval_area = findPvalue(x_area, y_area, \"cats\")\n",
    "print(\"p-value = {}\".format(pval_area))"
   ]
  },
  {
   "cell_type": "code",
   "execution_count": 20,
   "metadata": {},
   "outputs": [
    {
     "name": "stdout",
     "output_type": "stream",
     "text": [
      "howls\n",
      "SSE : 52.486682461392\n",
      "p-value = 1.0382825706826384\n"
     ]
    }
   ],
   "source": [
    "#distance metro\n",
    "x_hows = dfHouse[\"howls\"]\n",
    "y_hows = dfHouse[\"haunted\"]\n",
    "pval_hows = findPvalue(x_hows, y_hows, \"howls\")\n",
    "print(\"p-value = {}\".format(pval_area))"
   ]
  },
  {
   "cell_type": "code",
   "execution_count": 21,
   "metadata": {},
   "outputs": [
    {
     "name": "stdout",
     "output_type": "stream",
     "text": [
      "clounds\n",
      "SSE : 51.643991320493015\n",
      "p-value = 0.29899109096359555\n"
     ]
    }
   ],
   "source": [
    "#distance metro\n",
    "x_area = dfHouse[\"clouds\"]\n",
    "y_area = dfHouse[\"haunted\"]\n",
    "pval_area = findPvalue(x_area, y_area, \"clounds\")\n",
    "print(\"p-value = {}\".format(pval_area))"
   ]
  },
  {
   "cell_type": "code",
   "execution_count": 23,
   "metadata": {},
   "outputs": [
    {
     "data": {
      "text/plain": [
       "Index(['age', 'area', 'bathrooms', 'distance metro', 'distance cemetery',\n",
       "       'cats', 'howls', 'clouds', 'precipitation', 'misery index',\n",
       "       'ice cream sold', 'haunted'],\n",
       "      dtype='object')"
      ]
     },
     "execution_count": 23,
     "metadata": {},
     "output_type": "execute_result"
    }
   ],
   "source": [
    "dfHouse.columns"
   ]
  },
  {
   "cell_type": "code",
   "execution_count": 24,
   "metadata": {},
   "outputs": [
    {
     "name": "stdout",
     "output_type": "stream",
     "text": [
      "precipitation\n",
      "SSE : 52.031738862436605\n",
      "p-value = 0.44582507382502223\n"
     ]
    }
   ],
   "source": [
    "#distance metro\n",
    "x_area = dfHouse[\"precipitation\"]\n",
    "y_area = dfHouse[\"haunted\"]\n",
    "pval_area = findPvalue(x_area, y_area, \"precipitation\")\n",
    "print(\"p-value = {}\".format(pval_area))"
   ]
  },
  {
   "cell_type": "code",
   "execution_count": 25,
   "metadata": {},
   "outputs": [
    {
     "name": "stdout",
     "output_type": "stream",
     "text": [
      "misery index\n",
      "SSE : 52.48740494108533\n",
      "p-value = 1.0297239779454452\n"
     ]
    }
   ],
   "source": [
    "#distance metro\n",
    "x_area = dfHouse[\"misery index\"]\n",
    "y_area = dfHouse[\"haunted\"]\n",
    "pval_area = findPvalue(x_area, y_area, \"misery index\")\n",
    "print(\"p-value = {}\".format(pval_area))"
   ]
  },
  {
   "cell_type": "code",
   "execution_count": 26,
   "metadata": {},
   "outputs": [
    {
     "name": "stdout",
     "output_type": "stream",
     "text": [
      "ice cream sold\n",
      "SSE : 50.89268150635988\n",
      "p-value = 0.1518782750829303\n"
     ]
    }
   ],
   "source": [
    "#distance metro\n",
    "x_area = dfHouse[\"ice cream sold\"]\n",
    "y_area = dfHouse[\"haunted\"]\n",
    "pval_area = findPvalue(x_area, y_area, \"ice cream sold\")\n",
    "print(\"p-value = {}\".format(pval_area))"
   ]
  },
  {
   "cell_type": "markdown",
   "metadata": {},
   "source": [
    "ice cream, clouds, distance metreo, distance ceremen is lowes, bathroom"
   ]
  },
  {
   "cell_type": "markdown",
   "metadata": {},
   "source": []
  },
  {
   "cell_type": "code",
   "execution_count": 9,
   "metadata": {},
   "outputs": [
    {
     "data": {
      "text/html": [
       "<table class=\"simpletable\">\n",
       "<caption>OLS Regression Results</caption>\n",
       "<tr>\n",
       "  <th>Dep. Variable:</th>         <td>haunted</td>     <th>  R-squared:         </th> <td>   0.948</td>\n",
       "</tr>\n",
       "<tr>\n",
       "  <th>Model:</th>                   <td>OLS</td>       <th>  Adj. R-squared:    </th> <td>   0.938</td>\n",
       "</tr>\n",
       "<tr>\n",
       "  <th>Method:</th>             <td>Least Squares</td>  <th>  F-statistic:       </th> <td>   94.60</td>\n",
       "</tr>\n",
       "<tr>\n",
       "  <th>Date:</th>             <td>Sun, 21 Apr 2019</td> <th>  Prob (F-statistic):</th> <td>1.97e-32</td>\n",
       "</tr>\n",
       "<tr>\n",
       "  <th>Time:</th>                 <td>17:09:12</td>     <th>  Log-Likelihood:    </th> <td>  13.575</td>\n",
       "</tr>\n",
       "<tr>\n",
       "  <th>No. Observations:</th>      <td>    69</td>      <th>  AIC:               </th> <td>  -3.151</td>\n",
       "</tr>\n",
       "<tr>\n",
       "  <th>Df Residuals:</th>          <td>    57</td>      <th>  BIC:               </th> <td>   23.66</td>\n",
       "</tr>\n",
       "<tr>\n",
       "  <th>Df Model:</th>              <td>    11</td>      <th>                     </th>     <td> </td>   \n",
       "</tr>\n",
       "<tr>\n",
       "  <th>Covariance Type:</th>      <td>nonrobust</td>    <th>                     </th>     <td> </td>   \n",
       "</tr>\n",
       "</table>\n",
       "<table class=\"simpletable\">\n",
       "<tr>\n",
       "          <td></td>             <th>coef</th>     <th>std err</th>      <th>t</th>      <th>P>|t|</th>  <th>[0.025</th>    <th>0.975]</th>  \n",
       "</tr>\n",
       "<tr>\n",
       "  <th>const</th>             <td>    0.3480</td> <td>    0.323</td> <td>    1.078</td> <td> 0.285</td> <td>   -0.298</td> <td>    0.994</td>\n",
       "</tr>\n",
       "<tr>\n",
       "  <th>age</th>               <td>    0.0017</td> <td>    0.000</td> <td>    5.859</td> <td> 0.000</td> <td>    0.001</td> <td>    0.002</td>\n",
       "</tr>\n",
       "<tr>\n",
       "  <th>area</th>              <td>  5.83e-05</td> <td> 6.16e-05</td> <td>    0.946</td> <td> 0.348</td> <td>-6.51e-05</td> <td>    0.000</td>\n",
       "</tr>\n",
       "<tr>\n",
       "  <th>bathrooms</th>         <td>   -0.0411</td> <td>    0.023</td> <td>   -1.806</td> <td> 0.076</td> <td>   -0.087</td> <td>    0.004</td>\n",
       "</tr>\n",
       "<tr>\n",
       "  <th>distance metro</th>    <td>   -0.0142</td> <td>    0.032</td> <td>   -0.443</td> <td> 0.660</td> <td>   -0.079</td> <td>    0.050</td>\n",
       "</tr>\n",
       "<tr>\n",
       "  <th>distance cemetery</th> <td>   -0.1000</td> <td>    0.003</td> <td>  -30.867</td> <td> 0.000</td> <td>   -0.106</td> <td>   -0.093</td>\n",
       "</tr>\n",
       "<tr>\n",
       "  <th>cats</th>              <td>    0.0316</td> <td>    0.010</td> <td>    3.258</td> <td> 0.002</td> <td>    0.012</td> <td>    0.051</td>\n",
       "</tr>\n",
       "<tr>\n",
       "  <th>howls</th>             <td>    0.0056</td> <td>    0.011</td> <td>    0.494</td> <td> 0.623</td> <td>   -0.017</td> <td>    0.029</td>\n",
       "</tr>\n",
       "<tr>\n",
       "  <th>clouds</th>            <td>    0.0902</td> <td>    0.123</td> <td>    0.734</td> <td> 0.466</td> <td>   -0.156</td> <td>    0.336</td>\n",
       "</tr>\n",
       "<tr>\n",
       "  <th>precipitation</th>     <td>    0.0068</td> <td>    0.067</td> <td>    0.102</td> <td> 0.919</td> <td>   -0.128</td> <td>    0.141</td>\n",
       "</tr>\n",
       "<tr>\n",
       "  <th>misery index</th>      <td>   -0.0082</td> <td>    0.006</td> <td>   -1.456</td> <td> 0.151</td> <td>   -0.020</td> <td>    0.003</td>\n",
       "</tr>\n",
       "<tr>\n",
       "  <th>ice cream sold</th>    <td>   -0.0006</td> <td>    0.001</td> <td>   -1.274</td> <td> 0.208</td> <td>   -0.002</td> <td>    0.000</td>\n",
       "</tr>\n",
       "</table>\n",
       "<table class=\"simpletable\">\n",
       "<tr>\n",
       "  <th>Omnibus:</th>       <td> 1.629</td> <th>  Durbin-Watson:     </th> <td>   2.191</td>\n",
       "</tr>\n",
       "<tr>\n",
       "  <th>Prob(Omnibus):</th> <td> 0.443</td> <th>  Jarque-Bera (JB):  </th> <td>   1.480</td>\n",
       "</tr>\n",
       "<tr>\n",
       "  <th>Skew:</th>          <td> 0.230</td> <th>  Prob(JB):          </th> <td>   0.477</td>\n",
       "</tr>\n",
       "<tr>\n",
       "  <th>Kurtosis:</th>      <td> 2.450</td> <th>  Cond. No.          </th> <td>2.55e+04</td>\n",
       "</tr>\n",
       "</table><br/><br/>Warnings:<br/>[1] Standard Errors assume that the covariance matrix of the errors is correctly specified.<br/>[2] The condition number is large, 2.55e+04. This might indicate that there are<br/>strong multicollinearity or other numerical problems."
      ],
      "text/plain": [
       "<class 'statsmodels.iolib.summary.Summary'>\n",
       "\"\"\"\n",
       "                            OLS Regression Results                            \n",
       "==============================================================================\n",
       "Dep. Variable:                haunted   R-squared:                       0.948\n",
       "Model:                            OLS   Adj. R-squared:                  0.938\n",
       "Method:                 Least Squares   F-statistic:                     94.60\n",
       "Date:                Sun, 21 Apr 2019   Prob (F-statistic):           1.97e-32\n",
       "Time:                        17:09:12   Log-Likelihood:                 13.575\n",
       "No. Observations:                  69   AIC:                            -3.151\n",
       "Df Residuals:                      57   BIC:                             23.66\n",
       "Df Model:                          11                                         \n",
       "Covariance Type:            nonrobust                                         \n",
       "=====================================================================================\n",
       "                        coef    std err          t      P>|t|      [0.025      0.975]\n",
       "-------------------------------------------------------------------------------------\n",
       "const                 0.3480      0.323      1.078      0.285      -0.298       0.994\n",
       "age                   0.0017      0.000      5.859      0.000       0.001       0.002\n",
       "area                5.83e-05   6.16e-05      0.946      0.348   -6.51e-05       0.000\n",
       "bathrooms            -0.0411      0.023     -1.806      0.076      -0.087       0.004\n",
       "distance metro       -0.0142      0.032     -0.443      0.660      -0.079       0.050\n",
       "distance cemetery    -0.1000      0.003    -30.867      0.000      -0.106      -0.093\n",
       "cats                  0.0316      0.010      3.258      0.002       0.012       0.051\n",
       "howls                 0.0056      0.011      0.494      0.623      -0.017       0.029\n",
       "clouds                0.0902      0.123      0.734      0.466      -0.156       0.336\n",
       "precipitation         0.0068      0.067      0.102      0.919      -0.128       0.141\n",
       "misery index         -0.0082      0.006     -1.456      0.151      -0.020       0.003\n",
       "ice cream sold       -0.0006      0.001     -1.274      0.208      -0.002       0.000\n",
       "==============================================================================\n",
       "Omnibus:                        1.629   Durbin-Watson:                   2.191\n",
       "Prob(Omnibus):                  0.443   Jarque-Bera (JB):                1.480\n",
       "Skew:                           0.230   Prob(JB):                        0.477\n",
       "Kurtosis:                       2.450   Cond. No.                     2.55e+04\n",
       "==============================================================================\n",
       "\n",
       "Warnings:\n",
       "[1] Standard Errors assume that the covariance matrix of the errors is correctly specified.\n",
       "[2] The condition number is large, 2.55e+04. This might indicate that there are\n",
       "strong multicollinearity or other numerical problems.\n",
       "\"\"\""
      ]
     },
     "execution_count": 9,
     "metadata": {},
     "output_type": "execute_result"
    }
   ],
   "source": [
    "y = dfHouse[\"haunted\"]\n",
    "Xfull = dfHouse.loc[:,dfHouse.columns != \"haunted\"]\n",
    "Xfull = sm.add_constant(Xfull)\n",
    "full_model = sm.OLS(y, Xfull).fit()\n",
    "full_model.summary()"
   ]
  },
  {
   "cell_type": "markdown",
   "metadata": {},
   "source": [
    "**Conclusion:**\n",
    "\n",
    "From the model summery, we see F = 94.60 and p-value $1.94 \\times 10^{-32}$.\n",
    "Since the p-value is less than 𝛼=0.01 we reject the null hypothesis and conclude that there is the sufficient statistical evidence that $\\beta \\ne 0$ and the relationship between  the  the features (distance cemetery) is related to the response y."
   ]
  },
  {
   "cell_type": "markdown",
   "metadata": {},
   "source": [
    "**Part C**: Write a function `forward_select(df, resp_str, maxk)` that takes in the DataFrame, the name of the column corresponding to the response, and the maximum number of desired features, and returns a list of feature names corresponding to the `maxk` most important features via forward selection.  At each stage in forward selection you should add the feature whose inclusion in the model would result in the lowest sum of squared errors $(SSE)$. Use your function to determine the best $k=5$ features to include in the model. Clearly indicate which feature was added in each stage. \n",
    "\n",
    "**Note**: The point of this exercise is to see if you can implement **foward_select** yourself.  You may of course use canned routines like statmodels OLS, but you may not call any Python method that explicitly performs forward selection."
   ]
  },
  {
   "cell_type": "code",
   "execution_count": null,
   "metadata": {},
   "outputs": [],
   "source": [
    "def forward_select(df, resp_str, maxk):\n",
    "    \n",
    "    #get respone from dataframe\n",
    "    y = df[resp_str]\n",
    "    \n",
    "    #get features\n",
    "    features = list(df.columns[df.columns != resp_str])\n",
    "#     print(features)\n",
    "\n",
    "forward_select(dfHouse, \"haunted\", 200)"
   ]
  },
  {
   "cell_type": "code",
   "execution_count": null,
   "metadata": {},
   "outputs": [],
   "source": [
    "y = dfHouse[\"haunted\"]\n",
    "x = dfhouse.loc[:, ]"
   ]
  },
  {
   "cell_type": "code",
   "execution_count": null,
   "metadata": {},
   "outputs": [],
   "source": [
    "y = dfS[\"sharknado hazard\"]\n",
    "Xred = dfS.loc[:, good_features]\n",
    "Xred = sm.add_constant(Xred)\n",
    "red_model = sm.OLS(y, Xred).fit()\n",
    "red_model.summary()"
   ]
  },
  {
   "cell_type": "markdown",
   "metadata": {},
   "source": [
    "**Part D**: Write down the multiple linear regression model, including estimated parameters, obtained by your forward selection process. "
   ]
  },
  {
   "cell_type": "code",
   "execution_count": null,
   "metadata": {},
   "outputs": [],
   "source": []
  },
  {
   "cell_type": "markdown",
   "metadata": {},
   "source": [
    "**Part E**: Perform the appropriate statistical test at the $\\alpha = 0.05$ significance level to determine whether there is a statistically significant difference between the full model with all features and the reduced model obtained by forward selection in **Part D**. "
   ]
  },
  {
   "cell_type": "code",
   "execution_count": null,
   "metadata": {},
   "outputs": [],
   "source": []
  },
  {
   "cell_type": "markdown",
   "metadata": {},
   "source": [
    "**Part F**: Based on your conclusions in **Part E**, use the _better_ of the two models to predict the sharknado hazard when the following features are observed: \n",
    "\n",
    "- $\\texttt{age}$: 100 years\n",
    "- $\\texttt{area}$: 2200 square feet\n",
    "- $\\texttt{bathrooms}$: 3 bathrooms\n",
    "- $\\texttt{distance metro}$: 25 miles\n",
    "- $\\texttt{distance cemetery}$: 10 miles\n",
    "- $\\texttt{cats}$: 4 cats\n",
    "- $\\texttt{howls}$: 5 wolf howls/night\n",
    "- $\\texttt{clouds}$: 0.65 cloud cover\n",
    "- $\\texttt{precipitation}$: 0 inches\n",
    "- $\\texttt{misery index}$: 10\n",
    "- $\\texttt{ice cream sold}$: 125"
   ]
  },
  {
   "cell_type": "code",
   "execution_count": null,
   "metadata": {},
   "outputs": [],
   "source": []
  },
  {
   "cell_type": "markdown",
   "metadata": {},
   "source": [
    "**Part G:** Governor Polis dabbles a bit in the art of data science, as well as the science of data art. He tells you that the response (`haunted` score) that you and Amy predicted is actually the natural logarithm of the _odds_ that a house with the given features is haunted, where if $p$ is the probability that a house is haunted, then the odds are given by $$\\text{odds} = \\dfrac{p}{1-p}$$\n",
    "\n",
    "What transformation must you make in order to turn your multiple regression model into a logistic regression model, to classify a house a haunted or not? Perform this simple transformation, then use a decision threshold of 0.5 to classify the house from **Part F** as haunted or not haunted. No new models should be fit here; use the same model that you used in Part F."
   ]
  },
  {
   "cell_type": "code",
   "execution_count": null,
   "metadata": {},
   "outputs": [],
   "source": []
  },
  {
   "cell_type": "markdown",
   "metadata": {},
   "source": [
    "<br>\n",
    "\n",
    "---\n",
    "[Back to top](#top)\n",
    "<a id='bot'></a>"
   ]
  }
 ],
 "metadata": {
  "kernelspec": {
   "display_name": "Python 3",
   "language": "python",
   "name": "python3"
  },
  "language_info": {
   "codemirror_mode": {
    "name": "ipython",
    "version": 3
   },
   "file_extension": ".py",
   "mimetype": "text/x-python",
   "name": "python",
   "nbconvert_exporter": "python",
   "pygments_lexer": "ipython3",
   "version": "3.7.1"
  }
 },
 "nbformat": 4,
 "nbformat_minor": 2
}
