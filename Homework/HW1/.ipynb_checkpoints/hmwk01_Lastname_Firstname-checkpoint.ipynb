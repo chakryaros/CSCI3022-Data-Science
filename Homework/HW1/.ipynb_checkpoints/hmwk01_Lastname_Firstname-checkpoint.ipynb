{
 "cells": [
  {
   "cell_type": "markdown",
   "metadata": {},
   "source": [
    "<a id='top'></a>\n",
    "\n",
    "# Homework 1: Data Cleaning and Exploratory Data Analysis \n",
    "***\n",
    "\n",
    "**Name**: Chakrya Ros\n",
    "\n",
    "***\n",
    "\n",
    "This assignment is due on Canvas by **5 PM on Friday February 1**. Your solutions to theoretical questions should be done in Markdown directly below the associated question.  Your solutions to computational questions should include any specified Python code and results as well as written commentary on your conclusions.  Remember that you are encouraged to discuss the problems with your classmates, but **you must write all code and solutions on your own**.\n",
    "\n",
    "**NOTES**: \n",
    "\n",
    "- Any relevant data sets should be available under the **Data** module on Canvas. To make life easier on the graders if they need to run your code, do not change the relative path names here. Instead, move the files around on your computer.\n",
    "- If you're not familiar with typesetting math directly into Markdown then by all means, do your work on paper first and then typeset it later.  Remember that there is a [reference guide](https://math.meta.stackexchange.com/questions/5020/mathjax-basic-tutorial-and-quick-reference) linked on Canvas on writing math in Markdown. **All** of your written commentary, justifications and mathematical work should be in Markdown.\n",
    "- Because you can technically evaluate notebook cells is a non-linear order, it's a good idea to do Kernel $\\rightarrow$ Restart & Run All as a check before submitting your solutions.  That way if we need to run your code you will know that it will work as expected. \n",
    "- It is **bad form** to make your reader interpret numerical output from your code.  If a question asks you to compute some value from the data you should show your code output **AND** write a summary of the results in Markdown directly below your code. \n",
    "- This probably goes without saying, but... For any question that asks you to calculate something, you **must show all work and justify your answers to receive credit**. Sparse or nonexistent work will receive sparse or nonexistent credit. \n",
    "\n",
    "---\n",
    "**Shortcuts:**  [Problem 1](#p1) | [Problem 2](#p2) | [Problem 3](#p3) | [Problem 4](#p4) | [Problem 5](#p5)\n",
    "\n",
    "---"
   ]
  },
  {
   "cell_type": "code",
   "execution_count": 2,
   "metadata": {},
   "outputs": [],
   "source": [
    "import pandas as pd\n",
    "import numpy as np\n",
    "import matplotlib.pylab as plt\n",
    "%matplotlib inline"
   ]
  },
  {
   "cell_type": "markdown",
   "metadata": {},
   "source": [
    "[Back to top](#top)\n",
    "\n",
    "<br>\n",
    "\n",
    "<a/ id='p1'></a>\n",
    "\n",
    "### (10 pts) Problem 1 \n",
    "***\n",
    "\n",
    "![hedgehog](https://www.irishexaminer.com/remote/media.central.ie/media/images/h/hedgehog17_large.jpg?width=648&s=ie-467290)\n",
    "\n",
    "Hedgehogs are undeniably one of the cutest creatures in all of the land, so the University of Colorado Boulder wants to switch its mascot to the hedgehog. Before making the switch, the CU officials need to know whether they will be able to find new hedgehog mascot handlers, similar to the current Ralphie handlers. You are called upon to perform an experiment to order to determine how fit CU Boulder students are for hedgehog-handling. There are too many students at CU for you to test all of their **Hedgehog-Handling Ability** (HHA), so from a roster of all students and their majors, you will randomly test the HHA of one-tenth of the majors from each department on campus. (Assume nobody is a double major, and assume that everybody has a major.) From this sample, you will estimate the mean HHA of all students on campus, and let the CU officials know whether or not CU students will be able to handle hedgehogs.\n",
    "\n",
    "Identify the following: \n",
    "\n",
    "- the population : CU Boulder Student\n",
    "- the sample frame : roster\n",
    "- the sample : mean\n",
    "- the type of sample : stratified sample\n",
    "- the quantity of interest : Hedgehog-Handling Ability"
   ]
  },
  {
   "cell_type": "markdown",
   "metadata": {},
   "source": []
  },
  {
   "cell_type": "markdown",
   "metadata": {},
   "source": [
    "[Back to top](#top)\n",
    "\n",
    "<br>\n",
    "\n",
    "<a/ id='p2'></a>\n",
    "\n",
    "### (20 pts) Problem 2 \n",
    "***\n",
    "\n",
    "A method to investigate the sensitivity of the sample mean and the sample median to extreme outliers and changes in the dataset is to replace one or more elements in a given dataset by a number $y$ and investigate the eﬀect when $y$ changes. To illustrate this, consider the dataset\n",
    "\n",
    "$$\n",
    "y \\quad \n",
    "5.4 \\quad\n",
    "5.0 \\quad\n",
    "6.5 \\quad\n",
    "7.7 \\quad\n",
    "6.0 \\quad\n",
    "1.9\n",
    "$$"
   ]
  },
  {
   "cell_type": "markdown",
   "metadata": {},
   "source": [
    "**Part A**: Compute the sample mean and sample median for $y=2$. Compute them both again for $y=8$."
   ]
  },
  {
   "cell_type": "markdown",
   "metadata": {},
   "source": [
    "Calculate sample mean\n",
    "\n",
    "if y = 2\n",
    "\n",
    "    mean = (−4.5+5.4+5.0+6.5+7.7+6.0+1.9)/7 = 4.928 \n",
    "if y = 8\n",
    "\n",
    "    mean = (−4.5+5.4+5.0+6.5+7.7+6.0+1.9)/7 = 5.786 \n"
   ]
  },
  {
   "cell_type": "markdown",
   "metadata": {},
   "source": [
    "Calculate sample median\n",
    "\n",
    "if y = 2\n",
    "\n",
    "    list = [1.9, 2, 5.0, 5.4, 6.0, 6.5, 7.7]\n",
    "    \n",
    "    median = 5.4\n",
    "    \n",
    "if y = 8\n",
    "\n",
    "    list = [1.9, 5.0, 5.4, 6.0, 6.5, 7.7, 8]\n",
    "    \n",
    "    median = 6.0\n"
   ]
  },
  {
   "cell_type": "markdown",
   "metadata": {},
   "source": [
    "**Part B**: Is there a value for $y$ that would make the mean of those data equal to $4$? If so, calculate the value of $y$ that makes the mean equal to $4$. If not, clearly explain why not.\n",
    "\n",
    "yes, there is a value for y = $-4.5$ that make the mean of those data equal to $4$.\n",
    "mean = $(-4.5 + 5.4 + 5.0 + 6.5 + 7.7 + 6.0 + 1.9)/7 = 4$\n",
    "\n",
    "Is there a value for $y$ that would make the median of those data equal to $4$? If so, calculate the value of $y$ that makes the median equal to $4$. If not, clearly explain why not.\n",
    "\n",
    "No, because we just sort the list and choose the midpoint of the list and in list, the other six elements don't contain $4$ value. In this case, there is no $y$ value that make the median of those data equal to $4$.\n"
   ]
  },
  {
   "cell_type": "code",
   "execution_count": 3,
   "metadata": {},
   "outputs": [
    {
     "name": "stdout",
     "output_type": "stream",
     "text": [
      "Mean of list_:  4.0\n"
     ]
    }
   ],
   "source": [
    "#y = -4.5 that make the mean of those data equal to 4\n",
    "list_ = [-4.5, 5.4, 5.0, 6.5, 7.7, 6.0, 1.9]\n",
    "def meanOfData(list_):\n",
    "    num_len = len(list_)\n",
    "    sum_ = sum(list_)\n",
    "    mean_ = sum_/num_len\n",
    "    return mean_\n",
    "print(\"Mean of list_: \", meanOfData(list_))"
   ]
  },
  {
   "cell_type": "markdown",
   "metadata": {},
   "source": []
  },
  {
   "cell_type": "markdown",
   "metadata": {},
   "source": [
    "**Part C**: Compute the sample median for the following cases: \n",
    "- $y=5$ \n",
    "- $y=50$ \n",
    "- $y=5.39$ \n",
    "- $y=5.41$\n",
    "- $y \\to \\infty$ \n",
    "- $y \\to -\\infty$ "
   ]
  },
  {
   "cell_type": "code",
   "execution_count": 4,
   "metadata": {},
   "outputs": [
    {
     "name": "stdout",
     "output_type": "stream",
     "text": [
      "Median of y = 5:  5.4\n",
      "Median of y = 50:  6.0\n",
      "Median of y = 5.39:  5.4\n",
      "Median of y = 5.41:  5.41\n",
      "Median of y = infty:  6.0\n"
     ]
    }
   ],
   "source": [
    "pos_inf = float(\"inf\")\n",
    "neg_inf = float(\"inf\")\n",
    "y_5 = [5, 5.4, 5.0, 6.5, 7.7, 6.0, 1.9]\n",
    "y_50 = [50, 5.4, 5.0, 6.5, 7.7, 6.0, 1.9]\n",
    "y_539 = [5.39, 5.4, 5.0, 6.5, 7.7, 6.0, 1.9]\n",
    "y_541 = [5.41, 5.4, 5.0, 6.5, 7.7, 6.0, 1.9]\n",
    "y_inf = [pos_inf, 5.4, 5.0, 6.5, 7.7, 6.0, 1.9]\n",
    "N_inf = [neg_inf, 5.4, 5.0, 6.5, 7.7, 6.0, 1.9]\n",
    "def medianOfData(list_):\n",
    "    num_len = len(list_)\n",
    "    list_.sort()\n",
    "    median_ = 0\n",
    "    if num_len % 2 == 0:\n",
    "        m1 = list_[num_len//2]\n",
    "        m2 = list_[num_len//2 - 1]\n",
    "        median_ = (m1+m2)/2\n",
    "    else:\n",
    "        median_ = list_[num_len//2]\n",
    "    return median_\n",
    "print(\"Median of y = 5: \", medianOfData(y_5))\n",
    "print(\"Median of y = 50: \", medianOfData(y_50))\n",
    "print(\"Median of y = 5.39: \", medianOfData(y_539))\n",
    "print(\"Median of y = 5.41: \", medianOfData(y_541))\n",
    "print(\"Median of y = infty: \", medianOfData(y_inf))"
   ]
  },
  {
   "cell_type": "markdown",
   "metadata": {},
   "source": [
    "**Part D**: Think about the previous parts, above, and describe in words or mathematical notation the answers to the following two questions:\n",
    "\n",
    "- By varying $y$, what is the set of all the possible values that the sample mean could take on?\n",
    "- By varying $y$, what is the set of all the possible values that the sample median could take on? Specifically, for what sets of $y$ values does the median take on its different possible values?"
   ]
  },
  {
   "cell_type": "markdown",
   "metadata": {},
   "source": [
    "- The set of all the possible values that the sample mean could take on is all real number expect positive and negative infinity.\n",
    "- The set of all the possible values that the sample median cound take on is {4.4, 6.0, 5.41 }\n",
    " "
   ]
  },
  {
   "cell_type": "markdown",
   "metadata": {},
   "source": [
    "[Back to top](#top)\n",
    "\n",
    "<br>\n",
    "\n",
    "<a/ id='p3'></a>\n",
    "\n",
    "### (20 pts) Problem 3 \n",
    "***\n",
    "\n",
    "Let $x_1, x_2, \\ldots, x_n$ be $n$ observations of a variable of interest.  Recall that the sample mean $\\bar{x}_n$ and sample variance $s^2_n$ are given by \n",
    "\n",
    "$$\n",
    "\\bar{x}_n = \\frac{1}{n}\\sum_{k=1}^n x_k \\quad \\textrm{and} \\quad s^2_n = \\frac{1}{n-1}\\sum_{k=1}^n \\left( x_k - \\bar{x}_n\\right)^2 \\qquad \\tag{Equation 1}\n",
    "$$\n",
    "\n",
    "where here the subscript $n$'s indicate the number of observations in the sample. Notice that a natural computation of the variance requires two passes over the data: one to compute the mean, and a second to subtract the mean from each observation and compute the sum of squares. It is often useful to be able to compute the variance in a single pass, inspecting each value $x_k$ only once; for example, when the data are being collected without enough storage to keep all the values, or when costs of memory access dominate those of computation. In this problem you will explore two methods for such an _online_ computation of the mean.  \n",
    "\n",
    "**Part A**: Show algebraically that the following relation holds between the mean of the first $n-1$ observations and the mean of all $n$ observations: \n",
    "\n",
    "$$\n",
    "\\bar{x}_n = \\bar{x}_{n-1} + \\frac{x_n - \\bar{x}_{n-1}}{n}\n",
    "$$\n",
    "\n",
    "Note that you can get an expression for $\\bar{x}_{n-1}$ by simply replacing $n$ in Equation 1 above with $n-1$."
   ]
  },
  {
   "cell_type": "markdown",
   "metadata": {},
   "source": [
    "Replace n in Equation 1 with n - 1, we get\n",
    "\n",
    "$$\n",
    " \\bar{x}_{n-1} = \\frac{1}{n-1}\\sum_{k=1}^n x_k \n",
    "$$"
   ]
  },
  {
   "cell_type": "markdown",
   "metadata": {},
   "source": [
    "**Part B**: Write a function `my_sample_mean` that takes as its input a numpy array and returns the mean of that numpy array using the formulas from class (written above). Write another function `my_sample_var` that takes as its input a numpy array and returns the variance of that numpy array, again using the formulas from class (written above). You may **not** use any built-in sample mean or variance functions."
   ]
  },
  {
   "cell_type": "code",
   "execution_count": 5,
   "metadata": {},
   "outputs": [],
   "source": [
    "def my_sample_mean(list_):\n",
    "    arr = np.array(list_) #get numpy of array\n",
    "    arr_Len= np.size(arr) #get the size of array\n",
    "    sum_ = np.sum(arr)    #sum of element in array\n",
    "    mean_ = sum_/arr_Len\n",
    "    return mean_\n",
    "\n",
    "#li = [2.0, 5.4, 5.0, 6.5, 7.7, 6.0, 1.9]\n",
    "#print(\"sample mean:\",my_sample_mean(li))"
   ]
  },
  {
   "cell_type": "code",
   "execution_count": 6,
   "metadata": {},
   "outputs": [],
   "source": [
    "def my_sample_var(list_):\n",
    "    arr = np.array(list_)\n",
    "    arr_Len = np.size(arr) #size of numpy array\n",
    "    sum_ = np.sum(arr)\n",
    "    mean_ = sum_/arr_Len #calculate mean\n",
    "    var = 0.0\n",
    "    d =0.0\n",
    "    for i in np.nditer(arr):\n",
    "        d = d + ((i - mean_) **2) #calculate the differnce between each element and mean and sum\n",
    "    var = d/(arr_Len)  #calculate sample variance\n",
    "    return var\n",
    "#li = [2.0, 5.4, 5.0, 6.5, 7.7, 6.0, 1.9]\n",
    "#print(\"sample variance:\",my_sample_var(li))        "
   ]
  },
  {
   "cell_type": "markdown",
   "metadata": {},
   "source": [
    "**Part C**: Use your functions from Part B to compute the sample mean and sample variance of the following array, which contains the hedgehog-handling abilities (HHA) of a sample of 12 CU Boulder hedgehog handlers.\n",
    "\n",
    "`hha = [98, 26, 83, 56, 60, 39, 81, 19, 72, 78, 94, 42]`"
   ]
  },
  {
   "cell_type": "code",
   "execution_count": 7,
   "metadata": {},
   "outputs": [
    {
     "name": "stdout",
     "output_type": "stream",
     "text": [
      "Sample mean that contains HHA: 62.333333333333336\n",
      "Sample variance that contains HHA: 632.5555555555555\n"
     ]
    }
   ],
   "source": [
    "hha = [98, 26, 83, 56, 60, 39, 81, 19, 72, 78, 94, 42]\n",
    "sample_mean = my_sample_mean(hha)\n",
    "print(\"Sample mean that contains HHA:\", sample_mean)\n",
    "sample_var = my_sample_var(hha)\n",
    "print(\"Sample variance that contains HHA:\", sample_var)"
   ]
  },
  {
   "cell_type": "markdown",
   "metadata": {},
   "source": [
    "**Part D**: Implement a third function called `update_mean` that implements the formula whose validity you proved in Part A. Note that this function will need to take as its input three things: $x_n$, $\\bar{x}_{n-1}$ and $n$. A function header is provided for you. This function may be auto-graded, so please do not change the given API - the order of inputs matters! If you change it, you might lose points.\n",
    "\n",
    "Use this function to compute the values that you get from taking the mean of the first hedgehog handler, the first two hedgehog handlers, the first three hedgehog handlers, and so on up to all of the hedgehog handler data points. Store your HHA means in a numpy array called `hha_means`.  Report all 12 estimates in `hha_means`."
   ]
  },
  {
   "cell_type": "code",
   "execution_count": 8,
   "metadata": {},
   "outputs": [],
   "source": [
    "# Given API:\n",
    "def update_mean(prev_mean, xn, n):\n",
    "    update_m = prev_mean + (xn-prev_mean)/n\n",
    "   # hha_means = np.append(update_m)\n",
    "    return update_m     #the updated mean\n",
    "#print(update_mean(1,2,3))"
   ]
  },
  {
   "cell_type": "markdown",
   "metadata": {},
   "source": [
    "To ensure your function complies with the given API, run this small test, where we suppose we have a mean of $\\bar{x}_n = 1$ with the first $2$ data points (`prev_mean`), and we update this with the 3rd ($n=3$) data point which is $x_3=2$:"
   ]
  },
  {
   "cell_type": "code",
   "execution_count": 9,
   "metadata": {},
   "outputs": [],
   "source": [
    "assert update_mean(1,2,3)==4/3, \"Warning: function seems broken.\""
   ]
  },
  {
   "cell_type": "code",
   "execution_count": null,
   "metadata": {},
   "outputs": [],
   "source": []
  },
  {
   "cell_type": "markdown",
   "metadata": {},
   "source": [
    "[Back to top](#top)\n",
    "\n",
    "<br>\n",
    "\n",
    "<a/ id='p4'></a>\n",
    "\n",
    "### (25 pts) Problem 4\n",
    "*** \n",
    "Some claim that the final hours aboard the RMS Titanic were marked by \"class warfare\" in which the people with first-class tickets took all the good spots on the lifeboats; others claim that the final hours were characterized by male chivalry, in which the men valiantly gave up their positions in the boats and succumbed bravely to the depths of the Atlantic. \n",
    "\n",
    "We have the data on survival rates by class and by sex, so let's figure out whether there is evidence for these scenarios. Access the Titanic data in `titanic_data.csv` and store it in a Pandas DataFrame. The data contains information pertaining to class status (**Pclass**), survival (**Survived**), and gender (**Sex**) of passengers, among other things. Be sure to use the `titanic_data.csv` data set, *not* the `clean_titanic_data` file from the in-class notebook."
   ]
  },
  {
   "cell_type": "code",
   "execution_count": 10,
   "metadata": {},
   "outputs": [
    {
     "data": {
      "text/html": [
       "<div>\n",
       "<style scoped>\n",
       "    .dataframe tbody tr th:only-of-type {\n",
       "        vertical-align: middle;\n",
       "    }\n",
       "\n",
       "    .dataframe tbody tr th {\n",
       "        vertical-align: top;\n",
       "    }\n",
       "\n",
       "    .dataframe thead th {\n",
       "        text-align: right;\n",
       "    }\n",
       "</style>\n",
       "<table border=\"1\" class=\"dataframe\">\n",
       "  <thead>\n",
       "    <tr style=\"text-align: right;\">\n",
       "      <th></th>\n",
       "      <th>PassengerId</th>\n",
       "      <th>Survived</th>\n",
       "      <th>Pclass</th>\n",
       "      <th>Name</th>\n",
       "      <th>Sex</th>\n",
       "      <th>Age</th>\n",
       "      <th>SibSp</th>\n",
       "      <th>Parch</th>\n",
       "      <th>Ticket</th>\n",
       "      <th>Fare</th>\n",
       "      <th>Cabin</th>\n",
       "      <th>Embarked</th>\n",
       "    </tr>\n",
       "  </thead>\n",
       "  <tbody>\n",
       "    <tr>\n",
       "      <th>0</th>\n",
       "      <td>1</td>\n",
       "      <td>0</td>\n",
       "      <td>3</td>\n",
       "      <td>Braund, Mr. Owen Harris</td>\n",
       "      <td>male</td>\n",
       "      <td>36.0</td>\n",
       "      <td>1</td>\n",
       "      <td>0</td>\n",
       "      <td>A/5 21171</td>\n",
       "      <td>7.2500</td>\n",
       "      <td>NaN</td>\n",
       "      <td>S</td>\n",
       "    </tr>\n",
       "    <tr>\n",
       "      <th>1</th>\n",
       "      <td>2</td>\n",
       "      <td>1</td>\n",
       "      <td>1</td>\n",
       "      <td>Cumings, Mrs. John Bradley (Florence Briggs Th...</td>\n",
       "      <td>female</td>\n",
       "      <td>18.0</td>\n",
       "      <td>1</td>\n",
       "      <td>0</td>\n",
       "      <td>PC 17599</td>\n",
       "      <td>71.2833</td>\n",
       "      <td>C85</td>\n",
       "      <td>C</td>\n",
       "    </tr>\n",
       "    <tr>\n",
       "      <th>2</th>\n",
       "      <td>3</td>\n",
       "      <td>1</td>\n",
       "      <td>3</td>\n",
       "      <td>Heikkinen, Miss. Laina</td>\n",
       "      <td>female</td>\n",
       "      <td>14.0</td>\n",
       "      <td>0</td>\n",
       "      <td>0</td>\n",
       "      <td>STON/O2. 3101282</td>\n",
       "      <td>7.9250</td>\n",
       "      <td>NaN</td>\n",
       "      <td>S</td>\n",
       "    </tr>\n",
       "    <tr>\n",
       "      <th>3</th>\n",
       "      <td>4</td>\n",
       "      <td>1</td>\n",
       "      <td>1</td>\n",
       "      <td>Futrelle, Mrs. Jacques Heath (Lily May Peel)</td>\n",
       "      <td>female</td>\n",
       "      <td>27.0</td>\n",
       "      <td>1</td>\n",
       "      <td>0</td>\n",
       "      <td>113803</td>\n",
       "      <td>53.1000</td>\n",
       "      <td>C123</td>\n",
       "      <td>S</td>\n",
       "    </tr>\n",
       "    <tr>\n",
       "      <th>4</th>\n",
       "      <td>5</td>\n",
       "      <td>0</td>\n",
       "      <td>3</td>\n",
       "      <td>Allen, Mr. William Henry</td>\n",
       "      <td>male</td>\n",
       "      <td>63.0</td>\n",
       "      <td>0</td>\n",
       "      <td>0</td>\n",
       "      <td>373450</td>\n",
       "      <td>8.0500</td>\n",
       "      <td>NaN</td>\n",
       "      <td>S</td>\n",
       "    </tr>\n",
       "  </tbody>\n",
       "</table>\n",
       "</div>"
      ],
      "text/plain": [
       "   PassengerId  Survived  Pclass  \\\n",
       "0            1         0       3   \n",
       "1            2         1       1   \n",
       "2            3         1       3   \n",
       "3            4         1       1   \n",
       "4            5         0       3   \n",
       "\n",
       "                                                Name     Sex   Age  SibSp  \\\n",
       "0                            Braund, Mr. Owen Harris    male  36.0      1   \n",
       "1  Cumings, Mrs. John Bradley (Florence Briggs Th...  female  18.0      1   \n",
       "2                             Heikkinen, Miss. Laina  female  14.0      0   \n",
       "3       Futrelle, Mrs. Jacques Heath (Lily May Peel)  female  27.0      1   \n",
       "4                           Allen, Mr. William Henry    male  63.0      0   \n",
       "\n",
       "   Parch            Ticket     Fare Cabin Embarked  \n",
       "0      0         A/5 21171   7.2500   NaN        S  \n",
       "1      0          PC 17599  71.2833   C85        C  \n",
       "2      0  STON/O2. 3101282   7.9250   NaN        S  \n",
       "3      0            113803  53.1000  C123        S  \n",
       "4      0            373450   8.0500   NaN        S  "
      ]
     },
     "execution_count": 10,
     "metadata": {},
     "output_type": "execute_result"
    }
   ],
   "source": [
    "df = pd.read_csv('/Users/chakryaros/Dropbox/csci3022_DataSci/HW1/titanic_data.csv')\n",
    "df.head()"
   ]
  },
  {
   "cell_type": "markdown",
   "metadata": {},
   "source": [
    "**Part A**: Consider the two claims: class warfare, and male chivalry. Suppose that class warfare occurred in the final hours aboard the Titanic.  What patterns might you expect to see in the data?  Suppose that male chivalry was widespread during the final hours instead. What patterns might you then expect to see in the data?  Explain both of these hypothesized patterns in words. Are these two hypotheses mutually exclusive or not?"
   ]
  },
  {
   "cell_type": "markdown",
   "metadata": {},
   "source": [
    "- If the class warfare occured in the final hours abooard the Titanic, I might expect the frist class people would be more survived. If the male chivalry was widespread during the final hours instead, I might expext that women were more survived. Yes, these two hypotheses are not exlusive. "
   ]
  },
  {
   "cell_type": "markdown",
   "metadata": {},
   "source": [
    "**Part B**: Use Pandas methods to create a clean data set by removing any rows from the DataFrame that are missing values corresponding to **Survived**, **Pclass**, **Age**, or **Sex**. Store the clean data in a DataFrame called dfTitanic. Be sure to show any exploratory work determining if/where there are rows with missing values."
   ]
  },
  {
   "cell_type": "code",
   "execution_count": 11,
   "metadata": {},
   "outputs": [
    {
     "name": "stdout",
     "output_type": "stream",
     "text": [
      "<class 'pandas.core.frame.DataFrame'>\n",
      "Int64Index: 714 entries, 0 to 888\n",
      "Data columns (total 12 columns):\n",
      "PassengerId    714 non-null int64\n",
      "Survived       714 non-null int64\n",
      "Pclass         714 non-null int64\n",
      "Name           714 non-null object\n",
      "Sex            714 non-null object\n",
      "Age            714 non-null float64\n",
      "SibSp          714 non-null int64\n",
      "Parch          714 non-null int64\n",
      "Ticket         714 non-null object\n",
      "Fare           714 non-null float64\n",
      "Cabin          165 non-null object\n",
      "Embarked       713 non-null object\n",
      "dtypes: float64(2), int64(5), object(5)\n",
      "memory usage: 72.5+ KB\n"
     ]
    }
   ],
   "source": [
    "#create a clean data set by removing any rows from the DataFrame that are missing value\n",
    "dfTitanic = df.dropna(subset=['Survived', 'Pclass', 'Age', 'Sex']).copy()\n",
    "dfTitanic.info()"
   ]
  },
  {
   "cell_type": "markdown",
   "metadata": {},
   "source": [
    "**Part C**: Compute the fraction of survivors according to class and gender. There are 3 passenger classes and 2 sexes in the data set, so you should report all 6 possible combinations.  Then, answer 3 questions:\n",
    "* **(i)** Within each passenger class, were men or women more/less/equally likely to survive?\n",
    "* **(ii)**  Looking at only the male or only the female passengers, how is passenger class related to the category's survival rate?\n",
    "* **(iii)**  Did men in first class or women in third class have a higher survival rate? "
   ]
  },
  {
   "cell_type": "code",
   "execution_count": 12,
   "metadata": {},
   "outputs": [
    {
     "name": "stdout",
     "output_type": "stream",
     "text": [
      "Women survived in first class: 72\n",
      "Men survived in first class: 36\n"
     ]
    }
   ],
   "source": [
    "people_not_survied = dfTitanic[dfTitanic['Survived']== 0]\n",
    "people_survied = dfTitanic[dfTitanic['Survived']== 1]\n",
    "#print(people_survied['Survived'].count())\n",
    "\n",
    "#count women in first class\n",
    "women = people_survied.loc[(people_survied[\"Pclass\"] == 1 ) & (people_survied[\"Sex\"] == \"female\")].count()\n",
    "\n",
    "#count men in first class\n",
    "men = people_survied.loc[(people_survied[\"Pclass\"] == 1 ) & (people_survied[\"Sex\"] == \"male\")].count()\n",
    "print(\"Women survived in first class:\", women[\"Survived\"])\n",
    "print(\"Men survived in first class:\", men[\"Survived\"])"
   ]
  },
  {
   "cell_type": "code",
   "execution_count": 13,
   "metadata": {},
   "outputs": [
    {
     "name": "stdout",
     "output_type": "stream",
     "text": [
      "Women survived in second class: 54\n",
      "Men survived in second class: 16\n"
     ]
    }
   ],
   "source": [
    "#count women in second class\n",
    "women2 = people_survied.loc[(people_survied[\"Pclass\"] == 2 ) & (people_survied[\"Sex\"] == \"female\")].count()\n",
    "\n",
    "#count men in second class\n",
    "men2 = people_survied.loc[(people_survied[\"Pclass\"] == 2 ) & (people_survied[\"Sex\"] == \"male\")].count()\n",
    "print(\"Women survived in second class:\", women2[\"Survived\"])\n",
    "print(\"Men survived in second class:\", men2[\"Survived\"])"
   ]
  },
  {
   "cell_type": "code",
   "execution_count": 14,
   "metadata": {},
   "outputs": [
    {
     "name": "stdout",
     "output_type": "stream",
     "text": [
      "Women survived in third class: 62\n",
      "Men survived in third class: 39\n"
     ]
    }
   ],
   "source": [
    "#count women in third class\n",
    "women3 = people_survied.loc[(people_survied[\"Pclass\"] == 3 ) & (people_survied[\"Sex\"] == \"female\")].count()\n",
    "\n",
    "#count men in third class\n",
    "men3 = people_survied.loc[(people_survied[\"Pclass\"] == 3 ) & (people_survied[\"Sex\"] == \"male\")].count()\n",
    "print(\"Women survived in third class:\", women3[\"Survived\"])\n",
    "print(\"Men survived in third class:\", men3[\"Survived\"])"
   ]
  },
  {
   "cell_type": "code",
   "execution_count": 15,
   "metadata": {},
   "outputs": [
    {
     "name": "stdout",
     "output_type": "stream",
     "text": [
      "Women survived rate in first class: % 25.806451612903224\n",
      "\n",
      "\n",
      "Men survived rate in first class: % 12.903225806451612\n",
      "\n",
      "\n",
      "Women survived rate in second class: % 19.35483870967742\n",
      "\n",
      "\n",
      "Men survived rate in second class: % 5.734767025089606\n",
      "\n",
      "\n",
      "Women survived rate in third class: % 22.22222222222222\n",
      "\n",
      "\n",
      "Men survived rate in third class: % 13.978494623655912\n"
     ]
    }
   ],
   "source": [
    "people_in_allClass = people_survied[\"Pclass\"].count()\n",
    "\n",
    "female_rate1 = (women/people_in_allClass) * 100\n",
    "men_rate1 = (men/people_in_allClass) * 100\n",
    "print(\"Women survived rate in first class: %\",female_rate1['Survived'])\n",
    "print(\"\\n\")\n",
    "print(\"Men survived rate in first class: %\",men_rate1['Survived'])\n",
    "print(\"\\n\")\n",
    "female_rate2 = (women2/people_in_allClass) * 100\n",
    "men_rate2 = (men2/people_in_allClass) * 100\n",
    "print(\"Women survived rate in second class: %\",female_rate2['Survived'])\n",
    "print(\"\\n\")\n",
    "print(\"Men survived rate in second class: %\",men_rate2['Survived'])\n",
    "print(\"\\n\")\n",
    "female_rate3 = (women3/people_in_allClass) * 100\n",
    "men_rate3 = (men3/people_in_allClass) * 100\n",
    "print(\"Women survived rate in third class: %\",female_rate3['Survived'])\n",
    "print(\"\\n\")\n",
    "print(\"Men survived rate in third class: %\",men_rate3['Survived'])"
   ]
  },
  {
   "cell_type": "markdown",
   "metadata": {},
   "source": [
    "Part (c) <br>\n",
    "(i) First Class: Women were more survied than men. <br>\n",
    "    Second Class: Women were more survied than men.<br>\n",
    "    Third Class: Women were more survied than men.\n",
    "    \n",
    "(ii) Women in the first class had a higher survival rate.<br>\n",
    "(iii) Wemen in the third class had a higher survial rate than men in first class.\n",
    "    "
   ]
  },
  {
   "cell_type": "code",
   "execution_count": null,
   "metadata": {},
   "outputs": [],
   "source": []
  },
  {
   "cell_type": "markdown",
   "metadata": {},
   "source": [
    "**Part D**: Plot a histogram of all of the passenger ages, using the bin edges $[0,5,10,\\ldots,70,75,80]$ defined by `my_bins` below. How would you characterize the distribution of **AGE**? (By _characterize_ we mean that you should indicate whether the data are unimodal, bimodal, multimodal, symmetric, negatively skewed, positively skewed, etc.)  Be sure to label your axes and use your figure to justify your conclusions."
   ]
  },
  {
   "cell_type": "code",
   "execution_count": 16,
   "metadata": {},
   "outputs": [],
   "source": [
    "my_bins = range(0,85,5)\n",
    "#print(\"bin edges = \", list(my_bins))"
   ]
  },
  {
   "cell_type": "code",
   "execution_count": 25,
   "metadata": {},
   "outputs": [
    {
     "data": {
      "image/png": "[encoded data removed]",
      "text/plain": [
       "<Figure size 576x288 with 1 Axes>"
      ]
     },
     "metadata": {
      "needs_background": "light"
     },
     "output_type": "display_data"
    }
   ],
   "source": [
    "\n",
    "# Initialize figure \n",
    "fig, ax = plt.subplots(figsize=(8,4))\n",
    "\n",
    "\n",
    "\n",
    "# Plot histogram \n",
    "dfTitanic.hist(column=\"Age\", density = True, ax=ax, bins=my_bins, facecolor=\"green\", edgecolor=\"white\");\n",
    "\n",
    "#add a title\n",
    "ax.set_title(\"All Passenger Ages\", fontsize=20)\n",
    "\n",
    "#add axis label\n",
    "ax.set_xlabel(\"Age\", fontsize=16)\n",
    "ax.set_ylabel(\"Frequence\", fontsize=16)\n",
    "\n",
    "# Make the grid lines lighter and put them behind data \n",
    "ax.grid(alpha=0.25)\n",
    "ax.set_axisbelow(True)\n",
    " "
   ]
  },
  {
   "cell_type": "markdown",
   "metadata": {},
   "source": [
    "The data of this histogram is unimodal and positve skew. Most of passengers are between age 20 to to 30."
   ]
  },
  {
   "cell_type": "markdown",
   "metadata": {},
   "source": [
    "**Part E**: One might wonder how a passenger's age is related to the likelihood that they would survive the Titanic disaster. To answer this question graphically, plot two density histograms on the same set of axes, showing the distribution of the ages of passengers who survived, and the distribution of the ages of passengers who did not. \n",
    "* Use the bin edges $[0,5,10,\\ldots,70,75,80]$ for both histograms.\n",
    "* This problem is about a *ship* sinking in the *ocean*, so use **coral** and **seagreen** as the facecolors for your histogram boxes.\n",
    "* Plot both histograms on a single set of axes (there should be only one panel in the figure you create), but use Matplotlib/Pandas plotting functionality to make the faces of the histogram boxes somewhat transparent, so both histograms are visible.\n",
    "* Include a legend and label your axes.\n",
    "* Comment on the results. Does your figure suggest that some age ranges are more or less likely to have survived the disaster than other ages? Fully explain your reasoning and use your figure to justify your conclusions.\n",
    "* If you noticed some relationship between age and likelihood of survival, what is one possible explanation?"
   ]
  },
  {
   "cell_type": "code",
   "execution_count": 20,
   "metadata": {},
   "outputs": [
    {
     "data": {
      "image/png": "[encoded data removed]",
      "text/plain": [
       "<Figure size 576x288 with 1 Axes>"
      ]
     },
     "metadata": {
      "needs_background": "light"
     },
     "output_type": "display_data"
    }
   ],
   "source": [
    "\n",
    "# Initialize figure \n",
    "fig, ax = plt.subplots(figsize=(8,4))\n",
    "\n",
    "# Plot histogram \n",
    "dfTitanic.hist(column=\"Age\", density = True, ax=ax, bins=my_bins, facecolor=\"green\", edgecolor=\"white\");\n",
    "\n",
    "#add a title\n",
    "ax.set_title(\"All Passenger Ages\", fontsize=20)\n",
    "\n",
    "#add axis label\n",
    "ax.set_xlabel(\"Age\", fontsize=16)\n",
    "ax.set_ylabel(\"Frequence\", fontsize=16)\n",
    "\n",
    "# Make the grid lines lighter and put them behind data \n",
    "ax.grid(alpha=0.25)\n",
    "ax.set_axisbelow(True)"
   ]
  },
  {
   "cell_type": "markdown",
   "metadata": {},
   "source": []
  },
  {
   "cell_type": "markdown",
   "metadata": {},
   "source": [
    "**Part F:** In Part E, we plotted two *density* histograms, showing the distributions of ages of passengers that survived or did not survive the Titanic disaster. Why would it be misleading for us to have plotted these as *frequency* histograms instead?"
   ]
  },
  {
   "cell_type": "code",
   "execution_count": null,
   "metadata": {},
   "outputs": [],
   "source": [
    "\n",
    "#Plotting the resulting DataFrame\n",
    "fig = plt.subplots(figsize = (14, 10))\n",
    "\n",
    "plt.subplot(221)\n",
    "\n",
    "N = len(decade_df.index)\n",
    "ind = np.arange(N)  # the x locations for the groups\n",
    "width = 0.35       # the width of the bars\n",
    "    \n",
    "bar1=plt.bar(ind, decade_df[\"Embarked\"], width, color=\"#5975A4\", label=\"Embarked\")\n",
    "bar2=plt.bar(ind + width, decade_df[\"Survived\"], width, color='#5F9E6E', label=\"Survived\")\n",
    "\n",
    "plt.xlabel(\"Age\", fontsize=12)\n",
    "plt.ylabel(\"Number of Passengers\", fontsize=12)\n",
    "plt.title(\"Passengers' that survived or did not\", fontsize=14)\n",
    "plt.xticks(ind + width, decade_df.index.values)\n",
    "\n",
    "plt.legend(loc=2)\n",
    "plt.show()"
   ]
  },
  {
   "cell_type": "markdown",
   "metadata": {},
   "source": []
  },
  {
   "cell_type": "markdown",
   "metadata": {},
   "source": [
    "**Part G**: Do the data suggest class warfare, male chivalry, or some combination of both characteristics in the final hours aboard the Titanic?  Justify your conclusion based on the computations done above, or do any other analysis that you like, but be sure to clearly justify your conclusion. "
   ]
  },
  {
   "cell_type": "markdown",
   "metadata": {},
   "source": []
  },
  {
   "cell_type": "markdown",
   "metadata": {},
   "source": [
    "[Back to top](#top)\n",
    "\n",
    "<br>\n",
    "\n",
    "<a/ id='p5'></a>\n",
    "\n",
    "### (25 pts) Problem 5 - FCQ Data from Days of Yore\n",
    "---\n",
    "\n",
    "The `fcq_data.csv` data set on Canvas contains about 12 full academic years of Faculty Course Questionnaire (FCQ) data from the University of Colorado Boulder. The data include the year and term (fall or spring), the course subject and number, the distribution of grades, and other such information. The file `fcq_data_info.xlsx` contains some **metadata**, which describes what all of the columns in the main data file are, and how to interpret some of the measurements. Note that some of the columns from the original data set have been removed in order to make the file size a bit more manageable.\n",
    "\n",
    "First, load the data file, and check out what are all of the available column headers."
   ]
  },
  {
   "cell_type": "code",
   "execution_count": 22,
   "metadata": {},
   "outputs": [
    {
     "name": "stdout",
     "output_type": "stream",
     "text": [
      "Index(['YearTerm', 'Subject', 'Course', 'CourseTitle', 'Activity_Type',\n",
      "       'Hours', 'N_EOT', 'N_ENROLL', 'N_GRADE', 'AVG_GRD', 'PCT_A', 'PCT_B',\n",
      "       'PCT_C', 'PCT_D', 'PCT_F', 'PCT_C_MINUS_OR_BELOW', 'PCT_DF', 'PCT_DFW',\n",
      "       'PCT_WDRAW', 'PCT_INCOMP', 'N_PASS', 'N_NOCRED', 'N_INCOMP',\n",
      "       'Workload_Raw', 'Workload_Hrs_Wk', 'AvgCourse', 'AvgInstructor',\n",
      "       'N_Ret'],\n",
      "      dtype='object')\n",
      "       YearTerm Subject  Course  \\\n",
      "0         20067    ARCH    3114   \n",
      "1         20067    ARCH    3214   \n",
      "2         20067    ARCH    4010   \n",
      "3         20067    ARCH    4010   \n",
      "4         20067    ARCH    4010   \n",
      "5         20067    ENVD    1004   \n",
      "6         20067    ENVD    2001   \n",
      "7         20067    ENVD    2002   \n",
      "8         20067    ENVD    2003   \n",
      "9         20067    ENVD    2052   \n",
      "10        20067    ENVD    2110   \n",
      "11        20067    ENVD    2152   \n",
      "12        20067    ENVD    2352   \n",
      "13        20067    ENVD    3001   \n",
      "14        20067    ENVD    3015   \n",
      "15        20067    ENVD    3022   \n",
      "16        20067    ENVD    3022   \n",
      "17        20067    ENVD    3115   \n",
      "18        20067    ENVD    3122   \n",
      "19        20067    ENVD    3152   \n",
      "20        20067    ENVD    3152   \n",
      "21        20067    ENVD    3152   \n",
      "22        20067    ENVD    3152   \n",
      "23        20067    ENVD    3210   \n",
      "24        20067    ENVD    3212   \n",
      "25        20067    ENVD    3220   \n",
      "26        20067    ENVD    3352   \n",
      "27        20067    ENVD    3352   \n",
      "28        20067    ENVD    3352   \n",
      "29        20067    ENVD    3352   \n",
      "...         ...     ...     ...   \n",
      "74053     20181    MUSC    4203   \n",
      "74054     20181    MUSC    4443   \n",
      "74055     20181    MUSC    4988   \n",
      "74056     20181    MUSC    4997   \n",
      "74057     20181    MUSC    5071   \n",
      "74058     20181    MUSC    5091   \n",
      "74059     20181    MUSC    5151   \n",
      "74060     20181    MUSC    5484   \n",
      "74061     20181    MUSC    5708   \n",
      "74062     20181    MUSC    6203   \n",
      "74063     20181    PMUS    1205   \n",
      "74064     20181    PMUS    1205   \n",
      "74065     20181    PMUS    1506   \n",
      "74066     20181    PMUS    1516   \n",
      "74067     20181    PMUS    1556   \n",
      "74068     20181    PMUS    1596   \n",
      "74069     20181    PMUS    1626   \n",
      "74070     20181    PMUS    1646   \n",
      "74071     20181    PMUS    1656   \n",
      "74072     20181    PMUS    1666   \n",
      "74073     20181    PMUS    1676   \n",
      "74074     20181    PMUS    1696   \n",
      "74075     20181    PMUS    1706   \n",
      "74076     20181    PMUS    1706   \n",
      "74077     20181    PMUS    1716   \n",
      "74078     20181    PMUS    1726   \n",
      "74079     20181    PMUS    1726   \n",
      "74080     20181    PMUS    1726   \n",
      "74081     20181    PMUS    2205   \n",
      "74082     20181    PMUS    4157   \n",
      "\n",
      "                                           CourseTitle    Activity_Type  \\\n",
      "0                               HIST & THEOR OF ARCH 1    LEC - Lecture   \n",
      "1                               HIST & THEOR OF ARCH 2    LEC - Lecture   \n",
      "2                                   ARCH APPREC/DESIGN    LEC - Lecture   \n",
      "3                                   ARCH APPREC/DESIGN    LEC - Lecture   \n",
      "4                                   ARCH APPREC/DESIGN    LEC - Lecture   \n",
      "5                                        INTRO TO ENVD    LEC - Lecture   \n",
      "6                             INTR SOC FACTORS IN ENVD    LEC - Lecture   \n",
      "7                                  ENVD DESIGN MEDIA 1    LEC - Lecture   \n",
      "8                                   ECOLOGY AND DESIGN    LEC - Lecture   \n",
      "9                                COMPUTERS IN PLANNING    LEC - Lecture   \n",
      "10                                   ENV DESIGN STUDIO    LEC - Lecture   \n",
      "11                                    GIS FOR PLANNERS    LEC - Lecture   \n",
      "12                            DIGITAL PRES & PORTFOLIO    LEC - Lecture   \n",
      "13                            ENVIRONMENT AND BEHAVIOR    LEC - Lecture   \n",
      "14                              INTRO HISTORIC PRESERV    LEC - Lecture   \n",
      "15                               TECHNICAL PHOTOGRAPHY    LEC - Lecture   \n",
      "16                               TECHNICAL PHOTOGRAPHY    LEC - Lecture   \n",
      "17                             INTRO BUILD MAT/SYSTEMS    LEC - Lecture   \n",
      "18                               RSCH ISS/METH IN PLAN    LEC - Lecture   \n",
      "19                                    INTRO TO AUTOCAD    LEC - Lecture   \n",
      "20                                    INTRO TO AUTOCAD    LEC - Lecture   \n",
      "21                                    INTRO TO AUTOCAD    LEC - Lecture   \n",
      "22                                    INTRO TO AUTOCAD    LEC - Lecture   \n",
      "23                                       ARCH STUDIO 2    LEC - Lecture   \n",
      "24                                        COLOR THEORY    LEC - Lecture   \n",
      "25                                   PLANNING STUDIO 2    LEC - Lecture   \n",
      "26                                 ARCH COMPUTER MEDIA    LEC - Lecture   \n",
      "27                                 ARCH COMPUTER MEDIA    LEC - Lecture   \n",
      "28                                 ARCH COMPUTER MEDIA    LEC - Lecture   \n",
      "29                                 ARCH COMPUTER MEDIA    LEC - Lecture   \n",
      "...                                                ...              ...   \n",
      "74053                          Music Methods Practicum  PRA - Practicum   \n",
      "74054                      Teaching Instrumental Music    LEC - Lecture   \n",
      "74055                       The Entrepreneurial Artist    LEC - Lecture   \n",
      "74056                                   Senior Recital  IND - Ind Study   \n",
      "74057                 Post-tonal Theory and Analysis I    LEC - Lecture   \n",
      "74058       Contemporary Theory - Jazz and Modal Music    LEC - Lecture   \n",
      "74059                         Topics in Music Analysis    LEC - Lecture   \n",
      "74060               Graduate Seminar in Vocal Pedagogy    SEM - Seminar   \n",
      "74061  Introduction to Music Bibliography and Research    LEC - Lecture   \n",
      "74062                     Psychology of Music Learning    LEC - Lecture   \n",
      "74063                          Keyboard-Musicianship 2    LEC - Lecture   \n",
      "74064                          Keyboard-Musicianship 2    LEC - Lecture   \n",
      "74065                                          Bassoon     STU - Studio   \n",
      "74066                                         Clarinet     STU - Studio   \n",
      "74067                                            Flute     STU - Studio   \n",
      "74068                                             Horn     STU - Studio   \n",
      "74069                                       Percussion     STU - Studio   \n",
      "74070                                        Saxophone     STU - Studio   \n",
      "74071                                      Double Bass     STU - Studio   \n",
      "74072                                         Trombone     STU - Studio   \n",
      "74073                                          Trumpet     STU - Studio   \n",
      "74074                                            Viola     STU - Studio   \n",
      "74075                                           Violin     STU - Studio   \n",
      "74076                                           Violin     STU - Studio   \n",
      "74077                                      Violoncello     STU - Studio   \n",
      "74078                                            Voice     STU - Studio   \n",
      "74079                                            Voice     STU - Studio   \n",
      "74080                                            Voice     STU - Studio   \n",
      "74081                          Keyboard-Musicianship 4    LEC - Lecture   \n",
      "74082                                  Opera Practicum  PRA - Practicum   \n",
      "\n",
      "       Hours  N_EOT  N_ENROLL  N_GRADE  AVG_GRD  ...    PCT_WDRAW  PCT_INCOMP  \\\n",
      "0          3    146       150    145.0     1.98  ...       0.0267      0.0068   \n",
      "1          3    105       109    100.0     3.02  ...       0.0367      0.0476   \n",
      "2          6     16        16     16.0     3.86  ...       0.0000      0.0000   \n",
      "3          6     14        14     14.0     3.74  ...       0.0000      0.0000   \n",
      "4          6     14        14     14.0     3.89  ...       0.0000      0.0000   \n",
      "5          6    159       159    159.0     3.44  ...       0.0000      0.0000   \n",
      "6          3    148       150    147.0     2.86  ...       0.0133      0.0068   \n",
      "7          3    144       150    144.0     3.07  ...       0.0400      0.0000   \n",
      "8          3    200       204    199.0     2.90  ...       0.0196      0.0050   \n",
      "9          3     16        16     16.0     3.61  ...       0.0000      0.0000   \n",
      "10         6     88        88     87.0     3.29  ...       0.0000      0.0114   \n",
      "11         3     10        10     10.0     3.56  ...       0.0000      0.0000   \n",
      "12         3     15        16     15.0     3.22  ...       0.0625      0.0000   \n",
      "13         3    126       129    125.0     3.11  ...       0.0233      0.0079   \n",
      "14         3     28        28     28.0     3.76  ...       0.0000      0.0000   \n",
      "15         3     14        16     14.0     3.59  ...       0.1250      0.0000   \n",
      "16         3     12        12     11.0     3.65  ...       0.0000      0.0833   \n",
      "17         3    155       159    154.0     3.08  ...       0.0252      0.0065   \n",
      "18         3     13        13     13.0     3.46  ...       0.0000      0.0000   \n",
      "19         3     19        20     19.0     3.22  ...       0.0500      0.0000   \n",
      "20         3     18        18     18.0     3.51  ...       0.0000      0.0000   \n",
      "21         3     17        18     17.0     3.39  ...       0.0556      0.0000   \n",
      "22         3     15        15     15.0     3.24  ...       0.0000      0.0000   \n",
      "23         6     74        75     72.0     3.34  ...       0.0133      0.0270   \n",
      "24         3     15        15     15.0     2.61  ...       0.0000      0.0000   \n",
      "25         6     15        15     15.0     3.43  ...       0.0000      0.0000   \n",
      "26         3     15        16     15.0     2.87  ...       0.0625      0.0000   \n",
      "27         3     30        32     30.0     3.87  ...       0.0625      0.0000   \n",
      "28         3     33        34     33.0     3.37  ...       0.0294      0.0000   \n",
      "29         3     26        26     24.0     3.38  ...       0.0000      0.0769   \n",
      "...      ...    ...       ...      ...      ...  ...          ...         ...   \n",
      "74053      1     22        22     22.0     3.75  ...       0.0000      0.0000   \n",
      "74054      3     20        20     20.0     3.29  ...       0.0000      0.0000   \n",
      "74055      3     17        17     16.0     3.26  ...       0.0000      0.0536   \n",
      "74056      1     35        35     35.0     3.89  ...       0.0000      0.0000   \n",
      "74057      3     12        12     12.0     3.55  ...       0.0000      0.0000   \n",
      "74058      3     10        10     10.0     4.00  ...       0.0000      0.0000   \n",
      "74059      3     10        10     10.0     3.84  ...       0.0000      0.0000   \n",
      "74060      2     12        12     12.0     4.00  ...       0.0000      0.0000   \n",
      "74061      2     14        14     14.0     3.59  ...       0.0000      0.0000   \n",
      "74062      2     16        17     16.0     3.69  ...       0.0588      0.0000   \n",
      "74063      1     11        12     11.0     3.53  ...       0.0833      0.0000   \n",
      "74064      1     11        11     11.0     2.45  ...       0.0000      0.0000   \n",
      "74065      3     10        10     10.0     4.00  ...       0.0000      0.0000   \n",
      "74066      3     15        15     15.0     3.98  ...       0.0000      0.0000   \n",
      "74067      2     14        14     13.0     3.95  ...       0.0000      0.0615   \n",
      "74068      3     13        13     13.0     3.88  ...       0.0000      0.0000   \n",
      "74069      3     12        12     12.0     3.75  ...       0.0000      0.0000   \n",
      "74070      2     12        13     12.0     3.87  ...       0.0667      0.0000   \n",
      "74071      3     12        12     12.0     4.00  ...       0.0000      0.0000   \n",
      "74072      3     17        18     17.0     3.65  ...       0.0392      0.0000   \n",
      "74073      3     10        10     10.0     3.84  ...       0.0000      0.0000   \n",
      "74074      3     15        15     15.0     3.80  ...       0.0000      0.0000   \n",
      "74075      3     15        15     15.0     3.96  ...       0.0000      0.0000   \n",
      "74076      3     18        18     18.0     3.97  ...       0.0000      0.0000   \n",
      "74077      3     12        12     12.0     3.59  ...       0.0000      0.0000   \n",
      "74078      4     12        12     12.0     3.97  ...       0.0000      0.0000   \n",
      "74079      3     15        15     15.0     3.81  ...       0.0000      0.0000   \n",
      "74080      3     13        13     12.0     4.00  ...       0.0000      0.0417   \n",
      "74081      1     10        10     10.0     3.63  ...       0.0000      0.0000   \n",
      "74082      1     26        27     26.0     3.99  ...       0.0364      0.0000   \n",
      "\n",
      "       N_PASS  N_NOCRED  N_INCOMP  Workload_Raw  Workload_Hrs_Wk  AvgCourse  \\\n",
      "0           0         0         1          2.45              4-6       3.03   \n",
      "1           0         0         5          2.40              4-6       4.72   \n",
      "2           0         0         0          4.38            10-12       4.54   \n",
      "3           0         0         0          4.11            10-12       3.78   \n",
      "4           0         0         0          4.57            13-15       4.57   \n",
      "5           0         0         0          3.19              7-9       4.93   \n",
      "6           0         0         1          2.55              7-9       4.40   \n",
      "7           0         0         0          4.27            10-12       4.44   \n",
      "8           0         0         1          2.13              4-6       3.69   \n",
      "9           0         0         0          2.08              4-6       4.86   \n",
      "10          0         0         1          5.58              16+       4.43   \n",
      "11          0         0         0          2.00              4-6       5.11   \n",
      "12          0         0         0          3.50            10-12       5.75   \n",
      "13          0         0         1          2.08              4-6       4.53   \n",
      "14          0         0         0          2.05              4-6       5.13   \n",
      "15          0         0         0          4.20            10-12       5.50   \n",
      "16          0         0         1          5.38            13-15       5.78   \n",
      "17          0         0         1          2.29              4-6       3.83   \n",
      "18          0         0         0          2.40              4-6       2.64   \n",
      "19          0         0         0          2.50              7-9       5.13   \n",
      "20          0         0         0          2.27              4-6       5.63   \n",
      "21          0         0         0          2.40              4-6       5.09   \n",
      "22          0         0         0          3.09              7-9       4.77   \n",
      "23          0         0         2           NaN              NaN        NaN   \n",
      "24          0         0         0           NaN              NaN        NaN   \n",
      "25          0         0         0          4.00            10-12       5.00   \n",
      "26          0         0         0          3.00              7-9       4.31   \n",
      "27          0         0         0          3.19              7-9       5.54   \n",
      "28          0         0         0          2.71              7-9       5.12   \n",
      "29          0         0         2          2.88              7-9       5.18   \n",
      "...       ...       ...       ...           ...              ...        ...   \n",
      "74053       0         0         0          2.56              7-9       4.11   \n",
      "74054       0         0         0          2.94              7-9       2.59   \n",
      "74055       0         0         1          2.08              4-6       5.17   \n",
      "74056       0         0         0           NaN              NaN        NaN   \n",
      "74057       0         0         0          2.38              4-6       4.00   \n",
      "74058       0         0         0          2.40              4-6       5.50   \n",
      "74059       0         0         0          3.00              7-9       6.00   \n",
      "74060       0         0         0          2.00              4-6       4.67   \n",
      "74061       0         0         0          2.07              4-6       4.57   \n",
      "74062       0         0         0          2.40              4-6       4.20   \n",
      "74063       0         0         0          1.70              4-6       4.00   \n",
      "74064       0         0         0          1.90              4-6       3.80   \n",
      "74065       0         0         0          4.14            10-12       5.57   \n",
      "74066       0         0         0          5.50              16+       5.92   \n",
      "74067       0         0         1          4.91            13-15       5.64   \n",
      "74068       0         0         0          5.33            13-15       5.55   \n",
      "74069       0         0         0          4.80            13-15       3.80   \n",
      "74070       0         0         0          4.43            10-12       5.71   \n",
      "74071       0         0         0          5.40            13-15       5.80   \n",
      "74072       0         0         0          4.64            13-15       5.93   \n",
      "74073       0         0         0          5.25            13-15       5.75   \n",
      "74074       0         0         0          5.18            13-15       5.91   \n",
      "74075       0         0         0          5.21            13-15       5.57   \n",
      "74076       0         0         0          5.58              16+       5.92   \n",
      "74077       0         0         0          5.80              16+       5.90   \n",
      "74078       0         0         0          3.80            10-12       5.80   \n",
      "74079       0         0         0          2.93              7-9       5.80   \n",
      "74080       0         0         1          3.33              7-9       5.67   \n",
      "74081       0         0         0          1.90              4-6       3.50   \n",
      "74082       0         0         0          4.25            10-12       5.00   \n",
      "\n",
      "       AvgInstructor  N_Ret  \n",
      "0               2.91   78.0  \n",
      "1               4.76   54.0  \n",
      "2               4.62   13.0  \n",
      "3               4.00    9.0  \n",
      "4               4.43   14.0  \n",
      "5               5.10   74.0  \n",
      "6               4.92   96.0  \n",
      "7               4.52   82.0  \n",
      "8               4.24  139.0  \n",
      "9               5.50   16.0  \n",
      "10              4.14   71.0  \n",
      "11              5.33   10.0  \n",
      "12              5.63    8.0  \n",
      "13              4.93   95.0  \n",
      "14              5.48   24.0  \n",
      "15              5.38    8.0  \n",
      "16              5.89    9.0  \n",
      "17              3.75   95.0  \n",
      "18              3.18   11.0  \n",
      "19              5.50   15.0  \n",
      "20              5.88   16.0  \n",
      "21              5.45   11.0  \n",
      "22              5.23   13.0  \n",
      "23               NaN    0.0  \n",
      "24               NaN    0.0  \n",
      "25              5.14   15.0  \n",
      "26              4.23   13.0  \n",
      "27              5.83   24.0  \n",
      "28              5.12   26.0  \n",
      "29              5.35   17.0  \n",
      "...              ...    ...  \n",
      "74053           4.09    9.0  \n",
      "74054           3.44   17.0  \n",
      "74055           5.42   12.0  \n",
      "74056            NaN    NaN  \n",
      "74057           4.38    8.0  \n",
      "74058           5.60   10.0  \n",
      "74059           6.00    9.0  \n",
      "74060           5.33    3.0  \n",
      "74061           5.29   14.0  \n",
      "74062           4.73   15.0  \n",
      "74063           5.60   10.0  \n",
      "74064           4.60   10.0  \n",
      "74065           5.71    7.0  \n",
      "74066           5.92   12.0  \n",
      "74067           5.91   11.0  \n",
      "74068           5.44    9.0  \n",
      "74069           3.40    5.0  \n",
      "74070           5.86    7.0  \n",
      "74071           6.00    5.0  \n",
      "74072           6.00   14.0  \n",
      "74073           5.00    4.0  \n",
      "74074           5.91   11.0  \n",
      "74075           5.50   14.0  \n",
      "74076           5.83   12.0  \n",
      "74077           5.90   10.0  \n",
      "74078           6.00    5.0  \n",
      "74079           5.80   15.0  \n",
      "74080           5.78    9.0  \n",
      "74081           5.70   10.0  \n",
      "74082           5.40    8.0  \n",
      "\n",
      "[74083 rows x 28 columns]\n"
     ]
    }
   ],
   "source": [
    "df = pd.read_csv(\"fcq_data.csv\")\n",
    "print(df.columns)\n",
    "print(df)"
   ]
  },
  {
   "cell_type": "markdown",
   "metadata": {},
   "source": [
    "**Part A:** Suppose we want to restrict our attention to only undergraduate classes in the Computer Science department. Create a new DataFrame called `dfC` consisting only of undergraduate computer science classes. You may decide for yourself how to obtain only the rows corresponding to **undergraduate** and **computer science** courses. How many data points are there total?"
   ]
  },
  {
   "cell_type": "code",
   "execution_count": 23,
   "metadata": {},
   "outputs": [
    {
     "name": "stdout",
     "output_type": "stream",
     "text": [
      "Total data points in computer science are  617\n"
     ]
    }
   ],
   "source": [
    "dfc = df[df['Subject'] == 'CSCI'].copy()\n",
    "cs_under = dfc[dfc['Course'] < 5000]\n",
    "print(\"Total data points in computer science are \",cs_under['Course'].count())"
   ]
  },
  {
   "cell_type": "markdown",
   "metadata": {},
   "source": [
    "**Part B:** Using the undergraduate computer science courses DataFrame and the `isnull()` and/or `notnull()` (or `isna`/`notna`) methods in Pandas, determine which column(s) in are missing any data. Also using Pandas methods, report how many values are missing from each of those column(s). Finally, use the `dropna()` method to remove any rows that are missing data. For the remainder of this problem, use the cleaned DataFrame for analysis. How many data points are there in the cleaned DataFrame?"
   ]
  },
  {
   "cell_type": "code",
   "execution_count": null,
   "metadata": {},
   "outputs": [],
   "source": [
    "cs_under.isnull().sum()"
   ]
  },
  {
   "cell_type": "markdown",
   "metadata": {},
   "source": [
    "Part B:<br>\n",
    "Workload_Raw = 52<br>\n",
    "Workloand_Hrs_Wk = 52<br>\n",
    "AvgCourse = 52<br>\n",
    "AvgInstructor 52<br>\n",
    "N_Ret = 42<br>"
   ]
  },
  {
   "cell_type": "markdown",
   "metadata": {},
   "source": [
    "**Part C:** One might hypothesize that students' grades are higher in one credit-hour courses than in regular lecture sections. Note that `Hours` corresponds to the number of credit-hours a class is worth, and that Average Grades are provided in the data set on a GPA-scale (4=A, 3=B, and so on).\n",
    "\n",
    "Compute the mean and median Average Grade for all undergraduate Computer Science courses, and for only the one credit-hour undergraduate Computer Science courses. Report all four of these numbers, and comment on the results. Does your calculation seem to support our hypothesis or not? "
   ]
  },
  {
   "cell_type": "code",
   "execution_count": null,
   "metadata": {},
   "outputs": [],
   "source": [
    "one_credit_hours = cs_under[cs_under['Hours'] == 1]\n",
    "two_credit_hours = cs_under[cs_under['Hours'] == 2]\n",
    "three_credit_hours = cs_under[cs_under['Hours'] == 3]\n",
    "four_credit_hours = cs_under[cs_under['Hours'] == 4]\n",
    "#print(\"Mean Average Grade: \", one_credit_hours['AVG_GRD'].mean())\n",
    "#print(\"Median Average Grade: \", one_credit_hours['AVG_GRD'].median())"
   ]
  },
  {
   "cell_type": "markdown",
   "metadata": {},
   "source": [
    "Mean Average Grade in one credit-hour:  $3.708548387096774$<br>\n",
    "Median Average Grade one credit-hour:  $3.85$<br>\n",
    "\n",
    "Mean Average Grade in two credit-hour:  $3.72$<br>\n",
    "Median Average Grade two credit-hour:  $3.72$<br>\n",
    "\n",
    "Mean Average Grade in three credit-hour:  $3.468784029038116$<br>\n",
    "Median Average Grade three credit-hour:  $3.58$<br>\n",
    "\n",
    "Mean Average Grade in four credit-hour:  $3.0775510204081638$<br>\n",
    "Median Average Grade four credit-hour:  $2.99$<br>\n",
    "\n",
    "Yes, it supports our hypothesis that students' grades are higher in one credit-hour course "
   ]
  },
  {
   "cell_type": "markdown",
   "metadata": {},
   "source": [
    "**Part D:** Another hypothesis one might want to test using this data set is whether or not students' grades are different based on the course *level* - lower-division (1000s and 2000s) versus upper-division (3000s and 4000s). Create side-by-side box-and-whisker plots to compare the average grades of lower-division computer science courses versus upper-division computer science courses.  Use the box-and-whisker plot conventions discussed in lecture, and be sure to include a legend and label your axes.\n",
    "\n",
    "Comment on the results. Does your figure suggest there is a difference in the distribution of average course grades, depending on whether a class is lower- or upper-division? If you noticed a difference between the two distributions, what is one cause that could explain this difference? Fully explain your reasoning."
   ]
  },
  {
   "cell_type": "code",
   "execution_count": null,
   "metadata": {},
   "outputs": [],
   "source": [
    "cs_under"
   ]
  },
  {
   "cell_type": "markdown",
   "metadata": {},
   "source": []
  },
  {
   "cell_type": "markdown",
   "metadata": {},
   "source": [
    "**Part E:** One more hypothesis we might want to explore is whether or not there has actually been a large increase in Computer Science enrollments in recent years. There are 12 academic years of data, which means there are 24 distinct semesters (from Fall 2006 to Spring 2018). For each semester, compute the total number of students enrolled in Computer Science courses. Note that you will almost certainly be counting some students twice (or more!), but that's okay - this is still a good measure of the total demand for Computer Science classes. Use the total number of students enrolled at the end of the term as the number of students for each class.\n",
    "\n",
    "Make a plot of the total number of Computer Science students versus the semester, with the most recent semester (Spring 2018) on the right and most distant past (Fall 2006) on the left. Label your axes. For the semester axis (the x-axis), label with the actual semester as a character string, like \"Fall 2006\" or \"Spring 2007\", for example. You may want to look up how to rotate the x-tick labels in order to make the semester name labels fit nicely. Comment on the results and any interesting trends or patterns you notice in Computer Science enrollment numbers."
   ]
  },
  {
   "cell_type": "code",
   "execution_count": null,
   "metadata": {},
   "outputs": [],
   "source": []
  },
  {
   "cell_type": "markdown",
   "metadata": {},
   "source": []
  },
  {
   "cell_type": "markdown",
   "metadata": {},
   "source": [
    "**Part F:** What is one way we could determine whether or not the Computer Science total enrollment is going up more than we should expect?"
   ]
  },
  {
   "cell_type": "markdown",
   "metadata": {},
   "source": []
  },
  {
   "cell_type": "markdown",
   "metadata": {},
   "source": [
    "**Part G:** Formulate another interesting question you could potentially answer using this data set. You do not need to actually answer it, but just frame the question clearly. What are some of the relevant column(s) in the data set?"
   ]
  },
  {
   "cell_type": "markdown",
   "metadata": {},
   "source": []
  },
  {
   "cell_type": "markdown",
   "metadata": {},
   "source": [
    "[Back to top](#top)"
   ]
  },
  {
   "cell_type": "code",
   "execution_count": null,
   "metadata": {},
   "outputs": [],
   "source": []
  }
 ],
 "metadata": {
  "kernelspec": {
   "display_name": "Python 3",
   "language": "python",
   "name": "python3"
  },
  "language_info": {
   "codemirror_mode": {
    "name": "ipython",
    "version": 3
   },
   "file_extension": ".py",
   "mimetype": "text/x-python",
   "name": "python",
   "nbconvert_exporter": "python",
   "pygments_lexer": "ipython3",
   "version": "3.7.1"
  }
 },
 "nbformat": 4,
 "nbformat_minor": 2
}
