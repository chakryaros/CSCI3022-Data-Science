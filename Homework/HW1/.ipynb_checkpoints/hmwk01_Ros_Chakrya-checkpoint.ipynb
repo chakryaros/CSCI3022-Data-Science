{
 "cells": [
  {
   "cell_type": "markdown",
   "metadata": {},
   "source": [
    "<a id='top'></a>\n",
    "\n",
    "# Homework 1: Data Cleaning and Exploratory Data Analysis \n",
    "***\n",
    "\n",
    "**Name**: Chakrya Ros\n",
    "\n",
    "***\n",
    "\n",
    "This assignment is due on Canvas by **5 PM on Friday February 1**. Your solutions to theoretical questions should be done in Markdown directly below the associated question.  Your solutions to computational questions should include any specified Python code and results as well as written commentary on your conclusions.  Remember that you are encouraged to discuss the problems with your classmates, but **you must write all code and solutions on your own**.\n",
    "\n",
    "**NOTES**: \n",
    "\n",
    "- Any relevant data sets should be available under the **Data** module on Canvas. To make life easier on the graders if they need to run your code, do not change the relative path names here. Instead, move the files around on your computer.\n",
    "- If you're not familiar with typesetting math directly into Markdown then by all means, do your work on paper first and then typeset it later.  Remember that there is a [reference guide](https://math.meta.stackexchange.com/questions/5020/mathjax-basic-tutorial-and-quick-reference) linked on Canvas on writing math in Markdown. **All** of your written commentary, justifications and mathematical work should be in Markdown.\n",
    "- Because you can technically evaluate notebook cells is a non-linear order, it's a good idea to do Kernel $\\rightarrow$ Restart & Run All as a check before submitting your solutions.  That way if we need to run your code you will know that it will work as expected. \n",
    "- It is **bad form** to make your reader interpret numerical output from your code.  If a question asks you to compute some value from the data you should show your code output **AND** write a summary of the results in Markdown directly below your code. \n",
    "- This probably goes without saying, but... For any question that asks you to calculate something, you **must show all work and justify your answers to receive credit**. Sparse or nonexistent work will receive sparse or nonexistent credit. \n",
    "\n",
    "---\n",
    "**Shortcuts:**  [Problem 1](#p1) | [Problem 2](#p2) | [Problem 3](#p3) | [Problem 4](#p4) | [Problem 5](#p5)\n",
    "\n",
    "---"
   ]
  },
  {
   "cell_type": "code",
   "execution_count": null,
   "metadata": {},
   "outputs": [],
   "source": []
  },
  {
   "cell_type": "code",
   "execution_count": 1,
   "metadata": {},
   "outputs": [],
   "source": [
    "import pandas as pd\n",
    "import numpy as np\n",
    "import matplotlib.pylab as plt\n",
    "%matplotlib inline"
   ]
  },
  {
   "cell_type": "markdown",
   "metadata": {},
   "source": [
    "[Back to top](#top)\n",
    "\n",
    "<br>\n",
    "\n",
    "<a/ id='p1'></a>\n",
    "\n",
    "### (10 pts) Problem 1 \n",
    "***\n",
    "\n",
    "![hedgehog](https://www.irishexaminer.com/remote/media.central.ie/media/images/h/hedgehog17_large.jpg?width=648&s=ie-467290)\n",
    "\n",
    "Hedgehogs are undeniably one of the cutest creatures in all of the land, so the University of Colorado Boulder wants to switch its mascot to the hedgehog. Before making the switch, the CU officials need to know whether they will be able to find new hedgehog mascot handlers, similar to the current Ralphie handlers. You are called upon to perform an experiment to order to determine how fit CU Boulder students are for hedgehog-handling. There are too many students at CU for you to test all of their **Hedgehog-Handling Ability** (HHA), so from a roster of all students and their majors, you will randomly test the HHA of one-tenth of the majors from each department on campus. (Assume nobody is a double major, and assume that everybody has a major.) From this sample, you will estimate the mean HHA of all students on campus, and let the CU officials know whether or not CU students will be able to handle hedgehogs.\n",
    "\n",
    "Identify the following: \n",
    "\n",
    "- the population : CU Boulder Student\n",
    "- the sample frame : roster\n",
    "- the sample : mean\n",
    "- the type of sample : stratified sample\n",
    "- the quantity of interest : Hedgehog-Handling Ability"
   ]
  },
  {
   "cell_type": "markdown",
   "metadata": {},
   "source": []
  },
  {
   "cell_type": "markdown",
   "metadata": {},
   "source": [
    "[Back to top](#top)\n",
    "\n",
    "<br>\n",
    "\n",
    "<a/ id='p2'></a>\n",
    "\n",
    "### (20 pts) Problem 2 \n",
    "***\n",
    "\n",
    "A method to investigate the sensitivity of the sample mean and the sample median to extreme outliers and changes in the dataset is to replace one or more elements in a given dataset by a number $y$ and investigate the eﬀect when $y$ changes. To illustrate this, consider the dataset\n",
    "\n",
    "$$\n",
    "y \\quad \n",
    "5.4 \\quad\n",
    "5.0 \\quad\n",
    "6.5 \\quad\n",
    "7.7 \\quad\n",
    "6.0 \\quad\n",
    "1.9\n",
    "$$"
   ]
  },
  {
   "cell_type": "markdown",
   "metadata": {},
   "source": [
    "**Part A**: Compute the sample mean and sample median for $y=2$. Compute them both again for $y=8$."
   ]
  },
  {
   "cell_type": "markdown",
   "metadata": {},
   "source": [
    "Calculate sample mean\n",
    "\n",
    "if $y = 2$\n",
    "\n",
    "    mean = (2+5.4+5.0+6.5+7.7+6.0+1.9)/7 = 4.928571428571428 \n",
    "if $y = 8$\n",
    "\n",
    "    mean = (2+5.4+5.0+6.5+7.7+6.0+1.9)/7 = 5.785714285714286\n"
   ]
  },
  {
   "cell_type": "markdown",
   "metadata": {},
   "source": [
    "Calculate sample median\n",
    "\n",
    "if y = 2\n",
    "\n",
    "    list = [1.9, 2, 5.0, 5.4, 6.0, 6.5, 7.7]\n",
    "    \n",
    "    median = 5.4\n",
    "    \n",
    "if y = 8\n",
    "\n",
    "    list = [1.9, 5.0, 5.4, 6.0, 6.5, 7.7, 8]\n",
    "    \n",
    "    median = 6.0\n"
   ]
  },
  {
   "cell_type": "markdown",
   "metadata": {},
   "source": [
    "**Part B**: Is there a value for $y$ that would make the mean of those data equal to $4$? If so, calculate the value of $y$ that makes the mean equal to $4$. If not, clearly explain why not.\n",
    "\n",
    "yes, there is a value for y = $-4.5$ that make the mean of those data equal to $4$.\n",
    "mean = $(-4.5 + 5.4 + 5.0 + 6.5 + 7.7 + 6.0 + 1.9)/7 = 4$\n",
    "\n",
    "Is there a value for $y$ that would make the median of those data equal to $4$? If so, calculate the value of $y$ that makes the median equal to $4$. If not, clearly explain why not.\n",
    "\n",
    "No, because we just sort the list and choose the midpoint of the list and in list, the other six elements don't contain $4$ value. In this case, there is no $y$ value that make the median of those data equal to $4$.\n"
   ]
  },
  {
   "cell_type": "code",
   "execution_count": 2,
   "metadata": {},
   "outputs": [
    {
     "name": "stdout",
     "output_type": "stream",
     "text": [
      "Mean of list_:  4.0\n"
     ]
    }
   ],
   "source": [
    "#y = -4.5 that make the mean of those data equal to 4\n",
    "list_ = [-4.5, 5.4, 5.0, 6.5, 7.7, 6.0, 1.9]\n",
    "def meanOfData(list_):\n",
    "    num_len = len(list_)\n",
    "    sum_ = sum(list_)\n",
    "    mean_ = sum_/num_len\n",
    "    return mean_\n",
    "print(\"Mean of list_: \", meanOfData(list_))"
   ]
  },
  {
   "cell_type": "markdown",
   "metadata": {},
   "source": []
  },
  {
   "cell_type": "markdown",
   "metadata": {},
   "source": [
    "**Part C**: Compute the sample median for the following cases: \n",
    "- $y=5$ \n",
    "- $y=50$ \n",
    "- $y=5.39$ \n",
    "- $y=5.41$\n",
    "- $y \\to \\infty$ \n",
    "- $y \\to -\\infty$ "
   ]
  },
  {
   "cell_type": "code",
   "execution_count": 3,
   "metadata": {},
   "outputs": [
    {
     "name": "stdout",
     "output_type": "stream",
     "text": [
      "Median of y = 5:  5.4\n",
      "Median of y = 50:  6.0\n",
      "Median of y = 5.39:  5.4\n",
      "Median of y = 5.41:  5.41\n",
      "Median of y = positive:  6.0\n",
      "Median of y = negative infinity:  5.4\n"
     ]
    }
   ],
   "source": [
    "pos_inf = float(\"inf\")\n",
    "neg_inf = -float(\"inf\")\n",
    "y_5 = [5, 5.4, 5.0, 6.5, 7.7, 6.0, 1.9]\n",
    "y_50 = [50, 5.4, 5.0, 6.5, 7.7, 6.0, 1.9]\n",
    "y_539 = [5.39, 5.4, 5.0, 6.5, 7.7, 6.0, 1.9]\n",
    "y_541 = [5.41, 5.4, 5.0, 6.5, 7.7, 6.0, 1.9]\n",
    "y_inf = [pos_inf, 5.4, 5.0, 6.5, 7.7, 6.0, 1.9]\n",
    "N_inf = [neg_inf, 5.4, 5.0, 6.5, 7.7, 6.0, 1.9]\n",
    "def medianOfData(list_):\n",
    "    num_len = len(list_)\n",
    "    list_.sort()\n",
    "    median_ = 0\n",
    "    if num_len % 2 == 0:\n",
    "        m1 = list_[num_len//2]\n",
    "        m2 = list_[num_len//2 - 1]\n",
    "        median_ = (m1+m2)/2\n",
    "    else:\n",
    "        median_ = list_[num_len//2]\n",
    "    return median_\n",
    "print(\"Median of y = 5: \", medianOfData(y_5))\n",
    "print(\"Median of y = 50: \", medianOfData(y_50))\n",
    "print(\"Median of y = 5.39: \", medianOfData(y_539))\n",
    "print(\"Median of y = 5.41: \", medianOfData(y_541))\n",
    "print(\"Median of y = positive: \", medianOfData(y_inf))\n",
    "print(\"Median of y = negative infinity: \", medianOfData(N_inf))"
   ]
  },
  {
   "cell_type": "markdown",
   "metadata": {},
   "source": [
    "**Part D**: Think about the previous parts, above, and describe in words or mathematical notation the answers to the following two questions:\n",
    "\n",
    "- By varying $y$, what is the set of all the possible values that the sample mean could take on?\n",
    "- By varying $y$, what is the set of all the possible values that the sample median could take on? Specifically, for what sets of $y$ values does the median take on its different possible values?"
   ]
  },
  {
   "cell_type": "markdown",
   "metadata": {},
   "source": [
    "- The set of all the possible values that the sample mean could take on are  positive infinity if $y$ values go larger and larger and negative infinity if $y$ values go smaller and smaller. $\\bar{x} \\in (-\\infty, +\\infty)$\n",
    "- The set of all the possible values that the sample median cound take on is depend on $y$ value. $\\tilde{x} \\in [5.4, 6.0]$\n",
    " "
   ]
  },
  {
   "cell_type": "markdown",
   "metadata": {},
   "source": [
    "[Back to top](#top)\n",
    "\n",
    "<br>\n",
    "\n",
    "<a/ id='p3'></a>\n",
    "\n",
    "### (20 pts) Problem 3 \n",
    "***\n",
    "\n",
    "Let $x_1, x_2, \\ldots, x_n$ be $n$ observations of a variable of interest.  Recall that the sample mean $\\bar{x}_n$ and sample variance $s^2_n$ are given by \n",
    "\n",
    "$$\n",
    "\\bar{x}_n = \\frac{1}{n}\\sum_{k=1}^n x_k \\quad \\textrm{and} \\quad s^2_n = \\frac{1}{n-1}\\sum_{k=1}^n \\left( x_k - \\bar{x}_n\\right)^2 \\qquad \\tag{Equation 1}\n",
    "$$\n",
    "\n",
    "where here the subscript $n$'s indicate the number of observations in the sample. Notice that a natural computation of the variance requires two passes over the data: one to compute the mean, and a second to subtract the mean from each observation and compute the sum of squares. It is often useful to be able to compute the variance in a single pass, inspecting each value $x_k$ only once; for example, when the data are being collected without enough storage to keep all the values, or when costs of memory access dominate those of computation. In this problem you will explore two methods for such an _online_ computation of the mean.  \n",
    "\n",
    "**Part A**: Show algebraically that the following relation holds between the mean of the first $n-1$ observations and the mean of all $n$ observations: \n",
    "\n",
    "$$\n",
    "\\bar{x}_n = \\bar{x}_{n-1} + \\frac{x_n - \\bar{x}_{n-1}}{n}\n",
    "$$\n",
    "\n",
    "Note that you can get an expression for $\\bar{x}_{n-1}$ by simply replacing $n$ in Equation 1 above with $n-1$."
   ]
  },
  {
   "cell_type": "markdown",
   "metadata": {},
   "source": [
    "\n",
    "First extend the $\\bar x_n $\n",
    "$$\n",
    " \\bar{x}_{n} = \\frac{1}{n}\\sum_{k=1}^{n-1} x_k + \\frac{1}{n} x_n\n",
    "             = (\\frac{n-1}{n-1}) \\frac{1}{n}\\sum_{k=1}^{n-1} x_k + \\frac{1}{n} x_n\n",
    "$$\n",
    "\n",
    "$$\n",
    " \\bar{x}_{n} = (\\frac{n-1}{n}) \\frac{1}{n-1}\\sum_{k=1}^{n-1} x_k + \\frac{1}{n} x_n \\quad \\textrm{,Since} \\quad\n",
    " \\bar{x}_{n-1} = \\frac{1}{n-1}\\sum_{k=1}^{n-1} x_k\n",
    "$$\n",
    "\n",
    "$$\n",
    " \\quad \\textrm{we have} \\quad \\bar{x}_{n} = (\\frac{n-1}{n}) (\\bar{x}_{n-1}) + \\frac{1}{n} x_n\n",
    " = \\frac{n\\bar{x}_{n-1}}{n} - \\frac{\\bar{x}_{n-1}}{n} + \\frac{1}{n} x_n \\quad \\textrm{Rearrange and cancel n} \\quad\n",
    "$$\n",
    "\n",
    "$$\n",
    "\\quad \\textrm{Therefore,} \\quad \\bar{x}_n = \\bar{x}_{n-1} + \\frac{x_n - \\bar{x}_{n-1}}{n}\n",
    "$$\n"
   ]
  },
  {
   "cell_type": "markdown",
   "metadata": {},
   "source": [
    "**Part B**: Write a function `my_sample_mean` that takes as its input a numpy array and returns the mean of that numpy array using the formulas from class (written above). Write another function `my_sample_var` that takes as its input a numpy array and returns the variance of that numpy array, again using the formulas from class (written above). You may **not** use any built-in sample mean or variance functions."
   ]
  },
  {
   "cell_type": "code",
   "execution_count": 4,
   "metadata": {},
   "outputs": [],
   "source": [
    "def my_sample_mean(list_):\n",
    "    arr_Len= np.size(list_) #get the size of array\n",
    "    sum_ = np.sum(list_)    #sum of element in array\n",
    "    mean_ = sum_/arr_Len\n",
    "    return mean_\n",
    "\n",
    "#li = [2.0, 5.4, 5.0, 6.5, 7.7, 6.0, 1.9]\n",
    "#print(\"sample mean:\",my_sample_mean(li))"
   ]
  },
  {
   "cell_type": "code",
   "execution_count": 5,
   "metadata": {},
   "outputs": [],
   "source": [
    "def my_sample_var(list_):\n",
    "    arr_Len = np.size(list_) #size of numpy array\n",
    "    sum_ = np.sum(list_)\n",
    "    mean_ = sum_/arr_Len #calculate mean\n",
    "    var = 0.0\n",
    "    d =0.0\n",
    "    for i in list_:\n",
    "        d = d + ((i - mean_) **2) #calculate the differnce between each element and mean and sum\n",
    "    var = d/(arr_Len)  #calculate sample variance\n",
    "    return var\n",
    "li = [2.0, 5.4, 5.0, 6.5, 7.7, 6.0, 1.9]\n",
    "\n",
    "\n",
    "#print(\"sample variance:\",my_sample_var(li))        "
   ]
  },
  {
   "cell_type": "markdown",
   "metadata": {},
   "source": [
    "**Part C**: Use your functions from Part B to compute the sample mean and sample variance of the following array, which contains the hedgehog-handling abilities (HHA) of a sample of 12 CU Boulder hedgehog handlers.\n",
    "\n",
    "`hha = [98, 26, 83, 56, 60, 39, 81, 19, 72, 78, 94, 42]`"
   ]
  },
  {
   "cell_type": "code",
   "execution_count": 6,
   "metadata": {},
   "outputs": [
    {
     "name": "stdout",
     "output_type": "stream",
     "text": [
      "Sample mean that contains HHA: 62.333333333333336\n",
      "Sample variance that contains HHA: 632.5555555555555\n"
     ]
    }
   ],
   "source": [
    "hha = [98, 26, 83, 56, 60, 39, 81, 19, 72, 78, 94, 42]\n",
    "#print(np.var(hha))\n",
    "#print(np.mean(hha))\n",
    "sample_mean = my_sample_mean(hha)\n",
    "print(\"Sample mean that contains HHA:\", sample_mean)\n",
    "sample_var = my_sample_var(hha)\n",
    "print(\"Sample variance that contains HHA:\", sample_var)\n",
    "#print(np.var(hha))"
   ]
  },
  {
   "cell_type": "markdown",
   "metadata": {},
   "source": [
    "**Part D**: Implement a third function called `update_mean` that implements the formula whose validity you proved in Part A. Note that this function will need to take as its input three things: $x_n$, $\\bar{x}_{n-1}$ and $n$. A function header is provided for you. This function may be auto-graded, so please do not change the given API - the order of inputs matters! If you change it, you might lose points.\n",
    "\n",
    "Use this function to compute the values that you get from taking the mean of the first hedgehog handler, the first two hedgehog handlers, the first three hedgehog handlers, and so on up to all of the hedgehog handler data points. Store your HHA means in a numpy array called `hha_means`.  Report all 12 estimates in `hha_means`."
   ]
  },
  {
   "cell_type": "code",
   "execution_count": 7,
   "metadata": {},
   "outputs": [
    {
     "data": {
      "text/plain": [
       "array([98.        , 62.        , 69.        , 65.75      , 64.6       ,\n",
       "       60.33333333, 63.28571429, 57.75      , 59.33333333, 61.2       ,\n",
       "       64.18181818, 62.33333333])"
      ]
     },
     "execution_count": 7,
     "metadata": {},
     "output_type": "execute_result"
    }
   ],
   "source": [
    "# Given API:\n",
    "def update_mean(prev_mean, xn, n):\n",
    "    update_m = prev_mean + (xn-prev_mean)/n\n",
    "    return update_m     #the updated mean\n",
    "#print(update_mean(1,2,3))\n",
    "\n",
    "# hha = [98, 26, 83, 56, 60, 39, 81, 19, 72, 78, 94, 42]\n",
    "def calculate_hha_mean(hha_):\n",
    "    hha_mean = []\n",
    "    hha_mean.append(hha_[0])\n",
    "    for i in range(1, len(hha_)):\n",
    "        updateMean = update_mean(hha_mean[i-1], hha_[i], i+1)\n",
    "        hha_mean = np.append(hha_mean, [updateMean])\n",
    "    return hha_mean\n",
    "calculate_hha_mean(hha)\n",
    "    "
   ]
  },
  {
   "cell_type": "markdown",
   "metadata": {},
   "source": [
    "To ensure your function complies with the given API, run this small test, where we suppose we have a mean of $\\bar{x}_n = 1$ with the first $2$ data points (`prev_mean`), and we update this with the 3rd ($n=3$) data point which is $x_3=2$:"
   ]
  },
  {
   "cell_type": "code",
   "execution_count": 8,
   "metadata": {},
   "outputs": [],
   "source": [
    "assert update_mean(1,2,3)==4/3, \"Warning: function seems broken.\""
   ]
  },
  {
   "cell_type": "code",
   "execution_count": null,
   "metadata": {},
   "outputs": [],
   "source": []
  },
  {
   "cell_type": "markdown",
   "metadata": {},
   "source": [
    "[Back to top](#top)\n",
    "\n",
    "<br>\n",
    "\n",
    "<a/ id='p4'></a>\n",
    "\n",
    "### (25 pts) Problem 4\n",
    "*** \n",
    "Some claim that the final hours aboard the RMS Titanic were marked by \"class warfare\" in which the people with first-class tickets took all the good spots on the lifeboats; others claim that the final hours were characterized by male chivalry, in which the men valiantly gave up their positions in the boats and succumbed bravely to the depths of the Atlantic. \n",
    "\n",
    "We have the data on survival rates by class and by sex, so let's figure out whether there is evidence for these scenarios. Access the Titanic data in `titanic_data.csv` and store it in a Pandas DataFrame. The data contains information pertaining to class status (**Pclass**), survival (**Survived**), and gender (**Sex**) of passengers, among other things. Be sure to use the `titanic_data.csv` data set, *not* the `clean_titanic_data` file from the in-class notebook."
   ]
  },
  {
   "cell_type": "code",
   "execution_count": 9,
   "metadata": {},
   "outputs": [
    {
     "data": {
      "text/html": [
       "<div>\n",
       "<style scoped>\n",
       "    .dataframe tbody tr th:only-of-type {\n",
       "        vertical-align: middle;\n",
       "    }\n",
       "\n",
       "    .dataframe tbody tr th {\n",
       "        vertical-align: top;\n",
       "    }\n",
       "\n",
       "    .dataframe thead th {\n",
       "        text-align: right;\n",
       "    }\n",
       "</style>\n",
       "<table border=\"1\" class=\"dataframe\">\n",
       "  <thead>\n",
       "    <tr style=\"text-align: right;\">\n",
       "      <th></th>\n",
       "      <th>PassengerId</th>\n",
       "      <th>Survived</th>\n",
       "      <th>Pclass</th>\n",
       "      <th>Name</th>\n",
       "      <th>Sex</th>\n",
       "      <th>Age</th>\n",
       "      <th>SibSp</th>\n",
       "      <th>Parch</th>\n",
       "      <th>Ticket</th>\n",
       "      <th>Fare</th>\n",
       "      <th>Cabin</th>\n",
       "      <th>Embarked</th>\n",
       "    </tr>\n",
       "  </thead>\n",
       "  <tbody>\n",
       "    <tr>\n",
       "      <th>0</th>\n",
       "      <td>1</td>\n",
       "      <td>0</td>\n",
       "      <td>3</td>\n",
       "      <td>Braund, Mr. Owen Harris</td>\n",
       "      <td>male</td>\n",
       "      <td>36.0</td>\n",
       "      <td>1</td>\n",
       "      <td>0</td>\n",
       "      <td>A/5 21171</td>\n",
       "      <td>7.2500</td>\n",
       "      <td>NaN</td>\n",
       "      <td>S</td>\n",
       "    </tr>\n",
       "    <tr>\n",
       "      <th>1</th>\n",
       "      <td>2</td>\n",
       "      <td>1</td>\n",
       "      <td>1</td>\n",
       "      <td>Cumings, Mrs. John Bradley (Florence Briggs Th...</td>\n",
       "      <td>female</td>\n",
       "      <td>18.0</td>\n",
       "      <td>1</td>\n",
       "      <td>0</td>\n",
       "      <td>PC 17599</td>\n",
       "      <td>71.2833</td>\n",
       "      <td>C85</td>\n",
       "      <td>C</td>\n",
       "    </tr>\n",
       "    <tr>\n",
       "      <th>2</th>\n",
       "      <td>3</td>\n",
       "      <td>1</td>\n",
       "      <td>3</td>\n",
       "      <td>Heikkinen, Miss. Laina</td>\n",
       "      <td>female</td>\n",
       "      <td>14.0</td>\n",
       "      <td>0</td>\n",
       "      <td>0</td>\n",
       "      <td>STON/O2. 3101282</td>\n",
       "      <td>7.9250</td>\n",
       "      <td>NaN</td>\n",
       "      <td>S</td>\n",
       "    </tr>\n",
       "    <tr>\n",
       "      <th>3</th>\n",
       "      <td>4</td>\n",
       "      <td>1</td>\n",
       "      <td>1</td>\n",
       "      <td>Futrelle, Mrs. Jacques Heath (Lily May Peel)</td>\n",
       "      <td>female</td>\n",
       "      <td>27.0</td>\n",
       "      <td>1</td>\n",
       "      <td>0</td>\n",
       "      <td>113803</td>\n",
       "      <td>53.1000</td>\n",
       "      <td>C123</td>\n",
       "      <td>S</td>\n",
       "    </tr>\n",
       "    <tr>\n",
       "      <th>4</th>\n",
       "      <td>5</td>\n",
       "      <td>0</td>\n",
       "      <td>3</td>\n",
       "      <td>Allen, Mr. William Henry</td>\n",
       "      <td>male</td>\n",
       "      <td>63.0</td>\n",
       "      <td>0</td>\n",
       "      <td>0</td>\n",
       "      <td>373450</td>\n",
       "      <td>8.0500</td>\n",
       "      <td>NaN</td>\n",
       "      <td>S</td>\n",
       "    </tr>\n",
       "  </tbody>\n",
       "</table>\n",
       "</div>"
      ],
      "text/plain": [
       "   PassengerId  Survived  Pclass  \\\n",
       "0            1         0       3   \n",
       "1            2         1       1   \n",
       "2            3         1       3   \n",
       "3            4         1       1   \n",
       "4            5         0       3   \n",
       "\n",
       "                                                Name     Sex   Age  SibSp  \\\n",
       "0                            Braund, Mr. Owen Harris    male  36.0      1   \n",
       "1  Cumings, Mrs. John Bradley (Florence Briggs Th...  female  18.0      1   \n",
       "2                             Heikkinen, Miss. Laina  female  14.0      0   \n",
       "3       Futrelle, Mrs. Jacques Heath (Lily May Peel)  female  27.0      1   \n",
       "4                           Allen, Mr. William Henry    male  63.0      0   \n",
       "\n",
       "   Parch            Ticket     Fare Cabin Embarked  \n",
       "0      0         A/5 21171   7.2500   NaN        S  \n",
       "1      0          PC 17599  71.2833   C85        C  \n",
       "2      0  STON/O2. 3101282   7.9250   NaN        S  \n",
       "3      0            113803  53.1000  C123        S  \n",
       "4      0            373450   8.0500   NaN        S  "
      ]
     },
     "execution_count": 9,
     "metadata": {},
     "output_type": "execute_result"
    }
   ],
   "source": [
    "df = pd.read_csv('/Users/chakryaros/Dropbox/csci3022_DataSci/HW1/titanic_data.csv')\n",
    "df.head()"
   ]
  },
  {
   "cell_type": "markdown",
   "metadata": {},
   "source": [
    "**Part A**: Consider the two claims: class warfare, and male chivalry. Suppose that class warfare occurred in the final hours aboard the Titanic.  What patterns might you expect to see in the data?  Suppose that male chivalry was widespread during the final hours instead. What patterns might you then expect to see in the data?  Explain both of these hypothesized patterns in words. Are these two hypotheses mutually exclusive or not?"
   ]
  },
  {
   "cell_type": "markdown",
   "metadata": {},
   "source": [
    "- If the class warfare occured in the final hours abooard the Titanic, I might expect the frist class people would be more survived. If the male chivalry was widespread during the final hours instead, I might expext that women were more survived. Yes, these two hypotheses are not exlusive. "
   ]
  },
  {
   "cell_type": "markdown",
   "metadata": {},
   "source": [
    "**Part B**: Use Pandas methods to create a clean data set by removing any rows from the DataFrame that are missing values corresponding to **Survived**, **Pclass**, **Age**, or **Sex**. Store the clean data in a DataFrame called dfTitanic. Be sure to show any exploratory work determining if/where there are rows with missing values."
   ]
  },
  {
   "cell_type": "code",
   "execution_count": 10,
   "metadata": {},
   "outputs": [
    {
     "name": "stdout",
     "output_type": "stream",
     "text": [
      "<class 'pandas.core.frame.DataFrame'>\n",
      "Int64Index: 714 entries, 0 to 888\n",
      "Data columns (total 12 columns):\n",
      "PassengerId    714 non-null int64\n",
      "Survived       714 non-null int64\n",
      "Pclass         714 non-null int64\n",
      "Name           714 non-null object\n",
      "Sex            714 non-null object\n",
      "Age            714 non-null float64\n",
      "SibSp          714 non-null int64\n",
      "Parch          714 non-null int64\n",
      "Ticket         714 non-null object\n",
      "Fare           714 non-null float64\n",
      "Cabin          165 non-null object\n",
      "Embarked       713 non-null object\n",
      "dtypes: float64(2), int64(5), object(5)\n",
      "memory usage: 72.5+ KB\n"
     ]
    }
   ],
   "source": [
    "#create a clean data set by removing any rows from the DataFrame that are missing value\n",
    "dfTitanic = df.dropna(subset=['Survived', 'Pclass', 'Age', 'Sex']).copy()\n",
    "dfTitanic.info()"
   ]
  },
  {
   "cell_type": "markdown",
   "metadata": {},
   "source": [
    "**Part C**: Compute the fraction of survivors according to class and gender. There are 3 passenger classes and 2 sexes in the data set, so you should report all 6 possible combinations.  Then, answer 3 questions:\n",
    "* **(i)** Within each passenger class, were men or women more/less/equally likely to survive?\n",
    "* **(ii)**  Looking at only the male or only the female passengers, how is passenger class related to the category's survival rate?\n",
    "* **(iii)**  Did men in first class or women in third class have a higher survival rate? "
   ]
  },
  {
   "cell_type": "code",
   "execution_count": 11,
   "metadata": {},
   "outputs": [
    {
     "name": "stdout",
     "output_type": "stream",
     "text": [
      "Women survived in first class: 72\n",
      "Men survived in first class: 36\n"
     ]
    }
   ],
   "source": [
    "people_not_survied = dfTitanic[dfTitanic['Survived']== 0]\n",
    "people_survied = dfTitanic[dfTitanic['Survived']== 1]\n",
    "#print(people_survied['Survived'].count())\n",
    "\n",
    "#count women in first class\n",
    "women = people_survied.loc[(people_survied[\"Pclass\"] == 1 ) & (people_survied[\"Sex\"] == \"female\")].count()\n",
    "\n",
    "#count men in first class\n",
    "men_survivied_1 = people_survied.loc[(people_survied[\"Pclass\"] == 1 ) & (people_survied[\"Sex\"] == \"male\")].count()\n",
    "print(\"Women survived in first class:\", women[\"Survived\"])\n",
    "print(\"Men survived in first class:\", men_survivied_1[\"Survived\"])"
   ]
  },
  {
   "cell_type": "code",
   "execution_count": 12,
   "metadata": {},
   "outputs": [
    {
     "name": "stdout",
     "output_type": "stream",
     "text": [
      "Women survived in second class: 54\n",
      "Men survived in second class: 16\n"
     ]
    }
   ],
   "source": [
    "#count women in second class\n",
    "women2 = people_survied.loc[(people_survied[\"Pclass\"] == 2 ) & (people_survied[\"Sex\"] == \"female\")].count()\n",
    "\n",
    "#count men in second class\n",
    "men_survivied_2 = people_survied.loc[(people_survied[\"Pclass\"] == 2 ) & (people_survied[\"Sex\"] == \"male\")].count()\n",
    "print(\"Women survived in second class:\", women2[\"Survived\"])\n",
    "print(\"Men survived in second class:\", men_survivied_2[\"Survived\"])"
   ]
  },
  {
   "cell_type": "code",
   "execution_count": 13,
   "metadata": {},
   "outputs": [
    {
     "name": "stdout",
     "output_type": "stream",
     "text": [
      "Women survived in third class: 62\n",
      "Men survived in third class: 39\n"
     ]
    }
   ],
   "source": [
    "#count women in third class\n",
    "women3 = people_survied.loc[(people_survied[\"Pclass\"] == 3 ) & (people_survied[\"Sex\"] == \"female\")].count()\n",
    "\n",
    "#count men in third class\n",
    "men_survivied_3 = people_survied.loc[(people_survied[\"Pclass\"] == 3 ) & (people_survied[\"Sex\"] == \"male\")].count()\n",
    "print(\"Women survived in third class:\", women3[\"Survived\"])\n",
    "print(\"Men survived in third class:\", men_survivied_3[\"Survived\"])"
   ]
  },
  {
   "cell_type": "code",
   "execution_count": 14,
   "metadata": {},
   "outputs": [
    {
     "name": "stdout",
     "output_type": "stream",
     "text": [
      "Women survived rate in first class: % 96.0\n",
      "\n",
      "\n",
      "Men survived rate in first class: % 38.70967741935484\n",
      "\n",
      "\n",
      "Women survived rate in second class: % 93.10344827586206\n",
      "\n",
      "\n",
      "Men survived rate in second class: % 18.39080459770115\n",
      "\n",
      "\n",
      "Women survived rate in third class: % 52.54237288135594\n",
      "\n",
      "\n",
      "Men survived rate in third class: % 12.7208480565371\n"
     ]
    }
   ],
   "source": [
    "all_men_1=dfTitanic.loc[(dfTitanic[\"Pclass\"] == 1 ) & (dfTitanic[\"Sex\"] == \"male\")].count()\n",
    "all_women_1=dfTitanic.loc[(dfTitanic[\"Pclass\"] == 1 ) & (dfTitanic[\"Sex\"] == \"female\")].count()\n",
    "\n",
    "all_men_2=dfTitanic.loc[(dfTitanic[\"Pclass\"] == 2 ) & (dfTitanic[\"Sex\"] == \"male\")].count()\n",
    "all_women_2=dfTitanic.loc[(dfTitanic[\"Pclass\"] == 2 ) & (dfTitanic[\"Sex\"] == \"female\")].count()\n",
    "\n",
    "all_men_3=dfTitanic.loc[(dfTitanic[\"Pclass\"] == 3 ) & (dfTitanic[\"Sex\"] == \"male\")].count()\n",
    "all_women_3=dfTitanic.loc[(dfTitanic[\"Pclass\"] == 3 ) & (dfTitanic[\"Sex\"] == \"female\")].count()\n",
    "\n",
    "female_rate1 = (women/all_women_1) * 100\n",
    "men_rate1 = (men_survivied_1/all_men_1) * 100\n",
    "print(\"Women survived rate in first class: %\",female_rate1['Survived'])\n",
    "print(\"\\n\")\n",
    "print(\"Men survived rate in first class: %\",men_rate1['Survived'])\n",
    "print(\"\\n\")\n",
    "female_rate2 = (women2/all_women_2) * 100\n",
    "men_rate2 = (men_survivied_2/all_men_2) * 100\n",
    "print(\"Women survived rate in second class: %\",female_rate2['Survived'])\n",
    "print(\"\\n\")\n",
    "print(\"Men survived rate in second class: %\",men_rate2['Survived'])\n",
    "print(\"\\n\")\n",
    "female_rate3 = (women3/all_women_3) * 100\n",
    "men_rate3 = (men_survivied_1/all_men_3) * 100\n",
    "print(\"Women survived rate in third class: %\",female_rate3['Survived'])\n",
    "print(\"\\n\")\n",
    "print(\"Men survived rate in third class: %\",men_rate3['Survived'])"
   ]
  },
  {
   "cell_type": "markdown",
   "metadata": {},
   "source": [
    "Part (c) <br>\n",
    "(i) First Class: Women were more survied than men. <br>\n",
    "    Second Class: Women were more survied than men.<br>\n",
    "    Third Class: Women were more survied than men.\n",
    "    \n",
    "(ii) Women in the first class had a higher survival rate.<br>\n",
    "(iii) Wemen in the third class had a higher survial rate than men in first class.\n",
    "    "
   ]
  },
  {
   "cell_type": "code",
   "execution_count": null,
   "metadata": {},
   "outputs": [],
   "source": []
  },
  {
   "cell_type": "markdown",
   "metadata": {},
   "source": [
    "**Part D**: Plot a histogram of all of the passenger ages, using the bin edges $[0,5,10,\\ldots,70,75,80]$ defined by `my_bins` below. How would you characterize the distribution of **AGE**? (By _characterize_ we mean that you should indicate whether the data are unimodal, bimodal, multimodal, symmetric, negatively skewed, positively skewed, etc.)  Be sure to label your axes and use your figure to justify your conclusions."
   ]
  },
  {
   "cell_type": "code",
   "execution_count": 15,
   "metadata": {},
   "outputs": [],
   "source": [
    "my_bins = range(0,85,5)\n",
    "#print(\"bin edges = \", list(my_bins))"
   ]
  },
  {
   "cell_type": "code",
   "execution_count": 16,
   "metadata": {},
   "outputs": [
    {
     "data": {
      "image/png": "[encoded data removed]",
      "text/plain": [
       "<Figure size 576x288 with 1 Axes>"
      ]
     },
     "metadata": {
      "needs_background": "light"
     },
     "output_type": "display_data"
    }
   ],
   "source": [
    "\n",
    "# Initialize figure \n",
    "fig, ax = plt.subplots(figsize=(8,4))\n",
    "\n",
    "\n",
    "\n",
    "# Plot histogram \n",
    "dfTitanic.hist(column=\"Age\", ax=ax, bins=my_bins, facecolor=\"green\", edgecolor=\"white\");\n",
    "\n",
    "#add a title\n",
    "ax.set_title(\"All Passenger Ages\", fontsize=20)\n",
    "\n",
    "#add axis label\n",
    "ax.set_xlabel(\"Age\", fontsize=16)\n",
    "ax.set_ylabel(\"Frequence\", fontsize=16)\n",
    "\n",
    "\n",
    "# Make the grid lines lighter and put them behind data \n",
    "ax.grid(alpha=0.25)\n",
    "ax.set_axisbelow(True)\n",
    " "
   ]
  },
  {
   "cell_type": "markdown",
   "metadata": {},
   "source": [
    "The data of this histogram is unimodal and positve skew. Most of passengers are between age 20 to 25."
   ]
  },
  {
   "cell_type": "markdown",
   "metadata": {},
   "source": [
    "**Part E**: One might wonder how a passenger's age is related to the likelihood that they would survive the Titanic disaster. To answer this question graphically, plot two density histograms on the same set of axes, showing the distribution of the ages of passengers who survived, and the distribution of the ages of passengers who did not. \n",
    "* Use the bin edges $[0,5,10,\\ldots,70,75,80]$ for both histograms.\n",
    "* This problem is about a *ship* sinking in the *ocean*, so use **coral** and **seagreen** as the facecolors for your histogram boxes.\n",
    "* Plot both histograms on a single set of axes (there should be only one panel in the figure you create), but use Matplotlib/Pandas plotting functionality to make the faces of the histogram boxes somewhat transparent, so both histograms are visible.\n",
    "* Include a legend and label your axes.\n",
    "* Comment on the results. Does your figure suggest that some age ranges are more or less likely to have survived the disaster than other ages? Fully explain your reasoning and use your figure to justify your conclusions.\n",
    "* If you noticed some relationship between age and likelihood of survival, what is one possible explanation?"
   ]
  },
  {
   "cell_type": "code",
   "execution_count": 17,
   "metadata": {},
   "outputs": [
    {
     "data": {
      "image/png": "[encoded data removed]",
      "text/plain": [
       "<Figure size 576x288 with 1 Axes>"
      ]
     },
     "metadata": {
      "needs_background": "light"
     },
     "output_type": "display_data"
    }
   ],
   "source": [
    "\n",
    "\n",
    "# Initialize figure \n",
    "fig, ax = plt.subplots(figsize=(8,4))\n",
    "Survived = people_survied['Age']\n",
    "ax.hist(Survived, label='Survived', density = True, bins=my_bins, alpha = 0.5, facecolor=\"seagreen\",edgecolor=\"white\")\n",
    "ax.hist(people_not_survied['Age'],label='Not survived', density = True,bins=my_bins,alpha = 0.6, facecolor=\"coral\",edgecolor=\"white\" )\n",
    "\n",
    "#add a title\n",
    "ax.set_title(\"All Passenger Ages who survied and not\", fontsize=20)\n",
    "\n",
    "#add axis label\n",
    "ax.set_xlabel(\"Age\", fontsize=16)\n",
    "ax.set_ylabel(\"Density\", fontsize=16)\n",
    "\n",
    "ax.legend();\n",
    "\n",
    "# Make the grid lines lighter and put them behind data \n",
    "ax.grid(alpha=0.25)\n",
    "ax.set_axisbelow(True)\n"
   ]
  },
  {
   "cell_type": "markdown",
   "metadata": {},
   "source": []
  },
  {
   "cell_type": "markdown",
   "metadata": {},
   "source": [
    "**Part F:** In Part E, we plotted two *density* histograms, showing the distributions of ages of passengers that survived or did not survive the Titanic disaster. Why would it be misleading for us to have plotted these as *frequency* histograms instead?"
   ]
  },
  {
   "cell_type": "markdown",
   "metadata": {},
   "source": [
    "Because frequency is easy to see the survived and not survived passeger than density and count the number in the bin but density is calcualte the proportion per bin."
   ]
  },
  {
   "cell_type": "markdown",
   "metadata": {},
   "source": []
  },
  {
   "cell_type": "markdown",
   "metadata": {},
   "source": [
    "**Part G**: Do the data suggest class warfare, male chivalry, or some combination of both characteristics in the final hours aboard the Titanic?  Justify your conclusion based on the computations done above, or do any other analysis that you like, but be sure to clearly justify your conclusion. "
   ]
  },
  {
   "cell_type": "markdown",
   "metadata": {},
   "source": [
    "Some combination of both characteristics in the final hours aboard because base on the computation done above:\n",
    "- for male chivalry, in every class, more women had survivial rate than men.\n",
    "- for class warfare, passengers in the first survived rate is higher than the second and third"
   ]
  },
  {
   "cell_type": "markdown",
   "metadata": {},
   "source": [
    "[Back to top](#top)\n",
    "\n",
    "<br>\n",
    "\n",
    "<a/ id='p5'></a>\n",
    "\n",
    "### (25 pts) Problem 5 - FCQ Data from Days of Yore\n",
    "---\n",
    "\n",
    "The `fcq_data.csv` data set on Canvas contains about 12 full academic years of Faculty Course Questionnaire (FCQ) data from the University of Colorado Boulder. The data include the year and term (fall or spring), the course subject and number, the distribution of grades, and other such information. The file `fcq_data_info.xlsx` contains some **metadata**, which describes what all of the columns in the main data file are, and how to interpret some of the measurements. Note that some of the columns from the original data set have been removed in order to make the file size a bit more manageable.\n",
    "\n",
    "First, load the data file, and check out what are all of the available column headers."
   ]
  },
  {
   "cell_type": "code",
   "execution_count": 18,
   "metadata": {},
   "outputs": [
    {
     "name": "stdout",
     "output_type": "stream",
     "text": [
      "Index(['YearTerm', 'Subject', 'Course', 'CourseTitle', 'Activity_Type',\n",
      "       'Hours', 'N_EOT', 'N_ENROLL', 'N_GRADE', 'AVG_GRD', 'PCT_A', 'PCT_B',\n",
      "       'PCT_C', 'PCT_D', 'PCT_F', 'PCT_C_MINUS_OR_BELOW', 'PCT_DF', 'PCT_DFW',\n",
      "       'PCT_WDRAW', 'PCT_INCOMP', 'N_PASS', 'N_NOCRED', 'N_INCOMP',\n",
      "       'Workload_Raw', 'Workload_Hrs_Wk', 'AvgCourse', 'AvgInstructor',\n",
      "       'N_Ret'],\n",
      "      dtype='object')\n"
     ]
    }
   ],
   "source": [
    "df = pd.read_csv(\"fcq_data.csv\")\n",
    "print(df.columns)"
   ]
  },
  {
   "cell_type": "markdown",
   "metadata": {},
   "source": [
    "**Part A:** Suppose we want to restrict our attention to only undergraduate classes in the Computer Science department. Create a new DataFrame called `dfC` consisting only of undergraduate computer science classes. You may decide for yourself how to obtain only the rows corresponding to **undergraduate** and **computer science** courses. How many data points are there total?"
   ]
  },
  {
   "cell_type": "code",
   "execution_count": 19,
   "metadata": {},
   "outputs": [
    {
     "name": "stdout",
     "output_type": "stream",
     "text": [
      "Total data points in computer science are  617\n"
     ]
    }
   ],
   "source": [
    "dfc = df.loc[(df['Subject'] == 'CSCI') & (df['Course'] < 5000)].copy()\n",
    "print(\"Total data points in computer science are \",dfc['Course'].count())"
   ]
  },
  {
   "cell_type": "markdown",
   "metadata": {},
   "source": [
    "**Part B:** Using the undergraduate computer science courses DataFrame and the `isnull()` and/or `notnull()` (or `isna`/`notna`) methods in Pandas, determine which column(s) in are missing any data. Also using Pandas methods, report how many values are missing from each of those column(s). Finally, use the `dropna()` method to remove any rows that are missing data. For the remainder of this problem, use the cleaned DataFrame for analysis. How many data points are there in the cleaned DataFrame?"
   ]
  },
  {
   "cell_type": "code",
   "execution_count": 20,
   "metadata": {},
   "outputs": [],
   "source": [
    "dfc.isnull().sum()\n",
    "dfc_clean = dfc.dropna(subset=['Workload_Raw', 'Workload_Hrs_Wk', 'AvgCourse', 'AvgInstructor','N_Ret']).copy()"
   ]
  },
  {
   "cell_type": "markdown",
   "metadata": {},
   "source": [
    "Part B:<br>\n",
    "Workload_Raw = 27<br>\n",
    "Workload_Hrs_Wk = 27<br>\n",
    "AvgCourse = 27<br>\n",
    "AvgInstructor 27<br>\n",
    "N_Ret = 23<br>"
   ]
  },
  {
   "cell_type": "markdown",
   "metadata": {},
   "source": [
    "**Part C:** One might hypothesize that students' grades are higher in one credit-hour courses than in regular lecture sections. Note that `Hours` corresponds to the number of credit-hours a class is worth, and that Average Grades are provided in the data set on a GPA-scale (4=A, 3=B, and so on).\n",
    "\n",
    "Compute the mean and median Average Grade for all undergraduate Computer Science courses, and for only the one credit-hour undergraduate Computer Science courses. Report all four of these numbers, and comment on the results. Does your calculation seem to support our hypothesis or not? "
   ]
  },
  {
   "cell_type": "code",
   "execution_count": 21,
   "metadata": {},
   "outputs": [
    {
     "name": "stdout",
     "output_type": "stream",
     "text": [
      "3.2308474576271204\n",
      "3.26\n",
      "Mean Average Grade:  3.532608695652174\n",
      "Median Average Grade:  3.52\n"
     ]
    }
   ],
   "source": [
    "one_credit_hours = dfc_clean[dfc_clean['Hours'] == 1]\n",
    "print(dfc_clean['AVG_GRD'].mean())\n",
    "print(dfc_clean['AVG_GRD'].median())\n",
    "\n",
    "print(\"Mean Average Grade: \", one_credit_hours['AVG_GRD'].mean())\n",
    "print(\"Median Average Grade: \", one_credit_hours['AVG_GRD'].median())"
   ]
  },
  {
   "cell_type": "markdown",
   "metadata": {},
   "source": [
    "Mean Average Grade in one credit-hour:  $3.532608695652174$<br>\n",
    "Median Average Grade one credit-hour:  $3.52$<br>\n",
    "\n",
    "Mean Average Grade for all undergraduate computer science: $3.2308474576271204$ \n",
    " \n",
    "Median Average Grade for all undergraduate computer science: $3.26$\n",
    " \n",
    "\n",
    "Yes, it supports our hypothesis that students' grades are higher in one credit-hour course "
   ]
  },
  {
   "cell_type": "markdown",
   "metadata": {},
   "source": [
    "**Part D:** Another hypothesis one might want to test using this data set is whether or not students' grades are different based on the course *level* - lower-division (1000s and 2000s) versus upper-division (3000s and 4000s). Create side-by-side box-and-whisker plots to compare the average grades of lower-division computer science courses versus upper-division computer science courses.  Use the box-and-whisker plot conventions discussed in lecture, and be sure to include a legend and label your axes.\n",
    "\n",
    "Comment on the results. Does your figure suggest there is a difference in the distribution of average course grades, depending on whether a class is lower- or upper-division? If you noticed a difference between the two distributions, what is one cause that could explain this difference? Fully explain your reasoning."
   ]
  },
  {
   "cell_type": "code",
   "execution_count": 22,
   "metadata": {},
   "outputs": [
    {
     "data": {
      "text/plain": [
       "Text(0.5, 1.0, 'Lower-division versus upper-division')"
      ]
     },
     "execution_count": 22,
     "metadata": {},
     "output_type": "execute_result"
    },
    {
     "data": {
      "image/png": "[encoded data removed]",
      "text/plain": [
       "<Figure size 432x576 with 1 Axes>"
      ]
     },
     "metadata": {
      "needs_background": "light"
     },
     "output_type": "display_data"
    }
   ],
   "source": [
    "lower_divsion = dfc_clean.loc[(dfc_clean['Course']>=1000) & (dfc_clean['Course']<3000)]\n",
    "upper_divsion = dfc_clean.loc[(dfc_clean['Course']>=3000) & (dfc_clean['Course']<5000)]\n",
    "\n",
    "fig, ax = plt.subplots(figsize=(6,8))\n",
    "\n",
    "lower_divsion.boxplot(column=\"AVG_GRD\", positions=[1.2])\n",
    "upper = upper_divsion.boxplot(column=\"AVG_GRD\",positions=[1.5])\n",
    "\n",
    "plt.xticks([1.2,1.5], [\"lower_divsion\", \"upper_divsion\"])\n",
    "ax.set_title('Lower-division versus upper-division')\n",
    "\n",
    "\n",
    "\n",
    "#ax.set_xlim(0,6)"
   ]
  },
  {
   "cell_type": "markdown",
   "metadata": {},
   "source": [
    "By graph, it shows that upper division median of average grade is higher than lower division."
   ]
  },
  {
   "cell_type": "markdown",
   "metadata": {},
   "source": [
    "**Part E:** One more hypothesis we might want to explore is whether or not there has actually been a large increase in Computer Science enrollments in recent years. There are 12 academic years of data, which means there are 24 distinct semesters (from Fall 2006 to Spring 2018). For each semester, compute the total number of students enrolled in Computer Science courses. Note that you will almost certainly be counting some students twice (or more!), but that's okay - this is still a good measure of the total demand for Computer Science classes. Use the total number of students enrolled at the end of the term as the number of students for each class.\n",
    "\n",
    "Make a plot of the total number of Computer Science students versus the semester, with the most recent semester (Spring 2018) on the right and most distant past (Fall 2006) on the left. Label your axes. For the semester axis (the x-axis), label with the actual semester as a character string, like \"Fall 2006\" or \"Spring 2007\", for example. You may want to look up how to rotate the x-tick labels in order to make the semester name labels fit nicely. Comment on the results and any interesting trends or patterns you notice in Computer Science enrollment numbers."
   ]
  },
  {
   "cell_type": "code",
   "execution_count": 23,
   "metadata": {},
   "outputs": [
    {
     "data": {
      "image/png": "[encoded data removed]",
      "text/plain": [
       "<Figure size 720x432 with 1 Axes>"
      ]
     },
     "metadata": {
      "needs_background": "light"
     },
     "output_type": "display_data"
    }
   ],
   "source": [
    "\n",
    "fig, ax = plt.subplots(figsize=(10,6))\n",
    "dfc_clean.groupby(\"YearTerm\")[\"N_EOT\"].sum().plot(y='Enrollment', ax= ax)\n",
    "ax.locator_params(axis='x', nbins=26)\n",
    "\n",
    "new_Data = [\"Fall 2006\", \"Spring 2007\",\"Fall 2007\", \"Spring 2008\",\"Fall 2008\",\n",
    "            \"Spring 2009\",\"Fall 2009\", \"Spring 2010\", \"Fall 2010\",\n",
    "            \"Spring 2011\",\"Fall 2011\", \"Spring 2012\", \"Fall 2012\",\n",
    "            \"Spring 2013\",\"Fall 2013\", \"Spring 2014\", \"Fall 2014\",\n",
    "            \"Spring 2015\",\"Fall 2015\", \"Spring 2016\", \"Fall 2016\",\n",
    "            \"Spring 2017\",\"Fall 2017\", \"Spring 2018\"]\n",
    "\n",
    "# #add a title\n",
    "ax.set_title(\"Student Enrollment per semester\", fontsize=20)\n",
    "\n",
    "# #add axis label\n",
    "ax.set_xlabel(\"Total Student\", fontsize=16)\n",
    "ax.set_ylabel('Enrollment', fontsize=16)\n",
    "ax.set_xticklabels(new_Data, rotation=40)\n",
    "\n",
    "\n",
    "# # Make the grid lines lighter and put them behind data \n",
    "ax.grid(alpha=0.25)\n",
    "ax.set_axisbelow(True)\n",
    "#plt.xticks(rotation=90)\n"
   ]
  },
  {
   "cell_type": "markdown",
   "metadata": {},
   "source": [
    "Base on the graph, student enrollment from 2006 fall went down and up until Fall 2015, it starts to have a big gap than studend enroll alot more than past years."
   ]
  },
  {
   "cell_type": "markdown",
   "metadata": {},
   "source": []
  },
  {
   "cell_type": "markdown",
   "metadata": {},
   "source": [
    "**Part F:** What is one way we could determine whether or not the Computer Science total enrollment is going up more than we should expect?"
   ]
  },
  {
   "cell_type": "markdown",
   "metadata": {},
   "source": [
    "It starts to grow up more in Fall 2014 because technology and easy to find a job."
   ]
  },
  {
   "cell_type": "markdown",
   "metadata": {},
   "source": [
    "**Part G:** Formulate another interesting question you could potentially answer using this data set. You do not need to actually answer it, but just frame the question clearly. What are some of the relevant column(s) in the data set?"
   ]
  },
  {
   "cell_type": "markdown",
   "metadata": {},
   "source": [
    "\"PCT_WDRAW\" columns are relevant in the data set that we can see that when students enrolled in class, they were less likely to withdraw from class by calculate the different between mean of enrollment and withdraw from class."
   ]
  },
  {
   "cell_type": "markdown",
   "metadata": {},
   "source": [
    "[Back to top](#top)"
   ]
  },
  {
   "cell_type": "code",
   "execution_count": null,
   "metadata": {},
   "outputs": [],
   "source": []
  },
  {
   "cell_type": "code",
   "execution_count": null,
   "metadata": {},
   "outputs": [],
   "source": []
  }
 ],
 "metadata": {
  "kernelspec": {
   "display_name": "Python 3",
   "language": "python",
   "name": "python3"
  },
  "language_info": {
   "codemirror_mode": {
    "name": "ipython",
    "version": 3
   },
   "file_extension": ".py",
   "mimetype": "text/x-python",
   "name": "python",
   "nbconvert_exporter": "python",
   "pygments_lexer": "ipython3",
   "version": "3.7.1"
  }
 },
 "nbformat": 4,
 "nbformat_minor": 2
}
