{
 "cells": [
  {
   "cell_type": "markdown",
   "metadata": {},
   "source": [
    "<a id='top'></a>\n",
    "\n",
    "# Homework 2: Introduction to Probability and Simulation \n",
    "***\n",
    "\n",
    "**Name**: Chakrya Ros\n",
    "\n",
    "***\n",
    "\n",
    "This assignment is due on Canvas by **5 PM on Friday February 15**. Your solutions to theoretical questions should be done in Markdown directly below the associated question.  Your solutions to computational questions should include any specified Python code and results as well as written commentary on your conclusions.  Remember that you are encouraged to discuss the problems with your classmates, but **you must write all code and solutions on your own**.\n",
    "\n",
    "**NOTES**: \n",
    "\n",
    "- Any relevant data sets should be available under the **Data** module on Canvas, as well as in the zipped folder in which you obtained this assignment. To make life easier on the graders if they need to run your code, do not change the relative path names here. Instead, move the files around on your computer.\n",
    "- If you're not familiar with typesetting math directly into Markdown then by all means, do your work on paper first and then typeset it later.  Remember that there is a [reference guide](https://math.meta.stackexchange.com/questions/5020/mathjax-basic-tutorial-and-quick-reference) linked on Canvas on writing math in Markdown. **All** of your written commentary, justifications and mathematical work should be in Markdown.\n",
    "- Because you can technically evaluate notebook cells in a non-linear order, it's a good idea to do Kernel $\\rightarrow$ Restart & Run All as a check before submitting your solutions.  That way if we need to run your code you will know that it will work as expected. \n",
    "- It is **bad form** to make your reader interpret numerical output from your code.  If a question asks you to compute some value from the data you should show your code output **AND** write a summary of the results in Markdown directly below your code. \n",
    "- This probably goes without saying, but... For any question that asks you to calculate something, you **must show all work and justify your answers to receive credit**. Sparse or nonexistent work will receive sparse or nonexistent credit. \n",
    "\n",
    "---\n",
    "**Shortcuts:**  [Problem 1](#p1) | [Problem 2](#p2) | [Problem 3](#p3) | [Problem 4](#p4)\n",
    "\n",
    "---"
   ]
  },
  {
   "cell_type": "code",
   "execution_count": 1,
   "metadata": {
    "scrolled": true
   },
   "outputs": [],
   "source": [
    "import pandas as pd\n",
    "import numpy as np\n",
    "import matplotlib.pylab as plt\n",
    "import matplotlib.patches as mpatches\n",
    "%matplotlib inline"
   ]
  },
  {
   "cell_type": "markdown",
   "metadata": {},
   "source": [
    "***\n",
    "<a/ id='p1'></a>\n",
    "[Back to top](#top)\n",
    "\n",
    "### [30 points] Problem 1\n",
    "\n",
    "Courtney, Nick and Jarrod are playing special version of <a href=\"https://en.wikipedia.org/wiki/Monopoly_(game)\">Monopoly</a>. Because the three of them are all scoundrels, they are all currently in Jail. In Monopoly, players roll two 6-sided dice on their turn. In their version of Monopoly, however, to get out of Jail, a player must roll *doubles* (the two dice have the same outcome) and must keep re-rolling the dice until they get doubles during their first turn in Jail. As soon as a player rolls doubles, they are let out of Jail and their turn ends. Let $D$ represent the event that a player rolls doubles.\n",
    "\n",
    "Work the following problems by hand unless otherwise stated (but don't be afraid to simulate to check your result!). It is okay to use Python as a calculator, of course."
   ]
  },
  {
   "cell_type": "markdown",
   "metadata": {},
   "source": [
    "**Part A**: What is the probability that a player will roll doubles on their first, second, or third roll while in jail? Note that if a player rolls doubles on their third roll, for example, then they must *not* have rolled doubles on either of the first two rolls. Keep 4 decimal places in your answer."
   ]
  },
  {
   "cell_type": "markdown",
   "metadata": {},
   "source": [
    "**Part** A solution:\n",
    "\n",
    "Probability that we roll double on first roll $ P(D_1 | F)= \\frac{1}{6}$\n",
    "\n",
    "Probability that we roll double on second roll $P(D_2 | F)= \\frac{1}{6}\\cdot \\frac{5}{6} = \\frac{5}{36}$\n",
    "\n",
    "Probability that we roll double on third roll $P(D_3 | F)= \\frac{5}{6}\\cdot \\frac{5}{6} \\cdot \\frac{1}{6} = \\frac{25}{216}$\n",
    "\n",
    "$P(D | F) = \\frac{1}{6}+\\frac{5}{36}+\\frac{25}{216} = \\frac{91}{216} = \\fbox{0.4213}$"
   ]
  },
  {
   "cell_type": "code",
   "execution_count": 2,
   "metadata": {},
   "outputs": [
    {
     "name": "stdout",
     "output_type": "stream",
     "text": [
      "The probability that they are roll doubles 0.4213\n"
     ]
    }
   ],
   "source": [
    "first_roll = (1/6)\n",
    "second_roll = (1/6)*(5/6)\n",
    "third_roll = (1/6)*(5/6)*(5/6)\n",
    "prob_player_roll_double= first_roll+second_roll+third_roll\n",
    "print(\"The probability that they are roll doubles {:.4f}\".format(prob_player_roll_double))"
   ]
  },
  {
   "cell_type": "markdown",
   "metadata": {},
   "source": [
    "**Part B:** *The plot thickens!* Darth Ketelsen is well-known to meddle in Jedi affairs. Did I mention that Courtney, Nick and Jarrod are all in Computer Science Jedi training? That's not important for this problem, but it is interesting. \n",
    "\n",
    "Turns out, Darth Ketelsen will occasionally secretly swap out the dice in the Jedi's Monopoly game for a pair of dice that have been weighted. Each of Darth Ketelsen's two dice is weighted such that a 6 is rolled with probability $1/2$, and all the other numbers are equally likely to be rolled. If Darth Ketelsen switches the dice for her weighted ones, she does so before the game begins, and the entire game of Monopoly is played with the same pair of dice, whether they are fair or weighted.\n",
    "\n",
    "What is the probability of rolling doubles on the first, second or third roll while in jail, using Darth Ketelsen's weighted dice? Again, keep 4 decimal places in your answer."
   ]
  },
  {
   "cell_type": "markdown",
   "metadata": {},
   "source": [
    "**Part** B solution:\n",
    "\n",
    "$p(6) = \\frac{1}{2}$\n",
    "\n",
    "$p(1) + p(2) + P(3) + p(4) + p(5) = \\frac{1}{2} => p(1)=p(2)=p(3)=p(4)=p(5) = \\frac{1}{10}$\n",
    "\n",
    "$p(6, 6) = \\frac{1}{2} * \\frac{1}{2} = \\frac{1}{4}$\n",
    "\n",
    "$p(D) = 5 * (\\frac{1}{10})^2 + \\frac{1}{4} = \\frac{3}{10}$\n",
    "\n",
    "$p(D^c) = 1 - \\frac{3}{10} = \\frac{7}{10}$\n",
    "\n",
    "Probability that we roll unfair dice double on first roll $ P(D_1 | U)= \\frac{3}{10} = 0.3$\n",
    "\n",
    "Probability that we roll unfair dice double on second roll $P(D_2 | U)= \\frac{3}{10}*\\frac{7}{10} = \\frac{21}{100} = 0.21$\n",
    "\n",
    "Probability that we roll unfair dice double on third roll $P(D_3 | U)= \\frac{3}{10}*\\frac{7}{10}*\\frac{7}{10} = 0.147$\n",
    "\n",
    "$P(D | U) = (0.3) + (0.21) + (0.147) = \\fbox{0.6570} $"
   ]
  },
  {
   "cell_type": "code",
   "execution_count": 3,
   "metadata": {},
   "outputs": [
    {
     "name": "stdout",
     "output_type": "stream",
     "text": [
      "The probability that they are roll doubles with weight 0.6570\n"
     ]
    }
   ],
   "source": [
    "first_roll_unfair = (3/10)\n",
    "second_roll_unfair = (3/10)*(7/10)\n",
    "third_roll_unfair = (3/10)*(7/10)*(7/10)\n",
    "prob_player_roll_double_unfair= first_roll_unfair+second_roll_unfair+third_roll_unfair\n",
    "print(\"The probability that they are roll doubles with weight {:.4f}\".format(prob_player_roll_double_unfair))"
   ]
  },
  {
   "cell_type": "markdown",
   "metadata": {},
   "source": [
    "**Part C:** Suppose that before any given game of Monopoly, Darth Ketelsen replaces the normal six-sided dice with her loaded dice with probability $0.25$. Then the players proceed to play their entire game using either the loaded dice, or the fair dice.  It is unknown to the player who is rolling, however, whether they are using the unfair or fair dice. What is the probability that a player gets doubles within three rolls? Keep 4 decimal places in your answer."
   ]
  },
  {
   "cell_type": "markdown",
   "metadata": {},
   "source": [
    "**Part** C solution:\n",
    "\n",
    "$P(D) = P(D | U)P(U) + P(D | F) P(F)$\n",
    "\n",
    "$P(D) = (0.657)*(0.25) + (0.4213)*(0.75) = \\fbox{0.4802}$ "
   ]
  },
  {
   "cell_type": "code",
   "execution_count": 4,
   "metadata": {},
   "outputs": [
    {
     "name": "stdout",
     "output_type": "stream",
     "text": [
      "The probability that they are roll doubles with three rolls 0.4802\n"
     ]
    }
   ],
   "source": [
    "prob_double_three_roll = ((0.657)*(0.25)) + ((0.4213)*(0.75))\n",
    "print(\"The probability that they are roll doubles with three rolls {:.4f}\".format(prob_double_three_roll))"
   ]
  },
  {
   "cell_type": "markdown",
   "metadata": {},
   "source": [
    "**Part D:** While it is unknown whether they are playing with Darth Ketelsen's unfair dice, or with fair dice, Courtney, Jarrod and Nick are armed and dangerous... with *probability theory*, that is! Well, probability theory and lightsabers.\n",
    "\n",
    "Suppose that starting from jail, all three of Courtney, Jarrod and Nick have taken one turn, and all three of them have managed to roll doubles within 3 rolls. If you were not given this information, you would assume that there is a probability of $0.25$ that they are playing with Darth Ketelsen's unfair dice. But now, given this information, what is the probability that they are playing with the unfair dice?"
   ]
  },
  {
   "cell_type": "markdown",
   "metadata": {},
   "source": [
    "**Part** D solution:\n",
    "\n",
    "Let U be the event given unfair dice, D be the event that we roll in a row that are double\n",
    "\n",
    "$$P(U|D) = \\frac{P(D|U) P(U)}{P(D)}=\\frac{P(D|U) P(U)}{P(D|U) P(U) + P(D|F) P(F)} $$\n",
    "\n",
    "The probability that they roll doubles within 3 rolls\n",
    "\n",
    "$$P(U|D) = \\frac{(0.657)^3 (0.25)}{(0.657)^3 (0.25) + (0.4213)^3 (0.75)} = \\fbox{0.5583}$$"
   ]
  },
  {
   "cell_type": "markdown",
   "metadata": {},
   "source": [
    "**Part E**:  First, work out **by hand** a formula for the probability in general that Courtney, Jarrod and Nick are playing with Darth Ketelsen's unfair dice, given that $n$ players in a row have gotten out of jail by rolling doubles within 3 rounds. That is, you want to find a formula for $P(U \\mid D_n)$ in terms of $n$.\n",
    "\n",
    "Then, define a function `prob_unfair` to calculate $P(U \\mid D_n)$.  This function should only take one positive integer argument, $n$.\n",
    "\n",
    "Verify that your function is performing as expected by checking your answer to **Part D** by plugging in $n=3$."
   ]
  },
  {
   "cell_type": "markdown",
   "metadata": {},
   "source": [
    "\n"
   ]
  },
  {
   "cell_type": "markdown",
   "metadata": {},
   "source": [
    "**Part** E solution:\n",
    "\n",
    "Let D𝑛 be the event that we roll 𝑛 values in a row that are are doubles.\n",
    "\n",
    "$$P(U|D_n) = \\frac{P(D_n|U)^n P(U)}{P(D_n)}$$\n",
    "Use the Law of Total Probability on the denominator to get\n",
    "\n",
    "$$P(U|D_n)=\\frac{P(D_n|U)^n P(U)}{P(D_n|U)^n P(U) + P(D_n|F)^n P(F)}$$\n"
   ]
  },
  {
   "cell_type": "code",
   "execution_count": 5,
   "metadata": {},
   "outputs": [
    {
     "name": "stdout",
     "output_type": "stream",
     "text": [
      "The probability that they are playing with the unfair dice 0.5583\n"
     ]
    }
   ],
   "source": [
    "#Part A solution code:\n",
    "def prob_unfair(n):\n",
    "    play_unfair = 0.657  #play with load dice\n",
    "    play_fair = 0.4213  #play with fair dice\n",
    "    prob_play_unfair = (pow(play_unfair, n))*(0.25) / ((pow(play_unfair, n))*(0.25) + (pow(play_fair, n))*(0.75))\n",
    "    return prob_play_unfair\n",
    "\n",
    "print(\"The probability that they are playing with the unfair dice {:.4f}\".format(prob_unfair(3)))"
   ]
  },
  {
   "cell_type": "markdown",
   "metadata": {},
   "source": [
    "**Part F:**  What is the smallest value of $n$ players in a row rolling doubles within 3 rounds that would lead to a higher-than-90% probability that the dice are unfair?  Plugging larger and larger values for $n$ into your `prob_unfair` function is a very reasonable way to check this."
   ]
  },
  {
   "cell_type": "markdown",
   "metadata": {},
   "source": [
    "**Part** F solution:\n",
    "\n",
    "$n = 8$ is the largest values of n players in a row rolling doubles within 3 rounds that lead to at least 90% probability."
   ]
  },
  {
   "cell_type": "code",
   "execution_count": 6,
   "metadata": {},
   "outputs": [
    {
     "name": "stdout",
     "output_type": "stream",
     "text": [
      "1  0.3420271747618304\n",
      "2  0.4477082640934537\n",
      "3  0.558334209737698\n",
      "4  0.6634581147221496\n",
      "5  0.7545599405695751\n",
      "6  0.8274156131968461\n",
      "7  0.8820262481740127\n",
      "8  0.9210062805862451\n"
     ]
    }
   ],
   "source": [
    "for n in range(1,9):\n",
    "    print(n,\"\",prob_unfair(n))\n"
   ]
  },
  {
   "cell_type": "markdown",
   "metadata": {},
   "source": [
    "**Part G:** Jarrod, Courtney and Nick are becoming suspicious that the dice they are playing with are unfair. They decide to keep track of how frequently each player rolls doubles. They will roll the dice `n_trials` number of times, and make a plot of their running estimate of the probability of rolling doubles, from the moment they start rolling until they finally finish all `n_trials` rolls. So, the x-axis of their plot will be the number of rolls, and the y-axis will be the running estimate of the probability of rolling doubles with the given dice, with the number of trials given by the x-axis.\n",
    "\n",
    "Write code to run 4 independent simulations of 1,000 trials each to estimate the probability of rolling doubles using the fair dice, and another 4 independent simulations to estimate the probability of rolling doubles using Darth Ketelsen's loaded dice, and plot their running estimate curves on the same set of axes. \n",
    "\n",
    "In order to more easily distinguish between the loaded dice estimates and the fair dice estimates, plot the loaded dice estimates as lines using the color `tomato` and plot the fair dice estimates using the color `seagreen`. Be sure to label your axes and include a legend.\n",
    "\n",
    "Finally, comment on how many flips appear to be necessary before Jarrod, Courtney and Nick might become convinced of what type of dice they are playing with (fair or unfair). Justify your answer fully using your figure."
   ]
  },
  {
   "cell_type": "code",
   "execution_count": 7,
   "metadata": {},
   "outputs": [
    {
     "data": {
      "image/png": "[encoded data removed]",
      "text/plain": [
       "<Figure size 864x432 with 1 Axes>"
      ]
     },
     "metadata": {
      "needs_background": "light"
     },
     "output_type": "display_data"
    }
   ],
   "source": [
    "n_trials = 1000\n",
    "p = np.zeros(n_trials)\n",
    "for ii in range(n_trials):\n",
    "    p[ii] = prob_unfair(ii+1)\n",
    "\n",
    "fig, ax = plt.subplots(figsize=(12,6))\n",
    "ax.plot(p, color=\"steelblue\")\n",
    "ax.set_title(\"Running Estimate of Probability of rolling doubles using unfair dice\", fontsize=20)\n",
    "ax.set_xlabel(\"Number of rolll\", fontsize=16)\n",
    "ax.set_ylabel(\"Estimate of Probability\", fontsize=16)\n",
    "\n",
    "ax.grid(True, alpha=0.25)"
   ]
  },
  {
   "cell_type": "code",
   "execution_count": 8,
   "metadata": {},
   "outputs": [],
   "source": [
    "#die = np.array([1,2,3,4,5,6])\n",
    "def rolling_dice(n_trials=1000):\n",
    "    roll1 = np.random.choice(range(1,7), size=n_trials)\n",
    "    roll2 = np.random.choice(range(1,7), size=n_trials)\n",
    "    doubles = roll1 == roll2\n",
    "    print(roll1)\n",
    "    prob_roll = doubles.cumsum() / np.arange(1, n_trials+1)\n",
    "    return prob_roll\n",
    "#rolling_dice(1000)"
   ]
  },
  {
   "cell_type": "code",
   "execution_count": 9,
   "metadata": {},
   "outputs": [],
   "source": [
    "def rolling_unfair(n_trials=1000):\n",
    "    roll1 = np.random.choice([1,2,3,4,5,6], p=[0.1,0.1,0.1,0.1,0.1,0.5], size=n_trials)\n",
    "    roll2 = np.random.choice([1,2,3,4,5,6], p=[0.1,0.1,0.1,0.1,0.1,0.5], size=n_trials)\n",
    "    doubles = roll1 == roll2\n",
    "    prob_roll_unfair = doubles.cumsum() / np.arange(1, n_trials+1)\n",
    "    return prob_roll_unfair\n",
    "#rolling_unfair(1000)"
   ]
  },
  {
   "cell_type": "code",
   "execution_count": null,
   "metadata": {},
   "outputs": [],
   "source": []
  },
  {
   "cell_type": "code",
   "execution_count": 10,
   "metadata": {},
   "outputs": [
    {
     "name": "stdout",
     "output_type": "stream",
     "text": [
      "[4 1 1 3 2 2 6 2 4 1 1 5 1 4 4 1 5 3 2 5 4 2 5 2 4 5 1 4 5 1 4 2 6 2 2 3 1\n",
      " 3 5 2 2 4 1 3 2 6 3 2 1 3 6 4 4 3 4 2 2 3 2 4 3 2 5 2 3 2 5 5 1 3 6 5 1 5\n",
      " 4 2 2 1 4 4 5 1 3 1 1 1 4 6 6 4 2 4 4 3 5 1 3 5 2 6 4 6 2 6 5 1 3 6 6 6 4\n",
      " 1 3 1 1 2 2 6 6 6 1 4 3 5 1 4 2 3 5 6 6 2 3 2 6 1 4 4 3 1 4 1 1 1 5 5 4 1\n",
      " 4 4 5 3 3 5 6 3 1 2 3 4 6 4 6 3 4 4 2 5 3 6 2 2 4 5 5 1 6 5 4 2 3 3 4 5 4\n",
      " 6 5 6 1 2 2 1 1 2 6 2 4 6 3 3 4 5 5 3 6 5 5 4 6 2 6 4 5 5 3 5 5 2 6 1 2 5\n",
      " 6 3 2 5 5 4 5 4 4 5 5 3 4 1 6 6 6 3 3 6 1 2 1 3 2 5 3 1 5 5 1 4 4 3 2 2 4\n",
      " 5 3 2 5 5 1 2 5 5 1 3 5 5 4 5 5 4 3 6 4 5 6 6 4 3 1 2 2 1 1 1 3 6 4 2 2 1\n",
      " 2 5 4 5 5 1 1 2 6 4 4 6 5 2 4 4 4 3 4 5 1 1 6 1 6 4 3 5 3 6 5 1 4 3 6 4 5\n",
      " 5 5 1 1 3 6 1 3 2 5 3 4 4 2 2 4 6 5 4 3 3 5 6 6 3 3 4 4 3 1 4 3 3 5 4 5 4\n",
      " 1 3 2 6 1 4 1 4 5 4 1 4 2 4 4 5 6 3 1 6 5 2 6 6 5 5 5 1 3 4 6 2 5 5 5 5 1\n",
      " 5 6 5 5 3 5 4 4 5 5 1 3 1 3 4 6 2 2 1 1 2 6 1 1 4 5 1 1 4 1 1 5 6 5 1 5 4\n",
      " 4 2 3 6 6 3 4 4 3 6 3 6 6 6 1 2 5 1 1 2 6 4 4 4 2 1 1 4 4 6 3 5 4 3 2 3 5\n",
      " 1 2 3 4 3 6 6 5 1 1 6 4 2 3 2 2 2 6 6 2 6 1 5 4 2 2 5 2 2 6 6 4 6 6 6 4 2\n",
      " 6 1 3 1 1 1 4 2 2 4 4 3 6 6 5 3 3 4 5 4 6 6 3 2 6 3 2 5 6 3 6 6 1 5 3 4 3\n",
      " 1 1 4 2 2 2 2 6 2 5 3 4 3 2 5 5 1 3 6 6 5 2 1 2 1 3 2 4 2 1 1 2 6 4 1 6 2\n",
      " 6 1 4 5 2 1 2 6 6 1 5 2 3 1 1 5 5 6 1 1 3 5 1 4 1 1 3 2 2 3 6 5 5 5 1 3 4\n",
      " 6 5 3 6 3 2 1 5 4 5 1 6 3 1 6 6 5 6 2 5 2 2 5 5 6 1 5 5 5 5 4 6 1 3 5 3 1\n",
      " 1 4 6 5 5 4 6 5 4 3 6 1 2 1 4 1 1 2 3 2 4 5 5 6 3 6 1 5 1 2 3 3 4 1 1 2 6\n",
      " 1 5 3 4 3 2 5 2 5 3 4 1 6 6 1 1 4 4 5 2 6 3 5 5 3 4 4 2 2 5 2 4 5 1 6 6 3\n",
      " 5 1 3 3 1 2 4 3 6 2 2 2 1 6 3 4 3 6 4 4 1 1 2 1 5 3 1 2 4 4 1 2 6 1 5 2 3\n",
      " 2 2 4 6 4 6 4 5 4 1 6 6 1 4 1 1 2 3 1 2 4 6 1 6 4 4 2 4 6 4 3 4 6 4 1 2 1\n",
      " 5 5 4 6 5 6 6 6 4 2 4 2 5 5 5 4 6 2 5 3 6 5 3 5 4 1 2 3 6 5 1 4 4 6 3 4 3\n",
      " 1 4 3 2 6 4 2 4 2 4 5 6 1 6 1 6 3 2 6 3 6 6 2 1 3 4 3 1 3 2 3 1 4 3 2 2 6\n",
      " 2 2 6 6 3 2 6 5 6 6 3 4 6 4 1 1 1 6 1 3 2 4 1 3 5 6 3 3 6 1 5 4 1 2 1 4 1\n",
      " 6 2 3 2 6 3 4 4 2 1 2 4 4 1 2 3 1 6 1 1 3 2 2 3 6 2 3 6 4 2 4 2 4 1 3 6 3\n",
      " 2 6 1 6 2 1 6 4 5 3 4 1 5 6 6 3 5 2 4 5 3 4 2 4 3 1 2 6 5 5 2 3 1 5 4 5 3\n",
      " 6]\n",
      "[3 3 6 1 5 1 5 3 6 1 2 6 5 5 2 5 2 6 3 1 1 5 4 6 4 4 6 4 6 3 2 3 2 2 1 2 1\n",
      " 5 4 1 4 4 2 4 6 3 2 3 3 4 4 4 5 2 1 6 4 4 6 2 3 2 2 2 6 6 6 5 6 1 5 4 5 4\n",
      " 1 5 5 3 1 1 3 1 1 3 6 1 5 3 4 5 1 5 6 6 4 5 3 5 2 2 5 2 3 6 5 2 6 2 3 3 6\n",
      " 2 1 5 3 1 6 2 4 6 1 5 1 6 5 4 5 2 2 3 5 3 4 1 2 4 4 5 5 5 5 4 1 6 3 3 5 4\n",
      " 5 2 2 1 3 1 4 3 1 5 6 1 4 6 3 6 4 1 3 4 2 4 2 1 2 5 3 1 4 2 1 4 1 4 4 2 3\n",
      " 3 2 6 5 1 2 6 2 1 1 4 1 3 5 5 5 1 1 3 3 6 1 1 2 1 4 4 5 2 3 4 6 1 2 4 3 6\n",
      " 3 3 6 1 3 5 6 6 1 5 4 1 6 5 1 1 3 3 2 2 6 3 1 3 5 5 6 5 3 1 1 5 2 1 5 1 2\n",
      " 3 1 1 1 5 5 1 1 5 2 5 5 4 2 3 3 5 1 5 1 4 1 3 1 3 6 5 1 5 6 2 2 3 1 1 5 4\n",
      " 6 6 2 2 5 2 1 4 6 2 2 2 3 1 5 3 4 1 3 5 6 1 2 3 1 1 1 1 2 1 2 5 4 1 4 2 3\n",
      " 2 6 5 4 1 1 1 5 6 4 6 2 1 5 1 4 2 3 4 5 1 1 6 1 5 4 5 6 4 6 6 5 6 6 6 2 1\n",
      " 5 4 3 5 1 4 3 2 5 3 1 6 4 5 4 2 6 3 5 1 4 3 4 5 3 4 1 4 1 6 1 3 2 4 1 4 3\n",
      " 1 1 1 2 3 4 2 2 5 6 4 1 4 1 1 2 5 5 4 3 6 5 2 5 5 2 1 2 6 2 2 4 4 6 2 1 6\n",
      " 6 4 5 3 5 1 1 6 4 3 1 6 4 2 3 1 3 5 1 2 6 5 4 1 4 6 1 1 4 6 4 4 1 5 2 1 2\n",
      " 6 1 2 5 1 1 1 2 1 6 1 2 5 6 5 1 2 3 6 5 3 4 1 1 1 3 5 3 4 3 1 3 1 5 3 6 3\n",
      " 3 6 1 1 4 3 3 1 2 6 2 1 2 2 6 4 1 3 4 4 1 1 1 4 4 3 4 6 4 3 2 6 1 1 1 4 1\n",
      " 1 1 3 1 6 6 6 6 4 4 5 3 3 3 6 5 6 6 2 5 3 1 3 6 5 4 1 5 6 4 5 3 5 6 3 6 5\n",
      " 3 3 4 4 4 4 6 3 3 5 3 6 1 1 3 6 4 2 5 5 1 2 1 1 4 4 1 6 3 3 4 2 1 4 4 1 5\n",
      " 6 1 3 3 5 1 3 4 5 3 4 4 4 1 6 6 6 3 1 6 3 4 3 1 1 6 6 3 1 6 2 4 1 4 2 6 4\n",
      " 1 5 1 1 2 6 1 2 5 3 2 2 6 5 3 4 1 3 4 2 6 2 6 3 1 5 2 1 4 4 3 6 3 1 2 4 5\n",
      " 2 2 1 6 5 6 5 5 3 4 4 4 6 2 5 6 4 6 5 5 4 2 5 3 1 3 6 5 5 6 3 6 6 4 6 5 4\n",
      " 2 6 5 2 2 5 6 5 5 3 6 1 6 3 3 5 1 6 5 6 4 6 6 2 1 6 6 5 5 1 5 1 4 6 2 6 5\n",
      " 2 6 3 4 6 3 2 4 6 5 2 2 3 2 1 3 5 1 4 1 2 6 2 5 3 3 6 4 5 1 1 1 6 5 6 3 4\n",
      " 4 1 3 4 5 6 3 4 2 6 3 2 5 4 2 5 2 3 3 6 6 5 5 1 4 3 6 1 3 1 3 1 2 5 1 4 1\n",
      " 4 4 1 5 4 3 4 3 1 1 5 2 2 6 3 2 6 1 4 5 6 2 4 3 4 6 3 3 5 3 1 2 3 2 2 5 6\n",
      " 3 3 5 3 5 5 5 2 1 5 5 2 6 1 6 5 5 3 5 2 2 4 5 1 4 4 6 5 4 5 5 3 2 6 1 1 2\n",
      " 5 2 3 4 1 4 2 4 5 6 4 5 5 1 1 6 6 1 4 1 4 2 1 4 6 1 2 3 1 2 3 3 2 6 6 2 1\n",
      " 3 2 6 4 5 3 1 5 3 6 6 6 6 4 5 6 3 2 4 1 2 6 3 6 2 4 5 4 1 1 4 2 6 6 4 5 2\n",
      " 1]\n",
      "[6 1 3 1 3 3 2 4 2 4 6 4 4 2 6 2 1 5 3 3 5 6 6 6 3 6 6 5 2 1 4 3 3 3 1 3 3\n",
      " 1 5 1 2 6 3 2 1 2 2 4 4 6 6 1 4 3 6 3 4 4 4 5 6 4 5 2 5 1 6 2 3 2 6 4 4 6\n",
      " 5 6 4 1 5 1 1 4 5 4 6 4 3 4 1 2 6 2 5 1 1 4 2 3 3 3 1 6 2 2 5 6 4 3 1 6 4\n",
      " 4 6 5 2 4 2 5 3 3 1 6 5 3 2 5 3 2 1 6 1 2 4 5 3 4 4 4 3 5 4 5 3 1 6 6 6 4\n",
      " 5 6 3 4 4 5 2 6 3 2 2 3 1 5 1 5 1 3 4 4 3 6 4 1 3 4 1 2 4 4 2 1 1 6 6 1 4\n",
      " 2 2 6 1 1 6 1 3 5 2 3 5 2 3 1 3 3 2 3 6 5 6 4 2 3 1 2 5 4 1 1 6 6 4 4 1 1\n",
      " 6 5 5 6 3 4 4 1 2 4 1 4 2 3 1 3 2 1 5 3 2 5 6 1 3 4 1 5 5 1 6 1 6 1 6 6 4\n",
      " 4 2 4 4 3 1 2 1 1 3 2 3 6 2 4 3 4 3 5 4 5 1 2 4 5 2 4 4 4 4 4 2 6 6 4 4 1\n",
      " 1 3 2 1 6 6 2 4 2 2 6 4 6 4 6 1 1 1 4 2 3 3 4 5 2 1 1 1 4 4 3 6 4 5 2 5 4\n",
      " 4 6 3 5 4 6 4 4 1 2 4 4 1 4 2 4 5 5 1 1 6 5 4 2 2 1 2 2 2 2 1 4 5 6 2 5 1\n",
      " 5 3 1 5 6 6 4 1 3 6 5 3 5 1 1 6 2 5 3 3 2 5 5 1 6 2 5 3 2 4 3 4 6 3 1 4 1\n",
      " 5 4 4 3 5 6 2 1 1 2 4 2 3 6 1 6 3 3 5 2 2 1 3 3 3 1 1 5 1 4 4 5 4 2 1 1 6\n",
      " 3 5 4 1 4 2 2 1 4 3 4 2 2 6 5 2 3 3 5 1 1 6 6 5 6 1 3 2 4 3 5 4 5 2 4 6 4\n",
      " 1 5 5 4 4 5 2 3 6 1 6 2 6 4 6 4 1 6 5 6 6 3 5 5 1 5 2 6 2 6 4 3 6 5 1 3 4\n",
      " 3 3 2 6 6 6 3 2 1 4 2 3 1 4 6 3 5 3 4 2 4 2 6 5 5 4 5 5 2 2 3 3 3 6 1 3 3\n",
      " 5 6 1 5 3 1 5 6 5 5 4 4 3 2 1 3 5 4 5 2 2 1 3 5 5 3 2 5 4 4 6 5 3 4 4 4 5\n",
      " 4 5 2 3 5 5 2 2 4 2 2 1 3 5 2 5 2 4 5 5 4 1 2 2 5 1 3 5 5 1 6 2 6 3 4 2 1\n",
      " 6 2 4 2 3 3 3 1 2 3 5 1 4 2 2 2 1 5 5 2 2 1 3 2 5 5 3 6 3 4 5 2 1 4 3 3 4\n",
      " 1 2 3 3 1 4 6 3 4 1 1 4 3 1 3 6 6 2 6 1 4 4 4 1 1 3 5 4 2 2 6 1 4 6 1 4 2\n",
      " 3 4 4 6 4 3 1 2 1 5 2 6 1 1 5 5 6 6 2 3 3 1 6 6 5 1 1 2 2 3 4 3 6 5 1 5 6\n",
      " 1 3 2 5 4 3 4 3 6 1 4 4 6 6 2 1 1 5 5 5 1 2 1 3 1 2 1 6 2 1 4 6 6 3 2 6 3\n",
      " 5 6 5 1 1 3 2 4 4 6 5 3 6 6 1 3 5 4 6 1 4 2 1 6 2 1 5 2 1 3 3 3 6 5 2 1 1\n",
      " 6 3 2 3 2 6 3 1 4 4 2 1 6 3 3 4 3 2 5 3 2 3 5 4 5 4 2 1 5 6 2 2 6 5 5 6 6\n",
      " 5 6 4 5 5 2 3 5 5 1 1 5 4 3 4 4 3 4 2 6 6 1 4 1 6 1 2 4 4 4 4 6 2 4 5 1 3\n",
      " 6 1 5 4 4 6 1 4 2 3 5 6 1 6 3 6 2 5 2 2 3 1 6 6 3 4 6 2 4 4 3 5 3 5 6 5 5\n",
      " 4 1 3 2 2 3 2 1 5 3 4 1 2 4 1 2 4 4 3 1 4 3 1 6 4 6 6 3 5 6 5 1 3 1 4 1 5\n",
      " 6 4 6 3 2 1 5 5 3 5 3 6 6 6 6 2 3 2 6 1 2 1 1 6 1 4 4 3 3 2 3 6 1 4 2 6 2\n",
      " 2]\n",
      "[6 2 5 5 2 1 1 6 1 2 5 1 1 1 1 4 2 1 2 2 3 5 5 6 1 3 5 1 4 3 5 4 4 1 5 4 4\n",
      " 2 6 5 2 5 2 4 5 6 4 2 2 4 3 3 6 5 6 4 5 1 3 5 6 2 4 6 4 5 3 3 4 3 4 2 1 2\n",
      " 6 1 5 4 3 6 5 1 2 4 5 3 4 2 2 6 4 6 2 1 4 3 3 1 5 2 4 5 4 3 6 2 6 6 5 4 1\n",
      " 4 5 5 3 2 1 6 1 5 6 2 1 3 3 4 2 1 4 5 5 3 5 4 6 3 1 1 4 2 4 1 6 2 3 5 3 6\n",
      " 3 1 3 4 3 4 6 5 3 2 3 6 5 5 4 3 1 6 1 3 6 6 6 3 3 5 2 5 6 6 4 3 6 4 4 6 4\n",
      " 2 2 3 3 2 5 5 5 3 6 5 3 3 6 6 6 4 6 3 1 4 5 2 2 5 1 1 6 1 6 4 6 6 6 4 2 1\n",
      " 1 2 4 3 6 4 1 4 4 2 1 2 6 5 4 3 5 3 1 1 5 3 3 4 1 3 6 6 6 6 2 5 5 1 2 3 3\n",
      " 5 3 6 6 5 2 6 4 2 5 1 5 3 3 3 1 6 2 5 4 3 3 1 3 3 3 1 4 3 1 4 3 2 2 3 4 6\n",
      " 5 4 6 1 3 1 6 6 2 6 4 3 2 1 5 1 1 4 4 3 5 2 1 5 3 5 6 4 5 5 4 6 3 6 4 5 1\n",
      " 3 2 4 1 3 3 6 3 3 3 4 6 2 2 6 3 3 2 4 4 1 2 1 6 1 6 6 3 5 1 6 2 6 3 2 4 1\n",
      " 6 1 2 6 1 2 6 2 4 1 1 3 6 5 6 2 3 1 4 5 3 5 1 2 5 3 5 6 1 2 6 3 2 6 4 5 5\n",
      " 6 5 2 5 3 4 6 1 3 1 5 2 5 6 4 6 3 5 4 3 2 1 1 4 2 3 3 1 3 1 5 3 3 6 4 3 1\n",
      " 6 1 3 3 5 3 5 6 2 3 4 6 4 5 4 6 6 4 6 5 4 6 4 6 5 5 5 5 2 1 1 3 5 3 4 6 1\n",
      " 3 4 5 1 6 2 2 2 4 4 4 1 3 6 5 2 4 2 6 6 2 4 4 1 1 2 1 5 6 5 3 1 5 2 5 4 2\n",
      " 6 3 1 3 2 4 4 5 6 1 6 3 1 6 5 4 4 2 2 6 4 1 3 5 2 5 3 2 5 4 6 2 2 3 6 5 2\n",
      " 3 6 2 3 2 4 1 6 1 6 3 3 5 3 5 5 3 4 2 3 6 2 2 5 5 1 1 6 2 1 5 6 1 4 5 3 6\n",
      " 5 6 6 2 3 4 2 3 3 3 4 1 5 5 3 1 5 6 6 2 6 1 3 2 5 4 1 4 4 4 1 4 5 2 2 5 6\n",
      " 4 1 1 1 6 1 6 6 6 3 5 2 3 2 2 2 4 4 2 2 5 3 2 5 5 6 2 3 6 2 5 1 5 5 2 6 2\n",
      " 1 6 2 3 5 1 1 4 4 3 3 1 2 5 6 3 2 2 5 1 2 2 3 6 2 2 1 1 1 3 6 5 4 3 6 3 4\n",
      " 5 4 6 1 3 6 3 4 5 6 6 4 4 1 1 3 1 4 6 6 4 1 1 2 3 1 6 4 1 5 5 6 3 3 3 3 5\n",
      " 2 2 4 1 2 6 4 3 2 5 3 3 4 1 4 3 3 2 1 2 5 1 3 3 5 3 1 4 4 5 3 6 2 4 4 1 3\n",
      " 4 3 3 5 5 5 1 1 4 1 2 6 6 6 4 2 6 5 3 1 6 5 5 5 2 4 6 4 4 1 4 5 4 2 6 4 4\n",
      " 2 4 4 6 5 3 3 2 3 3 5 6 6 2 3 5 1 6 4 4 3 5 3 3 3 5 1 3 1 1 5 5 3 3 5 6 2\n",
      " 2 2 2 1 2 3 2 4 2 1 3 3 2 5 1 6 2 6 2 5 6 6 4 1 5 2 4 6 4 4 3 6 2 4 2 5 5\n",
      " 6 1 5 3 6 3 6 2 1 1 3 4 6 5 5 6 1 5 1 2 5 5 3 1 2 4 1 2 5 6 3 4 6 2 5 3 4\n",
      " 4 2 4 5 5 6 2 2 3 3 3 2 3 1 5 2 3 6 5 3 4 2 5 3 3 5 1 3 4 3 4 2 3 4 3 6 1\n",
      " 5 4 5 5 1 3 3 2 6 6 5 3 3 1 4 5 6 4 3 5 6 3 4 4 1 3 4 4 4 6 2 3 2 3 1 6 5\n",
      " 2]\n"
     ]
    },
    {
     "data": {
      "image/png": "[encoded data removed]",
      "text/plain": [
       "<Figure size 864x432 with 1 Axes>"
      ]
     },
     "metadata": {
      "needs_background": "light"
     },
     "output_type": "display_data"
    }
   ],
   "source": [
    "fig, ax = plt.subplots(figsize=(12,6))\n",
    "for ii in range(4):\n",
    "    p_fair = rolling_dice(1000)\n",
    "    p_unfair= rolling_unfair(1000)\n",
    "    ax.plot(p_fair, color=\"seagreen\" )\n",
    "    ax.plot(p_unfair, color=\"tomato\")\n",
    "ax.set_title(\"Running Estimate of Probability of rolling doubles using fair dice and unfair dice\", fontsize=20)\n",
    "ax.set_xlabel(\"Number of rolll\", fontsize=16)\n",
    "ax.set_ylabel(\"Estimate of Probability\", fontsize=16)\n",
    "fair_ = mpatches.Patch(color=\"seagreen\", label =\"fair dice\")\n",
    "unfair_ = mpatches.Patch(color=\"tomato\", label =\"Unfair dice\")\n",
    "ax.legend(handles=[fair_, unfair_])\n",
    "ax.grid(True, alpha=0.25)\n"
   ]
  },
  {
   "cell_type": "markdown",
   "metadata": {},
   "source": [
    "**Part G** solution:\n",
    "About 500 flips that make them know which one is load or not based on the graph."
   ]
  },
  {
   "cell_type": "markdown",
   "metadata": {},
   "source": [
    "***\n",
    "<a/ id='p2'></a>\n",
    "[Back to top](#top)\n",
    "\n",
    "### [25 points] Problem 2\n",
    "\n",
    "Sonic and Amy are two average hedgehogs who have to run around campus every day for classes and hobbies. When they leave the Engineering Center (E) from their Data Science class, they like to go to 5 other places on campus: the Gym ($G~$) to exercise, the Library ($L~$) to learn, the Hill ($H~$) to grab a sandwich, Weathertech Cafe ($W~$) for a pizza, and the mountains ($M~$) to frolic with their marmot friends.\n",
    "\n",
    "Here are some rules governing their movements throughout the fair city of Boulder:\n",
    "* When Sonic and/or Amy is leaving one location, they randomly select one of the available adjacent locations, with equal probability.\n",
    "* This includes back-tracking, but note that to return to their original location would require 2 moves.\n",
    "* Assume that all moves require the same amount of time.\n",
    "* They are also not allowed to stay put; they always must move to some *other* adjacent location.\n",
    "* Sonic and Amy also act **independently** of one another. That is, the probability that Sonic goes from one place to another is independent of Amy's movements.\n",
    "\n",
    "<img src=\"http://www.cs.colorado.edu/~tonyewong/home/resources/sonic_and_amy_statespace.png\" style=\"width: 300px;\"/>"
   ]
  },
  {
   "cell_type": "markdown",
   "metadata": {},
   "source": [
    "**Part A**: Amy is currently at the Gym and she has worked up quite an appetite! She wants to go to either the Hill or the Weathertech Cafe, and is soooooooo hungry that she must land on exactly the $H$ or $W$ node in exactly one or two moves. Compute (by hand) the probability that Amy ends up at the the Hill ($H$) or the Weathertech Cafe ($W$) in exactly one or two moves, given that she is starting from the Gym ($G$). "
   ]
  },
  {
   "cell_type": "markdown",
   "metadata": {},
   "source": [
    "Solution:\n",
    "\n",
    "Let $H_1$ and $W_1$ as one move \n",
    "\n",
    "Let Let $H_2$ and $W_2$ as two move \n",
    "\n",
    "Find the Amy go the Hill in one or two moves from gym:\n",
    "$$P(H_1 \\cup H_2) = P(H_1) + P(H_2) - P(H_1 \\cap H_2)$$\n",
    "One move: \n",
    "$$P(H_1) = \\frac{1}{3}$$\n",
    "Two move:\n",
    "$$P(H_2) = P(H_2 \\mid L_1) P(L_1) = \\frac{1}{4} * \\frac{1}{3}$$\n",
    "\n",
    "Find the Amy go the weathertech Cafe in one or two moves from gym:\n",
    "$$P(W_1 \\cup W_2) = P(W_1) + P(W_2) - P(W_1 \\cap W_2)$$\n",
    "One move: \n",
    "$$P(W_1) = 0$$\n",
    "Two move:\n",
    "$$\n",
    "\\begin{align}\n",
    "P(W_2) &= P(W_2 \\mid L_1) P(L_1) + P(W_2 \\mid E_1) P(E_1) \\\\\n",
    "&= \\frac{1}{4} * \\frac{1}{3} + \\frac{1}{3} * \\frac{1}{3} = 0.1944\n",
    "\\end{align}\n",
    "$$\n",
    "\n",
    "Sum all together for one or two move that end up at Hill:\n",
    "$$\n",
    "\\begin{align}\n",
    "P(H_1 \\cup H_2 \\cup W_1 \\cup W_2) &= P(H_1) + P(H_2) + P(W_1) + P(W_2) \\\\\n",
    "&= 0.3333 + 0.0833 + 0 +  0.1944 = \\fbox{0.6111}\n",
    "\\end{align}\n",
    "$$\n",
    "\n"
   ]
  },
  {
   "cell_type": "code",
   "execution_count": 11,
   "metadata": {},
   "outputs": [
    {
     "name": "stdout",
     "output_type": "stream",
     "text": [
      "One move to Hill 0.3333\n",
      "Two move to Hill 0.0833\n",
      "One move to Weathertech 0.0000\n",
      "Two move to Weathertech 0.1944\n",
      "Two move to Weathertech 0.1944\n",
      "One or Two move end up at Hill 0.6111\n"
     ]
    }
   ],
   "source": [
    "mult1 = (1/4)*(1/3)\n",
    "mult2 = (1/3)*(1/3)\n",
    "sum = mult1 + mult2 \n",
    "Total_ = (1/3) + (1/12) + sum\n",
    "print(\"One move to Hill {:.4f}\".format(1/3))\n",
    "print(\"Two move to Hill {:.4f}\".format(mult1))\n",
    "print(\"One move to Weathertech {:.4f}\".format(0))\n",
    "print(\"Two move to Weathertech {:.4f}\".format(sum))\n",
    "print(\"Two move to Weathertech {:.4f}\".format(sum))\n",
    "print(\"One or Two move end up at Hill {:.4f}\".format(Total_))"
   ]
  },
  {
   "cell_type": "markdown",
   "metadata": {},
   "source": [
    "**Part B**: Suppose that Amy is at the Gym and Sonic is working late at the Engineering Center. Later, they both leave and wander around, randomly and independently of one another, as described above.\n",
    "1. What is the probability that they run into each other in the same location on the first location visited?  \n",
    "2. Given their two initial locations, what is the probability that they meet at the Hill after 2 moves?"
   ]
  },
  {
   "cell_type": "markdown",
   "metadata": {},
   "source": [
    "1. Let subscript A be the event that amy at that location and subscript S be the event that sonic at that location.\n",
    "\n",
    "$$P(\\text{first location visited}) = P(L_A \\cap L_S)$$\n",
    "Sonic and Amy also act independently of one another, we have:\n",
    "$$\n",
    "\\begin{align}\n",
    "P(\\text{first location visited}) &= P(L_A)P(L_S) \\\\\n",
    "&= \\frac{1}{3} \\cdot \\frac{1}{3} = \\fbox{0.1111} \n",
    "\\end{align}\n",
    "$$\n",
    "\n",
    "\n",
    "2. Let $H_{A2}$ be the event that Amy at Hill after 2 moves and $H_{S2}$ be the event that Sonic at Hill after 2 moves.\n",
    "\n",
    "So the probability that they meet at Hill after 2 move from indepedent:\n",
    "   \n",
    "$$P(H_{A2}\\cap H_{S2}) = P(H_{A2}) P(H_{S2})$$\n",
    "   \n",
    "The Probability that Amy go to Hill after 2 moves:\n",
    "\n",
    "$$P(H_{A2}) = P(H_{A2} \\mid L_1) P(L_1) = \\frac{1}{4} \\cdot \\frac{1}{3} = 0.08333 $$\n",
    "\n",
    "The Probability that Sonic go to Hill after 2 moves:\n",
    "\n",
    "$$\\begin{align*}\n",
    "P(H_{S2}) &= P(H_{S2}\\mid L_1)P(L_1) + P(H_{S2} \\mid G_1)P(G_1) + P(H_{S2} \\mid W_1)P(W_1) \\\\\n",
    "       &= \\frac{1}{4} \\cdot \\frac{1}{3} + \\frac{1}{3} \\cdot \\frac{1}{3} + 0 \\cdot \\frac{1}{3} \\\\\n",
    "       &= 0.1944\n",
    "\\end{align*}$$\n",
    "\n",
    "Therefore, the probability that they meet at Hill after 2 move:\n",
    "\n",
    "$$P(H_{A2}\\cap H_{S2}) = (0.08333) \\cdot (0.1944) = \\fbox{0.0162}$$\n",
    "   "
   ]
  },
  {
   "cell_type": "code",
   "execution_count": 12,
   "metadata": {},
   "outputs": [
    {
     "name": "stdout",
     "output_type": "stream",
     "text": [
      "The probability that they run into each other in the same location in the first visited 0.1111\n",
      "The probability that they meet at Hill after 2 move 0.0162\n"
     ]
    }
   ],
   "source": [
    "print(\"The probability that they run into each other in the same location in the first visited {:.4f}\".format((1/3)*(1/3)))\n",
    "print(\"The probability that they meet at Hill after 2 move {:.4f}\".format((0.08333)*(0.1944)))\n"
   ]
  },
  {
   "cell_type": "markdown",
   "metadata": {},
   "source": [
    "**Part C**: Write a simulation to confirm that your by-hand calculations in **Parts A** and **B** are correct. Make sure you run your simulations for enough trials that your estimates are reasonably close to your analytic results. In addition to showing your code, you should explain in Markdown (not just in code comments) what your code is doing and why it is a reasonable approximation of the probabilities in **Parts A** and **B**."
   ]
  },
  {
   "cell_type": "markdown",
   "metadata": {},
   "source": []
  },
  {
   "cell_type": "code",
   "execution_count": 13,
   "metadata": {},
   "outputs": [],
   "source": [
    "#create dictionary for the graph\n",
    "dict_Graph = {\"M\":[\"H\"],                # neighbors of Mountains\n",
    "              \"H\":[\"M\",\"G\",\"L\"],         # neighbors of Hill\n",
    "              \"G\":[\"H\",\"L\",\"E\"],          # neighbors of Gym\n",
    "              \"W\":[\"L\",\"E\"],              # neighbors of Weathertech Cafe\n",
    "              \"E\":[\"G\",\"L\",\"W\"],           # neighbors of Engieering center\n",
    "              \"L\":[\"G\",\"E\",\"W\", \"H\"]}      # neighbors of Library\n",
    "\n",
    "# find the random location by the neighbors graph\n",
    "def random_location(start_location, num_step, dict_G):\n",
    "    loc = start_location\n",
    "    for i in range(num_step):\n",
    "        loc = np.random.choice(dict_G[loc])\n",
    "    return loc"
   ]
  },
  {
   "cell_type": "markdown",
   "metadata": {},
   "source": [
    "To verify the solution of **Part A** that the probability that Amy ends up at the the Hill or the Weathertech Cafe in one move and add this to she ends up at the Gym after 2 moves."
   ]
  },
  {
   "cell_type": "code",
   "execution_count": 14,
   "metadata": {},
   "outputs": [
    {
     "name": "stdout",
     "output_type": "stream",
     "text": [
      "0.6100\n"
     ]
    }
   ],
   "source": [
    "#Part A\n",
    "# Amy at Gym go to Hill or Weathertech Cafe\n",
    "num_trials = 100000\n",
    "one_step_H = np.array([random_location(\"G\", 1, dict_Graph)==\"H\" for i in range(num_trials)]).sum()/num_trials\n",
    "two_step_H = np.array([random_location(\"G\", 2, dict_Graph)==\"H\" for i in range(num_trials)]).sum()/num_trials\n",
    "one_step_W = np.array([random_location(\"G\", 1, dict_Graph)==\"W\" for i in range(num_trials)]).sum()/num_trials\n",
    "two_step_W = np.array([random_location(\"G\", 2, dict_Graph)==\"W\" for i in range(num_trials)]).sum()/num_trials\n",
    "pro = one_step_H + two_step_H + one_step_W + two_step_W\n",
    "print(\"{:.4f}\".format(pro))"
   ]
  },
  {
   "cell_type": "markdown",
   "metadata": {},
   "source": [
    "That is close to my solution of about 0.6111\n",
    "\n",
    "To verify the solution of **Part B** that probability that Amy and Sonic run into the same location on the first location visited."
   ]
  },
  {
   "cell_type": "code",
   "execution_count": 15,
   "metadata": {},
   "outputs": [
    {
     "name": "stdout",
     "output_type": "stream",
     "text": [
      "0.119\n"
     ]
    }
   ],
   "source": [
    "#Part B\n",
    "num_trials = 1000\n",
    "Amy = np.array([random_location(\"G\",1,dict_Graph) for i in range(n_trials)])\n",
    "Sonic = np.array([random_location(\"E\",1, dict_Graph) for i in range(n_trials)])\n",
    "print(np.sum(Amy==Sonic)/num_trials)"
   ]
  },
  {
   "cell_type": "markdown",
   "metadata": {},
   "source": [
    "That is close to my solution of about 0.1111\n",
    "\n",
    "To verify the solution of **Part B** that probability that Amy and Sonic meet at the Hill after two moves."
   ]
  },
  {
   "cell_type": "code",
   "execution_count": 16,
   "metadata": {},
   "outputs": [
    {
     "name": "stdout",
     "output_type": "stream",
     "text": [
      "0.00143\n"
     ]
    }
   ],
   "source": [
    "num_trials = 100000\n",
    "Amy = np.array([random_location(\"G\",2,dict_Graph) for i in range(n_trials)])\n",
    "Sonic = np.array([random_location(\"E\",2,dict_Graph) for i in range(n_trials)])\n",
    "print(np.sum(Amy==Sonic)/num_trials)"
   ]
  },
  {
   "cell_type": "markdown",
   "metadata": {},
   "source": [
    "That is close to my solution of about 0.0162"
   ]
  },
  {
   "cell_type": "markdown",
   "metadata": {},
   "source": [
    "**Part D:** Use your simulation from Part C, possibly with some modification, to estimate the **long-run proportion of time that the hedgehogs spend in the mountains**. You can estimate this using the following technique:\n",
    "* walk a hedgehog around the graph for a very large number of steps (at least 100,000 steps), \n",
    "* keep track of which location the hedgehog is at, at each step, then\n",
    "* the proportion of their time spent at any given location may be estimated as the number of times they are at the Mountains node ($M$), divided by the total number of steps.\n",
    "\n",
    "You may be left wondering: Where should I start my hedgehog? That is very weird question, but totally valid here! It turns out that **it should not matter** where you start the hedgehog. Verify this by making your estimate from three different starting locations. Be sure to include some commentary in Markdown to state your answer for the long-run proportion of time that the hedgehogs spend in the mountains, and comment on whether it appears to depend on the initial location."
   ]
  },
  {
   "cell_type": "code",
   "execution_count": 17,
   "metadata": {},
   "outputs": [
    {
     "name": "stdout",
     "output_type": "stream",
     "text": [
      "0.06\n",
      "0.072\n",
      "0.066\n"
     ]
    }
   ],
   "source": [
    "num_trials = 1000\n",
    "#initial at Library\n",
    "hedgehog = np.array([random_location(\"L\",i, dict_Graph)==\"M\" for i in range(num_trials)]).sum()/num_trials\n",
    "print(hedgehog)\n",
    "\n",
    "#initial at Engieering Centre\n",
    "hedgehog1 = np.array([random_location(\"E\",i, dict_Graph)==\"M\" for i in range(num_trials)]).sum()/num_trials\n",
    "print(hedgehog1)\n",
    "\n",
    "#initial at Weathertech Cafe \n",
    "hedgehog2 = np.array([random_location(\"W\",i, dict_Graph)==\"M\" for i in range(num_trials)]).sum()/num_trials\n",
    "print(hedgehog2)"
   ]
  },
  {
   "cell_type": "markdown",
   "metadata": {},
   "source": [
    "No matter we initial location, the probability to estimate the long-run propotion of time that hedgehogs spend in the mountains is about 0.06."
   ]
  },
  {
   "cell_type": "markdown",
   "metadata": {},
   "source": [
    "***\n",
    "<a/ id='p3'></a>\n",
    "[Back to top](#top)\n",
    "\n",
    "### [20 points] Problem 3  \n",
    "\n",
    "After years of Computer Science Jedi training, Tony has attained the rank of Master is training two aspiring young apprentices: Nick and Courtney. For their training and Tony’s amusement, Nick and Courtney are having a lightsaber duel with the following rules:\n",
    "* The duel is composed of a number of rounds.\n",
    "* Each round consists of Nick trying to strike Courtney with his lightsaber, then Courtney trying to strike Nick with her lightsaber.\n",
    "* If Nick strikes Courtney, then he is awarded a point. Similarly, if Courtney strikes Nick, then she is also awarded a point.\n",
    "* If a round ends in a tie (i.e., either both strike each other or both miss), then Nick and Courtney proceed to another round. If a round ends with one apprentice scoring a point but the other does not, then the apprentice who scored a point wins the duel.\n",
    "\n",
    "Let $C$ be the event that \"Courtney wins the duel\", $E$ be the event that \"the duel ends after the first round of lightsaber strikes\", and $R$ be the event that \"the duel continues after the first round of lightsaber strikes\".  Suppose that the result of any given lightsaber strike is independent of the other strikes, Courtney successfully lands her lightsaber strikes with probability $p$, and Nick lands his strikes with probability $q$.\n",
    "\n",
    "**Part A**: The duel will continue until Courtney or Nick wins.  What is the sample space $\\Omega$ for this \"experiment\"?  Represent the outcomes of individual lightsaber strikes by $H$ for a hit and $M$ for a miss, and assume that Courtney has the first strike in each round. At the very least, your answer should include all of the events in $\\Omega$ that include one or two rounds, followed by \"...\" to show that you have established a pattern."
   ]
  },
  {
   "cell_type": "markdown",
   "metadata": {},
   "source": [
    "Solution of **Part A**:\n",
    "\n",
    "Let $H_c$ is Courtney is hit, $M_c$ is Courtney is miss\n",
    "\n",
    "Let $H_n$ is Courtney is hit, $M_n$ is Courtney is miss\n",
    "\n",
    "$$\n",
    "\\Omega = \\{H_cM_n, M_cH_n, H_cH_nM_cH_n,H_cH_nH_cM_c, M_cM_nH_cM_n, M_cM_nM_cH_n, \\ldots \\}\n",
    "$$"
   ]
  },
  {
   "cell_type": "markdown",
   "metadata": {},
   "source": [
    "**Part B**: Determine $P(C \\mid E)$ in terms of $p$ and $q$."
   ]
  },
  {
   "cell_type": "markdown",
   "metadata": {},
   "source": [
    "Solution of **Part B**::\n",
    "\n",
    "We know Courtney successfully lands her lightsaber strikes with probability $p$. If Courtney strikes, we have $H_c = p$ and if Courtney miss, we have $M_c = 1 -p$\n",
    "\n",
    "We know Nikc successfully lands his lightsaber strikes with probability $q$. If Courtney strikes, we have $H_n = q$ and if Nick miss, we have $M_n = 1 -q$\n",
    "\n",
    "\n",
    "$$\n",
    "P(C| E) = \\frac{P(C\\cap E)}{P(E)} = \\frac{P(\\{H_cM_n\\})}{P(\\{H_cM_n\\}, \\{M_cH_n\\})} \n",
    "$$\n",
    "\n",
    "The LTP, we have:\n",
    "\n",
    "$$P(E) = P(\\{H_cM_n\\} + P(\\{M_cH_n\\} = p(1-q) + (1-p)q = p+q-2pq$$\n",
    "\n",
    "Therefore, we have:\n",
    "\n",
    "$$\n",
    "P(T \\mid E)  = \\frac{p(1-q)}{p + q -2pq}\n",
    "$$"
   ]
  },
  {
   "cell_type": "markdown",
   "metadata": {},
   "source": [
    "**Part C**: Explain in words why events $C$ and $R$ should be independent. "
   ]
  },
  {
   "cell_type": "markdown",
   "metadata": {},
   "source": [
    "Part C Solution:\n",
    "The probability that Courtney C wins and the probability that R dual contiunues after the first rount of lightsabar strikes must be independent.Because each round ends with one apprentice scoring a point but the other does not, then the apprentice who scored a point wins the dual. So each round of apprentice begins with the two apprentice tied and do the same, it's not what score Courtney and Nick are tied at. Therefore, we have:\n",
    "\n",
    "$ P(C \\mid R) = P(C)$ becaue they are independent.\n",
    "\n",
    "\n",
    "\n"
   ]
  },
  {
   "cell_type": "markdown",
   "metadata": {},
   "source": [
    "**Part D**: Use the Law of Total Probability to show that $P(C) = p(1-q) + (2pq - p - q +1) P(C \\mid R)$. "
   ]
  },
  {
   "cell_type": "markdown",
   "metadata": {},
   "source": [
    "Solution of **Part D**::\n",
    "\n",
    "\n",
    " $$P(C) = P(C \\mid E)P(E) + P(C \\mid R)P(R)$$\n",
    " \n",
    " We find $P(C \\mid E)$ from part A,\n",
    " \n",
    " $$p(C) = \\frac{p(1-q)}{p + q -2pq}P(E) + P(C \\mid R)P(R)$$\n",
    " \n",
    " \n",
    " we know $P(E) = P(\\{H_cM_n\\} + P(\\{M_cH_n\\} = p(1-q) + (1-p)q = p+q-2pq$\n",
    " \n",
    " $P(R) = P(\\{H_cH_n\\} + P(\\{M_cM_n\\} = pq + (1-p)(1-q) = pq+1-q-p+pq$\n",
    " \n",
    " $P(R) = 2pq-p-q + 1$\n",
    " \n",
    " we can substitue $P(E)$, $P(R)$ to $P(C)$:\n",
    " \n",
    " $\\begin{align*}\n",
    " P(C) &= P(C \\mid E)P(E) + P(C \\mid R)P(R) \\\\\n",
    " &= (\\frac{p(1-q)}{p+q-2pq})(p+q-2pq) + P(C \\mid R)(2pq-p-q + 1) \\\\\n",
    " &= p(1-q) +  P(C \\mid R)(2pq - p - q +1) \\quad \\checkmark\n",
    " \\end{align*}$"
   ]
  },
  {
   "cell_type": "markdown",
   "metadata": {},
   "source": [
    "**Part E**: Use **Part D** and the fact from **Part C** that events $C$ and $R$ are independent to determine $P(C)$ in terms of $p$ and $q$. "
   ]
  },
  {
   "cell_type": "markdown",
   "metadata": {},
   "source": [
    "Solution of **Part E**::\n",
    "\n",
    "From the Part D, we have:\n",
    "$$P(C)=p(1-q) +  P(C \\mid R)(2pq - p - q +1)$$\n",
    "From the Part C, we have \n",
    "$$P(C\\mid R) = P(C)$$\n",
    "Put together:\n",
    "$$P(C)=p(1-q) +  P(C)(2pq - p - q +1)$$\n",
    "Move $P(C)(2pq - p - q +1)$ to the left side\n",
    "$$P(C) - P(C)(2pq - p - q +1) =p(1-q)$$\n",
    "\n",
    "$$P(C)(1 -(2pq - p - q +1)) =p(1-q)$$\n",
    "\n",
    "$$P(C)(p+q-2pg) = p(1-q)$$\n",
    "\n",
    "$$P(C) = \\frac {p(1-q)}{(p+q-2pg)}$$\n"
   ]
  },
  {
   "cell_type": "markdown",
   "metadata": {},
   "source": [
    "**Part F**: Explain why the answers to **Part B** and **Part E** are the same. "
   ]
  },
  {
   "cell_type": "markdown",
   "metadata": {},
   "source": [
    "Solution of **Part F**::\n",
    "\n",
    "Part B and Part E are the same because $C$ are independent of $E$ as we discussed in Part B and if there is no winner, the whole dueling process will start a new game. Therefore, the probability that Courtney wins have to be the same as the probability that Courtney win in one round. Therfore, $P(C) = P(C\\mid E)$.\n"
   ]
  },
  {
   "cell_type": "markdown",
   "metadata": {},
   "source": [
    "**Part G**: Explain the significance of the solution technique for $P(C)$ outlined in **Part D** and **Part E**.  Why did we go this route instead of computing $P(C)$ directly?  Can we always use such techniques?  What assumption did we need to make in order to use this solution approach?"
   ]
  },
  {
   "cell_type": "markdown",
   "metadata": {},
   "source": [
    "Solution of **Part G**:\n",
    "\n",
    "The solution technique for P(C) outline in Part D and Part E is significant bacuase C is independent of E. If two event are not indepedent, the solution will not work."
   ]
  },
  {
   "cell_type": "markdown",
   "metadata": {},
   "source": [
    "***\n",
    "<a/ id='p4'></a>\n",
    "[Back to top](#top)\n",
    "\n",
    "### [25 points] Problem 4\n",
    "\n",
    "In this problem you will write some code to simulate the game of **Miniopoly** (a very rough approximation of <a href=\"https://en.wikipedia.org/wiki/Monopoly_(game)\">Monopoly</a>).  The game consists of a round board with 40 \"squares\" numbered from $0$ to $39$, where squares $0$ and would-be $40$ are [coincident](https://en.wikipedia.org/wiki/Coincident) and called **GO**.  A player starts on **GO** with \\$200 in their pocket.  On each turn the player rolls a pair of dice and then moves a number of spaces equal to the sum of the dice.  Landing on different squares have different results: \n",
    "\n",
    "- Squares 2, 7, 17, 22, 33, and 36 cause you to draw a card.  The cards tell you to collect \\$50 or \\$100, or pay the bank \\$25 or \\$100.  There is always an equal probability associated with each of these possible cards.\n",
    "\n",
    "<p> </p>\n",
    "\n",
    "- Square 20 is **Free Parking**. If a player lands on Square 20, then they are awarded a Free Parking Bonus of \\$500. This should be a generic input variable to your `miniopoly_turn` function called `bonus`, so you can modify it later. But, the default value for `bonus` should be \\$500.\n",
    "\n",
    "<p> </p>\n",
    "\n",
    "- Square 30 is **Go To Jail**. (So if a player has landed on Square 30, then you know they have been to jail.)\n",
    "\n",
    "<p> </p>\n",
    "\n",
    "- If a player starts a turn from **Jail** she rolls two dice: \n",
    "\n",
    "    - If the player rolls doubles (i.e. the dice have equal values), then the player moves from Square 10 a number of squares equal to the sum of the dice\n",
    "    \n",
    "    - If the player rolls anything other than doubles, then she pays the bank \\$20 and remains in **Jail** \n",
    "    \n",
    "<p> </p>\n",
    "\n",
    "- If the player passes or lands on **GO** (square 0) she collects \\$200. \n",
    "\n",
    "<p> </p>\n",
    "\n",
    "- If the player lands on any other square not mentioned above, she pays the bank an amount equal to the square's number (e.g. if she lands on Square 29 she pays the bank \\$29). \n",
    "\n",
    "<p> </p>\n",
    "\n",
    "If at any point the player has \\$0 or less they go bankrupt and the game ends.\n",
    "\n",
    "See [here](http://www.cs.colorado.edu/~tonyewong/home/resources/miniopoly_example.png) for an example of the Miniopoly board layout.\n",
    "\n",
    "<br>\n",
    "\n",
    "**Part A**: Complete the function `miniopoly_turn` below. The function should simulate one turn of Miniopoly.  It should take as arguments the player's current location on the board as well as the player's current cash reserves and the amount of the Free Parking (Square 20) bonus, and return the player's new location and cash reserves after the turn has completed. Note that if a player goes bankrupt during the game you should return their cash as 0 instead of a negative value.\n",
    "\n",
    "**Warning:** This function will be auto-graded, so do **not** change the form of the function inputs/outputs (API)."
   ]
  },
  {
   "cell_type": "code",
   "execution_count": 18,
   "metadata": {},
   "outputs": [],
   "source": [
    "# GIVEN code - do not change the inputs/outputs!\n",
    "def miniopoly_turn(state, cash, bonus=500):\n",
    "    # your code goes here!\n",
    "    #   should update `state` and `cash`\n",
    "    #   according to rules of the game\n",
    "    if cash == 0:\n",
    "        return state, cash\n",
    "    \n",
    "    roll1 = np.random.choice(range(1,7))\n",
    "    roll2 = np.random.choice(range(1,7))\n",
    "    # Possible card cash outcomes\n",
    "    card = np.array([50,100,-25,-100])\n",
    "    #if the player in jail\n",
    "    if state == 30:\n",
    "        #roll doubles\n",
    "        if roll1 == roll2:\n",
    "            state = 10 + roll1 + roll2\n",
    "        else:\n",
    "            #pay to the bank\n",
    "            cash += - 20\n",
    "            return state, cash\n",
    "        \n",
    "    #if not in the jail   \n",
    "    else:\n",
    "        state = state + roll1 + roll2\n",
    "     \n",
    "    #if the player passes or lands on GO (square 0) she collects $200.\n",
    "    if state >= 40:\n",
    "        cash += 200\n",
    "        state = state - 40\n",
    "        \n",
    "    # draw cards if state in 2, 7, 17, 22, 33, and 36\n",
    "    if state in [2, 7, 17, 22, 33, 36]:\n",
    "        cash += np.random.choice(card)\n",
    "        return state, cash\n",
    "        \n",
    "    # Free Parking if state is 20, get bonus\n",
    "    if state == 20:\n",
    "        cash += bonus\n",
    "        return state, cash\n",
    "    # go jail\n",
    "    if state == 30:\n",
    "        return state, cash\n",
    "    \n",
    "    \n",
    "        \n",
    "    #If the player lands on any other square not mentioned above, \n",
    "    #she pays the bank an amount equal to the square's number\n",
    "    else:\n",
    "        cash = cash - state\n",
    "        return state, cash\n"
   ]
  },
  {
   "cell_type": "markdown",
   "metadata": {},
   "source": [
    "**Part B**: Use your function from **Part A** to simulate at least 5000 games of Miniopoly for 20 turns, 40 turns and 60 turns, and make a **density** histogram of the player's cash at the end of the game under all 3 scenarios for number of turns. The histogram box faces should be slightly transparent, so as to be able to tell the 3 game-length scenarios apart. For all three histograms, use bins of width \\$250, starting at 0 on the left and extending as far to the right as needed. As always, be sure to label your axes and include an informative legend.\n",
    "\n",
    "Comment on how the histogram shape changes as the game progresses. Namely, how does the length of the game affect the distribution of players' cash? How many modes are there, and why?"
   ]
  },
  {
   "cell_type": "code",
   "execution_count": null,
   "metadata": {},
   "outputs": [],
   "source": [
    "def game_Turn(num_turn):\n",
    "    state,cash = 0,200\n",
    "    for i in range(num_turn):\n",
    "        state,cash = miniopoly_turn(state,cash,500)\n",
    "        if cash <=0:\n",
    "            return 0\n",
    "    return cash\n",
    "\n",
    "game_Turn(20)\n",
    "num_game = 5000\n",
    "Total_cash_20 = np.zeros(num_game)\n",
    "Total_cash_40 = np.zeros(num_game)\n",
    "Total_cash_60 = np.zeros(num_game)\n",
    "for j in range(num_game):\n",
    "    Total_cash_20[j] = game_Turn(20)\n",
    "    Total_cash_40[j] = game_Turn(40)\n",
    "    Total_cash_60[j] = game_Turn(60)    "
   ]
  },
  {
   "cell_type": "code",
   "execution_count": null,
   "metadata": {},
   "outputs": [],
   "source": [
    "bin_box = [0]\n",
    "bin_ = 0\n",
    "while(bin_< 5000):\n",
    "    bin_ = bin_ + 250\n",
    "    bin_box = np.append(bin_box, [bin_])\n",
    "\n",
    "\n",
    "x_20 = pd.Series(Total_cash_20)\n",
    "x_40 = pd.Series(Total_cash_40)\n",
    "x_60 = pd.Series(Total_cash_60)\n",
    "\n",
    "fig, ax = plt.subplots(nrows=1, ncols=1, figsize=(8,5))\n",
    "\n",
    "plt.hist(x_20,density = True, bins = bin_box, alpha = 0.5, facecolor=\"steelblue\",edgecolor=\"white\", label=\"20 Turn\")\n",
    "plt.hist(x_40,density = True, bins = bin_box, alpha = 0.5, facecolor=\"seagreen\",edgecolor=\"white\",label=\"40 Turn\")\n",
    "plt.hist(x_60,density = True, bins = bin_box, alpha = 0.5, facecolor=\"coral\",edgecolor=\"white\", label=\"60 Turn\")\n",
    "ax.set_title('Cash at end of game')\n",
    "ax.set_xlabel('Cash [$]')\n",
    "ax.set_ylabel('Density')\n",
    "ax.legend();\n",
    "ax.set_axisbelow(True)"
   ]
  },
  {
   "cell_type": "markdown",
   "metadata": {},
   "source": [
    "The  more number of trils we use, the more money the players have."
   ]
  },
  {
   "cell_type": "markdown",
   "metadata": {},
   "source": [
    "**Part C**: Use your code from **Parts A and B** to estimate the probability that a player goes bankrupt in the first 40 turns of the game. Use at least 10,000 simulations.\n",
    "\n",
    "Then, run a set of at least 10,000 simulations to estimate the probability that a player goes bankrupt in the first 40 turns of the game if you remove the Free Parking Bonus of \\$500, so if a player lands on Square 20, nothing happens. Here, you should be able to easily adapt your calls to the `miniopoly_turn` function to remove the Free Parking Bonus.\n",
    "\n",
    "A common criticism of the Free Parking Bonus is that it makes Monopoly games take much longer to play. Do your results support this claim? How does the Free Parking rule seem to affect the Miniopoly games? Fully explain and justify your answers.\n",
    "\n",
    "Do you like the Free Parking bonus rule?"
   ]
  },
  {
   "cell_type": "code",
   "execution_count": null,
   "metadata": {},
   "outputs": [],
   "source": [
    "num_games = 10000\n",
    "bankrupt = 0\n",
    "isBankrupt = False\n",
    "for i in range(num_games):\n",
    "    if game_Turn(40)== 0:     #to check in the first 40 turn\n",
    "        bankrupt = bankrupt + 1\n",
    "print(\"Probability that a player goes bankrupt in the first 40 turn is {:.4f}\".format(bankrupt/num_games))"
   ]
  },
  {
   "cell_type": "code",
   "execution_count": null,
   "metadata": {},
   "outputs": [],
   "source": [
    "def remove_free_park(num_turn):\n",
    "    state = 0\n",
    "    cash =200\n",
    "    for i in range(num_turn):\n",
    "        state,cash = miniopoly_turn(state,cash,0)\n",
    "        if cash <=0:\n",
    "            return 0\n",
    "    return cash\n",
    "\n",
    "num_games = 10000\n",
    "bankrupt = 0\n",
    "for i in range(num_games):\n",
    "    if remove_free_park(40)== 0:\n",
    "        bankrupt = bankrupt + 1\n",
    "print(\"Probability that a player goes bankrupt in the first 40 turn after remove free park is {:.4f}\".format(bankrupt/num_games))"
   ]
  },
  {
   "cell_type": "markdown",
   "metadata": {},
   "source": [
    "**Part c** solution:\n",
    "Probability that a player goes bankrupt in the first 40 turn is 0.1351.\n",
    "\n",
    "Probability that a player goes bankrupt in the first 40 turn after remove free park is 0.1835.\n",
    "\n",
    "The probability that a player goes bankrupt in the first 40 with romoving free parking is higher than not. yes it does affect the player. Yes, I do."
   ]
  },
  {
   "cell_type": "markdown",
   "metadata": {},
   "source": [
    "**Part D**: (Note: For the rest of this problem, use a Free Parking Bonus of \\$500.)\n",
    "\n",
    "Use your code from the previous parts to estimate the probability that a player ***does not*** go bankrupt in the first 40 turns _given_ that they have landed on Free Parking at least once.  Is a player more or less likely to go bankrupt if they've landed on Free Parking? Use at least 10,000 simulations of 40-turn games, and keep at least 4 decimal places in your answer."
   ]
  },
  {
   "cell_type": "code",
   "execution_count": null,
   "metadata": {},
   "outputs": [],
   "source": [
    "def not_go_bankrupt():\n",
    "    freeParking = False\n",
    "    state =0\n",
    "    cash = 200\n",
    "    for i in range(40):\n",
    "        state,cash = miniopoly_turn(state, cash, 500)\n",
    "        if state ==20: #if the player land on the free parking\n",
    "            freeParking = True\n",
    "        if c <=0:       #if player go bankrupt\n",
    "            if freeParking:\n",
    "                return 0\n",
    "            else:\n",
    "                return not_go_bankrupt() #reset the game and recursive call function\n",
    "    if freeParking:\n",
    "        return cash \n",
    "    else:\n",
    "        return not_go_bankrupt()\n",
    "        "
   ]
  },
  {
   "cell_type": "code",
   "execution_count": null,
   "metadata": {},
   "outputs": [],
   "source": [
    "num_games = 10000\n",
    "not_b = 0\n",
    "for i in range(num_games):\n",
    "    if not_go_bankrupt() > 0:\n",
    "        not_b += 1  #calculate the number of not go bankrupt\n",
    "print(\"P(not B|Free) = {:.4f}\".format(not_b/num_games))\n",
    "        "
   ]
  },
  {
   "cell_type": "markdown",
   "metadata": {},
   "source": [
    "**Part E**: Use your code from the previous parts to estimate the probability (either directly or using Bayes' Rule) that a player has landed on Free Parking at least once, given that the player did not go bankrupt in the first 40 turns."
   ]
  },
  {
   "cell_type": "code",
   "execution_count": null,
   "metadata": {},
   "outputs": [],
   "source": [
    "def load_freeParking_once():\n",
    "    state = 0\n",
    "    cash = 200\n",
    "    free_parking = False\n",
    "    for i in range(40):\n",
    "        state,cash = miniopoly_turn(state,cash,500)\n",
    "        if state == 20:\n",
    "            return 1\n",
    "        if cash <= 0 :\n",
    "            return 0\n",
    "    return 0"
   ]
  },
  {
   "cell_type": "code",
   "execution_count": null,
   "metadata": {},
   "outputs": [],
   "source": [
    "num_games = 10000\n",
    "free_parking = 0\n",
    "for i in range(num_games):\n",
    "    if load_freeParking_once() == 1:\n",
    "        free_parking += 1\n",
    "print(\"P(Free | not Bankrupt) = {:.4f}\".format(free_parking/num_games))"
   ]
  },
  {
   "cell_type": "markdown",
   "metadata": {},
   "source": []
  }
 ],
 "metadata": {
  "kernelspec": {
   "display_name": "Python 3",
   "language": "python",
   "name": "python3"
  },
  "language_info": {
   "codemirror_mode": {
    "name": "ipython",
    "version": 3
   },
   "file_extension": ".py",
   "mimetype": "text/x-python",
   "name": "python",
   "nbconvert_exporter": "python",
   "pygments_lexer": "ipython3",
   "version": "3.7.1"
  }
 },
 "nbformat": 4,
 "nbformat_minor": 2
}
