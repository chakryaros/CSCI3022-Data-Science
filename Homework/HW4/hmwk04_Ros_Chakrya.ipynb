{
 "cells": [
  {
   "cell_type": "markdown",
   "metadata": {},
   "source": [
    "<a/ id='top'></a>\n",
    "# Homework 4: Confidence intervals, hypothesis testing, and p-values\n",
    "***\n",
    "\n",
    "**Name**: Chakrya Ros\n",
    "\n",
    "***\n",
    "\n",
    "This assignment is due on Moodle by **5 PM on Friday 5 April**. Your solutions to theoretical questions should be done in Markdown/MathJax directly below the associated question.  Your solutions to computational questions should include any specified Python code and results as well as written commentary on your conclusions.  Remember that you are encouraged to discuss the problems with your instructors and classmates, but **you must write all code and solutions on your own**. \n",
    "\n",
    "**NOTES**: \n",
    "\n",
    "- Any relevant data sets should be available under the **Data** module on Canvas, as well as in the zipped folder in which you obtained this assignment. \n",
    "- Do **NOT** load or use any Python packages that are not available in Anaconda 3.6. \n",
    "- Because you can technically evaluate notebook cells in a non-linear order, it's a good idea to do Kernel $\\rightarrow$ Restart & Run All as a check before submitting your solutions.  That way if we need to run your code you will know that it will work as expected. \n",
    "- It is **bad form** to make your reader interpret numerical output from your code.  If a question asks you to compute some value from the data you should show your code output **AND** write a summary of the results in Markdown directly below your code. \n",
    "- You **MUST** leave all of your notebook cells **evaluated** so the graders do not need to re-evaluate them. For 100+ students, this extra time adds up, and makes the graders' lives unnecessarily more difficult.\n",
    "- This probably goes without saying, but... For any question that asks you to calculate something, you **must show all work and justify your answers to receive credit**. Sparse or nonexistent work will receive sparse or nonexistent credit. \n",
    "- Submit only this Jupyter notebook to Canvas.  Do not compress it using tar, rar, zip, etc. \n",
    "\n",
    "---\n",
    "**Shortcuts:**  [Problem 1](#p1) | [Problem 2](#p2) | [Problem 3](#p3) | [Problem 4](#p4) | [Problem 5](#p5)  \n",
    "\n",
    "---"
   ]
  },
  {
   "cell_type": "code",
   "execution_count": 1,
   "metadata": {
    "scrolled": true
   },
   "outputs": [],
   "source": [
    "import numpy as np\n",
    "import math\n",
    "import scipy.stats as stats\n",
    "import matplotlib.pyplot as plt\n",
    "import pandas as pd\n",
    "%matplotlib inline"
   ]
  },
  {
   "cell_type": "markdown",
   "metadata": {},
   "source": [
    "<br>\n",
    "\n",
    "---\n",
    "<a/ id='p1'></a>\n",
    "[Back to top](#top)\n",
    "### [20 points] Problem 1 - Exploring Confidence Intervals \n",
    "\n",
    "The [Gumbel](https://en.wikipedia.org/wiki/Gumbel_distribution) distribution is one of several distributions frequently used to model environmental extremes (for example, extreme temperatures and sea levels).  It is also fairly asymmetric, and thus interesting for investigating confidence intervals.  It is implemented in scipy.stats as [gumbel_r](https://docs.scipy.org/doc/scipy/reference/generated/scipy.stats.gumbel_r.html), where the appendix \"\\_r\" denotes the right-skewed version of the Gumbel distribution (as opposed to the left-skewed)."
   ]
  },
  {
   "cell_type": "markdown",
   "metadata": {},
   "source": [
    "**Part A**: Complete the following code cell to plot a histogram of 100 realizations from the Gumbel distribution with parameters $\\mu=8$ (location) and $\\beta=2$ (scale).  Be sure to leave this cell executed before turning in your assignment! Make your histogram faces coral with gray edges."
   ]
  },
  {
   "cell_type": "code",
   "execution_count": 2,
   "metadata": {},
   "outputs": [
    {
     "name": "stdout",
     "output_type": "stream",
     "text": [
      "8.868233238166155\n"
     ]
    },
    {
     "data": {
      "image/png": "[encoded data removed]",
      "text/plain": [
       "<Figure size 576x288 with 1 Axes>"
      ]
     },
     "metadata": {
      "needs_background": "light"
     },
     "output_type": "display_data"
    }
   ],
   "source": [
    "mu = 8\n",
    "beta = 2\n",
    "n_sample = 100\n",
    "x = stats.gumbel_r.rvs(loc=mu, scale=beta, size=n_sample )\n",
    "print(np.mean(x))\n",
    "fig, ax = plt.subplots(nrows=1, ncols=1, figsize=(8,4))\n",
    "\n",
    "plt.hist(x, color=\"coral\", edgecolor=\"grey\", bins=20, density = True)\n",
    "ax.grid(alpha=0.25)\n",
    "ax.set_axisbelow(True)\n",
    "ax.set_xlabel(\"x\", fontsize=16)\n",
    "ax.set_ylabel(\"Density\", fontsize=16)\n",
    "ax.set_title(r'Gumbel($\\mu=${}, $\\beta=${})'.format(mu,beta));\n",
    "plt.xlim([0,30])\n",
    "plt.show()\n",
    "\n",
    "# Your code goes here!\n"
   ]
  },
  {
   "cell_type": "code",
   "execution_count": null,
   "metadata": {},
   "outputs": [],
   "source": []
  },
  {
   "cell_type": "markdown",
   "metadata": {},
   "source": [
    "**Part B:** Look up the analytical mean and variance of the Gumbel distribution with parameters $\\mu=8$ and $\\beta=2$ and calculate them here by hand.  Note that the Euler–Mascheroni constant can be accessed via `np.euler_gamma`. Note that the version of the Gumbel we are using is *right-skewed*, and is the version used to model maximal extreme events.\n",
    "\n",
    "Use the empirical mean from your sample in **Part A**, and the true variance of the Gumbel distribution to compute by hand a 95% confidence interval for the mean."
   ]
  },
  {
   "cell_type": "markdown",
   "metadata": {
    "collapsed": true
   },
   "source": [
    "**Part B Solution:**\n",
    "\n",
    "Mean of Gumbel Distribution:\n",
    "\n",
    "$$E[x] = \\mu + \\beta *\\gamma = 8 + 2 * 0.5772 = 9.154 $$\n",
    "$$\\text{var}(X) = \\frac{\\pi^2}{6} \\beta^2 = \\frac{\\pi^2}{6} 2^2 = 6.579 $$\n",
    "\n",
    "The empirical mean $\\bar{x} = 9.313$ and the true variance var = 6.579, we can compute 95% confidence interval:\n",
    "\n",
    "$$CI = \\bar{x} \\pm z_{(0.05/2)} \\sqrt{\\frac{\\text{var}(X)}{n}} $$\n",
    "\n",
    "$z_{0.05/2} = stats.norm.ppf(1-(0.05/2)) = 1.960$\n",
    "\n",
    "$n=100$\n",
    "\n",
    "So we have: $$CI = \\left[9.313 - 1.96 \\sqrt{\\frac{6.579}{100}},~~9.313 + 1.96 \\sqrt{\\frac{6.579}{100}} \\right]$$\n",
    "\n",
    "$$\\fbox{CI = [8.810, 9.816]}$$"
   ]
  },
  {
   "cell_type": "code",
   "execution_count": 3,
   "metadata": {},
   "outputs": [
    {
     "name": "stdout",
     "output_type": "stream",
     "text": [
      "0.5772156649015329\n",
      "9.154431329803066\n",
      "6.579736267392906\n",
      "empirical mean from part A: 8.868\n",
      "z_(0.05/2)= 1.960\n",
      "CI using empirical mean: [8.810, 9.816]\n",
      "CI using true mean: [8.652, 9.657]\n"
     ]
    }
   ],
   "source": [
    "print(np.euler_gamma)\n",
    "mean_ = 8 + 2*np.euler_gamma\n",
    "print(mean_)\n",
    "print((np.pi**2/6)*4)\n",
    "\n",
    "print(\"empirical mean from part A: {:.03f}\".format(np.mean(x)))\n",
    "z_ = (1 - 0.95)\n",
    "print(\"z_(0.05/2)= {:0.3f}\".format(stats.norm.ppf(1-(0.05/2))))\n",
    "L = (9.313 - (1.96*(np.sqrt(6.579/100))))\n",
    "R = (9.313 + 1.96*(np.sqrt(6.579/100)))\n",
    "print(\"CI using empirical mean: [{:0.3f}, {:0.3f}]\".format(L, R))\n",
    "\n",
    "L1 = (mean_ - (1.96*(np.sqrt(6.579/100))))\n",
    "R1 = (mean_ + 1.96*(np.sqrt(6.579/100)))\n",
    "print(\"CI using true mean: [{:0.3f}, {:0.3f}]\".format(L1, R1))"
   ]
  },
  {
   "cell_type": "code",
   "execution_count": null,
   "metadata": {},
   "outputs": [],
   "source": []
  },
  {
   "cell_type": "markdown",
   "metadata": {},
   "source": [
    "**Part C:  A theoretical interlude.** When Amy, the famous hedgehog data scientist, ran her solution code for **Part B**, she obtained a 95% confidence interval of $[8.81, 9.82]$ for the mean of the $Gum(\\mu=8, \\beta=2)$ distribution. For each of the following, explain why or why not the situation described is correct, given the technical definition of a 95% confidence interval we went over in class.\n",
    "\n",
    "**(i)** If you had no other evidence regarding true mean of the $Gum(\\mu=8, \\beta=2)$ distribution, you could say there is a 95% chance that its true mean falls between 8.81 and 9.82.\n",
    "\n",
    "**(ii)** If a class of 100 students all construct 95% confidence intervals for the mean of the $Gum(\\mu=8, \\beta=2)$ distribution, then we expect about 95 of their CIs to contain the true mean, and about 5 of them to miss the true mean.\n",
    "\n",
    "**(iii)** If we sample 100 random variables from the $Gum(\\mu=8, \\beta=2)$ distribution, then roughly 95% of them will be between 8.81 and 9.82."
   ]
  },
  {
   "cell_type": "markdown",
   "metadata": {
    "collapsed": true
   },
   "source": [
    "**Part C Solution:**\n",
    "\n",
    "**(i)** That's not true because the confidence level is not about any particular interval.\n",
    "\n",
    "**(ii)** That's true because this is exactly the definition of a 95% confidence interval, if we flip th coin, it's shown up head of 95% confidence intervals , we expect them to actually capture the mean about 95% of the flip.\n",
    "\n",
    "**(iii)** That's false because confidence intervals are about sampling for the mean of a distribution, not any particular element from the population.\n"
   ]
  },
  {
   "cell_type": "code",
   "execution_count": null,
   "metadata": {},
   "outputs": [],
   "source": []
  },
  {
   "cell_type": "markdown",
   "metadata": {},
   "source": []
  },
  {
   "cell_type": "markdown",
   "metadata": {},
   "source": [
    "**Part D:** In this part you'll write a function to investigate the _coverage properties_ of a confidence interval for the mean of the Gumbel distribution. Complete the following function to randomly sample $m=500$ sample means with sample size $n=100$ for the Gumbel distribution with parameters $\\mu=8$ and $\\beta=2$.  For each random sample, compute the 66% confidence interval for the mean. Note that you actually know the variance for the true population distribution, $\\sigma^2$ from Part B.  Your function should do two things: \n",
    "\n",
    "1. Report the proportion of confidence intervals that successfully cover the true mean of the distribution \n",
    "2. Make a plot of 50 randomly selected confidence intervals. Overlay the intervals on the line $y=\\textrm{True mean}$ (from **Part B**). Color confidence intervals steelblue if they cover the true mean, and coral if they don't.  \n",
    "\n",
    "Be sure to leave this cell executed before turning in your assignment!"
   ]
  },
  {
   "cell_type": "code",
   "execution_count": 4,
   "metadata": {},
   "outputs": [
    {
     "name": "stdout",
     "output_type": "stream",
     "text": [
      "Proportion of confidence interval:0.656 \n"
     ]
    },
    {
     "data": {
      "image/png": "[encoded data removed]",
      "text/plain": [
       "<Figure size 1080x432 with 1 Axes>"
      ]
     },
     "metadata": {
      "needs_background": "light"
     },
     "output_type": "display_data"
    }
   ],
   "source": [
    "# GIVEN CODE:\n",
    "\n",
    "def confidence_intervals(m=500, n=100):\n",
    "    mu = 8\n",
    "    beta = 2\n",
    "    \n",
    "    #calculate true mean\n",
    "    EX = mu + beta*np.euler_gamma\n",
    "    \n",
    "    #calculate variance\n",
    "    var = ((np.pi*beta)**2)/6\n",
    "    \n",
    "    #calculate standard deviation\n",
    "    SE = np.sqrt(var/n)\n",
    "    \n",
    "    #calcualte z critical\n",
    "    z_crit = stats.norm.ppf((1-(1-0.66)/2))\n",
    "    CIs = np.zeros((m,2))\n",
    "    \n",
    "    crt = 0\n",
    "    for i in range(m):\n",
    "        x = stats.gumbel_r.rvs(loc=mu, scale=beta, size=n)\n",
    "        xbar = np.mean(x)\n",
    "        CImin = xbar - z_crit * SE\n",
    "        CImax = xbar + z_crit * SE\n",
    "        #add to column 1\n",
    "        CIs[i,0] = CImin\n",
    "        #add to column 2\n",
    "        CIs[i,1] = CImax\n",
    "        if CImin <= EX and EX <= CImax:\n",
    "            crt += 1\n",
    "        else:\n",
    "            crt += 0\n",
    "    \n",
    "    print(\"Proportion of confidence interval:{:0.3f} \".format(crt/m))\n",
    "    \n",
    "    fig, ax = plt.subplots(nrows=1, ncols=1, figsize=(15,6))\n",
    "    #get a random sample mean for lower and upper bound\n",
    "    for ii, row in enumerate(np.random.choice(range(m), size= 50, replace=False)):\n",
    "    \n",
    "        CImin, CImax= CIs[row,:]\n",
    "        if CImin <=EX and EX <= CImax:\n",
    "            color = \"steelblue\"\n",
    "        else:\n",
    "            color = \"coral\"\n",
    "        plt.plot([ii+1, ii+1], [CImax, CImin], color =color)\n",
    "        \n",
    "    plt.plot([0,51], [EX, EX], color=\"grey\", ls=\"--\")\n",
    "    ax.grid(alpha=0.25)\n",
    "\n",
    "confidence_intervals()"
   ]
  },
  {
   "cell_type": "code",
   "execution_count": null,
   "metadata": {},
   "outputs": [],
   "source": []
  },
  {
   "cell_type": "markdown",
   "metadata": {},
   "source": [
    "**Part E:** Does the proportion of confidence intervals that cover the true mean of the distribution agree with the theory described in class?  Justify your conclusion. "
   ]
  },
  {
   "cell_type": "markdown",
   "metadata": {
    "collapsed": true
   },
   "source": [
    "**Part E Solution:**\n",
    "\n",
    "Yes, it is because from the experiment above for m = 500 independent that created the confidence interval the 66% conver the mean 66.4% of the time. It's very close."
   ]
  },
  {
   "cell_type": "code",
   "execution_count": null,
   "metadata": {},
   "outputs": [],
   "source": []
  },
  {
   "cell_type": "markdown",
   "metadata": {},
   "source": [
    "---\n",
    "\n",
    "<a id='p2'></a>\n",
    "[Back to top](#top)\n",
    "\n",
    "### [20 points] Problem 2 - Taco Town!!\n",
    "\n",
    "You're an intern in the office of the City of Boulder's official Food Rater, and in order to support her in her extremely important job, you have to determine whether Taco Bell or Del Taco has the empirically better tacos. \n",
    "\n",
    "\"Don't worry,\" you tell your boss. \"I'll have you know I graduated top of my class from CU Boulder, and I've been involved in numerous data science operations on difficult data sets - many of which are hedgehog-related - and I have over 300 confirmed confidence intervals. I am trained in Numpy and Pandas and I'm the top data scientist in the entire campus.\"\n",
    "\n",
    "\"Weird flex but OK,\" your boss responds, and gives you the data. The data set consists of 100 diners who ate both Taco Bell and Del Taco, and rated their meal enjoyment at each. As is often the case with fast food taco establishments, each diner ate alone and each meal was followed by about 3 weeks of intense therapy, so the diners and meals may all be considered to be independent of one another. The meal enjoyment ratings are in units of *mehs*, where lower values denote more disgust and a worse meal, and higher values are better."
   ]
  },
  {
   "cell_type": "markdown",
   "metadata": {},
   "source": [
    "**Part A:** Import the data set `taco_time.csv` as a Pandas DataFrame.\n",
    "\n",
    "Then, plot a density histogram of the data. Include both Taco Bell and Del Taco on the same set of axes. Be sure to label your axes, and make the histogram faces slightly transparent and include a legend, so we can tell the two data sets apart. Use colors for each restaurant that are representative of that restaurant's logo or branding.\n",
    "\n",
    "Finally, formulate a hypothesis about which restaurant has the higher mean meal enjoyment."
   ]
  },
  {
   "cell_type": "code",
   "execution_count": 5,
   "metadata": {},
   "outputs": [
    {
     "data": {
      "image/png": "[encoded data removed]",
      "text/plain": [
       "<Figure size 576x288 with 1 Axes>"
      ]
     },
     "metadata": {
      "needs_background": "light"
     },
     "output_type": "display_data"
    }
   ],
   "source": [
    "df=pd.read_csv('taco_time.csv')\n",
    "taco_bell = df[\"Taco Bell\"]\n",
    "del_taco = df[\"Del Taco\"]\n",
    "\n",
    "taco_color = [\"purple\", \"pink\"]\n",
    "del_color = [\"green\", \"red\"]\n",
    "fig, ax = plt.subplots(nrows=1, ncols=1, figsize=(8,4))\n",
    "taco_bell.hist(alpha=0.5,facecolor= taco_color[0], edgecolor=taco_color[1], label=\"Taco Bell\", density=True)\n",
    "del_taco.hist(alpha=0.5,facecolor=del_color[1], edgecolor=del_color[0], label=\"Del Taco\", density=True)\n",
    "ax.set_title('Taco Bell Vs Del Taco rate')\n",
    "ax.set_xlabel('data sets rate')\n",
    "ax.set_ylabel('Density')\n",
    "ax.grid(alpha=0.25)\n",
    "ax.set_axisbelow(True)\n",
    "plt.legend()\n",
    "plt.show()"
   ]
  },
  {
   "cell_type": "markdown",
   "metadata": {},
   "source": [
    "**Part A solution**\n",
    "\n",
    "From the graph, we can see that Taco bell has the higher mean meal enjoyment than Del Taco."
   ]
  },
  {
   "cell_type": "code",
   "execution_count": null,
   "metadata": {},
   "outputs": [],
   "source": []
  },
  {
   "cell_type": "markdown",
   "metadata": {},
   "source": [
    "**Part B:** Compute a 95% confidence interval for the mean enjoyment of Taco Bell meals, and a separate 95% confidence interval for the mean enjoyment of Del Taco meals. You can use Python as a calculator, but the set-up and groundwork for your computation should be in Markdown/MathJax.\n",
    "\n",
    "Based on those confidence intervals, can we conclude that the means are different at the 95% level of confidence?"
   ]
  },
  {
   "cell_type": "markdown",
   "metadata": {
    "collapsed": true
   },
   "source": [
    "**Part B Solution:**\n",
    "\n",
    "To compute 95% confidence interval $(\\alpha = 0.05)$ for the mean we apply this: $\\bar{x} \\pm z_{\\alpha/2}\\frac{S}{\\sqrt{n}}$\n",
    "\n"
   ]
  },
  {
   "cell_type": "code",
   "execution_count": 6,
   "metadata": {},
   "outputs": [
    {
     "name": "stdout",
     "output_type": "stream",
     "text": [
      "Taco Bell\n",
      "number of sample =  100\n",
      "xbar = -0.114\n",
      "Standard deviation: 1.883\n",
      "z critical value: 1.960\n",
      "-0.48275982761474\n",
      "0.25537617238526\n"
     ]
    }
   ],
   "source": [
    "print(\"Taco Bell\")\n",
    "xbar = taco_bell.mean()\n",
    "S = np.sqrt(taco_bell.var(ddof=1))\n",
    "z_ = stats.norm.ppf(1-(1-.95)/2)\n",
    "n = taco_bell.count()\n",
    "print(\"number of sample = \",n)\n",
    "print(\"xbar = {:0.3f}\".format(xbar))\n",
    "print(\"Standard deviation: {:0.3f}\".format(S))\n",
    "print(\"z critical value: {:0.3f}\".format(z_))\n",
    "print(xbar - 1.96*(1.883/np.sqrt(100)))\n",
    "print(xbar + 1.96*(1.883/np.sqrt(100)))"
   ]
  },
  {
   "cell_type": "code",
   "execution_count": 7,
   "metadata": {},
   "outputs": [
    {
     "name": "stdout",
     "output_type": "stream",
     "text": [
      "Del Taco\n",
      "number of sample =  100\n",
      "xbar = -0.834\n",
      "Standard deviation: 1.910\n",
      "z critical value: 1.960\n",
      "-1.2087071961220466\n",
      "-0.4599871961220464\n"
     ]
    }
   ],
   "source": [
    "print(\"Del Taco\")\n",
    "xbar_ = del_taco.mean()\n",
    "S_= np.sqrt(del_taco.var(ddof=1))\n",
    "z1_ = stats.norm.ppf(1-(1-.95)/2)\n",
    "n1 = del_taco.count()\n",
    "print(\"number of sample = \",n1)\n",
    "print(\"xbar = {:0.3f}\".format(xbar_))\n",
    "print(\"Standard deviation: {:0.3f}\".format(S_))\n",
    "print(\"z critical value: {:0.3f}\".format(z1_))\n",
    "print(xbar_ - 1.96*(1.91/np.sqrt(100)))\n",
    "print(xbar_ + 1.96*(1.91/np.sqrt(100)))"
   ]
  },
  {
   "cell_type": "markdown",
   "metadata": {},
   "source": [
    "95% confidence interval for $\\mu$ of Taco Bell:\n",
    "\n",
    "\n",
    "$\\begin{align}\n",
    "  CI &= \\bar{x}_{taco}\\pm z_{\\alpha/2}\\frac{S_{taco}}{\\sqrt{n_{taco}}} \\\\\n",
    "     &= (-0.114) + \\pm 1.96 \\cdot \\frac{1.883}{\\sqrt{100}} \\\\\n",
    "     &= -0.114 \\pm 0.369 \\\\\n",
    "     &= [-0.48, ~0.26]\n",
    "\\end{align}$\n",
    "\n",
    "95% confidence interval for $\\mu$ of  Del Taco:\n",
    "\n",
    "$\\begin{align}\n",
    "  CI &= \\bar{x}_{del}\\pm z_{\\alpha/2}\\frac{S_{del}}{\\sqrt{n_{del}}} \\\\\n",
    "     &= (-0.834) + \\pm 1.96 \\cdot \\frac{1.91}{\\sqrt{100}} \\\\\n",
    "     &= -0.834 \\pm 0.374 \\\\\n",
    "     &= [-1.21, ~-0.46]\n",
    "\\end{align}$\n",
    "\n",
    "**Conclusion:** These two means are overlop. So it's not sufficient evident to say about that.\n",
    "This result tells us nothing about how these two means compare."
   ]
  },
  {
   "cell_type": "code",
   "execution_count": null,
   "metadata": {},
   "outputs": [],
   "source": []
  },
  {
   "cell_type": "markdown",
   "metadata": {},
   "source": [
    "**Part C:** Compute a 95% confidence interval for the difference between the mean enjoyment of Taco Bell and Del Taco food. "
   ]
  },
  {
   "cell_type": "markdown",
   "metadata": {},
   "source": [
    "**Part C Solution:**\n",
    "\n",
    "95% confidence interval for the difference between the mean enjoyment of Taco Bell and Del Taco:\n",
    "\n",
    "$\\begin{align}\n",
    "  CI &= \\bar{x}_{taco} -\\bar{x}_{del} \\pm z_{\\alpha/2} \\cdot \\sqrt{\\dfrac{var_{taco}}{n_{taco}} + \\dfrac{var_{del}}{n_{del}}} \\\\\n",
    "     &= (-0.114) - (-0.834)  \\pm 1.96 \\cdot \\sqrt{\\dfrac{3.544}{100} + \\dfrac{3.647}{100}  } \\\\\n",
    "     &= 0.721 \\pm 1.662 \\\\\n",
    "     &= [0.195, ~1.246]\n",
    "\\end{align}$\n",
    "\n",
    "\n",
    "\n"
   ]
  },
  {
   "cell_type": "code",
   "execution_count": 8,
   "metadata": {},
   "outputs": [
    {
     "name": "stdout",
     "output_type": "stream",
     "text": [
      "0.7206553685073065\n",
      "varian of Taco Bell: 3.5438\n",
      "varian of Del Taco: 3.6468\n",
      "0.5255789102400282\n",
      "The different in mean CI: [0.195, 1.246]\n"
     ]
    }
   ],
   "source": [
    "xbar_diff = taco_bell.mean() - del_taco.mean()\n",
    "print(xbar_diff)\n",
    "var_taco= taco_bell.var(ddof=1)\n",
    "var_del = del_taco.var(ddof=1)\n",
    "print(\"varian of Taco Bell: {:.04f}\".format(var_taco))\n",
    "print(\"varian of Del Taco: {:.04f}\".format(var_del))\n",
    "SE_diff = np.sqrt(var_taco/100 + var_del/100)\n",
    "print(1.96*SE_diff)\n",
    "print(\"The different in mean CI: [{:.03f}, {:.03f}]\".format((xbar_diff - 1.96*SE_diff),(xbar_diff + 1.96*SE_diff)))"
   ]
  },
  {
   "cell_type": "markdown",
   "metadata": {},
   "source": []
  },
  {
   "cell_type": "code",
   "execution_count": null,
   "metadata": {},
   "outputs": [],
   "source": []
  },
  {
   "cell_type": "markdown",
   "metadata": {},
   "source": [
    "**Part D:** Comment on how the results from this two-sample confidence interval compare to the results from the separate one-sample confidence intervals. In 1-2 sentences, discuss how these results confirm, disprove, or otherwise relate to your hypothesis from Part A."
   ]
  },
  {
   "cell_type": "markdown",
   "metadata": {},
   "source": [
    "**Part D Solution:**\n",
    "So the different in means confident interval of $95\\%$ does not covers zero. It means that $95\\%$ confidence level, there is a statistically significant difference in the means."
   ]
  },
  {
   "cell_type": "code",
   "execution_count": null,
   "metadata": {},
   "outputs": [],
   "source": []
  },
  {
   "cell_type": "markdown",
   "metadata": {},
   "source": [
    "---\n",
    "[Back to top](#top)\n",
    "<a id='p3'></a>\n",
    "\n",
    "### [20 points] Problem 3 - Evaluating Vehicle Performance \n",
    "\n",
    "A [1983 study](http://citeseerx.ist.psu.edu/viewdoc/download?doi=10.1.1.34.6358&rep=rep1&type=pdf) evaluated the gas mileage of a variety of cars manufactured between 1970 and 1983. The study also compiled other interesting attributes for each vehicle, but we will focus on the number of cylinders in the engine for this problem. More information on the data is available [here](https://archive.ics.uci.edu/ml/machine-learning-databases/auto-mpg/). Gas mileage is measured in miles-per-gallon, or mpg.\n",
    "\n",
    "**Part A:** Read the data set and store as a Pandas DataFrame. You will need figure out what additional arguments to `pd.read_csv()` must be provided in order to read the data set properly, based on what represents a separation between two columns of data.\n",
    "\n",
    "Then, be sure to give all of the columns informative names, if they do not already have some.\n",
    "\n",
    "Finally, use `drop_na()` to drop any rows with missing values. Missing values are reported with a \"?\"."
   ]
  },
  {
   "cell_type": "code",
   "execution_count": 9,
   "metadata": {},
   "outputs": [
    {
     "data": {
      "text/html": [
       "<div>\n",
       "<style scoped>\n",
       "    .dataframe tbody tr th:only-of-type {\n",
       "        vertical-align: middle;\n",
       "    }\n",
       "\n",
       "    .dataframe tbody tr th {\n",
       "        vertical-align: top;\n",
       "    }\n",
       "\n",
       "    .dataframe thead th {\n",
       "        text-align: right;\n",
       "    }\n",
       "</style>\n",
       "<table border=\"1\" class=\"dataframe\">\n",
       "  <thead>\n",
       "    <tr style=\"text-align: right;\">\n",
       "      <th></th>\n",
       "      <th>mpg</th>\n",
       "      <th>cylinders</th>\n",
       "      <th>displacement</th>\n",
       "      <th>horsepower</th>\n",
       "      <th>weight</th>\n",
       "      <th>acceleration</th>\n",
       "      <th>model year</th>\n",
       "      <th>origin</th>\n",
       "      <th>car name</th>\n",
       "    </tr>\n",
       "  </thead>\n",
       "  <tbody>\n",
       "    <tr>\n",
       "      <th>0</th>\n",
       "      <td>18.0</td>\n",
       "      <td>8</td>\n",
       "      <td>307.0</td>\n",
       "      <td>130.0</td>\n",
       "      <td>3504.0</td>\n",
       "      <td>12.0</td>\n",
       "      <td>70</td>\n",
       "      <td>1</td>\n",
       "      <td>chevrolet chevelle malibu</td>\n",
       "    </tr>\n",
       "    <tr>\n",
       "      <th>1</th>\n",
       "      <td>15.0</td>\n",
       "      <td>8</td>\n",
       "      <td>350.0</td>\n",
       "      <td>165.0</td>\n",
       "      <td>3693.0</td>\n",
       "      <td>11.5</td>\n",
       "      <td>70</td>\n",
       "      <td>1</td>\n",
       "      <td>buick skylark 320</td>\n",
       "    </tr>\n",
       "    <tr>\n",
       "      <th>2</th>\n",
       "      <td>18.0</td>\n",
       "      <td>8</td>\n",
       "      <td>318.0</td>\n",
       "      <td>150.0</td>\n",
       "      <td>3436.0</td>\n",
       "      <td>11.0</td>\n",
       "      <td>70</td>\n",
       "      <td>1</td>\n",
       "      <td>plymouth satellite</td>\n",
       "    </tr>\n",
       "    <tr>\n",
       "      <th>3</th>\n",
       "      <td>16.0</td>\n",
       "      <td>8</td>\n",
       "      <td>304.0</td>\n",
       "      <td>150.0</td>\n",
       "      <td>3433.0</td>\n",
       "      <td>12.0</td>\n",
       "      <td>70</td>\n",
       "      <td>1</td>\n",
       "      <td>amc rebel sst</td>\n",
       "    </tr>\n",
       "    <tr>\n",
       "      <th>4</th>\n",
       "      <td>17.0</td>\n",
       "      <td>8</td>\n",
       "      <td>302.0</td>\n",
       "      <td>140.0</td>\n",
       "      <td>3449.0</td>\n",
       "      <td>10.5</td>\n",
       "      <td>70</td>\n",
       "      <td>1</td>\n",
       "      <td>ford torino</td>\n",
       "    </tr>\n",
       "  </tbody>\n",
       "</table>\n",
       "</div>"
      ],
      "text/plain": [
       "    mpg  cylinders  displacement horsepower  weight  acceleration  model year  \\\n",
       "0  18.0          8         307.0      130.0  3504.0          12.0          70   \n",
       "1  15.0          8         350.0      165.0  3693.0          11.5          70   \n",
       "2  18.0          8         318.0      150.0  3436.0          11.0          70   \n",
       "3  16.0          8         304.0      150.0  3433.0          12.0          70   \n",
       "4  17.0          8         302.0      140.0  3449.0          10.5          70   \n",
       "\n",
       "   origin                   car name  \n",
       "0       1  chevrolet chevelle malibu  \n",
       "1       1          buick skylark 320  \n",
       "2       1         plymouth satellite  \n",
       "3       1              amc rebel sst  \n",
       "4       1                ford torino  "
      ]
     },
     "execution_count": 9,
     "metadata": {},
     "output_type": "execute_result"
    }
   ],
   "source": [
    "dfMPG = pd.read_csv('auto-mpg.data',sep='\\s+', header = None) # TODO - need extra arguments to read correctly\n",
    "\n",
    "# More processing code should go here!\n",
    "dfMPG.head()\n",
    "\n",
    "dfMPG.columns = [\"mpg\", \"cylinders\", \"displacement\", 'horsepower', 'weight', \"acceleration\", \"model year\" ,\"origin\", \"car name\"]\n",
    "\n",
    "dfMPG =dfMPG.replace({\"?\":np.nan})\n",
    "\n",
    "dfMPG.dropna()\n",
    "dfMPG.head()\n",
    "\n"
   ]
  },
  {
   "cell_type": "code",
   "execution_count": null,
   "metadata": {},
   "outputs": [],
   "source": []
  },
  {
   "cell_type": "markdown",
   "metadata": {},
   "source": [
    "**Part B**: Assuming the data in this sample are representative of cars from the 1970-1983 time period, find a 90% confidence interval for the mean gas mileage (mpg) of all vehicles from this period. Can we conclude that the mean gas mileage is higher than 20 mpg? Be sure to show all calculations in Python. "
   ]
  },
  {
   "cell_type": "code",
   "execution_count": 10,
   "metadata": {},
   "outputs": [
    {
     "name": "stdout",
     "output_type": "stream",
     "text": [
      "90% confidence interval for the mean gas mileage: [22.870 , 24.159]\n"
     ]
    }
   ],
   "source": [
    "alpha = (1-0.90)\n",
    "z = stats.norm.ppf(1-alpha/2)\n",
    "xbar = dfMPG[\"mpg\"].mean()\n",
    "n = len(dfMPG)\n",
    "std = dfMPG[\"mpg\"].std(ddof =1)\n",
    "CILower = xbar - z*(std/np.sqrt(n))\n",
    "CIUpper = xbar + z*(std/np.sqrt(n))\n",
    "print(\"90% confidence interval for the mean gas mileage: [{:.03f} , {:.03f}]\".format(CILower, CIUpper))"
   ]
  },
  {
   "cell_type": "markdown",
   "metadata": {},
   "source": [
    "**Part B Solution:**\n",
    "    \n",
    "A 90% confidence interval is [22.870, 24.159] mpg. Therefore, we can conclude that there is sufficient evidence that the mean gas milege is better than 20 mpg at the 90% confidence level."
   ]
  },
  {
   "cell_type": "code",
   "execution_count": null,
   "metadata": {},
   "outputs": [],
   "source": []
  },
  {
   "cell_type": "markdown",
   "metadata": {},
   "source": [
    "**Part C**: You are considering buying a new car, but since [gas prices have recently increased dramatically](https://www.energy.gov/eere/vehicles/fact-915-march-7-2016-average-historical-annual-gasoline-pump-price-1929-2015), you are concerned about getting good fuel economy.\n",
    "\n",
    "Using an appropriate *hypothesis test*, can you conclude at the $\\alpha=0.01$ significance level that the mean gas mileage for vehicles with 4 or 6 cylinder engines is more than 10 mpg better than the mean gas mileage for vehicles with 8 cylinder engines? You may consider two populations here: those vehicles with 4 or 6 cylinders, and those vehicles with 8 cylinders in their engines. Be sure to clearly describe your hypotheses and methodology, and show all relevant computations in Python. "
   ]
  },
  {
   "cell_type": "markdown",
   "metadata": {},
   "source": [
    "**Part C Solution:**\n",
    "\n",
    "Let $\\mu_{1}$ be the true mean gas mileage for vehicles with 4 or 6 cylinder engines repeatly.\n",
    "\n",
    "Let $\\mu_{2}$ be the true mean gas mileage for vehicles with 8 cylinder engines repeatly.\n",
    "\n",
    "Let $\\bar{x}_1$ and $\\bar{x}_2$ be the sample mean for these two group.\n",
    "\n",
    "Let ${s_{1}}$ and ${s_{2}}$ be the sample standard deviation for these two group.\n",
    "\n",
    "we want to test hypothese:\n",
    "$$H_0 : \\mu_{1} - \\mu_{2} = 10$$\n",
    "$$H_1 : \\mu_{1} - \\mu_{2} > 10$$\n",
    "\n",
    "So, our test statistic is :\n",
    "$$Z = \\frac{\\bar{x}_1 - \\bar{x}_2 - 10}{\\sqrt{\\frac{s_{1}^2}{n_1} + \\frac{s_{2}^2}{n_2}}} $$\n",
    "\n",
    "We perform the test using rejection regions. Reject the Null Hypothesis if $Z > z_{0.01}$, otherwise fail to reject Null Hypothesis.\n",
    "\n",
    "Since our calculation got $Z = 3.3797 > z_{0.01} = 2.3263$, we **reject the Null Hypothesis** that mean gas mileage for vehicles with 4 or 6 cylinder engines is more than 10 mpg better than the mean gas mileage for vehicles with 8 cylinder engines.\n",
    "\n",
    "Since our p-value $= 0.0004$ is less than $\\alpha = 0.01$, we **reject the Null Hypothesis**."
   ]
  },
  {
   "cell_type": "code",
   "execution_count": 11,
   "metadata": {},
   "outputs": [
    {
     "name": "stdout",
     "output_type": "stream",
     "text": [
      "Z critical value: 2.3263\n",
      "Test Statistic Z: 3.3229\n",
      "P-value: 0.0004\n"
     ]
    }
   ],
   "source": [
    "alpha = 0.01\n",
    "print(\"Z critical value: {:.04f}\".format(stats.norm.ppf(1-alpha)))\n",
    "\n",
    "#find sample mean\n",
    "xbar46 = dfMPG.loc[(dfMPG.cylinders == 4) | (dfMPG.cylinders == 6), \"mpg\"].mean()\n",
    "xbar8 = dfMPG.loc[(dfMPG.cylinders == 8), \"mpg\"].mean()\n",
    "\n",
    "#find sample number\n",
    "n46 = np.sum(dfMPG.cylinders==4) + np.sum(dfMPG.cylinders == 6)\n",
    "n8 = np.sum(dfMPG.cylinders==8)\n",
    "\n",
    "#find sample variance \n",
    "var46 = dfMPG.loc[(dfMPG.cylinders==4) | (dfMPG.cylinders==6), \"mpg\"].var()\n",
    "var8 = dfMPG.loc[dfMPG.cylinders==8, \"mpg\"].var()\n",
    "\n",
    "#find sample standard deviation error\n",
    "SE = np.sqrt(var46/n46 + var8/n8)\n",
    "\n",
    "Z_ts = (xbar46 - xbar8 - 10) / SE\n",
    "\n",
    "print(\"Test Statistic Z: {:.04f}\".format(Z_ts))\n",
    "print(\"P-value: {:.04f}\".format(1-stats.norm.cdf(Z_ts)))\n"
   ]
  },
  {
   "cell_type": "code",
   "execution_count": null,
   "metadata": {},
   "outputs": [],
   "source": []
  },
  {
   "cell_type": "markdown",
   "metadata": {},
   "source": [
    "---\n",
    "[Back to top](#top)\n",
    "<a id='p4'></a>\n",
    "\n",
    "### [20 points] Problem 4 - Grab bag!\n",
    "\n"
   ]
  },
  {
   "cell_type": "markdown",
   "metadata": {},
   "source": [
    "<img src=\"http://blog.localditch.com/wp-content/uploads/2011/01/sonic4.jpg\" style=\"width: 400px;\"/>\n",
    "\n",
    "**Part A**: You work for an engineering firm that has been hired to construct a corkscrew-shaped looped path for hedgehogs to run on and collect gold rings. Thousands of hedgehogs will run along this path each day, so structural failure means injury or death for many wonderful little creatures. \n",
    "\n",
    "You are in charge of quality control for the average strength of carbon fiber that will be used to construct the corkscrew path. Thinking back fondly to your days in CSCI 3022, you set up a hypothesis test in which your alternative hypothesis is that the strength of the carbon fiber is below tolerance, and therefore unsafe. What is the null hypothesis? Would you rather have a low Type I error rate or a low Type II error rate? Explain."
   ]
  },
  {
   "cell_type": "markdown",
   "metadata": {},
   "source": [
    "**Part A Solutions:**\n",
    "\n",
    "The null hypothesis is the strength of carbon fiber is above the tolerance.\n",
    "\n",
    "If the alternative hypothesis is that the strength of the carbon fiber is below, and therefore unsafe, then we would rather have a low Type II error rate because we want to have error on the side of rejection. "
   ]
  },
  {
   "cell_type": "code",
   "execution_count": null,
   "metadata": {},
   "outputs": [],
   "source": []
  },
  {
   "cell_type": "markdown",
   "metadata": {},
   "source": [
    "\n"
   ]
  },
  {
   "cell_type": "markdown",
   "metadata": {},
   "source": [
    "**Part B**: Amy, the famous hedgehog data scientist, is working for the same engineering firm as you. She is a legend around the office! Word around the water cooler is that out of all of the 95% confidence intervals that Amy has constructed, 931 of them have turned out to actually capture the true population mean. Since Amy is a data science wizard and you can be sure she is constructing her confidence intervals correctly and collecting and using her data honestly, about how many 95% confidence intervals would you expect her to have constructed total? Explain your reasoning fully with words as well as some math."
   ]
  },
  {
   "cell_type": "markdown",
   "metadata": {},
   "source": [
    "**Part B Solution:**\n",
    "\n",
    "Amy has captured $931$ that is the true population mean of $95\\%$ confidence intervals, so we would expect her to have constructed total:\n",
    "$$\n",
    " \\text{total} = \\frac{931}{0.95} = 980\n",
    "$$"
   ]
  },
  {
   "cell_type": "code",
   "execution_count": 12,
   "metadata": {},
   "outputs": [
    {
     "data": {
      "text/plain": [
       "980.0"
      ]
     },
     "execution_count": 12,
     "metadata": {},
     "output_type": "execute_result"
    }
   ],
   "source": [
    "931/.95"
   ]
  },
  {
   "cell_type": "markdown",
   "metadata": {},
   "source": []
  },
  {
   "cell_type": "markdown",
   "metadata": {},
   "source": [
    "**Part C**: As part of an outreach program, you and Amy are visiting a local elementary school to talk to the students about data science. What a riot! One of the more astute students asks you a question: \"In general, which is wider: a 95% confidence interval or a 99% confidence interval?\"\n",
    "\n",
    "How would you explain this to these young students, who are not fluent in any kind of science? (So, for example, spouting off theory and words like \"mean\" and \"z critical value\" probably won't mean anything to them.)"
   ]
  },
  {
   "cell_type": "markdown",
   "metadata": {},
   "source": [
    "**Part C Solutions:**\n",
    "\n",
    "A 99% confidence interval is wider because a 99% confidence interval have the true mean in its 99% of the time. However, a 95% confidence interval will have true mean in it only 95% of the time. So a 95% confidence interval has to be smaller than a 99% confidence interval. Like you have a bigger bags, you can put more fruits."
   ]
  },
  {
   "cell_type": "code",
   "execution_count": null,
   "metadata": {},
   "outputs": [],
   "source": []
  },
  {
   "cell_type": "markdown",
   "metadata": {},
   "source": [
    "**Part D:** You observe a sample of 73 pygmy hedgehogs and find that 49 of them are fantastic pets. Then, you observe a sample of 58 long-eared hedgehogs and find that 51 of them are fantastic pets.\n",
    "\n",
    "Is there statistical evidence at the 0.05 significance level that the true proportion of long-eared hedgehogs that make fantastic pets is 10% higher than the true proportion of pygmy hedgehogs that make fantastic pets? Perform a test that computes and properly interprets a p-value."
   ]
  },
  {
   "cell_type": "markdown",
   "metadata": {},
   "source": [
    "**PartD Solution:**\n",
    "\n",
    "Let $p_1$ be population of long-eared hedgehogs and $\\hat{p}_1$ be the population proportion of long-eared hedgehogs\n",
    "\n",
    "Let $p_2$ be population of pygmy hedgehogs, and $\\hat{p}_2$ be the population proportion of pygmy hedgehogs$\n",
    "\n",
    "Let start with null and alternative hypothesis:\n",
    "\n",
    "$$ H_0 : p_1 - p_2 = 0.1 $$\n",
    "$$ H_1 : p_1 > p_2 + 0.1 $$\n",
    "$$ Z = \\frac{ \\hat{p}_1 - \\hat{p}_2 - 0.1}{\\sqrt{\\dfrac{\\hat{p}_1(1-\\hat{p}_1)}{n_1} + \\dfrac{\\hat{p}_2(1-\\hat{p}_2)}{n_2} }}$$"
   ]
  },
  {
   "cell_type": "code",
   "execution_count": 13,
   "metadata": {},
   "outputs": [
    {
     "name": "stdout",
     "output_type": "stream",
     "text": [
      "z test statistic 1.551\n"
     ]
    }
   ],
   "source": [
    "phat1 = 51/58\n",
    "n1 = 58\n",
    "phat2 = 49/73\n",
    "n2 = 73\n",
    "p2 = phat2*(1- phat2)/n2\n",
    "p1 = phat1*(1- phat1)/n1\n",
    "z_ = (phat1 - phat2 - .1)/np.sqrt(p1+p2)\n",
    "print(\"z test statistic {:.03f}\".format(z_))"
   ]
  },
  {
   "cell_type": "code",
   "execution_count": 14,
   "metadata": {},
   "outputs": [
    {
     "name": "stdout",
     "output_type": "stream",
     "text": [
      "z critical value: 1.645\n",
      "P value: 0.060\n"
     ]
    }
   ],
   "source": [
    "zcrt = stats.norm.ppf(.95)\n",
    "print(\"z critical value: {:.03f}\".format(zcrt))\n",
    "print(\"P value: {:.03f}\".format(1- stats.norm.cdf(z_)))"
   ]
  },
  {
   "cell_type": "markdown",
   "metadata": {},
   "source": [
    "**P-value test**\n",
    "\n",
    "Since p > 0.05, so we fail to reject null hopothesis."
   ]
  },
  {
   "cell_type": "code",
   "execution_count": null,
   "metadata": {},
   "outputs": [],
   "source": []
  },
  {
   "cell_type": "markdown",
   "metadata": {},
   "source": [
    "**Part E**: Let $X$ be a normally-distributed random variable representing the difficulty of a homework problem in CSCI 3022. You draw from it more times than you care to count during the Spring 2019 semester and get the following values, stored in the numpy array **toughness**, below. Compute a 90% confidence interval for the _standard deviation_ in problem toughness."
   ]
  },
  {
   "cell_type": "code",
   "execution_count": null,
   "metadata": {},
   "outputs": [],
   "source": []
  },
  {
   "cell_type": "code",
   "execution_count": 15,
   "metadata": {},
   "outputs": [],
   "source": [
    "toughness = np.array([7.7778,6.9459,5.8248,9.1111,6.0180,5.0898,7.0380,8.9273,2.9614,5.8387,6.0231])"
   ]
  },
  {
   "cell_type": "code",
   "execution_count": 16,
   "metadata": {},
   "outputs": [
    {
     "name": "stdout",
     "output_type": "stream",
     "text": [
      "CI: for standard deviation: [1.2948, 2.7910 ]\n",
      "standard Deviation: 1.7520\n"
     ]
    }
   ],
   "source": [
    "alpha = 1 - .90\n",
    "n = len(toughness)\n",
    "degreeOfFreedom = n -1\n",
    "sampleVar = np.var(toughness, ddof=1)\n",
    "\n",
    "Lower = np.sqrt((n-1)*sampleVar/stats.chi2.ppf(1-alpha/2, degreeOfFreedom))\n",
    "Upper = np.sqrt((n-1)*sampleVar/stats.chi2.ppf(alpha/2, degreeOfFreedom))\n",
    "print(\"CI: for standard deviation: [{:.4f}, {:.4f} ]\".format(Lower, Upper))\n",
    "print(\"standard Deviation: {:.04f}\".format(np.sqrt(sampleVar)))"
   ]
  },
  {
   "cell_type": "markdown",
   "metadata": {},
   "source": [
    "**Part E Solutions:**\n",
    "    \n",
    "A 90% confidence interval for the standard deviation is $\\fbox {CI = [ 1.2948, 2.7910]}$"
   ]
  },
  {
   "cell_type": "markdown",
   "metadata": {},
   "source": [
    "---\n",
    "\n",
    "<a id='p5'></a>\n",
    "[Back to top](#top)\n",
    "\n",
    "### [20 points] Problem 5 - Lies, damned lies, and statistics\n",
    "\n",
    "![frazz](http://3.bp.blogspot.com/-SbQUWRfHFXk/VdN8YWAy0WI/AAAAAAAAJLw/Ij5E0CbYk6g/s1600/lies3.gif)\n",
    "\n",
    "Legend of your Data Science prowess has spread o'er the land. You have been contacted by a shadowy organization to assess whether there is statistical evidence for sea-level rise in the area of Key West, Florida. You obtain from the University of Hawaii Sea Level Center's [gigantic repository of sea-level data](https://uhslc.soest.hawaii.edu/data/?rq) the daily mean sea levels file included in the zip folder for this assignment. The columns are, in order, the year, month, day-of-month and measured sea level (in millimeters)."
   ]
  },
  {
   "cell_type": "markdown",
   "metadata": {},
   "source": [
    "**Part A:** Load the data `sealevel_keywest.csv` into a Pandas DataFrame. Rename the columns as something meaningful in the context of this problem. Print to the screen the first 7 rows from your updated DataFrame."
   ]
  },
  {
   "cell_type": "code",
   "execution_count": 17,
   "metadata": {},
   "outputs": [
    {
     "data": {
      "text/html": [
       "<div>\n",
       "<style scoped>\n",
       "    .dataframe tbody tr th:only-of-type {\n",
       "        vertical-align: middle;\n",
       "    }\n",
       "\n",
       "    .dataframe tbody tr th {\n",
       "        vertical-align: top;\n",
       "    }\n",
       "\n",
       "    .dataframe thead th {\n",
       "        text-align: right;\n",
       "    }\n",
       "</style>\n",
       "<table border=\"1\" class=\"dataframe\">\n",
       "  <thead>\n",
       "    <tr style=\"text-align: right;\">\n",
       "      <th></th>\n",
       "      <th>Year</th>\n",
       "      <th>Month</th>\n",
       "      <th>Day</th>\n",
       "      <th>MSL</th>\n",
       "    </tr>\n",
       "  </thead>\n",
       "  <tbody>\n",
       "    <tr>\n",
       "      <th>0</th>\n",
       "      <td>1913</td>\n",
       "      <td>1</td>\n",
       "      <td>20</td>\n",
       "      <td>1453</td>\n",
       "    </tr>\n",
       "    <tr>\n",
       "      <th>1</th>\n",
       "      <td>1913</td>\n",
       "      <td>1</td>\n",
       "      <td>21</td>\n",
       "      <td>1439</td>\n",
       "    </tr>\n",
       "    <tr>\n",
       "      <th>2</th>\n",
       "      <td>1913</td>\n",
       "      <td>1</td>\n",
       "      <td>22</td>\n",
       "      <td>1444</td>\n",
       "    </tr>\n",
       "    <tr>\n",
       "      <th>3</th>\n",
       "      <td>1913</td>\n",
       "      <td>1</td>\n",
       "      <td>23</td>\n",
       "      <td>1489</td>\n",
       "    </tr>\n",
       "    <tr>\n",
       "      <th>4</th>\n",
       "      <td>1913</td>\n",
       "      <td>1</td>\n",
       "      <td>24</td>\n",
       "      <td>1474</td>\n",
       "    </tr>\n",
       "    <tr>\n",
       "      <th>5</th>\n",
       "      <td>1913</td>\n",
       "      <td>1</td>\n",
       "      <td>25</td>\n",
       "      <td>1442</td>\n",
       "    </tr>\n",
       "    <tr>\n",
       "      <th>6</th>\n",
       "      <td>1913</td>\n",
       "      <td>1</td>\n",
       "      <td>26</td>\n",
       "      <td>1467</td>\n",
       "    </tr>\n",
       "  </tbody>\n",
       "</table>\n",
       "</div>"
      ],
      "text/plain": [
       "   Year  Month  Day   MSL\n",
       "0  1913      1   20  1453\n",
       "1  1913      1   21  1439\n",
       "2  1913      1   22  1444\n",
       "3  1913      1   23  1489\n",
       "4  1913      1   24  1474\n",
       "5  1913      1   25  1442\n",
       "6  1913      1   26  1467"
      ]
     },
     "execution_count": 17,
     "metadata": {},
     "output_type": "execute_result"
    }
   ],
   "source": [
    "df = pd.read_csv(\"sealevel_keywest.csv\", header=None)\n",
    "df.rename(columns={0: \"Year\", 1:\"Month\", 2:\"Day\", 3:\"MSL\"}, inplace=True)\n",
    "df.head(7)\n"
   ]
  },
  {
   "cell_type": "markdown",
   "metadata": {},
   "source": [
    "**Part B:**  Plot the raw time series of sea levels. Be sure to label your axes, including units. For the $x$-axis, place the $x$ tick marks on January 2 of each year that is divisible by 10 (i.e., 1920, 1930, ...), and label with that year. You may need to do additional processing in order to grab these indices. "
   ]
  },
  {
   "cell_type": "code",
   "execution_count": 18,
   "metadata": {},
   "outputs": [
    {
     "data": {
      "image/png": "[encoded data removed]",
      "text/plain": [
       "<Figure size 1152x576 with 1 Axes>"
      ]
     },
     "metadata": {
      "needs_background": "light"
     },
     "output_type": "display_data"
    }
   ],
   "source": [
    "index_label = df.index[(df[\"Month\"]==1) & (df[\"Day\"]==2) & (df[\"Year\"]%10==0)]\n",
    "\n",
    "fig, ax = plt.subplots(nrows=1, ncols=1, figsize=(16,8))\n",
    "df[\"MSL\"].plot()\n",
    "ax.set_xticks(index_label)\n",
    "ax.set_xticklabels(df.loc[index_label, \"Year\"])\n",
    "ax.set_xlabel(\"Year\")\n",
    "ax.set_ylabel(\"Sea level(mm)\")\n",
    "ax.set_title(\"Sea Level in Key West\");"
   ]
  },
  {
   "cell_type": "markdown",
   "metadata": {},
   "source": [
    "**Part C:** Your time series plot from Part B should look pretty funky. Namely, there are a bunch of spikes in it! What do you think these spikes represent?\n",
    "\n",
    "Now, clean your data set by doing the following:\n",
    "* Remove any data points associated with these spikes. You may need to look back to some of the earlier in-class notebooks and Pandas tutorials for how to drop data points from a Pandas DataFrame. \n",
    "* Include only the data point from the second day of each month.\n",
    "* Convert the sea-level data from millimeters to feet.\n",
    "\n",
    "Then, make a similar plot to Part B, but of your cleaned data set. Be sure to label axes (including units) and only label January 2 of each year that is divisible by 10."
   ]
  },
  {
   "cell_type": "code",
   "execution_count": null,
   "metadata": {},
   "outputs": [],
   "source": []
  },
  {
   "cell_type": "code",
   "execution_count": 27,
   "metadata": {},
   "outputs": [
    {
     "data": {
      "image/png": "[encoded data removed]",
      "text/plain": [
       "<Figure size 576x288 with 1 Axes>"
      ]
     },
     "metadata": {
      "needs_background": "light"
     },
     "output_type": "display_data"
    }
   ],
   "source": [
    "dfClean = df.copy()\n",
    "# print(dfClean)\n",
    "\n",
    "#convert millimeters to feet\n",
    "dfClean['MSL'] = dfClean['MSL'] * 0.00328084\n",
    "\n",
    "\n",
    "removeLowVal = dfClean.loc[dfClean[\"MSL\"] < -20, \"MSL\"].median()\n",
    "    \n",
    "# replace missing data with NA\n",
    "dfClean.loc[dfClean[\"MSL\"]==removeLowVal, \"MSL\"] = np.nan\n",
    "    \n",
    "# drop missing data\n",
    "dfClean.dropna(subset=[\"MSL\"], inplace=True)\n",
    "    \n",
    "# get only the 2nd day of each month\n",
    "ind_monthly = dfClean.index[dfClean[\"Day\"]==2]\n",
    "dfClean = dfClean.loc[ind_monthly, :]\n",
    "\n",
    "\n",
    "index_label = df.index[(df[\"Month\"]==1) & (df[\"Day\"]==2) & (df[\"Year\"]%10==0)]\n",
    "# print(index_label)\n",
    "\n",
    "fig, ax = plt.subplots(nrows=1, ncols=1, figsize=(8,4))\n",
    "dfClean[\"MSL\"].plot()\n",
    "ax.set_xticks(index_label)\n",
    "ax.set_xticklabels(df.loc[index_label, \"Year\"])\n",
    "ax.set_xlabel(\"Year\")\n",
    "ax.set_ylabel(\"Sea level (feet)\")\n",
    "ax.set_title(\"Sea Level in Key West\");"
   ]
  },
  {
   "cell_type": "markdown",
   "metadata": {},
   "source": [
    "**Part D:** Your mysterious employer owns a lot of beachfront property in Key West and does not want to see people shy away from buying real estate and spending time near the sea. So, they really want to convince others to that the mean sea level in Key West in not increasing. Toward this end, your employer wants to find a decade of data (11 years, including both end points) that has a mean sea level which is not statistically significantly different from the mean sea level in the decade 2000-2010 (including data from both 2000 and 2010). Your employer wants you to use the 99% confidence/1% significance level because it sounds catchy in a press release, and wants the *earliest* decade possible.\n",
    "\n",
    "Use your cleaned monthly data set from Part C to find the earliest decade for which you cannot conclude the mean sea level at Key West was statistically significantly different from the mean sea level in the 2000-2010 decade. You may want to write a helper function to compute the confidence intervals/perform the hypothesis test for you, because there are a LOT of possible 11-year periods to try.\n",
    "\n",
    "You may use either hypothesis tests or confidence intervals, but clearly state which method you will use, your results and show all work that leads to your conclusion. "
   ]
  },
  {
   "cell_type": "code",
   "execution_count": 23,
   "metadata": {},
   "outputs": [
    {
     "name": "stdout",
     "output_type": "stream",
     "text": [
      "CI for 1920-1930: [4.81 4.93]\n",
      "CI for 1930-1940: [4.96 5.10]\n",
      "CI for 1940-1950: [5.09 5.25]\n",
      "CI for 1950-1960: [5.12 5.25]\n",
      "CI for 1960-1970: [5.13 5.26]\n",
      "CI for 1970-1980: [5.25 5.39]\n",
      "CI for 1980-1990: [5.31 5.44]\n",
      "CI for 1990-2000: [5.44 5.58]\n",
      "CI for 2000-2010: [5.46 5.62]\n"
     ]
    }
   ],
   "source": [
    "def get_decade(start, end):\n",
    "   \n",
    "    df_decade = dfClean.copy()\n",
    "    df_decade = df_decade.loc[(df_decade['Year'] >= start) & (df_decade['Year'] <= end), 'MSL']\n",
    "#     print(df_decade)\n",
    "    \n",
    "    alpha = 1-.99\n",
    "    Z = stats.norm.ppf(1-alpha/2)\n",
    "    #calcualte mean\n",
    "    xbar = df_decade.mean()\n",
    "#     print(xbar)\n",
    "    n = df_decade.count()\n",
    "    #calculate standard deviation\n",
    "    S = df_decade.std(ddof=1)\n",
    "    #standard error\n",
    "    SE = S/np.sqrt(n)\n",
    "    CI_L = xbar - Z *SE\n",
    "    CI_U = xbar + Z *SE\n",
    "    return CI_L, CI_U\n",
    "\n",
    "\n",
    "def calculateCI(n=10):\n",
    "    decade = [1920, 1930, 1940, 1950, 1960, 1970, 1980, 1990,2000]\n",
    "    lower = 0\n",
    "    upper = 0\n",
    "    for d in decade:\n",
    "        lower, upper=get_decade(d, d+n)\n",
    "        print(\"CI for {}-{}: [{:.02f} {:.02f}]\".format(d, d+n, lower, upper))\n",
    "calculateCI()"
   ]
  },
  {
   "cell_type": "markdown",
   "metadata": {},
   "source": [
    "**Conclusion:**\n",
    "\n",
    "We compute the $99\\%$ confidence interval from 1920 to 2010 for every decade, there **is a statistically significant differentce in the mean** in 1920-1930 and 2000-2010 at the $99\\%$ confidence level."
   ]
  },
  {
   "cell_type": "code",
   "execution_count": null,
   "metadata": {
    "scrolled": true
   },
   "outputs": [],
   "source": []
  },
  {
   "cell_type": "code",
   "execution_count": null,
   "metadata": {},
   "outputs": [],
   "source": []
  },
  {
   "cell_type": "code",
   "execution_count": null,
   "metadata": {},
   "outputs": [],
   "source": []
  }
 ],
 "metadata": {
  "kernelspec": {
   "display_name": "Python 3",
   "language": "python",
   "name": "python3"
  },
  "language_info": {
   "codemirror_mode": {
    "name": "ipython",
    "version": 3
   },
   "file_extension": ".py",
   "mimetype": "text/x-python",
   "name": "python",
   "nbconvert_exporter": "python",
   "pygments_lexer": "ipython3",
   "version": "3.7.1"
  }
 },
 "nbformat": 4,
 "nbformat_minor": 2
}
