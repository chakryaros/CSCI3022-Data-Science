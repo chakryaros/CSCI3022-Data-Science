{
 "cells": [
  {
   "cell_type": "markdown",
   "metadata": {},
   "source": [
    "### <a/ id='top'></a>\n",
    "# Homework 3: Random Variables, and the Central Limit Theorem\n",
    "***\n",
    "\n",
    "**Name**: Solutions\n",
    "\n",
    "***\n",
    "\n",
    "This assignment is due on Canvas by **5 PM on Monday March 18**. Your solutions to theoretical questions should be done in Markdown/MathJax directly below the associated question.  Your solutions to computational questions should include any specified Python code and results as well as written commentary on your conclusions.  Remember that you are encouraged to discuss the problems with your instructors and classmates, but **you must write all code and solutions on your own**. \n",
    "\n",
    "**NOTES**: \n",
    "\n",
    "- Any relevant data sets should be available under the **Data** module on Canvas, as well as in the zipped folder in which you obtained this assignment. \n",
    "- Do **NOT** load or use any Python packages that are not available in Anaconda 3.6. \n",
    "- Because you can technically evaluate notebook cells in a non-linear order, it's a good idea to do Kernel $\\rightarrow$ Restart & Run All as a check before submitting your solutions.  That way if we need to run your code you will know that it will work as expected. \n",
    "- It is **bad form** to make your reader interpret numerical output from your code.  If a question asks you to compute some value from the data you should show your code output **AND** write a summary of the results in Markdown directly below your code. \n",
    "- You **MUST** leave all of your notebook cells **evaluated** so the graders do not need to re-evaluate them. For 100+ students, this extra time adds up, and makes the graders' lives unnecessarily more difficult.\n",
    "- This probably goes without saying, but... For any question that asks you to calculate something, you **must show all work and justify your answers to receive credit**. Sparse or nonexistent work will receive sparse or nonexistent credit. \n",
    "- Submit only this Jupyter notebook to Canvas.  Do not compress it using tar, rar, zip, etc. \n",
    "\n",
    "---\n",
    "**Shortcuts:**  [Problem 1](#p1) | [Problem 2](#p2) | [Problem 3](#p3) | [Problem 4](#p4) \n",
    "\n",
    "---"
   ]
  },
  {
   "cell_type": "code",
   "execution_count": 149,
   "metadata": {
    "collapsed": true,
    "scrolled": true
   },
   "outputs": [],
   "source": [
    "import pandas as pd\n",
    "import numpy as np\n",
    "import scipy.stats as stats\n",
    "import math\n",
    "from scipy.special import binom\n",
    "import matplotlib.pylab as plt\n",
    "%matplotlib inline"
   ]
  },
  {
   "cell_type": "markdown",
   "metadata": {},
   "source": [
    "<br>\n",
    "\n",
    "---\n",
    "<a/ id='p1'></a>\n",
    "[Back to top](#top)\n",
    "\n",
    "<img src=\"https://media.daysoftheyear.com/20171223112636/hedgehog-day1.jpg\" style=\"width: 500px;\"/>\n",
    "\n",
    "\n",
    "### [25 points] Problem 1\n",
    "\n",
    "Suppose you are modeling the probability of observing various levels of cuteness in hedgehogs you encounter.  Let $X$ be a random variable representing the observed cuteness, which is *obviously* nonnegative and has units of deci*awws*. You decide to use the following pdf for $X$:\n",
    "\n",
    "$$\n",
    "f(x) = \\begin{cases}\n",
    "         c \\ x \\ e^{\\left(-\\frac{x^2}{4}\\right)} & 0 \\leq x < \\infty \\\\\n",
    "         0                           & \\text{otherwise}\n",
    "       \\end{cases}\n",
    "$$\n",
    "where $c$ is some normalizing constant.\n",
    "\n",
    "**Part A**: Determine the value of $c$ such that $f(x)$ is a valid probability density function. Then, make a plot of the probability density function for hedgehog cuteness, $f(x)$. Be sure to label your axes!"
   ]
  },
  {
   "cell_type": "markdown",
   "metadata": {},
   "source": [
    "**Solution**: \n",
    "\n",
    "We need to choose $c$ such that $f(x)$ integrates to 1.  We have:\n",
    "\n",
    "$\\begin{align}\n",
    " 1 &\\stackrel{\\heartsuit}{=} \\int_{-\\infty}^\\infty f(x) dx \\\\\n",
    "   &= \\int_0^\\infty c \\ x \\ e^{-x^2/4}\\ dx \\qquad \\text{let } u=x^2, du = 2xdx\\\\\n",
    "   &= \\dfrac{c}{2} \\int_0^\\infty e^{-u/4}\\ du \\\\\n",
    "   &= -\\dfrac{4c}{2} e^{-u/4} \\bigg|_0^\\infty \\\\\n",
    "   &= -2c \\left(e^{-\\infty} - e^0\\right) \\qquad \\text{technically, we should be taking a limit...}\\\\\n",
    "   &= -2c \\left(0 - 1\\right) \\\\\n",
    "   &= 2c \\\\\n",
    "\\Rightarrow& ~~\\fbox{$c=\\dfrac{1}{2}$}\n",
    "\\end{align}$"
   ]
  },
  {
   "cell_type": "code",
   "execution_count": 174,
   "metadata": {},
   "outputs": [
    {
     "data": {
      "image/png": "[encoded data removed]",
      "text/plain": [
       "<Figure size 432x288 with 1 Axes>"
      ]
     },
     "metadata": {},
     "output_type": "display_data"
    }
   ],
   "source": [
    "def f(x):\n",
    "    return 0.5*x*np.exp(-0.25*x*x)\n",
    "\n",
    "x = np.linspace(0,8,100)\n",
    "plt.plot(x, f(x))\n",
    "plt.xlabel(\"Hedgehog cuteness [deciawws]\")\n",
    "plt.ylabel(\"Density\");"
   ]
  },
  {
   "cell_type": "markdown",
   "metadata": {},
   "source": [
    "**Part B**: Compute *by hand* the cumulative density (cdf) function $F(x)$ for $X$."
   ]
  },
  {
   "cell_type": "markdown",
   "metadata": {},
   "source": [
    "**Solution**:\n",
    "\n",
    "Integrating from $0$ to $x$, we have...\n",
    "\n",
    "$\\begin{align}\n",
    " F(x) &= \\int_0^x f(y) dy \\\\\n",
    "      &= \\int_0^x \\dfrac{1}{2} y e^{(-y^2/4)}\\ dy \\qquad \\text{let } u = y^2, du = 2ydy\\\\\n",
    "      &= \\int_0^{x^2} \\dfrac{1}{4} e^{(-u/4)}\\ du \\\\\n",
    "      &= -\\dfrac{4}{4} e^{(-u/4)} \\bigg|_0^{x^2} \\\\\n",
    "      &= - \\left(e^{(-x^2/4)} - e^0\\right) \\\\\n",
    "      &= 1 - e^{(-x^2/4)}\n",
    "\\Rightarrow& ~~ \\fbox{$F(x) = 1 - e^{(-x^2/4)}$}\n",
    " \\end{align}$"
   ]
  },
  {
   "cell_type": "markdown",
   "metadata": {},
   "source": [
    "**Part C:**  Use the cdf you derived in **Part B** to calculate the median ($\\tilde{x}$) cuteness of all hedgehogs."
   ]
  },
  {
   "cell_type": "markdown",
   "metadata": {},
   "source": [
    "**Solution:**\n",
    "\n",
    "Median is special because there is exactly 0.50 probability mass lying above *and below* $\\tilde{x}$. So:\n",
    "\n",
    "$\\begin{align}\n",
    "  \\frac{1}{2} &\\stackrel{\\heartsuit}{=} F(\\tilde{x}) = 1- e^{-\\tilde{x}^2/4} \\\\\n",
    "e^{-\\tilde{x}^2/4} &= \\frac{1}{2} \\\\\n",
    "\\frac{-\\tilde{x}^2}{4} &= -\\log{2} \\\\\n",
    "\\tilde{x}^2 &= 4 \\log{2} \\\\\n",
    "\\tilde{x} &= \\sqrt{4 \\log{2}} = 2 \\sqrt{\\log{2}}\n",
    "\\Rightarrow& ~~ \\fbox{$\\tilde{x} = 2 \\sqrt{\\log{2}} \\approx 1.67$}\n",
    "\\end{align}$"
   ]
  },
  {
   "cell_type": "code",
   "execution_count": 151,
   "metadata": {},
   "outputs": [
    {
     "data": {
      "text/plain": [
       "1.6651092223153954"
      ]
     },
     "execution_count": 151,
     "metadata": {},
     "output_type": "execute_result"
    }
   ],
   "source": [
    "2*np.sqrt(np.log(2))"
   ]
  },
  {
   "cell_type": "markdown",
   "metadata": {},
   "source": [
    "**Part D**: It is a well-known fact that any hedgehog whose cuteness exceeds 3 deciawws is **totes adorbz**. Use the cdf you computed in **Part B** to find the probability that any arbitrary hedgehog that you observe is totes adorbz."
   ]
  },
  {
   "cell_type": "markdown",
   "metadata": {},
   "source": [
    "**Solution**: \n",
    "\n",
    "We have:\n",
    "\n",
    "$\\begin{align}\n",
    "P(X \\geq 3) &= 1 - P(X \\leq 3) = 1 - F(3) \\\\\n",
    "            &= 1 - \\left[1-e^{(-3^2/4)}\\right] \\\\\n",
    "            &= e^{(-9/4)} \\\\\n",
    "            &\\approx 0.105\n",
    "\\end{align}$\n",
    "\n",
    "Thus the probability of a hedgehog being totes adorbz is about $\\fbox{$0.105$}$"
   ]
  },
  {
   "cell_type": "code",
   "execution_count": 152,
   "metadata": {},
   "outputs": [
    {
     "data": {
      "text/plain": [
       "0.10539922456186433"
      ]
     },
     "execution_count": 152,
     "metadata": {},
     "output_type": "execute_result"
    }
   ],
   "source": [
    "np.exp(-9/4)"
   ]
  },
  {
   "cell_type": "markdown",
   "metadata": {},
   "source": [
    "**Part E:** You have been painstakingly collecting data on hedgehogs all over town, and the cuteness is damn near overwhelming. Suppose you sample 5 hedgehogs, and the cuteness of any given hedgehog is independent of the cuteness of all other hedgehogs. What is the probability that more than half of them are totes adorbz? Keep at least 5 decimal places in your answer."
   ]
  },
  {
   "cell_type": "markdown",
   "metadata": {},
   "source": [
    "**Solution**: \n",
    "\n",
    "This is a **binomial** distribution, with $n=5$ and $p=P(\\text{totes adorbz})=e^{-9/4}$\n",
    "\n",
    "We want $P(X \\geq 3) = P(X=3) + P(X=4) + P(X=5)$\n",
    "\n",
    "So we have:\n",
    "\n",
    "$\\begin{align}\n",
    "P(X \\geq 3) &= P(X=3) + P(X=4) + P(X=5) \\\\\n",
    " &= {5\\choose3}\\cdot (e^{-9/4})^3(1-e^{-9/4})^2 + {5\\choose4}\\cdot (e^{-9/4})^4(1-e^{-9/4})^1 + {5\\choose5}\\cdot (e^{-9/4})^5(1-e^{-9/4})^0  \\\\\n",
    " &\\approx \\fbox{$0.00994$}\n",
    " \\end{align}$"
   ]
  },
  {
   "cell_type": "code",
   "execution_count": 177,
   "metadata": {},
   "outputs": [
    {
     "name": "stdout",
     "output_type": "stream",
     "text": [
      "0.00994\n"
     ]
    }
   ],
   "source": [
    "p_tot = np.sum([stats.binom.pmf(n=5, p=np.exp(-9/4), k=k) for k in range(3,6)])\n",
    "print('{:0.5f}'.format(p_tot))"
   ]
  },
  {
   "cell_type": "markdown",
   "metadata": {
    "collapsed": true
   },
   "source": [
    "<br>\n",
    "\n",
    "---\n",
    "<a/ id='p2'></a>\n",
    "[Back to top](#top)\n",
    "### [25 points] Problem 2 - Monte Carlo Estimation of Definite Integrals\n",
    "\n",
    "One really cool application of random variables is using them to approximate integrals/area under a curve.  This method of approximating integrals is used frequently in computational science to approximate really difficult integrals that we never want to do by hand.  In this exercise you'll figure out how we can do this in practice and test your method on a relatively simple integral. "
   ]
  },
  {
   "cell_type": "markdown",
   "metadata": {
    "collapsed": true
   },
   "source": [
    "**Part A.**  Let $X$ be a random variable representing how delicious a pie you bake is, as measured by the **Deliciousness Index** (DI).  Suppose the probability density function for $X$ is described by the raised cosine probability density function:\n",
    "\n",
    "$$\n",
    "f(x) = \\begin{cases}\n",
    "         \\dfrac{1}{\\pi}\\left(\\cos{(x)} + 1\\right) & 0 \\leq x \\leq \\pi \\\\\n",
    "         0                           & \\text{otherwise}\n",
    "         \\end{cases}\n",
    "$$\n",
    "\n",
    "A Deliciousness Index of $\\pi$ is the most delicious pie you can ever hope to create, and a DI of $0$ is the most disgusting pie you have ever tasted.  \n",
    "\n",
    "Compute **by hand**, the integral of $f(x)$ for $0 \\leq x \\leq \\dfrac{\\pi}{2}$.  Write a sentence or two to interpret your result physically, in the context of this problem set-up."
   ]
  },
  {
   "cell_type": "markdown",
   "metadata": {},
   "source": [
    "**Solution:**\n",
    "\n",
    "$\\begin{align}\n",
    " \\int_0^{\\pi/2} \\dfrac{1}{\\pi}(\\cos(x)+1) dx &= \\dfrac{1}{\\pi}(\\sin(x) + x)\\bigg|_0^{\\frac{\\pi}{2}} \\\\\n",
    "    &= \\dfrac{1}{\\pi}\\left[\\left(\\sin(\\pi/2) + \\pi/2\\right) - \\left(\\sin(0)+0\\right)\\right] \\\\\n",
    "    &= \\dfrac{1}{\\pi}(1 + \\pi/2) \\\\\n",
    "    &= \\fbox{$\\dfrac{1}{\\pi} + \\dfrac{1}{2} \\approx 0.8183$}\n",
    " \\end{align}$\n",
    " \n",
    " This is the probability that a pie we bake has a Deliciousness Index of less than or equation to $\\pi/2$, which everyone knows is defined to be **Mediocre at Best**."
   ]
  },
  {
   "cell_type": "markdown",
   "metadata": {},
   "source": [
    "**Part B.** Suppose we sample a random variable $X$ from $U(0,\\frac{\\pi}{2})$ and another random variable $Y$ from $U(0,1)$ and think of them as $x$- and $y$-coordinates of a point in the box $[0,\\frac{\\pi}{2}] \\times [0,1]$.  If we compute the ratio of points that fall under the curve $f(x)$ to the total points sampled, what does this value estimate? "
   ]
  },
  {
   "cell_type": "markdown",
   "metadata": {},
   "source": [
    "**Solution:**\n",
    "\n",
    "This value estimates the proportion of the area in the box that is under the curve $f(x)$."
   ]
  },
  {
   "cell_type": "markdown",
   "metadata": {},
   "source": [
    "**Part C.** How could we modify the process outlined in **Part B** so that our estimator estimates the value of the desired integral?  If you need inspiration, check out the in-class notebook on Stochastic Simulation (#4), specifically, the exercise where we estimated $\\pi$!"
   ]
  },
  {
   "cell_type": "markdown",
   "metadata": {},
   "source": [
    "**Solution:**\n",
    "\n",
    "We want to compute the area under the curve, but we have a proportion of the total area. Therefore, multiply the proportion by the total area (which is $\\pi/2$) to get the area under the curve."
   ]
  },
  {
   "cell_type": "markdown",
   "metadata": {},
   "source": [
    "**Part D.** Complete the function `integrate` below to compute an approximation to the definition integral $\\int_0^{\\text{ub}} f(x)dx$.  Your function should take as arguments:\n",
    "1. `num_samples` -- the number of points to sample,\n",
    "2. `ub` -- a number between $0$ and $\\pi$ that is the upper bound of the integral, and\n",
    "3. `isPlot` -- a Boolean flag for whether or not to display a plot of the results.\n",
    "\n",
    "Your function should return an approximation of the definite integral by sampling $X$ from $U(0,\\text{ub})$ and $Y$ from $U(0,1)$. For each random draw $(X,Y)$, define the random variable $Z$ that represents whether or not the sampled $Y$ value is less than $f(X)$ for the corresponding $X$ value.\n",
    "\n",
    "Your function should perform three tasks: \n",
    "\n",
    "1. return the estimate of the value of the integral,\n",
    "2. return the sample variance of the random variable $Z$ being simulated, using the np.var function, and\n",
    "3. if `isPlot` is True, plot the curve $f(x)$ as well as the location of the points $(X,Y)$, colored according to whether they fall above or below the curve. "
   ]
  },
  {
   "cell_type": "code",
   "execution_count": null,
   "metadata": {
    "collapsed": true
   },
   "outputs": [],
   "source": [
    "# GIVEN CODE - Do not change the inputs/outputs or your code will fail unit tests and auto-grading!\n",
    "def integrate(num_samples, ub, isPlot):\n",
    "    \n",
    "    #-----------------------------------------\n",
    "    # your code goes here!  replace this junk:\n",
    "    estimate = 0\n",
    "    sample_var = 1\n",
    "    #-----------------------------------------\n",
    "    \n",
    "    return estimate, sample_var"
   ]
  },
  {
   "cell_type": "code",
   "execution_count": 154,
   "metadata": {
    "collapsed": true
   },
   "outputs": [],
   "source": [
    "# SOLUTION:\n",
    "\n",
    "def raised_cosine(x):\n",
    "    return (np.cos(x)+1)/np.pi\n",
    "\n",
    "def integrate(num_samples=1000, ub=3.14, isPlot=False):\n",
    "    x = np.random.uniform(0, ub, num_samples)\n",
    "    y = np.random.uniform(0, 1, num_samples)\n",
    "    fx = raised_cosine(x)\n",
    "    rv = y<fx \n",
    "    estimate = ub*np.sum(rv)/num_samples\n",
    "    sample_var = np.var(rv)\n",
    "    if isPlot:\n",
    "        fig, ax = plt.subplots(nrows=1, ncols=1, figsize=(12,6)) \n",
    "        xval = np.arange(0, np.pi, np.pi/100)\n",
    "        ax.plot(xval, raised_cosine(xval),'--')\n",
    "        ax.scatter(x[y<=fx],y[y<=fx],c=['red'],marker = 'v')\n",
    "        ax.scatter(x[y>fx],y[y>fx],c='blue',s = 5)\n",
    "    return estimate, sample_var "
   ]
  },
  {
   "cell_type": "markdown",
   "metadata": {},
   "source": [
    "**Part E.** Write your own small unit tests!\n",
    "\n",
    "First, what should your `integrate` function output if you plug in `ub=0`? Set that as `int_0_to_0` below.\n",
    "\n",
    "Second, what should your `integrate` function output if you plug in `ub=`$\\pi$? Set that as `int_0_to_pi` below.\n",
    "\n",
    "Then, you can execute the cell below to run two sanity checks. Write out **in math** (like, a definite integral) what each of these two tests is checking and **why** that is a reasonable sanity check.\n",
    "\n",
    "If these two assertions run without fail, then things seem to be working okay. Note that the upper endpoint test is stochastic, so if it fails, try running it a few times. If it fails a lot, then things are probably going wrong."
   ]
  },
  {
   "cell_type": "code",
   "execution_count": 38,
   "metadata": {
    "collapsed": true
   },
   "outputs": [],
   "source": [
    "int_0_to_0  = # fill this in!\n",
    "int_0_to_pi = # this one too!\n",
    "\n",
    "\n",
    "#---------------------------------------\n",
    "# DO NOT EDIT THIS CELL BELOW HERE\n",
    "#---------------------------------------\n",
    "assert integrate(1000, 0, False)[0]==int_0_to_0, \"Error: lower endpoint test failing\"\n",
    "assert math.isclose(integrate(10000, np.pi, False)[0],int_0_to_pi,abs_tol=0.03), \"Error: upper endpoint test failing\""
   ]
  },
  {
   "cell_type": "markdown",
   "metadata": {},
   "source": [
    "**Solution:**\n",
    "\n",
    "The first is checking that $\\int_0^0 f(x)\\ dx = 0$. This is reasonable because any integral from 0 to 0 should be 0.\n",
    "\n",
    "The second is checking that $\\int_0^\\pi f(x)\\ dx = 1$, which it should because the entire pdf spans the 0-1 range, so it must integrate to 1 (i.e., be normalized)."
   ]
  },
  {
   "cell_type": "code",
   "execution_count": 178,
   "metadata": {
    "collapsed": true
   },
   "outputs": [],
   "source": [
    "# SOLUTION:\n",
    "\n",
    "int_0_to_0  = 0# fill this in!\n",
    "int_0_to_pi = 1# this one too!\n",
    "\n",
    "\n",
    "#---------------------------------------\n",
    "# DO NOT EDIT THIS CELL BELOW HERE\n",
    "#---------------------------------------\n",
    "assert integrate(1000, 0, False)[0]==int_0_to_0, \"Error: lower endpoint test failing\"\n",
    "assert math.isclose(integrate(10000, np.pi, False)[0],int_0_to_pi,abs_tol=0.03), \"Error: upper endpoint test failing\""
   ]
  },
  {
   "cell_type": "markdown",
   "metadata": {},
   "source": [
    "**Part F.** Run your simulation with `isPlot=True` and `ub=`$\\frac{\\pi}{2}$ for 1,000 samples so we can see your plot. Then, run your simulation (with `isPlot=False`) with at least 10,000 samples and estimate the value of the given integral. Be sure to leave your cells evaluated for the graders! Does your estimate agree with the exact value of the integral you computed in **Part A**? "
   ]
  },
  {
   "cell_type": "markdown",
   "metadata": {},
   "source": [
    "**Solution:**"
   ]
  },
  {
   "cell_type": "code",
   "execution_count": 156,
   "metadata": {},
   "outputs": [
    {
     "data": {
      "text/plain": [
       "(0.8011061266653973, 0.24989999999999998)"
      ]
     },
     "execution_count": 156,
     "metadata": {},
     "output_type": "execute_result"
    },
    {
     "data": {
      "image/png": "[encoded data removed]",
      "text/plain": [
       "<Figure size 864x432 with 1 Axes>"
      ]
     },
     "metadata": {},
     "output_type": "display_data"
    }
   ],
   "source": [
    "integrate(num_samples=1000, ub=(np.pi/2), isPlot=True)"
   ]
  },
  {
   "cell_type": "code",
   "execution_count": 179,
   "metadata": {},
   "outputs": [
    {
     "name": "stdout",
     "output_type": "stream",
     "text": [
      "With 10000 samples, area estimate: 0.8074\n",
      "... and variance estimate: 0.2498\n"
     ]
    }
   ],
   "source": [
    "output = integrate(num_samples=10000, ub=np.pi*0.5, isPlot=False)\n",
    "print('With 10000 samples, area estimate: {:0.4f}'.format(output[0]))\n",
    "print('... and variance estimate: {:0.4f}'.format(output[1]))"
   ]
  },
  {
   "cell_type": "markdown",
   "metadata": {},
   "source": [
    "This answer agrees pretty well with what we got in Part A, but with some small amount of error.\n",
    "\n",
    "Relative error is roughly $\\dfrac{\\text{measured}-\\text{actual}}{\\text{actual}} = \\dfrac{0.8163 - 0.8183}{0.8183} \\times 100\\% \\approx -0.2444 \\%$"
   ]
  },
  {
   "cell_type": "markdown",
   "metadata": {
    "collapsed": true
   },
   "source": [
    "<br>\n",
    "\n",
    "---\n",
    "<a/ id='p3'></a>\n",
    "[Back to top](#top)\n",
    "### [25 points] Problem 3 - Mmmm... Donuts...\n",
    "\n",
    "<img src=\"http://astrokentico.s3.amazonaws.com/rojakdaily/media/1nichoras/homer%20simpson%20krispy%20kreme/main.jpg?ext=.jpg\" style=\"width:300px;\"/>\n",
    "\n",
    "You bring many donuts (or _doughnuts_, if you're into that) to work to share with your coworkers at the Boulder Nuclear Power Planet. But due to the high levels of radiation there, they must be inspected for safety. In particular, if the mean level of radiation in a sample from your batch of donuts is above [200 mSv (millisievert)](#rad), then they are deemed unsafe and you must throw the whole batch away.\n",
    "\n",
    "You know that historically donuts at the power plant have, on average, 190 mSv of radiation, with a standard deviation of 40 mSv. To test the donut radiation levels, you take the donut receipt and pick every fifth donut off it, and sample the radiation levels of those donuts. You end up sampling the radiation levels of 36 donuts out of the batch."
   ]
  },
  {
   "cell_type": "markdown",
   "metadata": {},
   "source": [
    "**Part A.** What is the probability that a donut batch is deemed unsafe?  You should at the very least set up and justify your calculation by hand (in Markdown/Mathjax), before executing any calculations in Python."
   ]
  },
  {
   "cell_type": "markdown",
   "metadata": {},
   "source": [
    "**Solution:**\n",
    "\n",
    "Let $X$ be the random variable representing the levels of radiation in the donut batch.\n",
    "\n",
    "Central Limit Theorem tells us $\\bar{X} \\sim N(\\mu, \\frac{\\sigma^2}{n})$, where $\\mu = 190$ mSv, $\\sigma = 40$ mSv, and $n=36$ donuts.\n",
    "\n",
    "So we want:\n",
    "$$\\begin{align}\n",
    "  P(\\bar{X} > 200) &= P\\left(Z > \\frac{200-190}{40/\\sqrt{36}}\\right) \\\\\n",
    "                   &= P(Z > 1.5) = 1 - P(Z \\leq 1.5) \\\\\n",
    "                   &= 1 - \\Phi(1.5) = 1-0.93319 = \\fbox{0.0668}\n",
    "\\end{align}$$"
   ]
  },
  {
   "cell_type": "code",
   "execution_count": 180,
   "metadata": {},
   "outputs": [
    {
     "data": {
      "text/plain": [
       "0.9331927987311419"
      ]
     },
     "execution_count": 180,
     "metadata": {},
     "output_type": "execute_result"
    }
   ],
   "source": [
    "stats.norm.cdf(x=200, loc=190, scale=40/6)"
   ]
  },
  {
   "cell_type": "code",
   "execution_count": 158,
   "metadata": {},
   "outputs": [
    {
     "data": {
      "text/plain": [
       "0.9331927987311419"
      ]
     },
     "execution_count": 158,
     "metadata": {},
     "output_type": "execute_result"
    }
   ],
   "source": [
    "stats.norm.cdf(1.5)"
   ]
  },
  {
   "cell_type": "code",
   "execution_count": 159,
   "metadata": {},
   "outputs": [
    {
     "name": "stdout",
     "output_type": "stream",
     "text": [
      "The probability that the donuts are rejected is 0.0668\n",
      "This probability, again, but differently calculated, is 0.0668\n"
     ]
    }
   ],
   "source": [
    "X = 200\n",
    "mu = 190\n",
    "sd = 40\n",
    "n = 36\n",
    "prob = stats.norm.cdf((X-mu)/(sd/np.sqrt(n)))\n",
    "\n",
    "# but `prob` is the cdf, and we want 1-cdf\n",
    "print(\"The probability that the donuts are rejected is {:.4f}\".format(1-prob))\n",
    "\n",
    "# Alternatively:\n",
    "print(\"This probability, again, but differently calculated, is {:.4f}\".format(1-stats.norm.cdf(x=X, loc=mu, scale=sd/np.sqrt(n))))"
   ]
  },
  {
   "cell_type": "markdown",
   "metadata": {},
   "source": [
    "**Part B.** You really do not want to throw away donuts that frequently, so you propose to store the donuts in a lead-lined donut box. But lead also is not very good for your health, so you are motivated to use the least amount of lead possible. What is the maximum mean amount of radiation $\\mu$ for our donuts to have such that the probability that we will throw donuts out due to safety concerns is at most 0.01?\n",
    "\n",
    "Calculate this **by hand**, using Python only to perform arithmetic operations and compute critical values of a standard normal random variable."
   ]
  },
  {
   "cell_type": "markdown",
   "metadata": {},
   "source": [
    "**Solution:**\n",
    "\n",
    "Let's write what we want.\n",
    "\n",
    "$$P(\\bar{X} > 200) < 0.01$$\n",
    "\n",
    "And we know by the CLT that \n",
    "\n",
    "$$P(\\bar{X} > 200) = P \\left( \\frac{\\bar{X} - \\mu}{\\sigma/\\sqrt{n}} > \\frac{200-\\mu}{\\sigma/\\sqrt{36}}\\right) = P\\left (Z > \\frac{200-\\mu}{\\sigma/\\sqrt{36}}\\right ) = 1- P\\left (Z \\leq \\frac{200-\\mu}{\\sigma/\\sqrt{36}}\\right ) \\stackrel{\\heartsuit}{=} 0.01$$\n",
    "\n",
    "This means we want the critical value of $Z$, $z_c$, such that:\n",
    "\n",
    "$$P\\left(Z \\leq \\frac{200-\\mu}{\\sigma/\\sqrt{36}}\\right) = 0.99$$\n",
    "\n",
    "That critical value $z_c$ can be computed from `stats.norm.ppf`:"
   ]
  },
  {
   "cell_type": "code",
   "execution_count": 160,
   "metadata": {},
   "outputs": [
    {
     "name": "stdout",
     "output_type": "stream",
     "text": [
      "2.3263478740408408\n"
     ]
    }
   ],
   "source": [
    "z_crit = stats.norm.ppf(0.99)\n",
    "print(z_crit)"
   ]
  },
  {
   "cell_type": "markdown",
   "metadata": {},
   "source": [
    "Now, we can solve for $\\mu$:\n",
    "\n",
    "$\\begin{align}\n",
    " z_c &= \\dfrac{200 - \\mu}{\\sigma/\\sqrt{36}} \\\\\n",
    " \\Rightarrow \\mu &= 200 - z_c \\cdot \\dfrac{\\sigma}{6} \\\\\n",
    "                 &= 200 - 2.326 \\cdot \\dfrac{40}{6} \\\\\n",
    "                 &\\approx \\fbox{$184.5 ~\\text{mSv}$}\n",
    "\\end{align}$"
   ]
  },
  {
   "cell_type": "code",
   "execution_count": 161,
   "metadata": {},
   "outputs": [
    {
     "name": "stdout",
     "output_type": "stream",
     "text": [
      "We are going to need a mean of no more than 184.4910 mSv\n"
     ]
    }
   ],
   "source": [
    "mu_new = 200 - stats.norm.ppf(0.99)*sd/np.sqrt(n)\n",
    "print(\"We are going to need a mean of no more than {:.4f} mSv\".format(mu_new))"
   ]
  },
  {
   "cell_type": "markdown",
   "metadata": {},
   "source": [
    "**Part C.**  Your supervisor at the plant decides that serving up donuts in a lead-lined box is a bad idea. Fair enough.\n",
    "\n",
    "But she is still imposing the requirement that the probability of a batch of donuts being rejected must be less than 0.01. Suppose the mean and standard deviation are at their original values of $\\mu = 190$ mSv and $\\sigma = 40$ mSv. What is the minimum sample size to satisfy this requirement?\n",
    "\n",
    "Calculate this **by hand**, using Python only to perform arithmetic operations and compute critical values of a standard normal random variable."
   ]
  },
  {
   "cell_type": "markdown",
   "metadata": {},
   "source": [
    "**Solution:**\n",
    "\n",
    "We can go about setting this up the same way as Part B. The critical value of $z_c$ is going to be the same as in the previous problem, but now we don't get to change $\\mu$, which is fixed back at 190 mSv. Instead, we must change $n$.\n",
    "\n",
    "\n",
    "$$P(\\bar{X} > 200) = P \\left( Z > \\frac{200-190}{40/\\sqrt{n}}\\right) = 1- P\\left (Z \\leq \\frac{200-190}{40/\\sqrt{n}}\\right ) \\stackrel{\\heartsuit}{=} 0.01$$\n",
    "\n",
    "This means we want the critical value of $Z$, $z_c$, such that:\n",
    "\n",
    "$$P\\left(z_c \\leq \\frac{200-190}{40/\\sqrt{n}}\\right) = 0.99$$\n",
    "\n",
    "Again, that critical value $z_c$ can be computed from `stats.norm.ppf`:"
   ]
  },
  {
   "cell_type": "code",
   "execution_count": 162,
   "metadata": {},
   "outputs": [
    {
     "name": "stdout",
     "output_type": "stream",
     "text": [
      "2.3263478740408408\n"
     ]
    }
   ],
   "source": [
    "z_crit = stats.norm.ppf(0.99)\n",
    "print(z_crit)"
   ]
  },
  {
   "cell_type": "markdown",
   "metadata": {},
   "source": [
    "So we have:\n",
    "\n",
    "$\\begin{align}\n",
    "  z_c &\\leq \\dfrac{200-190}{40/\\sqrt{n}} \\\\\n",
    "\\Rightarrow \\dfrac{40}{\\sqrt{n}} &\\leq \\dfrac{10}{z_c} \\\\\n",
    "\\Rightarrow \\dfrac{40 z_c}{10} &\\leq \\sqrt{n} \\\\\n",
    "\\Rightarrow n &\\geq (4 z_c)^2 \\\\\n",
    "\\Rightarrow n &\\geq 16\\cdot 2.326^2 \\approx 86.59\n",
    "\\end{align}$\n",
    "\n",
    "So we will need at least $\\fbox{87}$ donut samples."
   ]
  },
  {
   "cell_type": "code",
   "execution_count": 163,
   "metadata": {},
   "outputs": [
    {
     "name": "stdout",
     "output_type": "stream",
     "text": [
      "86.59031089686943\n",
      "We need at least 87 samples of donuts\n"
     ]
    }
   ],
   "source": [
    "min_num_samples = (4*stats.norm.ppf(.99))**2\n",
    "print(min_num_samples)\n",
    "print(\"We need at least {:.0f} samples of donuts\".format(np.ceil(min_num_samples)))"
   ]
  },
  {
   "cell_type": "markdown",
   "metadata": {
    "collapsed": true
   },
   "source": [
    "**Part D.** Can you think of any potential issues with using a normal distribution to model the radiation content of our donuts?"
   ]
  },
  {
   "cell_type": "markdown",
   "metadata": {},
   "source": [
    "**Solution:**\n",
    "\n",
    "A normal distribution with a really wide standard deviation, or with a lower mean, would put some probability mass over donut radiation content which is **negative**.  That does not make sense physically.\n",
    "\n",
    "Things people would do in practice to work around this:\n",
    "1. use a truncated normal distribution\n",
    "1. use a lognormal (or other half-infinite) distribution\n",
    "1. do not eat irradiated donuts in the first place"
   ]
  },
  {
   "cell_type": "markdown",
   "metadata": {},
   "source": [
    "<br>\n",
    "\n",
    "---\n",
    "<a/ id='p4'></a>\n",
    "[Back to top](#top)\n",
    "### [25 points] Problem 4 - Here come the hedgehogs\n",
    "\n",
    "**Part A:** You are conducting a study of the cuteness of hedgehogs, because you want to verify the calculations from Problem 1. You set up a data collection center, and record in your data set the time when each hedgehog arrives at your site. The data are found in `arrivals.csv`.\n",
    "\n",
    "Load these data into a Pandas DataFrame, compute the time span between successive hedgehog arrivals, and plot a density histogram of those inter-hedgehog arrival times.\n",
    "\n",
    "To best capture the majesty of the mighty hedgehog, your histogram boxes should be `sienna` with `khaki` edges. Your histogram should also have 50 bins, because hedgehogs love histograms with 50 bins. Hedgehogs are illiterate, so they don't really care about axis labels, but your instructor does. So, be sure to label your axes too."
   ]
  },
  {
   "cell_type": "markdown",
   "metadata": {},
   "source": [
    "---\n",
    "**CODE TO GENERATE DATA**\n",
    "\n",
    "**DELETE THIS**"
   ]
  },
  {
   "cell_type": "code",
   "execution_count": 83,
   "metadata": {
    "collapsed": true
   },
   "outputs": [],
   "source": [
    "data=stats.expon.rvs(loc=5,scale=12,size=100)\n",
    "cs = np.cumsum(data)\n",
    "myFile = open('arrivals.csv','w')\n",
    "myFile.write('hedgehogs\\n')\n",
    "for val in cs:\n",
    "    myFile.write('{}\\n'.format(val))\n",
    "myFile.close()"
   ]
  },
  {
   "cell_type": "markdown",
   "metadata": {},
   "source": [
    "**END CODE**\n",
    "\n",
    "---"
   ]
  },
  {
   "cell_type": "code",
   "execution_count": 164,
   "metadata": {},
   "outputs": [
    {
     "data": {
      "image/png": "[encoded data removed]",
      "text/plain": [
       "<Figure size 432x288 with 1 Axes>"
      ]
     },
     "metadata": {},
     "output_type": "display_data"
    }
   ],
   "source": [
    "x = pd.read_csv('arrivals.csv')\n",
    "inters = np.diff(x['hedgehogs'])\n",
    "fig,ax = plt.subplots(1,1, figsize=(6,4)) \n",
    "ax.hist(inters,bins=20,\n",
    "       density=True,color=\"sienna\",edgecolor=\"khaki\",label='inter-hedgehog arrival times')\n",
    "ax.set_xlabel('inter-hedgehog arrival times',FontSize=14)\n",
    "ax.set_ylabel('density',FontSize=14)\n",
    "ax.legend();"
   ]
  },
  {
   "cell_type": "markdown",
   "metadata": {},
   "source": [
    "**Part B:** Compute a 99% confidence interval (to 4 decimal places) for the mean of the inter-hedgehog arrival time. If you use any theorem(s) in your calculation, be sure to state what they are and why the theorem(s) can be applied. "
   ]
  },
  {
   "cell_type": "markdown",
   "metadata": {},
   "source": [
    "**Solution:** We're going to use the central limit theorem for the mean. This is ok because we have far more than $30$ data points. It also applies even though the data are not necessarily normal."
   ]
  },
  {
   "cell_type": "code",
   "execution_count": 167,
   "metadata": {},
   "outputs": [
    {
     "name": "stdout",
     "output_type": "stream",
     "text": [
      "CORRECT CI: [13.814,19.247]\n",
      "CI without ddof correction: [13.828,19.234]\n"
     ]
    }
   ],
   "source": [
    "n = len(inters)\n",
    "stdev = np.std(inters, ddof=1)\n",
    "xbar = np.mean(inters)\n",
    "alpha = 1-.99\n",
    "z = stats.norm.ppf(1-alpha/2)\n",
    "print(\"CORRECT CI: [{:.3f},{:.3f}]\".format(xbar-z*stdev/np.sqrt(n),xbar+z*stdev/np.sqrt(n)))\n",
    "\n",
    "stdev_wrong = np.std(inters)\n",
    "print(\"CI without ddof correction: [{:.3f},{:.3f}]\".format(xbar-z*stdev_wrong/np.sqrt(n),xbar+z*stdev_wrong/np.sqrt(n)))"
   ]
  },
  {
   "cell_type": "markdown",
   "metadata": {},
   "source": [
    "**Part C:** Speculate: what would happen if you hadn't included all the data in your confidence interval calculation above? Specifically, if you only observed the first 30 of your data points and used those to compute a confidence interval, would it be wider or less wide? Why? You may assume that the number of data points is the *only* thing changing in this hypothetical situation."
   ]
  },
  {
   "cell_type": "markdown",
   "metadata": {},
   "source": [
    "**Solution:** Smaller $n$ means a wider $CI$. That's because we have a $\\sqrt{n}$ in the denominator of the width. "
   ]
  },
  {
   "cell_type": "markdown",
   "metadata": {},
   "source": [
    "**Part D:** Write a function to confirm what you have written above. For each value of $n$ between $30$ and the total number of data points, compute a 90% CI using the first $n$ inter-arrival times. Plot the CIs (vertical axis) against $n$ (horizontal axis). Plot the means as black X symbols, with vertical \"errorbars\" for the CIs colored `sienna`. See Matplotlib's [errorbar](https://matplotlib.org/api/_as_gen/matplotlib.pyplot.errorbar.html) plot type. Be sure to label your axes!"
   ]
  },
  {
   "cell_type": "markdown",
   "metadata": {},
   "source": [
    "**Solution:**"
   ]
  },
  {
   "cell_type": "code",
   "execution_count": 86,
   "metadata": {
    "collapsed": true
   },
   "outputs": [],
   "source": [
    "def get_CI(inters,n):\n",
    "    mydata = inters[:n]\n",
    "    stdev = np.std(mydata)\n",
    "    xbar = np.mean(mydata)\n",
    "    z = stats.norm.ppf(1-0.1/2)\n",
    "    return xbar,z*stdev/np.sqrt(n)\n",
    "ns = np.arange(30,len(inters)+1)\n",
    "xbars = []\n",
    "widths = []\n",
    "for n in ns:\n",
    "    _x,_w = get_CI(inters,n)\n",
    "    xbars.append(_x)\n",
    "    widths.append(_w)"
   ]
  },
  {
   "cell_type": "code",
   "execution_count": 87,
   "metadata": {},
   "outputs": [
    {
     "data": {
      "image/png": "[encoded data removed]",
      "text/plain": [
       "<Figure size 720x288 with 1 Axes>"
      ]
     },
     "metadata": {},
     "output_type": "display_data"
    }
   ],
   "source": [
    "fig,ax = plt.subplots(1,1, figsize=(10,4)) \n",
    "ax.errorbar(ns,xbars,yerr=widths,\n",
    "           marker='x',color=\"black\",ecolor='sienna')\n",
    "ax.set_xlabel('n',FontSize=14)\n",
    "ax.set_ylabel('estimate',FontSize=14);"
   ]
  },
  {
   "cell_type": "markdown",
   "metadata": {},
   "source": [
    "**Part E:** Reflect on how your confidence intervals change as the sample sizes $n$ increase from 30 to about 100. Does this make sense? Write a few sentences to reflect on the behavior that you see in your plot from Part D, and why it does/does not make sense."
   ]
  },
  {
   "cell_type": "markdown",
   "metadata": {},
   "source": [
    "**Solution:**\n",
    "\n",
    "The confidence intervals change a lot at first, as more and more samples are added, but eventually (beyond about $n=50$) they level off. This makes sense because there are only about 100 data points to begin with, so the samples we are taking get closer and closer to the actual entire population."
   ]
  },
  {
   "cell_type": "markdown",
   "metadata": {
    "collapsed": true
   },
   "source": [
    "<br>\n",
    "\n",
    "---\n",
    "### Notes\n",
    "\n",
    "<a/ id='rad'></a> 200 mSv is somewhere below Chernobyl levels of exposure, but more radiation than you would want with regard to potentially increasing your risk of cancer. It's probably too high, but it is a nice round number! More information [here](https://www.theguardian.com/news/datablog/2011/mar/15/radiation-exposure-levels-guide).\n",
    "\n",
    "[Back to Problem 3](#p3)"
   ]
  },
  {
   "cell_type": "code",
   "execution_count": null,
   "metadata": {
    "collapsed": true
   },
   "outputs": [],
   "source": []
  }
 ],
 "metadata": {
  "kernelspec": {
   "display_name": "Python 3",
   "language": "python",
   "name": "python3"
  },
  "language_info": {
   "codemirror_mode": {
    "name": "ipython",
    "version": 3
   },
   "file_extension": ".py",
   "mimetype": "text/x-python",
   "name": "python",
   "nbconvert_exporter": "python",
   "pygments_lexer": "ipython3",
   "version": "3.7.1"
  }
 },
 "nbformat": 4,
 "nbformat_minor": 2
}
