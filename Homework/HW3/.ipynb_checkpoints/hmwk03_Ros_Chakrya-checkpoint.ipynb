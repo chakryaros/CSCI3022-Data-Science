{
 "cells": [
  {
   "cell_type": "markdown",
   "metadata": {},
   "source": [
    "### <a/ id='top'></a>\n",
    "# Homework 3: Random Variables, and the Central Limit Theorem\n",
    "***\n",
    "\n",
    "**Name**: Chakrya Ros\n",
    "\n",
    "\n",
    "***\n",
    "\n",
    "This assignment is due on Canvas by **5 PM on Monday March 18**. Your solutions to theoretical questions should be done in Markdown/MathJax directly below the associated question.  Your solutions to computational questions should include any specified Python code and results as well as written commentary on your conclusions.  Remember that you are encouraged to discuss the problems with your instructors and classmates, but **you must write all code and solutions on your own**. \n",
    "\n",
    "**NOTES**: \n",
    "\n",
    "- Any relevant data sets should be available under the **Data** module on Canvas, as well as in the zipped folder in which you obtained this assignment. \n",
    "- Do **NOT** load or use any Python packages that are not available in Anaconda 3.6. \n",
    "- Because you can technically evaluate notebook cells in a non-linear order, it's a good idea to do Kernel $\\rightarrow$ Restart & Run All as a check before submitting your solutions.  That way if we need to run your code you will know that it will work as expected. \n",
    "- It is **bad form** to make your reader interpret numerical output from your code.  If a question asks you to compute some value from the data you should show your code output **AND** write a summary of the results in Markdown directly below your code. \n",
    "- You **MUST** leave all of your notebook cells **evaluated** so the graders do not need to re-evaluate them. For 100+ students, this extra time adds up, and makes the graders' lives unnecessarily more difficult.\n",
    "- This probably goes without saying, but... For any question that asks you to calculate something, you **must show all work and justify your answers to receive credit**. Sparse or nonexistent work will receive sparse or nonexistent credit. \n",
    "- Submit only this Jupyter notebook to Canvas.  Do not compress it using tar, rar, zip, etc. \n",
    "\n",
    "---\n",
    "**Shortcuts:**  [Problem 1](#p1) | [Problem 2](#p2) | [Problem 3](#p3) | [Problem 4](#p4) \n",
    "\n",
    "---"
   ]
  },
  {
   "cell_type": "code",
   "execution_count": 1,
   "metadata": {
    "scrolled": true
   },
   "outputs": [],
   "source": [
    "import pandas as pd\n",
    "import numpy as np\n",
    "import scipy.stats as stats\n",
    "import math\n",
    "from scipy.special import binom\n",
    "import matplotlib.pylab as plt\n",
    "%matplotlib inline"
   ]
  },
  {
   "cell_type": "markdown",
   "metadata": {},
   "source": [
    "<br>\n",
    "\n",
    "---\n",
    "<a/ id='p1'></a>\n",
    "[Back to top](#top)\n",
    "\n",
    "<img src=\"https://media.daysoftheyear.com/20171223112636/hedgehog-day1.jpg\" style=\"width: 500px;\"/>\n",
    "\n",
    "\n",
    "### [25 points] Problem 1\n",
    "\n",
    "Suppose you are modeling the probability of observing various levels of cuteness in hedgehogs you encounter.  Let $X$ be a random variable representing the observed cuteness, which is *obviously* nonnegative and has units of deci*awws*. You decide to use the following pdf for $X$:\n",
    "\n",
    "$$\n",
    "f(x) = \\begin{cases}\n",
    "         c \\ x \\ e^{\\left(-\\frac{x^2}{4}\\right)} & 0 \\leq x < \\infty \\\\\n",
    "         0                           & \\text{otherwise}\n",
    "       \\end{cases}\n",
    "$$\n",
    "where $c$ is some normalizing constant.\n",
    "\n",
    "**Part A**: Determine the value of $c$ such that $f(x)$ is a valid probability density function. Then, make a plot of the probability density function for hedgehog cuteness, $f(x)$. Be sure to label your axes!"
   ]
  },
  {
   "cell_type": "markdown",
   "metadata": {
    "collapsed": true
   },
   "source": [
    "**Part A Solution**: \n",
    "\n",
    "We need to choose $c$ such that $f(x)$ integrates to 1.  We have:\n",
    "\n",
    "$\\begin{align}\n",
    " 1 &= \\int_0^\\infty c \\ x \\ e^{-x^2/4}\\ dx \\qquad \\text{let } u=x^2, du = 2xdx\\\\\n",
    "   &= \\dfrac{c}{2} \\int_0^\\infty e^{-u/4}\\ du \\\\\n",
    "   &= -\\dfrac{4c}{2} e^{-u/4} \\bigg|_0^\\infty \\\\\n",
    "   &= -2c \\left(e^{-\\infty} - e^0\\right) \\\\\n",
    "   &= -2c \\left(0 - 1\\right) \\\\\n",
    "   &= 2c \\\\\n",
    "\\Rightarrow& ~~\\fbox{$c=\\dfrac{1}{2}$}\n",
    "\\end{align}$"
   ]
  },
  {
   "cell_type": "code",
   "execution_count": 2,
   "metadata": {},
   "outputs": [
    {
     "data": {
      "text/plain": [
       "Text(0, 0.5, 'Density')"
      ]
     },
     "execution_count": 2,
     "metadata": {},
     "output_type": "execute_result"
    },
    {
     "data": {
      "image/png": "[encoded data removed]",
      "text/plain": [
       "<Figure size 864x432 with 1 Axes>"
      ]
     },
     "metadata": {
      "needs_background": "light"
     },
     "output_type": "display_data"
    }
   ],
   "source": [
    "def pdf_fun(x):\n",
    "    result = (1/2)*x*np.exp(-(x**2)/4)\n",
    "    return result\n",
    "x = 100\n",
    "pdf = np.zeros(100)\n",
    "for i in range(x):\n",
    "    pdf[i] = pdf_fun(i)\n",
    "\n",
    "\n",
    "\n",
    "fig,ax = plt.subplots(1,1,figsize=(12,6))\n",
    "ax.plot(pdf, color=\"steelblue\",)\n",
    "ax.grid(alpha=0.2)\n",
    "ax.set_xlabel(r\"$x$\", fontsize=16)\n",
    "ax.set_ylabel(\"Density\", fontsize=16)\n",
    "#ax.legend()\n",
    "#ax.set_xlim((-10,10))\n",
    "#ax.set_xticks(range(-10,11));"
   ]
  },
  {
   "cell_type": "code",
   "execution_count": null,
   "metadata": {},
   "outputs": [],
   "source": []
  },
  {
   "cell_type": "code",
   "execution_count": null,
   "metadata": {},
   "outputs": [],
   "source": []
  },
  {
   "cell_type": "markdown",
   "metadata": {},
   "source": [
    "**Part B**: Compute *by hand* the cumulative density (cdf) function $F(x)$ for $X$."
   ]
  },
  {
   "cell_type": "markdown",
   "metadata": {
    "collapsed": true
   },
   "source": [
    "**Part B Solution**:\n",
    "\n",
    "Integrating from $0$ to $x$, we have\n",
    "\n",
    "$\\begin{align}\n",
    "F(x)  &= \\int_0^x \\dfrac{1}{2} \\ y \\ e^{-y^2/4}\\ dy \\qquad \\text{let } u=y^2, du = 2ydy\\\\\n",
    "   &= \\dfrac{1}{4} \\int_0^{x^2} e^{-u/4}\\ du \\\\\n",
    "   &= -\\dfrac{4}{4} e^{-u/4} \\bigg|_0^{x^2} \\\\\n",
    "   &= -1 \\left(e^{-x^2/4} - e^0\\right) \\\\\n",
    "   &= \\left(1 - e^{-x^2/4}\\right) \\\\\n",
    "\\Rightarrow& ~~\\fbox{$F(x)=(1 - e^{-x^2/4})$}\n",
    "\\end{align}$"
   ]
  },
  {
   "cell_type": "markdown",
   "metadata": {},
   "source": [
    "**Part C:**  Use the cdf you derived in **Part B** to calculate the median ($\\tilde{x}$) cuteness of all hedgehogs."
   ]
  },
  {
   "cell_type": "markdown",
   "metadata": {
    "collapsed": true
   },
   "source": [
    " **Part C Solution:**\n",
    "\n",
    "Median is the middle of probability mass, so we have,\n",
    "\n",
    "$\\begin{align}\n",
    "\\frac{1}{2} &= \\int_0^x \\dfrac{1}{2} \\ y \\ e^{-y^2/4}\\ dy \\qquad \\text{let } u=y^2, du = 2ydy\\\\\n",
    "            &= \\dfrac{1}{4} \\int_0^{x^2} e^{-u/4}\\ du \\\\\n",
    "            &= -\\dfrac{4}{4} e^{-u/4} \\bigg|_0^{x^2} \\\\\n",
    "            &= -1 \\left(e^{-x^2/4} - e^0\\right) \\\\\n",
    "            &= \\left(1 + e^{-x^2/4}\\right) \\\\\n",
    " e^{-x^2/4} &= \\frac{1}{2} \\qquad \\text{take log both sides} \\\\\n",
    " \\log e^{-x^2/4} &= \\log \\frac{1}{2}  \\\\\n",
    " \\frac{-x^2}{4} \\log e &= \\log \\frac{1}{2} \\qquad \\text{take log e = 1 and log 1/2 = -log 2} \\\\\n",
    " -x^2       &= - 4 \\log 2 \\\\\n",
    "\\Rightarrow& ~~ \\fbox{$\\tilde{x} = \\sqrt{4 \\log{2}} \\approx 1.6651 $}\n",
    "\\end{align}$\n"
   ]
  },
  {
   "cell_type": "code",
   "execution_count": 3,
   "metadata": {},
   "outputs": [
    {
     "name": "stdout",
     "output_type": "stream",
     "text": [
      "1.6651092223153954\n"
     ]
    }
   ],
   "source": [
    "print(np.sqrt(4*np.log(2)))"
   ]
  },
  {
   "cell_type": "markdown",
   "metadata": {},
   "source": [
    "**Part D**: It is a well-known fact that any hedgehog whose cuteness exceeds 3 deciawws is **totes adorbz**. Use the cdf you computed in **Part B** to find the probability that any arbitrary hedgehog that you observe is totes adorbz."
   ]
  },
  {
   "cell_type": "markdown",
   "metadata": {
    "collapsed": true
   },
   "source": [
    "**Part D Solution:**\n",
    "\n",
    "$\\begin{align}\n",
    "P(X \\geq 3) &= 1 - P(X \\leq 3) = 1 - F(3) \\\\\n",
    "            &= 1 - \\left[1-e^{(-3^2/4)}\\right] \\\\\n",
    "            &= e^{(-2.25)} \\\\\n",
    "            &\\approx 0.1054\n",
    "\\end{align}$\n",
    "\n",
    "The probability that hedgehog is about $\\fbox{0.1054}$"
   ]
  },
  {
   "cell_type": "code",
   "execution_count": 4,
   "metadata": {},
   "outputs": [
    {
     "name": "stdout",
     "output_type": "stream",
     "text": [
      "2.25\n"
     ]
    },
    {
     "data": {
      "text/plain": [
       "0.10539922456186433"
      ]
     },
     "execution_count": 4,
     "metadata": {},
     "output_type": "execute_result"
    }
   ],
   "source": [
    "a = (3**2)/4\n",
    "print(a)\n",
    "np.exp(-a)"
   ]
  },
  {
   "cell_type": "markdown",
   "metadata": {},
   "source": [
    "**Part E:** You have been painstakingly collecting data on hedgehogs all over town, and the cuteness is damn near overwhelming. Suppose you sample 5 hedgehogs, and the cuteness of any given hedgehog is independent of the cuteness of all other hedgehogs. What is the probability that more than half of them are totes adorbz? Keep at least 5 decimal places in your answer."
   ]
  },
  {
   "cell_type": "code",
   "execution_count": 5,
   "metadata": {},
   "outputs": [
    {
     "name": "stdout",
     "output_type": "stream",
     "text": [
      "The probability that more than half of them are totes adorbz: 0.0099358997582827\n"
     ]
    }
   ],
   "source": [
    "def binomial (c,k, n, p):\n",
    "    b = c*(p**k)*(1-p)**(n-k)\n",
    "    return b\n",
    "c_3 = (5*4*3)/(3*2*1)\n",
    "c_4 = (5*4*3*2)/(4*3*2*1)\n",
    "c_5 = 1\n",
    "p = 0.1054\n",
    "totes_3 = binomial(c_3, 3, 5,p)\n",
    "totes_4 =  binomial(c_4, 4, 5,p)\n",
    "totes_5 = binomial(c_5, 5, 5,p)\n",
    "total_totes = totes_3 + totes_4 + totes_5\n",
    "print(\"The probability that more than half of them are totes adorbz:\", total_totes)"
   ]
  },
  {
   "cell_type": "code",
   "execution_count": 6,
   "metadata": {},
   "outputs": [
    {
     "name": "stdout",
     "output_type": "stream",
     "text": [
      "The probability that more than half of them are totes adorbz:0.00994\n"
     ]
    }
   ],
   "source": [
    "p = 0.1054\n",
    "prob_3 = binom(5, 3) * (p**3) * ((1-p)**(5-3)) \n",
    "prob_4 = binom(5, 4) * (p**4) * ((1-p)**(5-4)) \n",
    "prob_5 = binom(5, 5) * (p**5) * ((1-p)**(5-5)) \n",
    "Prob_3_up = prob_3 + prob_4 + prob_5\n",
    "print(\"The probability that more than half of them are totes adorbz:{:0.5f}\".format(Prob_3_up))"
   ]
  },
  {
   "cell_type": "markdown",
   "metadata": {},
   "source": [
    "**Part E Solution:**\n",
    "\n",
    "The probability that more than half of them are totes adorbz: $\\fbox{0.00994}$"
   ]
  },
  {
   "cell_type": "markdown",
   "metadata": {
    "collapsed": true
   },
   "source": [
    "<br>\n",
    "\n",
    "---\n",
    "<a/ id='p2'></a>\n",
    "[Back to top](#top)\n",
    "### [25 points] Problem 2 - Monte Carlo Estimation of Definite Integrals\n",
    "\n",
    "One really cool application of random variables is using them to approximate integrals/area under a curve.  This method of approximating integrals is used frequently in computational science to approximate really difficult integrals that we never want to do by hand.  In this exercise you'll figure out how we can do this in practice and test your method on a relatively simple integral. "
   ]
  },
  {
   "cell_type": "markdown",
   "metadata": {
    "collapsed": true
   },
   "source": [
    "**Part A.**  Let $X$ be a random variable representing how delicious a pie you bake is, as measured by the **Deliciousness Index** (DI).  Suppose the probability density function for $X$ is described by the raised cosine probability density function:\n",
    "\n",
    "$$\n",
    "f(x) = \\begin{cases}\n",
    "         \\dfrac{1}{\\pi}\\left(\\cos{(x)} + 1\\right) & 0 \\leq x \\leq \\pi \\\\\n",
    "         0                           & \\text{otherwise}\n",
    "         \\end{cases}\n",
    "$$\n",
    "\n",
    "A Deliciousness Index of $\\pi$ is the most delicious pie you can ever hope to create, and a DI of $0$ is the most disgusting pie you have ever tasted.  \n",
    "\n",
    "Compute **by hand**, the integral of $f(x)$ for $0 \\leq x \\leq \\dfrac{\\pi}{2}$.  Write a sentence or two to interpret your result physically, in the context of this problem set-up."
   ]
  },
  {
   "cell_type": "markdown",
   "metadata": {
    "collapsed": true
   },
   "source": [
    "**Part A Solution:**\n",
    "\n",
    "Integrating from $0$ to $\\dfrac{\\pi}{2}$, we have\n",
    "\n",
    "$\\begin{align}\n",
    "f(x)  &= \\int_0^{\\pi /2} \\dfrac{1}{\\pi} (cos(x) + 1)\\ dx \\\\\n",
    "   &= \\dfrac{1}{\\pi} \\int_0^{\\pi/2} (cos(x) + 1)\\ dx \\\\\n",
    "   &= \\dfrac{1}{\\pi}(sin(x) + x) \\bigg|_0^{\\pi/2} \\\\\n",
    "   &= \\dfrac{2 + \\pi}{2\\pi} \\\\\n",
    "\\Rightarrow& ~~\\fbox{$f(x)=0.8183$}\n",
    "\\end{align}$"
   ]
  },
  {
   "cell_type": "code",
   "execution_count": 7,
   "metadata": {},
   "outputs": [
    {
     "name": "stdout",
     "output_type": "stream",
     "text": [
      "0.8183098861837906\n"
     ]
    }
   ],
   "source": [
    "a = np.pi + 2\n",
    "b = 2 * np.pi\n",
    "print(a/b)\n"
   ]
  },
  {
   "cell_type": "code",
   "execution_count": 8,
   "metadata": {},
   "outputs": [
    {
     "name": "stdout",
     "output_type": "stream",
     "text": [
      "0.8183033411721806\n"
     ]
    }
   ],
   "source": [
    "def integrate_f(f, a, b, N):\n",
    "    h = float(b-a)/N\n",
    "    area = 0.5*f(a) + 0.5*f(b)\n",
    "    for i in range(1, N):\n",
    "        area += f(a + i*h)\n",
    "    area *= h\n",
    "    return area\n",
    "v = lambda x: (1/np.pi)*(np.cos(x) +1)\n",
    "print(integrate_f(v, 0, np.pi/2, 100))"
   ]
  },
  {
   "cell_type": "markdown",
   "metadata": {},
   "source": [
    "**Part B.** Suppose we sample a random variable $X$ from $U(0,\\frac{\\pi}{2})$ and another random variable $Y$ from $U(0,1)$ and think of them as $x$- and $y$-coordinates of a point in the box $[0,\\frac{\\pi}{2}] \\times [0,1]$.  If we compute the ratio of points that fall under the curve $f(x)$ to the total points sampled, what does this value estimate? "
   ]
  },
  {
   "cell_type": "markdown",
   "metadata": {},
   "source": [
    "**Part B Solution:**\n",
    "\n",
    "Integrating from 0 to $\\frac{\\pi}{2}$ , we have X = 0.8183\n",
    "\n",
    "Integrating from 0 to $1$, we have:\n",
    "\n",
    "$\\begin{align}\n",
    "Y  &= \\int_0^{1} \\dfrac{1}{\\pi} (cos(x) + 1)\\ dx \\\\\n",
    "   &= \\dfrac{1}{\\pi} \\int_0^{1} (cos(x) + 1)\\ dx \\\\\n",
    "   &= \\dfrac{\\pi}{2}(sin(x) + x) \\bigg|_0^{1} \\\\\n",
    "   &= \\dfrac{sin(1) + 1}{\\pi} \\\\\n",
    "\\Rightarrow& ~~\\fbox{$f(x)=0.5861$}\n",
    "\\end{align}$\n",
    "\n",
    "Total points sample = X * Y = 0.8183 * 0.5861 = 0.4796\n",
    "\n",
    "The ration of points that fall under the curve f(x):\n",
    "\n",
    "raito_X = $\\dfrac{0.8183}{ 0.4796} = 1.706$\n",
    "\n",
    "raito_Y = $\\dfrac{0.5861}{ 0.4796} = 1.222$\n",
    "\n",
    "$$\\fbox{This value estimate proportion of the area in the box that is under the curve of f(x)}$$\n"
   ]
  },
  {
   "cell_type": "code",
   "execution_count": null,
   "metadata": {},
   "outputs": [],
   "source": []
  },
  {
   "cell_type": "code",
   "execution_count": 9,
   "metadata": {},
   "outputs": [
    {
     "name": "stdout",
     "output_type": "stream",
     "text": [
      "Y= 0.5861561875101228\n",
      "0.47965160823953346\n",
      "1.7060299307728972\n",
      "1.2220457045093487\n"
     ]
    }
   ],
   "source": [
    "#np.sin(np.pi/2)\n",
    "X = 0.8183\n",
    "v = lambda y: (1/np.pi)*(np.cos(y) +1)\n",
    "Y = integrate_f(v, 0, 1, 100)\n",
    "print(\"Y=\",Y)\n",
    "# Y_1= (np.sin(1) + 1)/np.pi\n",
    "# print(Y_1)\n",
    "total_points = X*Y\n",
    "print(total_points)\n",
    "print(X/total_points)\n",
    "print(Y/total_points)"
   ]
  },
  {
   "cell_type": "markdown",
   "metadata": {},
   "source": [
    "**Part C.** How could we modify the process outlined in **Part B** so that our estimator estimates the value of the desired integral?  If you need inspiration, check out the in-class notebook on Stochastic Simulation (#4), specifically, the exercise where we estimated $\\pi$!"
   ]
  },
  {
   "cell_type": "markdown",
   "metadata": {},
   "source": [
    "**Part C Solution:**\n",
    "\n",
    "We want to compute the area under the curve so we multiply the proportion by the total area to get the area under the curve."
   ]
  },
  {
   "cell_type": "code",
   "execution_count": null,
   "metadata": {},
   "outputs": [],
   "source": []
  },
  {
   "cell_type": "markdown",
   "metadata": {},
   "source": [
    "**Part D.** Complete the function `integrate` below to compute an approximation to the definition integral $\\int_0^{\\text{ub}} f(x)dx$.  Your function should take as arguments:\n",
    "1. `num_samples` -- the number of points to sample,\n",
    "2. `ub` -- a number between $0$ and $\\pi$ that is the upper bound of the integral, and\n",
    "3. `isPlot` -- a Boolean flag for whether or not to display a plot of the results.\n",
    "\n",
    "Your function should return an approximation of the definite integral by sampling $X$ from $U(0,\\text{ub})$ and $Y$ from $U(0,1)$. For each random draw $(X,Y)$, define the random variable $Z$ that represents whether or not the sampled $Y$ value is less than $f(X)$ for the corresponding $X$ value.\n",
    "\n",
    "Your function should perform three tasks: \n",
    "\n",
    "1. return the estimate of the value of the integral,\n",
    "2. return the sample variance of the random variable $Z$ being simulated, using the np.var function, and\n",
    "3. if `isPlot` is True, plot the curve $f(x)$ as well as the location of the points $(X,Y)$, colored according to whether they fall above or below the curve. "
   ]
  },
  {
   "cell_type": "code",
   "execution_count": 10,
   "metadata": {},
   "outputs": [
    {
     "data": {
      "text/plain": [
       "(0.7822565707438585, 0.2499959999999999)"
      ]
     },
     "execution_count": 10,
     "metadata": {},
     "output_type": "execute_result"
    },
    {
     "data": {
      "image/png": "[encoded data removed]",
      "text/plain": [
       "<Figure size 864x432 with 1 Axes>"
      ]
     },
     "metadata": {
      "needs_background": "light"
     },
     "output_type": "display_data"
    }
   ],
   "source": [
    "def function_cosine(x):\n",
    "    return (1/np.pi)*(np.cos(x)+1)\n",
    "\n",
    "\n",
    "# GIVEN CODE - Do not change the inputs/outputs or your code will fail unit tests and auto-grading!\n",
    "\n",
    "def integrate(num_samples, ub, isPlot=False):\n",
    "    \n",
    "    #Draw samples from a uniform distribution\n",
    "    X = np.random.uniform(0, ub, num_samples)\n",
    "    Y = np.random.uniform(0, 1, num_samples)\n",
    "    \n",
    "    #calculate the f(x)\n",
    "    value_fx = function_cosine(X)\n",
    "    \n",
    "    #to check the sampled 𝑌 value is less than 𝑓(𝑋)\n",
    "    random_Z = Y < value_fx\n",
    "    \n",
    "    #get estimate\n",
    "    estimate = ub*np.sum(random_Z)/num_samples\n",
    "    \n",
    "    #calcualte the sample variance \n",
    "    sample_var = np.var(random_Z)\n",
    "    if isPlot:\n",
    "        fig, ax = plt.subplots(nrows=1, ncols=1, figsize=(12,6)) \n",
    "        x_value = np.arange(0, np.pi, np.pi/100)\n",
    "        ax.plot(x_value, function_cosine(x_value))\n",
    "        ax.scatter(X[Y<=value_fx],Y[Y<=value_fx ],c='green')\n",
    "        ax.scatter(X[Y>value_fx ],Y[Y>value_fx],c='coral')\n",
    "    return estimate, sample_var\n",
    "integrate(num_samples=1000, ub=(np.pi/2), isPlot=True)"
   ]
  },
  {
   "cell_type": "code",
   "execution_count": null,
   "metadata": {},
   "outputs": [],
   "source": []
  },
  {
   "cell_type": "markdown",
   "metadata": {},
   "source": [
    "**Part E.** Write your own small unit tests!\n",
    "\n",
    "First, what should your `integrate` function output if you plug in `ub=0`? Set that as `int_0_to_0` below.\n",
    "\n",
    "Second, what should your `integrate` function output if you plug in `ub=`$\\pi$? Set that as `int_0_to_pi` below.\n",
    "\n",
    "Then, you can execute the cell below to run two sanity checks. Write out **in math** (like, a definite integral) what each of these two tests is checking and **why** that is a reasonable sanity check.\n",
    "\n",
    "If these two assertions run without fail, then things seem to be working okay. Note that the upper endpoint test is stochastic, so if it fails, try running it a few times. If it fails a lot, then things are probably going wrong."
   ]
  },
  {
   "cell_type": "markdown",
   "metadata": {},
   "source": [
    "**Part E Solution:**\n",
    "\n",
    "A definite integral is an integral expressed as the difference between the values of the integral at specified upper and lower limits of the independent variable. These two test is checking the lower and upper limits bound of f(x) becasue we want to check to make sure it's not out of bound. When the lower bound is zero and upper bound is $\\pi$, we got \"error of upper endpoint test failing\" because it's out of bound. However, When the lower bound is zero and upper bound is 1, sanity checks."
   ]
  },
  {
   "cell_type": "code",
   "execution_count": 11,
   "metadata": {},
   "outputs": [],
   "source": [
    "int_0_to_0  = 0 # fill this in!\n",
    "int_0_to_pi = 1# this one too!\n",
    "\n",
    "\n",
    "#---------------------------------------\n",
    "# DO NOT EDIT THIS CELL BELOW HERE\n",
    "#---------------------------------------\n",
    "assert integrate(1000, 0, False)[0]==int_0_to_0, \"Error: lower endpoint test failing\"\n",
    "assert math.isclose(integrate(10000, np.pi, False)[0],int_0_to_pi,abs_tol=0.03), \"Error: upper endpoint test failing\""
   ]
  },
  {
   "cell_type": "code",
   "execution_count": null,
   "metadata": {},
   "outputs": [],
   "source": []
  },
  {
   "cell_type": "markdown",
   "metadata": {},
   "source": [
    "**Part F.** Run your simulation with `isPlot=True` and `ub=`$\\frac{\\pi}{2}$ for 1,000 samples so we can see your plot. Then, run your simulation (with `isPlot=False`) with at least 10,000 samples and estimate the value of the given integral. Be sure to leave your cells evaluated for the graders! Does your estimate agree with the exact value of the integral you computed in **Part A**? "
   ]
  },
  {
   "cell_type": "code",
   "execution_count": 12,
   "metadata": {},
   "outputs": [
    {
     "name": "stdout",
     "output_type": "stream",
     "text": [
      "samples run at 1000: (0.8435176274888595, 0.24863099999999996)\n",
      "samples run at least 100000: (0.8026769229921922, 0.249879)\n"
     ]
    },
    {
     "data": {
      "image/png": "[encoded data removed]",
      "text/plain": [
       "<Figure size 864x432 with 1 Axes>"
      ]
     },
     "metadata": {
      "needs_background": "light"
     },
     "output_type": "display_data"
    }
   ],
   "source": [
    "print(\"samples run at 1000:\", integrate(1000, np.pi/2, isPlot=True))\n",
    "    \n",
    "print(\"samples run at least 100000:\",integrate(10000, np.pi/2, isPlot=False))\n"
   ]
  },
  {
   "cell_type": "code",
   "execution_count": null,
   "metadata": {},
   "outputs": [],
   "source": []
  },
  {
   "cell_type": "markdown",
   "metadata": {},
   "source": [
    "**Part F Solution:**\n",
    "\n",
    "yes, it's pretty close to my answer in part A.\n",
    "\n",
    "To check the different:\n",
    "\n",
    "error = $\\dfrac{0.81524 - 0.8183}{0.8183} \\approx -0.3739\\% $\n",
    "    "
   ]
  },
  {
   "cell_type": "code",
   "execution_count": 13,
   "metadata": {},
   "outputs": [
    {
     "name": "stdout",
     "output_type": "stream",
     "text": [
      "-0.37394598557986836\n"
     ]
    }
   ],
   "source": [
    "print(((0.81524 - 0.8183)/0.8183)*100)"
   ]
  },
  {
   "cell_type": "markdown",
   "metadata": {
    "collapsed": true
   },
   "source": [
    "<br>\n",
    "\n",
    "---\n",
    "<a/ id='p3'></a>\n",
    "[Back to top](#top)\n",
    "### [25 points] Problem 3 - Mmmm... Donuts...\n",
    "\n",
    "<img src=\"http://astrokentico.s3.amazonaws.com/rojakdaily/media/1nichoras/homer%20simpson%20krispy%20kreme/main.jpg?ext=.jpg\" style=\"width:300px;\"/>\n",
    "\n",
    "You bring many donuts (or _doughnuts_, if you're into that) to work to share with your coworkers at the Boulder Nuclear Power Planet. But due to the high levels of radiation there, they must be inspected for safety. In particular, if the mean level of radiation in a sample from your batch of donuts is above [200 mSv (millisievert)](#rad), then they are deemed unsafe and you must throw the whole batch away.\n",
    "\n",
    "You know that historically donuts at the power plant have, on average, 190 mSv of radiation, with a standard deviation of 40 mSv. To test the donut radiation levels, you take the donut receipt and pick every fifth donut off it, and sample the radiation levels of those donuts. You end up sampling the radiation levels of 36 donuts out of the batch."
   ]
  },
  {
   "cell_type": "markdown",
   "metadata": {},
   "source": [
    "**Part A.** What is the probability that a donut batch is deemed unsafe?  You should at the very least set up and justify your calculation by hand (in Markdown/Mathjax), before executing any calculations in Python."
   ]
  },
  {
   "cell_type": "markdown",
   "metadata": {},
   "source": [
    "**Part A Solution:**\n",
    "\n",
    "\n",
    "Let X be the random variable that represent the level of radiation in the donut batch.\n",
    "\n",
    "we know $\\mu = 190$ mSv, $\\sigma = 40$ mSv, and $n=36$ donuts.\n",
    "\n",
    "Central Limit Theorem: $\\bar{X} \\sim N(\\mu, \\frac{\\sigma^2}{n}) = \\bar{X} \\sim N(190, \\frac{40^2}{36})$\n",
    "$$\\begin{align}\n",
    "    P(\\bar{X} > 200) &= P\\left(Z > \\dfrac{200-190}{\\frac{40}{\\sqrt{36}}}\\right) \\\\\n",
    "                     &= P(Z > 1.5) = 1 - P(Z \\leq 1.5) \\\\\n",
    "                     &= 1 - \\Phi(1.5) = 1 - 0.93319  \\\\\n",
    "                     &= \\fbox{0.0668}  \\\\\n",
    "\\end{align}$$"
   ]
  },
  {
   "cell_type": "code",
   "execution_count": 14,
   "metadata": {},
   "outputs": [
    {
     "name": "stdout",
     "output_type": "stream",
     "text": [
      "1.5\n",
      "0.06680720126885809\n"
     ]
    }
   ],
   "source": [
    "demo = 40/6\n",
    "print((200-190)/demo)\n",
    "print(1-stats.norm.cdf(1.5))"
   ]
  },
  {
   "cell_type": "code",
   "execution_count": 15,
   "metadata": {},
   "outputs": [
    {
     "name": "stdout",
     "output_type": "stream",
     "text": [
      "0.06680720126885809\n"
     ]
    }
   ],
   "source": [
    "mu = 190\n",
    "sigma = 40\n",
    "n = 36\n",
    "prob = 1 - stats.norm.cdf((200-mu)/(40/np.sqrt(36)))\n",
    "\n",
    "print(prob)"
   ]
  },
  {
   "cell_type": "markdown",
   "metadata": {},
   "source": [
    "**Part B.** You really do not want to throw away donuts that frequently, so you propose to store the donuts in a lead-lined donut box. But lead also is not very good for your health, so you are motivated to use the least amount of lead possible. What is the minimum mean amount of radiation $\\mu$ for our donuts to have such that the probability that we will throw donuts out due to safety concerns is at most 0.01?\n",
    "\n",
    "Calculate this **by hand**, using Python only to perform arithmetic operations and compute critical values of a standard normal random variable."
   ]
  },
  {
   "cell_type": "markdown",
   "metadata": {},
   "source": [
    "**Part B Solution:**\n",
    "\n",
    "$P(\\bar{X} > 200)$ at most $0.01$\n",
    "\n",
    "we know that \n",
    "\n",
    "$$P(\\bar{X} > 200) = 1 - P\\left(Z \\leq \\dfrac{200-190}{\\frac{40}{\\sqrt{36}}}\\right) = 0.01 $$\n",
    "$$ => P\\left(Z \\leq \\dfrac{200-190}{\\frac{40}{\\sqrt{36}}}\\right) = 1 - 0.01 = 0.99$$"
   ]
  },
  {
   "cell_type": "code",
   "execution_count": 16,
   "metadata": {},
   "outputs": [
    {
     "name": "stdout",
     "output_type": "stream",
     "text": [
      "2.3263478740408408\n"
     ]
    }
   ],
   "source": [
    "z_critical_val = stats.norm.ppf(0.99)\n",
    "print(z_critical_val)"
   ]
  },
  {
   "cell_type": "markdown",
   "metadata": {},
   "source": [
    "$$Z = \\dfrac{200 - \\mu}{\\sigma/ \\sqrt{n}}$$\n",
    "$$ 200 - \\mu = Z \\cdot \\frac{\\sigma} {\\sqrt{n}} $$\n",
    "$$=> \\mu = 200 - Z \\cdot \\frac{\\sigma} {\\sqrt{n}} = 200 - 2.3263 \\cdot \\frac{40} {\\sqrt{36}}$$\n",
    "$$ \\mu = \\fbox{184.5 mSv} $$"
   ]
  },
  {
   "cell_type": "code",
   "execution_count": 17,
   "metadata": {},
   "outputs": [
    {
     "name": "stdout",
     "output_type": "stream",
     "text": [
      "184.49101417306105\n"
     ]
    }
   ],
   "source": [
    "mu_new = (200 - (stats.norm.ppf(0.99) * (40/np.sqrt(36))))\n",
    "print(mu_new)\n",
    "\n"
   ]
  },
  {
   "cell_type": "markdown",
   "metadata": {},
   "source": [
    "**Part C.**  Your supervisor at the plant decides that serving up donuts in a lead-lined box is a bad idea. Fair enough.\n",
    "\n",
    "But she is still imposing the requirement that the probability of a batch of donuts being rejected must be less than 0.01. Suppose the mean and standard deviation are at their original values of $\\mu = 190$ mSv and $\\sigma = 40$ mSv. What is the minimum sample size to satisfy this requirement?\n",
    "\n",
    "Calculate this **by hand**, using Python only to perform arithmetic operations and compute critical values of a standard normal random variable."
   ]
  },
  {
   "cell_type": "markdown",
   "metadata": {},
   "source": [
    "**Part C solution:**\n",
    "\n",
    "To calculate we use the same formulate to find critical values of a standard normal random variable\n",
    "\n",
    "$$P(\\bar{X} > 200) = 1 - P\\left(Z \\leq \\dfrac{200-190}{\\frac{40}{\\sqrt{36}}}\\right) = 0.01 $$\n",
    "$$ => P\\left(Z \\leq \\dfrac{200-190}{\\frac{40}{\\sqrt{36}}}\\right) = 1 - 0.01 = 0.99$$\n",
    "\n",
    "$$Z = \\dfrac{200 - 190}{40/ \\sqrt{n}}$$\n",
    "\n",
    "$$ 10 = Z \\cdot \\frac{40} {\\sqrt{n}} $$\n",
    "\n",
    "$$=> \\sqrt{n} = \\frac{Z \\cdot 40} {10} = \\frac{2.3263 \\cdot 40} {10}$$\n",
    "\n",
    "$$ n= (9.3054)^2 = \\fbox{86.59} $$"
   ]
  },
  {
   "cell_type": "code",
   "execution_count": 18,
   "metadata": {},
   "outputs": [
    {
     "name": "stdout",
     "output_type": "stream",
     "text": [
      "9.305391496163363\n",
      "86.59031089686943\n"
     ]
    }
   ],
   "source": [
    "new_std_normal_rv = (stats.norm.ppf(0.99) * 40)/10\n",
    "print(new_std_normal_rv)\n",
    "print((new_std_normal_rv)**2)"
   ]
  },
  {
   "cell_type": "markdown",
   "metadata": {
    "collapsed": true
   },
   "source": [
    "**Part D.** Can you think of any potential issues with using a normal distribution to model the radiation content of our donuts?"
   ]
  },
  {
   "cell_type": "markdown",
   "metadata": {},
   "source": [
    "**Part D Solution:**\n",
    "\n",
    "The potential issues with using a normal disbrution to model the radiation content of our donuts, we would get the some probability mass over donut radiation nagative because with a lower mean."
   ]
  },
  {
   "cell_type": "markdown",
   "metadata": {},
   "source": [
    "<br>\n",
    "\n",
    "---\n",
    "<a/ id='p4'></a>\n",
    "[Back to top](#top)\n",
    "### [25 points] Problem 4 - Here come the hedgehogs\n",
    "\n",
    "**Part A:** You are conducting a study of the cuteness of hedgehogs, because you want to verify the calculations from Problem 1. You set up a data collection center, and record in your data set the time when each hedgehog arrives at your site. The data are found in `arrivals.csv`.\n",
    "\n",
    "Load these data into a Pandas DataFrame, compute the time span between successive hedgehog arrivals, and plot a density histogram of those inter-hedgehog arrival times.\n",
    "\n",
    "To best capture the majesty of the mighty hedgehog, your histogram boxes should be `sienna` with `khaki` edges. Your histogram should also have 50 bins, because hedgehogs love histograms with 50 bins. Hedgehogs are illiterate, so they don't really care about axis labels, but your instructor does. So, be sure to label your axes too."
   ]
  },
  {
   "cell_type": "code",
   "execution_count": 19,
   "metadata": {},
   "outputs": [
    {
     "data": {
      "text/plain": [
       "Text(0, 0.5, 'density')"
      ]
     },
     "execution_count": 19,
     "metadata": {},
     "output_type": "execute_result"
    },
    {
     "data": {
      "image/png": "[encoded data removed]",
      "text/plain": [
       "<Figure size 432x288 with 1 Axes>"
      ]
     },
     "metadata": {
      "needs_background": "light"
     },
     "output_type": "display_data"
    }
   ],
   "source": [
    "x = pd.read_csv('arrivals.csv')\n",
    "inter_hed = np.diff(x['hedgehogs'])\n",
    "fig,ax = plt.subplots(1,1, figsize=(6,4)) \n",
    "ax.hist(inter_hed,bins=50, \n",
    "        density=True,color=\"sienna\",edgecolor=\"khaki\")\n",
    "ax.set_xlabel('Hedgehog arrival times',FontSize=14)\n",
    "ax.set_ylabel('density',FontSize=14)\n",
    "#ax.legend()"
   ]
  },
  {
   "cell_type": "markdown",
   "metadata": {},
   "source": [
    "**Part B:** Compute a 99% confidence interval (to 4 decimal places) for the mean of the inter-hedgehog arrival time. If you use any theorem(s) in your calculation, be sure to state what they are and why the theorem(s) can be applied. "
   ]
  },
  {
   "cell_type": "code",
   "execution_count": 20,
   "metadata": {},
   "outputs": [
    {
     "name": "stdout",
     "output_type": "stream",
     "text": [
      " 99% Confidence interval: [13.8282,19.2335]\n"
     ]
    }
   ],
   "source": [
    "z_half = (1-0.99)\n",
    "n = len(inter_hed )\n",
    "Z = stats.norm.ppf(1-0.01/2)\n",
    "xbar = np.mean(inter_hed )\n",
    "stdev = np.std(inter_hed )\n",
    "print(\" 99% Confidence interval: [{:.4f},{:.4f}]\".format(xbar-Z*stdev/np.sqrt(n),xbar+Z*stdev/np.sqrt(n)))"
   ]
  },
  {
   "cell_type": "markdown",
   "metadata": {},
   "source": [
    "**Part B Solution:**\n",
    "\n",
    "$99\\%$ Confidence interval: $[13.8282,19.2335]$"
   ]
  },
  {
   "cell_type": "markdown",
   "metadata": {},
   "source": [
    "**Part C:** Speculate: what would happen if you hadn't included all the data in your confidence interval calculation above? Specifically, if you only observed the first 30 of your data points and used those to compute a confidence interval, would it be wider or less wide? Why? You may assume that the number of data points is the *only* thing changing in this hypothetical situation."
   ]
  },
  {
   "cell_type": "markdown",
   "metadata": {},
   "source": [
    "**Part C Solutions:**\n",
    "\n",
    "yes, a normal distribution with a really wide standard deviation, or with a lower mean, would put some probability mass over donut radiation content which is negative. That does not make sense physically. We should not eat irradiated donuts.\n"
   ]
  },
  {
   "cell_type": "code",
   "execution_count": null,
   "metadata": {},
   "outputs": [],
   "source": []
  },
  {
   "cell_type": "markdown",
   "metadata": {},
   "source": [
    "**Part D:** Write a function to confirm what you have written above. For each value of $n$ between $30$ and the total number of data points, compute a 90% CI using the first $n$ inter-arrival times. Plot the CIs (vertical axis) against $n$ (horizontal axis). Plot the means as black X symbols, with vertical \"errorbars\" for the CIs colored `sienna`. See Matplotlib's [errorbar](https://matplotlib.org/api/_as_gen/matplotlib.pyplot.errorbar.html) plot type. Be sure to label your axes!"
   ]
  },
  {
   "cell_type": "code",
   "execution_count": 24,
   "metadata": {},
   "outputs": [
    {
     "data": {
      "text/plain": [
       "Text(0.5, 1.0, 'Effect of Sample Size on 90% Confidence Intervals')"
      ]
     },
     "execution_count": 24,
     "metadata": {},
     "output_type": "execute_result"
    },
    {
     "data": {
      "image/png": "[encoded data removed]",
      "text/plain": [
       "<Figure size 1152x576 with 1 Axes>"
      ]
     },
     "metadata": {
      "needs_background": "light"
     },
     "output_type": "display_data"
    }
   ],
   "source": [
    "def CI_function(intern_hed, n):\n",
    "    z_half = (1-0.90)\n",
    "    z = stats.norm.ppf(1-z_half/2)\n",
    "    #get data\n",
    "    data =inter_hed[:n]\n",
    "    xbar = np.mean(data)\n",
    "    stdev = np.std(data)\n",
    "    return xbar,z*stdev/np.sqrt(n) \n",
    "# x = np.linspace(100,1, 30)\n",
    "num_sample = np.arange(30,len(inter_hed)+1)\n",
    "xbars = []\n",
    "widths = []\n",
    "for n in num_sample:\n",
    "    y, w = CI_function(inter_hed,n)\n",
    "    xbars.append(y)\n",
    "    widths.append(w)\n",
    "    \n",
    "fig,ax = plt.subplots(1,1, figsize=(16,8)) \n",
    "ax.errorbar(num_sample,xbars,yerr=widths,  fmt='kx',marker='x',\n",
    "           color=\"black\",ecolor='sienna')\n",
    "\n",
    "ax.set_xlabel('Number of samples used',fontsize=12)\n",
    "ax.set_ylabel('estimate',FontSize=14);\n",
    "ax.set_title('Effect of Sample Size on 90% Confidence Intervals',fontsize=20)"
   ]
  },
  {
   "cell_type": "markdown",
   "metadata": {},
   "source": [
    "**Part E:** Reflect on how your confidence intervals change as the sample sizes $n$ increase from 30 to about 100. Does this make sense? Write a few sentences to reflect on the behavior that you see in your plot from Part D, and why it does/does not make sense."
   ]
  },
  {
   "cell_type": "markdown",
   "metadata": {},
   "source": [
    "**Part E Solution:**\n",
    "\n",
    "Increase the sample size decrease the width of confidence intervals because it decease the standard error. However, after reaching a certain sample size it is not really worth increasing our sample size any further. Increasing the sample size from 50 to 100, the confidence intervals is more acturate."
   ]
  },
  {
   "cell_type": "markdown",
   "metadata": {
    "collapsed": true
   },
   "source": [
    "<br>\n",
    "\n",
    "---\n",
    "### Notes\n",
    "\n",
    "<a/ id='rad'></a> 200 mSv is somewhere below Chernobyl levels of exposure, but more radiation than you would want with regard to potentially increasing your risk of cancer. It's probably too high, but it is a nice round number! More information [here](https://www.theguardian.com/news/datablog/2011/mar/15/radiation-exposure-levels-guide).\n",
    "\n",
    "[Back to Problem 3](#p3)"
   ]
  },
  {
   "cell_type": "code",
   "execution_count": null,
   "metadata": {},
   "outputs": [],
   "source": []
  }
 ],
 "metadata": {
  "kernelspec": {
   "display_name": "Python 3",
   "language": "python",
   "name": "python3"
  },
  "language_info": {
   "codemirror_mode": {
    "name": "ipython",
    "version": 3
   },
   "file_extension": ".py",
   "mimetype": "text/x-python",
   "name": "python",
   "nbconvert_exporter": "python",
   "pygments_lexer": "ipython3",
   "version": "3.7.1"
  }
 },
 "nbformat": 4,
 "nbformat_minor": 2
}
