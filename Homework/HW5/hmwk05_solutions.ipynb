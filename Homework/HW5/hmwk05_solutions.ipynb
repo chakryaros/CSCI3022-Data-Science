{
 "cells": [
  {
   "cell_type": "markdown",
   "metadata": {},
   "source": [
    "<a id='top'></a>\n",
    "\n",
    "# Homework 5: Bootstrap, Hypothesis Testing and Regression\n",
    "***\n",
    "\n",
    "**Name**: Solutions\n",
    "\n",
    "***\n",
    "\n",
    "This assignment is due on Moodle by **5 PM on Friday April 19**. Your solutions to theoretical questions should be done in Markdown/MathJax directly below the associated question.  Your solutions to computational questions should include any specified Python code and results as well as written commentary on your conclusions.  Remember that you are encouraged to discuss the problems with your instructors and classmates, but **you must write all code and solutions on your own**. \n",
    "\n",
    "**NOTES**: \n",
    "\n",
    "- Any relevant data sets should be available under the **Data** module on Canvas, as well as in the zipped folder in which you obtained this assignment. \n",
    "- Do **NOT** load or use any Python packages that are not available in Anaconda 3.6. \n",
    "- Because you can technically evaluate notebook cells in a non-linear order, it's a good idea to do Kernel $\\rightarrow$ Restart & Run All as a check before submitting your solutions.  That way if we need to run your code you will know that it will work as expected. \n",
    "- It is **bad form** to make your reader interpret numerical output from your code.  If a question asks you to compute some value from the data you should show your code output **AND** write a summary of the results in Markdown directly below your code. \n",
    "- You **MUST** leave all of your notebook cells **evaluated** so the graders do not need to re-evaluate them. For 100+ students, this extra time adds up, and makes the graders' lives unnecessarily more difficult.\n",
    "- This probably goes without saying, but... For any question that asks you to calculate something, you **must show all work and justify your answers to receive credit**. Sparse or nonexistent work will receive sparse or nonexistent credit. \n",
    "- Submit only this Jupyter notebook to Canvas.  Do not compress it using tar, rar, zip, etc. \n",
    "\n",
    "---\n",
    "**Shortcuts:**  [Problem 1](#p1) | [Problem 2](#p2) | [Problem 3](#p3) | [Problem 4](#p4) \n",
    "\n",
    "---"
   ]
  },
  {
   "cell_type": "code",
   "execution_count": 1,
   "metadata": {
    "collapsed": true,
    "scrolled": true
   },
   "outputs": [],
   "source": [
    "import numpy as np\n",
    "import matplotlib.pyplot as plt\n",
    "import pandas as pd\n",
    "from scipy import stats \n",
    "%matplotlib inline"
   ]
  },
  {
   "cell_type": "markdown",
   "metadata": {},
   "source": [
    "<br>\n",
    "\n",
    "---\n",
    "[Back to top](#top)\n",
    "<a id='p1'></a>\n",
    "\n",
    "### [15 points] Problem 1 - Hypothesis Testing Whether your Co-worker is a Doofus \n",
    "\n",
    "You are working as a Data Scientist for an internet-based hedgehog deliver company. Your co-worker, Daley Jennanigans, is a lovable scamp! Unfortunately, Daley also makes a lot of mistakes throughout the day as the two of you team up to tackle some inference work regarding your company's hedgehog-loving customers. In each case, clearly explain why Daley's hypothesis testing setup or conclusion is incorrect."
   ]
  },
  {
   "cell_type": "markdown",
   "metadata": {},
   "source": [
    "**Part A**: Daley has some data on the characteristics of customers that visited the company's website over the previous month.  He wants to perform an analysis on the proportion of last month's website visitors that bought a hedgehog. Let $X$ be the random variable describing the number of website visitors who bought a hedgehog in the previous month, and suppose that the population proportion of visitors who bought a hedgehog is $p$. Daley is interested to see if the data suggests that more than 20% of website visitors actually buy a hedgehog.  He decides to perform the test with a null hypothesis of $H_0: \\hat{p} = 0.20$. "
   ]
  },
  {
   "cell_type": "markdown",
   "metadata": {},
   "source": [
    "**Solution**:\n",
    "\n",
    "The null hypothesis should include the population proportion, e.g. $H_0: p = 0.20$. A hypothesis test about the sample proportion (1) is very easy to do (just look at the sample $x/n$, with sample size $n$) and (2) tells you nothing about the population. "
   ]
  },
  {
   "cell_type": "markdown",
   "metadata": {},
   "source": [
    "**Part B**: Daley decides instead to do his hypothesis test with a null hypothesis of $H_0: p < 0.20$.  "
   ]
  },
  {
   "cell_type": "markdown",
   "metadata": {},
   "source": [
    "**Solution**: \n",
    "\n",
    "The null hypothesis should have an equals sign and not an inequality.  The reason for this is that the null hypothesis defines the distribution that we will compare our data against.  A claim like $p < 0.20$ does not specify a particular value of $p$ that we can define our distribution by. "
   ]
  },
  {
   "cell_type": "markdown",
   "metadata": {},
   "source": [
    "**Part C**: Now Daley is finally on track with reasonable hypotheses of $H_0: p = 0.20$ and $H_1: p > 0.20$. Daley computes for the sample proportion a normalized test-statistic of $z = 2.4$ and states that since $z = 2.4 > 0.01$ there is insufficient statistical evidence at the $\\alpha = 0.01$ significance level to conclude that the proportion of customers who buy a hedgehog is greater than 20%."
   ]
  },
  {
   "cell_type": "markdown",
   "metadata": {},
   "source": [
    "**Solution**: \n",
    "\n",
    "Daley is incorrectly comparing the test-statistic $z$ to the significance level $\\alpha$, which makes no sense.  Instead he should compare the test-statistic to the relevant critical value $z_\\alpha$.  Alternatively, he could compute a $p$-value associated with the test statistic and compare this value to the significance level. "
   ]
  },
  {
   "cell_type": "markdown",
   "metadata": {},
   "source": [
    "**Part D**: Daley is again conducting the hypothesis test of $H_0: p = 0.20$ and $H_1: p > 0.20$, and found the test-statistic $z=2.4$. Daley computes his p-value as:\n",
    "$$\\text{p-value} = \\texttt{stats.norm.cdf(2.4)} = 0.9918$$\n",
    "\n",
    "Since his p-value (0.9918) is greater than the significance level (0.01), Daley again claims that there is insufficient evidence at the 1% significance level to conclude that the proportion of customers who buy a hedgehog is greater than 20%."
   ]
  },
  {
   "cell_type": "markdown",
   "metadata": {},
   "source": [
    "**Solution:**\n",
    "\n",
    "Daley's p-value is computed incorrectly. This is a **right-tailed test**, so his p-value should be:\n",
    "$$\\text{p-value} = 1-\\texttt{stats.norm.cdf(2.4)} = 1-0.9918 = 0.0082$$"
   ]
  },
  {
   "cell_type": "code",
   "execution_count": 2,
   "metadata": {},
   "outputs": [
    {
     "name": "stdout",
     "output_type": "stream",
     "text": [
      "0.9918024640754038\n",
      "0.008197535924596155\n"
     ]
    }
   ],
   "source": [
    "print(stats.norm.cdf(2.4))\n",
    "print(1-stats.norm.cdf(2.4))"
   ]
  },
  {
   "cell_type": "markdown",
   "metadata": {},
   "source": [
    "**Part E**: Daley is again conducting the hypothesis test of $H_0: p = 0.20$ and $H_1: p > 0.20$. Suppose he computes a p-value of $0.03$, and then concludes that there is only a 3% probability that the null hypothesis is true. "
   ]
  },
  {
   "cell_type": "markdown",
   "metadata": {},
   "source": [
    "**Solution**: \n",
    "\n",
    "The p-value is not a probability that the null hypothesis is true or false.  The p-value represents the probability, under the null hypothesis, that we observe a test-statistic as extreme or more extreme than the one we got from the data. "
   ]
  },
  {
   "cell_type": "markdown",
   "metadata": {},
   "source": [
    "<br>\n",
    "\n",
    "---\n",
    "[Back to top](#top)\n",
    "<a id='p2'></a>\n",
    "\n",
    "### [25 points] Problem 2 - Naps vs Coffee for Memory? \n",
    "\n",
    "It is estimated that [about 75% of adults](https://www.ncbi.nlm.nih.gov/pmc/articles/PMC4997286/) in the United States drink coffee. Often, coffee is used to replace the need for sleep. It works alright, or so we think. Let's find out, in this exciting homework problem!\n",
    "\n",
    "[One recent study](https://www.sciencedirect.com/science/article/pii/S1388245703002554) investigated the effects of drinking coffee, taking a nap, and having a [\"coffee-nap\"](https://lifehacker.com/naps-vs-coffee-which-is-better-when-youre-exhausted-1730643671) - the practice of drinking some coffee *and then* having a short nap. The study broke participants up into three groups of 10 participants each, where the groups would have a nap, or have a coffee, or have a coffee-nap, then perform a task where their reaction time was measured. In previous experiments the mean reaction time measurement was found to be approximately normally distributed. The mean reaction times (milliseconds, ms) and standard deviations for the three groups of participants are given in the table below.\n",
    "\n",
    "$$\n",
    "\\begin{array}{c|c|c|c}\n",
    "\\textrm{Group} & \\textrm{Sample Size} & \\textrm{Mean} & \\textrm{Standard Deviation} \\\\\n",
    "\\hline \n",
    "\\textrm{Coffee+Nap} & 10 & 451.3 & 31.9 \\\\ \n",
    "\\textrm{Coffee} & 10 & 494.2 & 39.6 \\\\ \n",
    "\\textrm{Nap} & 10 & 492.8 & 45.2 \\\\ \n",
    "\\end{array}\n",
    "$$\n",
    "\n",
    "**Part A**: Compute a 95% t-confidence interval for the mean reaction time measurement for the populations represented by each of these three groups. (You should find three separate confidence intervals.) Set up your calculations by hand, and report the results in Markdown/MathJax. Of course, you can and should use Python as a calculator.\n",
    "\n",
    "1. Can you make any conclusions regarding whether coffee, naps or both (coffee-naps) are better for faster reaction times?\n",
    "2. Why did we use a t-distribution?"
   ]
  },
  {
   "cell_type": "markdown",
   "metadata": {},
   "source": [
    "**Solution**:\n",
    "\n",
    "We compute the confidence interval as \n",
    "\n",
    "$$\n",
    "\\bar{x} \\pm t_{\\alpha/2, n-1} \\cdot \\dfrac{s}{\\sqrt{n}}\n",
    "$$"
   ]
  },
  {
   "cell_type": "code",
   "execution_count": 3,
   "metadata": {},
   "outputs": [
    {
     "name": "stdout",
     "output_type": "stream",
     "text": [
      "Coffee-nap CI = [428.480, 474.120]\n",
      "    Coffee CI = [465.872, 522.528]\n",
      "       Nap CI = [460.466, 525.134]\n"
     ]
    }
   ],
   "source": [
    "alp = 0.05\n",
    "\n",
    "# coffee-nap condition\n",
    "xbar_cn, s_cn, n_cn = 451.3, 31.9, 10\n",
    "CI_cofnap = [xbar_cn + pm * stats.t.ppf(1-0.5*alp, n_cn-1) * s_cn/np.sqrt(n_cn) for pm in [-1,1]]\n",
    "\n",
    "# coffee condition\n",
    "xbar_c, s_c, n_c = 494.2, 39.6, 10\n",
    "CI_cof = [xbar_c + pm * stats.t.ppf(1-0.5*alp, n_c-1) * s_c/np.sqrt(n_c) for pm in [-1,1]]\n",
    "\n",
    "# nap condition\n",
    "xbar_n, s_n, n_n = 492.8, 45.2, 10\n",
    "CI_nap = [xbar_n + pm * stats.t.ppf(1-0.5*alp, n_n-1) * s_n/np.sqrt(n_n) for pm in [-1,1]]\n",
    "\n",
    "print(\"Coffee-nap CI = [{:0.3f}, {:0.3f}]\".format(CI_cofnap[0], CI_cofnap[1]))\n",
    "print(\"    Coffee CI = [{:0.3f}, {:0.3f}]\".format(CI_cof[0], CI_cof[1]))\n",
    "print(\"       Nap CI = [{:0.3f}, {:0.3f}]\".format(CI_nap[0], CI_nap[1]))"
   ]
  },
  {
   "cell_type": "markdown",
   "metadata": {},
   "source": [
    "The confidence intervals are overlapping, which means nothing!  Instead, we need to test for the difference in means."
   ]
  },
  {
   "cell_type": "markdown",
   "metadata": {},
   "source": [
    "**Part B**: Use a **rejection region hypothesis test** to determine if there sufficient evidence, at the $\\alpha = 0.05$ significance level, to conclude that taking a nap promotes faster reaction time than drinking coffee.  Be sure to clearly explain the test that you're doing and state all hypotheses. Do all computations in Python, and report results.\n",
    "\n",
    "**Note** that the number of degrees of freedom for a two-sample t-test is $df_1 + df_2 = (n_1-1) + (n_2-1) = n_1 + n_2 - 2$ (where $n_1$ and $n_2$ are the number of data points from each of the two samples). All other mechanics are the same as the two-sample z-tests we know and love."
   ]
  },
  {
   "cell_type": "markdown",
   "metadata": {},
   "source": [
    "**Solution**:\n",
    "\n",
    "We will perform a hypothesis test for the difference between the means.  Since the sample sizes are small and the mean reaction times are known to be normally distributed, we will use a t-test.  Our hypotheses are \n",
    "\n",
    "$$\n",
    "\\begin{array}{ll}\n",
    "H_0 & \\mu_N - \\mu_C = 0 \\\\\n",
    "H_1 & \\mu_N - \\mu_C < 0 \\\\\n",
    "\\end{array}\n",
    "$$\n",
    "\n",
    "The test statistic is given by $T = (\\bar{x}_N - \\bar{x}_C)\\bigg/\\sqrt{\\frac{s_N^2}{n_N} + \\frac{s_C^2}{n_C}}$ which follows the t-distribution with $n_N + n_C - 2$ degrees of freedom. Our two tests are \n",
    "\n",
    "**Rejection Region**: $T < -t_{0.05, 18} = -1.734$   \n",
    "\n",
    "**P-Value Test**: $p$-value $=1 - $stats.t.cdf($T, 18) \\stackrel{?}{<} \\alpha$ "
   ]
  },
  {
   "cell_type": "code",
   "execution_count": 4,
   "metadata": {},
   "outputs": [
    {
     "data": {
      "text/plain": [
       "-1.734063606617536"
      ]
     },
     "execution_count": 4,
     "metadata": {},
     "output_type": "execute_result"
    }
   ],
   "source": [
    "stats.t.ppf(0.05, 18)"
   ]
  },
  {
   "cell_type": "code",
   "execution_count": 5,
   "metadata": {},
   "outputs": [
    {
     "name": "stdout",
     "output_type": "stream",
     "text": [
      "T = -0.074\n",
      "pval = 0.471\n"
     ]
    }
   ],
   "source": [
    "# test if mu_N - mu_C = 0 against < 0\n",
    "dbar = xbar_n - xbar_c\n",
    "SE = np.sqrt((s_n**2)/n_n + (s_c**2)/n_c)\n",
    "T = dbar / SE\n",
    "pval = stats.t.cdf(T, n_n + n_c - 2)\n",
    "print(\"T = {:.3f}\".format(T))\n",
    "print(\"pval = {:.3f}\".format(pval))"
   ]
  },
  {
   "cell_type": "code",
   "execution_count": 6,
   "metadata": {},
   "outputs": [
    {
     "data": {
      "text/plain": [
       "0.07367196689546882"
      ]
     },
     "execution_count": 6,
     "metadata": {},
     "output_type": "execute_result"
    }
   ],
   "source": [
    "(xbar_c - xbar_n)/np.sqrt(0.1*(s_n**2 + s_c**2))"
   ]
  },
  {
   "cell_type": "markdown",
   "metadata": {},
   "source": [
    "**Rejection Region**: Since $T = -0.074 > -1.734$, we cannot reject the null, and conclude that we have insufficient evidence to claim that taking a nap promotes better reaction time than coffee. \n",
    "\n",
    "**P-Value Test**: Since $p$-value $0.471 > 0.05$, we cannot reject the null, and conclude that we have insufficient evidence to claim that taking a nap promotes better reaction time than coffee. "
   ]
  },
  {
   "cell_type": "markdown",
   "metadata": {},
   "source": [
    "**Part C**: Perform an appropriate hypothesis test (you may use either p-values or rejection region) to determine if there is sufficient evidence, at the $\\alpha = 0.05$ significance level, to conclude that taking a coffee-nap promotes faster reaction time than only drinking coffee, or only having a nap. So, there should be two separate hypothesis tests, but they are seeking to show similar results (one for coffee-nap versus coffee-only, and one for coffee-nap versus nap-only). Be sure to clearly explain the test that you're doing and state all hypotheses. Do all computations in Python, and report results."
   ]
  },
  {
   "cell_type": "markdown",
   "metadata": {},
   "source": [
    "**Solution**:\n",
    "\n",
    "We will perform a hypothesis test for the difference between the means.  Since the sample sizes are small and the mean reaction times are known to be normally distributed, we will use a t-test.  \n",
    "\n",
    "For the test of coffee-nap against coffee-only, our hypotheses are \n",
    "\n",
    "$$\n",
    "\\begin{array}{ll}\n",
    "H_0 & \\mu_{CN} - \\mu_C = 0 \\\\\n",
    "H_1 & \\mu_{CN} - \\mu_C < 0 \\\\\n",
    "\\end{array}\n",
    "$$\n",
    "\n",
    "The test statistic is given by $T = (\\bar{x}_{CN} - \\bar{x}_C)\\bigg/\\sqrt{\\frac{s_{CN}^2}{n_{CN}} + \\frac{s_C^2}{n_C}}$ which follows the t-distribution with $n_{CN} + n_C - 2$ degrees of freedom. Our two tests are \n",
    "\n",
    "**Rejection Region**: $T < -t_{0.05, 18} = -1.734$   \n",
    "\n",
    "**P-Value Test**: $p$-value $=1 - $stats.t.cdf($T, 18) \\stackrel{?}{<} \\alpha$ "
   ]
  },
  {
   "cell_type": "code",
   "execution_count": 7,
   "metadata": {},
   "outputs": [
    {
     "name": "stdout",
     "output_type": "stream",
     "text": [
      "T = -2.668\n",
      "pval = 0.008\n"
     ]
    }
   ],
   "source": [
    "# test if mu_CN - mu_C = 0 against < 0\n",
    "dbar = xbar_cn - xbar_c\n",
    "SE = np.sqrt((s_cn**2)/n_cn + (s_c**2)/n_c)\n",
    "T = dbar / SE \n",
    "pval = stats.t.cdf(T, n_cn + n_c - 2)\n",
    "print(\"T = {:.3f}\".format(T))\n",
    "print(\"pval = {:.3f}\".format(pval))"
   ]
  },
  {
   "cell_type": "markdown",
   "metadata": {},
   "source": [
    "**Rejection Region**: Since $T = -2.668 < -1.734$, we reject the null, and conclude that at the 95% confidence level, we have statistically significant evidence that taking a coffee-nap promotes better reaction time than coffee alone. \n",
    "\n",
    "**P-Value Test**: Since $p$-value $0.008 > 0.05$, we reject the null, and conclude that at the 95% confidence level, we have statistically significant evidence that taking a coffee-nap promotes better reaction time than coffee alone. \n",
    "\n",
    "We do a similar hypothesis test for coffee-nap against nap-only, and find:"
   ]
  },
  {
   "cell_type": "code",
   "execution_count": 8,
   "metadata": {},
   "outputs": [
    {
     "name": "stdout",
     "output_type": "stream",
     "text": [
      "T = -2.372\n",
      "pval = 0.015\n"
     ]
    }
   ],
   "source": [
    "# test if mu_CN - mu_N = 0 against < 0\n",
    "dbar = xbar_cn - xbar_n\n",
    "SE = np.sqrt((s_cn**2)/n_cn + (s_n**2)/n_n)\n",
    "T = dbar / SE \n",
    "pval = stats.t.cdf(T, n_cn + n_n - 2)\n",
    "print(\"T = {:.3f}\".format(T))\n",
    "print(\"pval = {:.3f}\".format(pval))"
   ]
  },
  {
   "cell_type": "markdown",
   "metadata": {},
   "source": [
    "**Rejection Region**: Since $T = -2.372 < -1.734$, we reject the null, and conclude that at the 95% confidence level, we have statistically significant evidence that taking a coffee-nap promotes better reaction time than a nap alone. \n",
    "\n",
    "**P-Value Test**: Since $p$-value $0.015 < 0.05$, we reject the null, and conclude that at the 95% confidence level, we have statistically significant evidence that taking a coffee-nap promotes better reaction time than a nap alone. "
   ]
  },
  {
   "cell_type": "markdown",
   "metadata": {},
   "source": [
    "**Part D:** Is there sufficient evidence at the 95% confidence (5% significance) level to support claim that the reaction time after a coffee-nap is at least 20 ms faster than the reaction time after a coffee only? Fully justify your answer and show all work demonstrating this conclusion using a **p-value hypothesis test**. "
   ]
  },
  {
   "cell_type": "markdown",
   "metadata": {},
   "source": [
    "**Solution:**\n",
    "\n",
    "Here, we are testing the hypotheses:\n",
    "$$H_0: ~~ \\mu_{c} - \\mu_{cn} = 20$$\n",
    "$$H_1: ~~ \\mu_{c} - \\mu_{cn} > 20$$\n",
    "\n",
    "We set up our **test statistic**:\n",
    "$$T = \\dfrac{\\bar{x}_c - \\bar{x}_{cn} - 20}{\\sqrt{\\frac{s_c^2}{n_c} + \\frac{s_{cn}^2}{n_{cn}}}}$$\n",
    "\n",
    "where the denominator in $T$ represents the standard error in the estimate of $\\mu_c - \\mu_{cn}$.\n",
    "\n",
    "The **p-value** is the probability of observing a t test statistic equal to or _greater than_ our test statistic, which we compute below."
   ]
  },
  {
   "cell_type": "code",
   "execution_count": 9,
   "metadata": {},
   "outputs": [
    {
     "name": "stdout",
     "output_type": "stream",
     "text": [
      "T = 1.424\n",
      "pval = 0.086\n"
     ]
    }
   ],
   "source": [
    "dbar = xbar_c - xbar_cn - 20\n",
    "SE = np.sqrt((s_c**2)/n_c + (s_cn**2)/n_cn)\n",
    "T = dbar / SE\n",
    "pval = 1 - stats.t.cdf(T, n_c + n_cn - 2)\n",
    "print(\"T = {:.3f}\".format(T))\n",
    "print(\"pval = {:.3f}\".format(pval))"
   ]
  },
  {
   "cell_type": "markdown",
   "metadata": {},
   "source": [
    "Since our p-value is $0.086 > 0.05 = \\alpha$, we **fail to reject** the null hypothesis; there is insufficient evidence to conclude at the 5% significance level that the reaction time after a coffee-nap is at least 20 ms faster than after a coffee only."
   ]
  },
  {
   "cell_type": "markdown",
   "metadata": {},
   "source": [
    "**Part E**: Compute a 95% confidence interval for the standard deviation of reaction time for coffee-nap takers. Do all computations in Python, and report the results."
   ]
  },
  {
   "cell_type": "markdown",
   "metadata": {},
   "source": [
    "**Solution**: \n",
    "\n",
    "Our confidence interval for the standard deviation is given by \n",
    "\n",
    "$$\n",
    "\\sqrt{\\dfrac{(n-1)s^2}{\\chi^2_{\\alpha/2, n-1}}} \\leq \\sigma \\leq \n",
    "\\sqrt{\\dfrac{(n-1)s^2}{\\chi^2_{1-\\alpha/2, n-1}}} \n",
    "$$\n",
    "\n",
    "We have "
   ]
  },
  {
   "cell_type": "code",
   "execution_count": 11,
   "metadata": {},
   "outputs": [
    {
     "name": "stdout",
     "output_type": "stream",
     "text": [
      "95% CI for stdev of coffee-nappers reaction times = [21.942, 58.237] ms\n"
     ]
    }
   ],
   "source": [
    "alpha = 0.05\n",
    "c2, c1 = stats.chi2.ppf(alpha/2, n_cn-1), stats.chi2.ppf(1-alpha/2, n_cn-1)\n",
    "CI = [np.sqrt((n_cn-1)*s_cn*s_cn/c1), np.sqrt((n_cn-1)*s_cn*s_cn/c2)]\n",
    "print(\"95% CI for stdev of coffee-nappers reaction times = [{:0.3f}, {:0.3f}] ms\".format(CI[0], CI[1]))"
   ]
  },
  {
   "cell_type": "markdown",
   "metadata": {},
   "source": [
    "<br>\n",
    "\n",
    "---\n",
    "[Back to top](#top)\n",
    "<a id='p3'></a>\n",
    "\n",
    "### [40 points] Problem 3 - Simple Linear Regression for Science!\n",
    "\n",
    "From [Google Trends](https://trends.google.com/trends/?geo=US) data, it appears that interest in \"science\" in the United States has been waning since about 2004. Interest is measured relative to the maximum rate of Google searches for that term over the time period (so the maximum is 100). \n",
    "\n",
    "**Part A:** Load up the data in `science_interest.csv` into a Pandas DataFrame. Create two new columns:\n",
    "* `year` should be the year associated with that data point, and\n",
    "* `month` should be the month (1-12) associated with that data point.\n",
    "\n",
    "Then, make a **scatter plot** (using `pyplot.scatter`) of all of the data points, showing how interest in \"science\" has evolved over time. Label only the data point associated with January of each even year, and label with the year (and of course be sure to label your axes)."
   ]
  },
  {
   "cell_type": "code",
   "execution_count": 12,
   "metadata": {},
   "outputs": [
    {
     "data": {
      "text/html": [
       "<div>\n",
       "<style scoped>\n",
       "    .dataframe tbody tr th:only-of-type {\n",
       "        vertical-align: middle;\n",
       "    }\n",
       "\n",
       "    .dataframe tbody tr th {\n",
       "        vertical-align: top;\n",
       "    }\n",
       "\n",
       "    .dataframe thead th {\n",
       "        text-align: right;\n",
       "    }\n",
       "</style>\n",
       "<table border=\"1\" class=\"dataframe\">\n",
       "  <thead>\n",
       "    <tr style=\"text-align: right;\">\n",
       "      <th></th>\n",
       "      <th>Month</th>\n",
       "      <th>interest</th>\n",
       "      <th>year</th>\n",
       "      <th>month</th>\n",
       "    </tr>\n",
       "  </thead>\n",
       "  <tbody>\n",
       "    <tr>\n",
       "      <th>0</th>\n",
       "      <td>2004-01</td>\n",
       "      <td>100</td>\n",
       "      <td>2004</td>\n",
       "      <td>1</td>\n",
       "    </tr>\n",
       "    <tr>\n",
       "      <th>1</th>\n",
       "      <td>2004-02</td>\n",
       "      <td>96</td>\n",
       "      <td>2004</td>\n",
       "      <td>2</td>\n",
       "    </tr>\n",
       "    <tr>\n",
       "      <th>2</th>\n",
       "      <td>2004-03</td>\n",
       "      <td>84</td>\n",
       "      <td>2004</td>\n",
       "      <td>3</td>\n",
       "    </tr>\n",
       "    <tr>\n",
       "      <th>3</th>\n",
       "      <td>2004-04</td>\n",
       "      <td>77</td>\n",
       "      <td>2004</td>\n",
       "      <td>4</td>\n",
       "    </tr>\n",
       "    <tr>\n",
       "      <th>4</th>\n",
       "      <td>2004-05</td>\n",
       "      <td>69</td>\n",
       "      <td>2004</td>\n",
       "      <td>5</td>\n",
       "    </tr>\n",
       "  </tbody>\n",
       "</table>\n",
       "</div>"
      ],
      "text/plain": [
       "     Month  interest  year  month\n",
       "0  2004-01       100  2004      1\n",
       "1  2004-02        96  2004      2\n",
       "2  2004-03        84  2004      3\n",
       "3  2004-04        77  2004      4\n",
       "4  2004-05        69  2004      5"
      ]
     },
     "execution_count": 12,
     "metadata": {},
     "output_type": "execute_result"
    }
   ],
   "source": [
    "# SOLUTION:\n",
    "\n",
    "dfS = pd.read_csv(\"data/science_interest.csv\", header=1)\n",
    "dfS.rename(columns={\"science: (United States)\" : \"interest\"}, inplace=True)\n",
    "year = []\n",
    "month = []\n",
    "for k in range(len(dfS)):\n",
    "    year.append(int(dfS[\"Month\"][k][:4]))\n",
    "    month.append(int(dfS[\"Month\"][k][-2:]))\n",
    "dfS[\"year\"] = year\n",
    "dfS[\"month\"] = month\n",
    "dfS.head()"
   ]
  },
  {
   "cell_type": "code",
   "execution_count": 13,
   "metadata": {},
   "outputs": [
    {
     "data": {
      "image/png": "[encoded data removed]",
      "text/plain": [
       "<Figure size 504x288 with 1 Axes>"
      ]
     },
     "metadata": {},
     "output_type": "display_data"
    }
   ],
   "source": [
    "ind_labels = dfS.index[(dfS[\"month\"]==1) & (dfS[\"year\"]%2==0)]\n",
    "\n",
    "fig, ax = plt.subplots(nrows=1, ncols=1, figsize=(7,4))\n",
    "plt.scatter(range(len(dfS[\"Month\"])), dfS[\"interest\"], color=\"steelblue\", lw=3)\n",
    "ax.set_xlabel(\"Year\", fontsize=16)\n",
    "ax.set_ylabel(\"Interest in Science\", fontsize=16)\n",
    "ax.set_ylim([0,105])\n",
    "ax.set_xticks(ind_labels)\n",
    "ax.set_xticklabels(dfS.loc[ind_labels, \"year\"])\n",
    "plt.show()"
   ]
  },
  {
   "cell_type": "markdown",
   "metadata": {},
   "source": [
    "**Part B:** These data (and the sea-level data from Homework 4) are a **time series**, where the independent variable is *time* and the dependent quantity is interest in science. One of the central assumptions of linear regression is that the data are observations generated by some process, independently of one another. With time series data, we need to be careful because there could be some other process affecting the output data. In particular, **annual cycles** are patterns that reoccur each year and are frequently present in time series data. For example, seasonal patterns of weather are annual cycles.\n",
    "\n",
    "To see what kind of effect time has, make a **line plot** (using `pyplot.plot`) of the interest in science, as a function of time. Again, include all of the data points and, for the x-axis, label only the tick marks associated with January of even years, and be sure to label your axes."
   ]
  },
  {
   "cell_type": "code",
   "execution_count": 14,
   "metadata": {},
   "outputs": [
    {
     "data": {
      "image/png": "[encoded data removed]",
      "text/plain": [
       "<Figure size 504x288 with 1 Axes>"
      ]
     },
     "metadata": {},
     "output_type": "display_data"
    }
   ],
   "source": [
    "ind_labels = dfS.index[(dfS[\"month\"]==1) & (dfS[\"year\"]%2==0)]\n",
    "\n",
    "fig, ax = plt.subplots(nrows=1, ncols=1, figsize=(7,4))\n",
    "plt.plot(range(len(dfS[\"Month\"])), dfS[\"interest\"], color=\"steelblue\", lw=3)\n",
    "ax.set_xlabel(\"Year\", fontsize=16)\n",
    "ax.set_ylabel(\"Interest in Science\", fontsize=16)\n",
    "ax.set_ylim([0,105])\n",
    "ax.set_xticks(ind_labels)\n",
    "ax.set_xticklabels(dfS.loc[ind_labels, \"year\"])\n",
    "plt.show()"
   ]
  },
  {
   "cell_type": "markdown",
   "metadata": {},
   "source": [
    "**Part C:** Does your plot from Part B suggest that there is some annual cycle to the interest in science? During which months is interest in science highest? What about lowest? Justify your answers using your plot, **and** by computing the mean interest in science for each month. So, compute 12 values and report them in a table. Do **not** just spit out a horizontal list of 12 numbers. That would be yucky to try to read, and we're scientists, dammit.\n",
    "\n",
    "What do you think accounts for the drop(s) in interest in science during those month(s)? Recall that these data are from the United States."
   ]
  },
  {
   "cell_type": "markdown",
   "metadata": {},
   "source": [
    "**Solution:**\n",
    "\n",
    "It looks like there is an annual cycle wherein interest in science over the summer is lower than the rest of the year. There is also a secondary trough in December. These drops are corroborated by the mean interest, computed below. They are likely due to the summer and winter breaks from school in the United States."
   ]
  },
  {
   "cell_type": "code",
   "execution_count": 15,
   "metadata": {},
   "outputs": [
    {
     "name": "stdout",
     "output_type": "stream",
     "text": [
      " 1 : 60.94\n",
      " 2 : 58.56\n",
      " 3 : 55.81\n",
      " 4 : 55.13\n",
      " 5 : 49.73\n",
      " 6 : 39.53\n",
      " 7 : 36.20\n",
      " 8 : 45.47\n",
      " 9 : 59.13\n",
      "10 : 56.53\n",
      "11 : 54.00\n",
      "12 : 46.93\n"
     ]
    }
   ],
   "source": [
    "months = dfS[\"month\"].unique()\n",
    "monthly_interest = []\n",
    "for month in months:\n",
    "    monthly_interest.append(dfS.loc[dfS[\"month\"]==month,\"interest\"].mean())\n",
    "for mon,interest in zip(months, monthly_interest):\n",
    "    print(\"{:2.0f} : {:0.2f}\".format(mon,interest))"
   ]
  },
  {
   "cell_type": "markdown",
   "metadata": {},
   "source": [
    "**Part D:** (Spoiler alert!) Since there seems to be an annual cycle, one of the fundamental assumptions of our simple linear regression model is not satisfied. Namely, it is not the case that the model-data residuals, $\\epsilon_i$, are independent of one another.\n",
    "\n",
    "So, we need to process our data a bit further before fitting a regression model. One way to address this is to take the mean of all the data each year and use for analysis the time series of annual mean interest in science. Create a new Pandas DataFrame that consists only of two columns:\n",
    "* `year`, and\n",
    "* `interest`, the mean interest in science from the twelve months in that year."
   ]
  },
  {
   "cell_type": "code",
   "execution_count": 16,
   "metadata": {
    "collapsed": true
   },
   "outputs": [],
   "source": [
    "years = dfS[\"year\"].unique()\n",
    "interest = []\n",
    "for year in years:\n",
    "    interest.append(dfS.loc[dfS[\"year\"]==year, \"interest\"].mean())\n",
    "\n",
    "dfSann = pd.DataFrame({\"year\":years,\"interest\":interest})"
   ]
  },
  {
   "cell_type": "markdown",
   "metadata": {},
   "source": [
    "**Part E:** Perform a simple linear regression with `year` as the feature and `interest` as the response (mean annual interest in science).  Report the estimated regression model in the form $Y = \\alpha + \\beta x$. Do all computations in Python. \n",
    "\n",
    "Then make a scatter plot of the mean annual interest in science as a function of year, and overlay the estimated regression line. Label your axes and provide a legend."
   ]
  },
  {
   "cell_type": "code",
   "execution_count": 17,
   "metadata": {},
   "outputs": [
    {
     "name": "stdout",
     "output_type": "stream",
     "text": [
      "Y = 4131.660 + -2.029X\n"
     ]
    }
   ],
   "source": [
    "# SOLUTION:\n",
    "\n",
    "beta, alpha, rvalue, pvalue, stderr = stats.linregress(dfSann[\"year\"], dfSann[\"interest\"])\n",
    "print(\"Y = {:.3f} + {:.3f}X\".format(alpha, beta))"
   ]
  },
  {
   "cell_type": "code",
   "execution_count": 18,
   "metadata": {},
   "outputs": [
    {
     "data": {
      "image/png": "[encoded data removed]",
      "text/plain": [
       "<Figure size 504x288 with 1 Axes>"
      ]
     },
     "metadata": {},
     "output_type": "display_data"
    }
   ],
   "source": [
    "x_years = np.arange(2004,2020,1)\n",
    "\n",
    "fig, ax = plt.subplots(nrows=1, ncols=1, figsize=(7,4))\n",
    "plt.plot(x_years, alpha + beta*x_years, color=\"steelblue\", lw=3, label='linear model')\n",
    "plt.scatter(dfSann.year, dfSann.interest);\n",
    "ax.set_xlabel(\"Year\", fontsize=16)\n",
    "ax.set_ylabel(\"Interest in Science\", fontsize=16)\n",
    "ax.set_ylim([0,105])\n",
    "plt.legend()\n",
    "plt.show()"
   ]
  },
  {
   "cell_type": "markdown",
   "metadata": {},
   "source": [
    "**Note:** The 2019 year of data does not contain 12 values, and since the summer and winter (to a lesser extent) have lower interest in science, the mean interest in 2019 may be biased high (since we only have January - March, because the assignment was given in April). You can include 2019, or remove it, and as long as everything else is right, it's fine."
   ]
  },
  {
   "cell_type": "markdown",
   "metadata": {},
   "source": [
    "**Part F**: Give a physical interpretation of the coefficient $\\hat{\\beta}$, estimated from your model. Include addressing whether the relationship between time and interest in science is positive or negative. Fully justify your responses."
   ]
  },
  {
   "cell_type": "markdown",
   "metadata": {},
   "source": [
    "**Solution**:\n",
    "\n",
    "$\\hat{\\beta}$ is the estimate of the change in interest in science each year.\n",
    "\n",
    "The relationship is negative.  We can see this because $\\hat{\\beta} = -2.029$, and because the slope of the fitted regression line in the graph is clearly negative."
   ]
  },
  {
   "cell_type": "markdown",
   "metadata": {},
   "source": [
    "**Part G**: What interest in science does your simple linear regression model predict in the year 2030? What about in 2050? What are potential drawbacks to this model for interest in science?"
   ]
  },
  {
   "cell_type": "code",
   "execution_count": 19,
   "metadata": {},
   "outputs": [
    {
     "name": "stdout",
     "output_type": "stream",
     "text": [
      "y(2030) = 13.696\n",
      "y(2050) = -26.875\n"
     ]
    }
   ],
   "source": [
    "# SOLUTION:\n",
    "\n",
    "t = 2030; y = alpha + beta * t\n",
    "print(\"y({}) = {:.3f}\".format(t,y))\n",
    "\n",
    "t = 2050; y = alpha + beta * t\n",
    "print(\"y({}) = {:.3f}\".format(t,y))"
   ]
  },
  {
   "cell_type": "markdown",
   "metadata": {},
   "source": [
    "**Solution:**\n",
    "\n",
    "This model could be problematic because as time goes on, the interest in science just keeps decreasing. Eventually, the interest becomes negative, which doesn't really make any sense."
   ]
  },
  {
   "cell_type": "markdown",
   "metadata": {},
   "source": [
    "**Part H:** Compute a 66% confidence interval for the slope parameter, $\\beta$, ***by hand***. This means performing all calculations yourself in Python, as opposed to calling a simple Python function that gives you the result. Why is this a confidence interval for $\\beta$ and not for $\\hat{\\beta}$?"
   ]
  },
  {
   "cell_type": "markdown",
   "metadata": {},
   "source": [
    "**Solution:**\n",
    "\n",
    "This is a confidence interval for $\\beta$ because that is the true ***unknown*** parameter of the supposed linear process that generates these data. $\\hat{\\beta}$ is just our estimate of this parameter, which is not uncertain at all, so there **is no** confidence interval for it.\n",
    "\n",
    "$100(1-\\alpha)$% CI for $\\beta$ is:  $\\hat{\\beta} \\pm t_{\\alpha/2, n-2} SE(\\hat{\\beta})$, \n",
    "\n",
    "where $SE(\\hat{\\beta}) = \\dfrac{\\hat{\\sigma}}{\\sqrt{\\sum (x_i - \\bar{x})^2}}$\n",
    "\n",
    "and $\\hat{\\sigma} = \\sqrt{\\dfrac{SSE}{n-2}}$"
   ]
  },
  {
   "cell_type": "code",
   "execution_count": 20,
   "metadata": {},
   "outputs": [
    {
     "name": "stdout",
     "output_type": "stream",
     "text": [
      "66% CI for beta = [-2.289, -1.768]\n"
     ]
    }
   ],
   "source": [
    "alp = 0.34\n",
    "tcrit = stats.t.ppf(1-alp/2, df=len(dfSann)-2)\n",
    "\n",
    "sse = np.sum((dfSann[\"interest\"]-(alpha+beta*dfSann[\"year\"]))**2)\n",
    "ssx = np.sum((dfSann[\"year\"]-dfSann[\"year\"].mean())**2)\n",
    "sigmahat = np.sqrt(sse/len(dfSann))\n",
    "\n",
    "CI = [beta + pm*tcrit*sigmahat/np.sqrt(ssx) for pm in [-1, 1]]\n",
    "print(\"{:0.0f}% CI for beta = [{:0.3f}, {:0.3f}]\".format(100*(1-alp),CI[0],CI[1]))"
   ]
  },
  {
   "cell_type": "markdown",
   "metadata": {
    "collapsed": true
   },
   "source": [
    "**Part I:** What proportion of the variation in mean annual interest in science is explained by your linear regression model?"
   ]
  },
  {
   "cell_type": "markdown",
   "metadata": {},
   "source": [
    "**Solution:**\n",
    "\n",
    "That is $R^2$, which from the linregress output is about 79%"
   ]
  },
  {
   "cell_type": "code",
   "execution_count": 21,
   "metadata": {},
   "outputs": [
    {
     "data": {
      "text/plain": [
       "0.7866326755553371"
      ]
     },
     "execution_count": 21,
     "metadata": {},
     "output_type": "execute_result"
    }
   ],
   "source": [
    "rvalue**2"
   ]
  },
  {
   "cell_type": "markdown",
   "metadata": {},
   "source": [
    "**Part J:** Make a scatter plot of the residuals from this simple linear regression model, relative to the annual mean interest data (and be sure to label your axes). Make a conjecture about what kind of additional feature, also based on `year`, should be added to improve the fit of the model. Note that this new model with have your new feature _and_ `year`, making it a _multiple linear regression_ model."
   ]
  },
  {
   "cell_type": "code",
   "execution_count": 22,
   "metadata": {
    "collapsed": true
   },
   "outputs": [],
   "source": [
    "res = dfSann[\"interest\"]-(alpha+beta*dfSann[\"year\"])"
   ]
  },
  {
   "cell_type": "code",
   "execution_count": 23,
   "metadata": {},
   "outputs": [
    {
     "data": {
      "image/png": "[encoded data removed]",
      "text/plain": [
       "<Figure size 432x288 with 1 Axes>"
      ]
     },
     "metadata": {},
     "output_type": "display_data"
    }
   ],
   "source": [
    "plt.scatter(dfSann[\"year\"], res)\n",
    "plt.xlabel(\"Year\")\n",
    "plt.ylabel(\"Residual\")\n",
    "plt.show()"
   ]
  },
  {
   "cell_type": "markdown",
   "metadata": {},
   "source": [
    "**Solution:**\n",
    "\n",
    "The residuals appear to be following a **quadratic** function form. So, we hypothesize that a new feature that has the value $\\texttt{year}^2$ will improve the fit of the model."
   ]
  },
  {
   "cell_type": "code",
   "execution_count": 24,
   "metadata": {},
   "outputs": [
    {
     "name": "stderr",
     "output_type": "stream",
     "text": [
      "/Users/tony/anaconda/lib/python3.6/site-packages/statsmodels/compat/pandas.py:56: FutureWarning: The pandas.core.datetools module is deprecated and will be removed in a future version. Please use the pandas.tseries module instead.\n",
      "  from pandas.core import datetools\n"
     ]
    },
    {
     "name": "stdout",
     "output_type": "stream",
     "text": [
      "Full model R^2 = 0.9690\n",
      "SLR model R^2 = 0.7866\n"
     ]
    }
   ],
   "source": [
    "import statsmodels.api as sm\n",
    "\n",
    "# make a new feature that is year**2\n",
    "dfSann.loc[:, \"year2\"] = dfSann[\"year\"]**2\n",
    "\n",
    "# fit a multiple linear regression model\n",
    "y = dfSann[\"interest\"]\n",
    "X = dfSann.loc[:, [\"year\",\"year2\"]]\n",
    "X = sm.add_constant(X)\n",
    "model = sm.OLS(y, X).fit()\n",
    "\n",
    "# fit a simple linear regression model\n",
    "Xred = dfSann.loc[:, [\"year\"]]\n",
    "Xred = sm.add_constant(Xred)\n",
    "model_red = sm.OLS(y, Xred).fit()\n",
    "\n",
    "# compare full model (with year and year**2) to simple linear regression model (with only year feature)\n",
    "print(\"Full model R^2 = {:0.4f}\".format(model.rsquared))\n",
    "print(\"SLR model R^2 = {:0.4f}\".format(model_red.rsquared))"
   ]
  },
  {
   "cell_type": "markdown",
   "metadata": {},
   "source": [
    "<br>\n",
    "\n",
    "---\n",
    "[Back to top](#top)\n",
    "<a id='p4'></a>\n",
    "\n",
    "### [20 points] Problem 4 - Choose-Your-Own Simple Linear Regression Adventure\n",
    "\n",
    "The interest in science data from the previous problem was from [Google Trends](https://trends.google.com/trends/?geo=US). From that main page, you can enter a particular search term and view the interest in that term over time. By default, the data displayed will be weekly data for the past year. You can ask for different time periods or regions as well (my link above defaults to the United States).\n",
    "\n",
    "**Part A:** Download data from Google Trends for a search term, region and time period of your choice. (Alternatively, you can also use data from whatever source you would like, as long as it is a time series.) Then:\n",
    "* clearly state what your search term, region and time period are (or fully describe your other data set),\n",
    "* load your data as a Pandas DataFrame, and\n",
    "* make a plot of the data over the entire time frame. Be sure to label your axes clearly.\n",
    "\n",
    "**NOTE:** be sure to **leave your plot cell executed** because you are not asked to host the data or provide the data set with the homework submission. If your plot is not readily visible when we open your notebook for grading, then you can earn a maximum of 10 points for this problem. "
   ]
  },
  {
   "cell_type": "code",
   "execution_count": null,
   "metadata": {
    "collapsed": true
   },
   "outputs": [],
   "source": []
  },
  {
   "cell_type": "markdown",
   "metadata": {},
   "source": [
    "**Part B:** Based on your figure from Part A, formulate a hypothesis regarding whether or not a statistically significant linear trend exists. Clearly state your null and alternative hypotheses, and the level of significance you will use for this hypothesis test. If you have reason to believe some kind of a trend that is *not linear* exists, say so."
   ]
  },
  {
   "cell_type": "code",
   "execution_count": null,
   "metadata": {
    "collapsed": true
   },
   "outputs": [],
   "source": []
  },
  {
   "cell_type": "markdown",
   "metadata": {},
   "source": [
    "**Part C:** Perform any processing that you need to do in order to satisfy the assumptions of the simple linear regression model. If you do not do any processing, then explain why you believe your data set already satisfies these assumptions (and clearly state the assumptions)."
   ]
  },
  {
   "cell_type": "code",
   "execution_count": null,
   "metadata": {
    "collapsed": true
   },
   "outputs": [],
   "source": []
  },
  {
   "cell_type": "markdown",
   "metadata": {},
   "source": [
    "**Part D:** Compute the p-value **by hand** associated with the hypothesis test from Part B. Clearly state your conclusion. You may use `scipy.stats.linregress` to check your answer, and you may use Python as a calculator (and to get critical values, for example), but you need to show all your work by hand."
   ]
  },
  {
   "cell_type": "code",
   "execution_count": null,
   "metadata": {
    "collapsed": true
   },
   "outputs": [],
   "source": []
  }
 ],
 "metadata": {
  "kernelspec": {
   "display_name": "Python 3",
   "language": "python",
   "name": "python3"
  },
  "language_info": {
   "codemirror_mode": {
    "name": "ipython",
    "version": 3
   },
   "file_extension": ".py",
   "mimetype": "text/x-python",
   "name": "python",
   "nbconvert_exporter": "python",
   "pygments_lexer": "ipython3",
   "version": "3.7.1"
  }
 },
 "nbformat": 4,
 "nbformat_minor": 2
}
