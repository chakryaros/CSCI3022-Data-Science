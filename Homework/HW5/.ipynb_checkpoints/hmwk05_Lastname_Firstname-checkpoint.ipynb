{
 "cells": [
  {
   "cell_type": "markdown",
   "metadata": {},
   "source": [
    "<a id='top'></a>\n",
    "\n",
    "# Homework 5: Bootstrap, Hypothesis Testing and Regression\n",
    "***\n",
    "\n",
    "**Name**: Chakrya Ros\n",
    "\n",
    "***\n",
    "\n",
    "This assignment is due on Moodle by **5 PM on Friday April 19**. Your solutions to theoretical questions should be done in Markdown/MathJax directly below the associated question.  Your solutions to computational questions should include any specified Python code and results as well as written commentary on your conclusions.  Remember that you are encouraged to discuss the problems with your instructors and classmates, but **you must write all code and solutions on your own**. \n",
    "\n",
    "**NOTES**: \n",
    "\n",
    "- Any relevant data sets should be available under the **Data** module on Canvas, as well as in the zipped folder in which you obtained this assignment. \n",
    "- Do **NOT** load or use any Python packages that are not available in Anaconda 3.6. \n",
    "- Because you can technically evaluate notebook cells in a non-linear order, it's a good idea to do Kernel $\\rightarrow$ Restart & Run All as a check before submitting your solutions.  That way if we need to run your code you will know that it will work as expected. \n",
    "- It is **bad form** to make your reader interpret numerical output from your code.  If a question asks you to compute some value from the data you should show your code output **AND** write a summary of the results in Markdown directly below your code. \n",
    "- You **MUST** leave all of your notebook cells **evaluated** so the graders do not need to re-evaluate them. For 100+ students, this extra time adds up, and makes the graders' lives unnecessarily more difficult.\n",
    "- This probably goes without saying, but... For any question that asks you to calculate something, you **must show all work and justify your answers to receive credit**. Sparse or nonexistent work will receive sparse or nonexistent credit. \n",
    "- Submit only this Jupyter notebook to Canvas.  Do not compress it using tar, rar, zip, etc. \n",
    "\n",
    "---\n",
    "**Shortcuts:**  [Problem 1](#p1) | [Problem 2](#p2) | [Problem 3](#p3) | [Problem 4](#p4) \n",
    "\n",
    "---"
   ]
  },
  {
   "cell_type": "code",
   "execution_count": 2,
   "metadata": {
    "scrolled": true
   },
   "outputs": [],
   "source": [
    "import numpy as np\n",
    "import matplotlib.pyplot as plt\n",
    "import pandas as pd\n",
    "from scipy import stats \n",
    "%matplotlib inline"
   ]
  },
  {
   "cell_type": "markdown",
   "metadata": {},
   "source": [
    "<br>\n",
    "\n",
    "---\n",
    "[Back to top](#top)\n",
    "<a id='p1'></a>\n",
    "\n",
    "### [15 points] Problem 1 - Hypothesis Testing Whether your Co-worker is a Doofus \n",
    "\n",
    "You are working as a Data Scientist for an internet-based hedgehog deliver company. Your co-worker, Daley Jennanigans, is a lovable scamp! Unfortunately, Daley also makes a lot of mistakes throughout the day as the two of you team up to tackle some inference work regarding your company's hedgehog-loving customers. In each case, clearly explain why Daley's hypothesis testing setup or conclusion is incorrect."
   ]
  },
  {
   "cell_type": "markdown",
   "metadata": {},
   "source": [
    "**Part A**: Daley has some data on the characteristics of customers that visited the company's website over the previous month.  He wants to perform an analysis on the proportion of last month's website visitors that bought a hedgehog. Let $X$ be the random variable describing the number of website visitors who bought a hedgehog in the previous month, and suppose that the population proportion of visitors who bought a hedgehog is $p$. Daley is interested to see if the data suggests that more than 20% of website visitors actually buy a hedgehog.  He decides to perform the test with a null hypothesis of $H_0: \\hat{p} = 0.20$. "
   ]
  },
  {
   "cell_type": "markdown",
   "metadata": {
    "collapsed": true
   },
   "source": [
    "**Solution:**\n",
    "\n",
    "The null hypothesis will take a poplation parameter like mean, population proportion and so on as hypothesized value. It does not take sample population proportion $\\hat{p}$. $H_0 : p = 0.20$"
   ]
  },
  {
   "cell_type": "code",
   "execution_count": null,
   "metadata": {},
   "outputs": [],
   "source": []
  },
  {
   "cell_type": "markdown",
   "metadata": {},
   "source": [
    "**Part B**: Daley decides instead to do his hypothesis test with a null hypothesis of $H_0: p < 0.20$.  "
   ]
  },
  {
   "cell_type": "markdown",
   "metadata": {
    "collapsed": true
   },
   "source": [
    "**Solution:**\n",
    "\n",
    "It's wrong. A null hypothesis should have an equal size. Because the null hypothesis is the distribution that we will compare our data against."
   ]
  },
  {
   "cell_type": "markdown",
   "metadata": {},
   "source": []
  },
  {
   "cell_type": "markdown",
   "metadata": {},
   "source": [
    "**Part C**: Now Daley is finally on track with reasonable hypotheses of $H_0: p = 0.20$ and $H_1: p > 0.20$. Daley computes for the sample proportion a normalized test-statistic of $z = 2.4$ and states that since $z = 2.4 > 0.01$ there is insufficient statistical evidence at the $\\alpha = 0.01$ significance level to conclude that the proportion of customers who buy a hedgehog is greater than 20%."
   ]
  },
  {
   "cell_type": "markdown",
   "metadata": {
    "collapsed": true
   },
   "source": [
    "**Solution:**\n",
    "\n",
    "Deley is incorrectly comparing the test-statistic $z$ to the signigicance level $\\alpha$ that make no sense.\n",
    "However, he should compare the test-staticstic to the critical value $z_\\alpha$."
   ]
  },
  {
   "cell_type": "markdown",
   "metadata": {},
   "source": []
  },
  {
   "cell_type": "markdown",
   "metadata": {},
   "source": [
    "**Part D**: Daley is again conducting the hypothesis test of $H_0: p = 0.20$ and $H_1: p > 0.20$, and found the test-statistic $z=2.4$. Daley computes his p-value as:\n",
    "$$\\text{p-value} = \\texttt{stats.norm.cdf(2.4)} = 0.9918$$\n",
    "\n",
    "Since his p-value (0.9918) is greater than the significance level (0.01), Daley again claims that there is insufficient evidence at the 1% significance level to conclude that the proportion of customers who buy a hedgehog is greater than 20%."
   ]
  },
  {
   "cell_type": "markdown",
   "metadata": {
    "collapsed": true
   },
   "source": [
    "**Solution:**\n",
    "\n",
    "It's incorrectly to set up p-value equal to stats.norm.cdf(2.4). P-value should be the area that $1$ minus stats.norm.cdf(2.4) because the $H_1 : p > 0.20$.\n"
   ]
  },
  {
   "cell_type": "code",
   "execution_count": null,
   "metadata": {},
   "outputs": [],
   "source": []
  },
  {
   "cell_type": "markdown",
   "metadata": {},
   "source": [
    "**Part E**: Daley is again conducting the hypothesis test of $H_0: p = 0.20$ and $H_1: p > 0.20$. Suppose he computes a p-value of $0.03$, and then concludes that there is only a 3% probability that the null hypothesis is true. "
   ]
  },
  {
   "cell_type": "markdown",
   "metadata": {
    "collapsed": true
   },
   "source": [
    "**Solution:**\n",
    "\n",
    "It's not correct to say the p-value is a probability that the null hypothesis is true or false. The p-value is the probability under the hull hypothesis that we observe a test-statistic as exptreme or more extreme than the one we got from the data."
   ]
  },
  {
   "cell_type": "markdown",
   "metadata": {},
   "source": []
  },
  {
   "cell_type": "markdown",
   "metadata": {},
   "source": [
    "<br>\n",
    "\n",
    "---\n",
    "[Back to top](#top)\n",
    "<a id='p2'></a>\n",
    "\n",
    "### [25 points] Problem 2 - Naps vs Coffee for Memory? \n",
    "\n",
    "It is estimated that [about 75% of adults](https://www.ncbi.nlm.nih.gov/pmc/articles/PMC4997286/) in the United States drink coffee. Often, coffee is used to replace the need for sleep. It works alright, or so we think. Let's find out, in this exciting homework problem!\n",
    "\n",
    "[One recent study](https://www.sciencedirect.com/science/article/pii/S1388245703002554) investigated the effects of drinking coffee, taking a nap, and having a [\"coffee-nap\"](https://lifehacker.com/naps-vs-coffee-which-is-better-when-youre-exhausted-1730643671) - the practice of drinking some coffee *and then* having a short nap. The study broke participants up into three groups of 10 participants each, where the groups would have a nap, or have a coffee, or have a coffee-nap, then perform a task where their reaction time was measured. In previous experiments the mean reaction time measurement was found to be approximately normally distributed. The mean reaction times (milliseconds, ms) and standard deviations for the three groups of participants are given in the table below.\n",
    "\n",
    "$$\n",
    "\\begin{array}{c|c|c|c}\n",
    "\\textrm{Group} & \\textrm{Sample Size} & \\textrm{Mean} & \\textrm{Standard Deviation} \\\\\n",
    "\\hline \n",
    "\\textrm{Coffee+Nap} & 10 & 451.3 & 31.9 \\\\ \n",
    "\\textrm{Coffee} & 10 & 494.2 & 39.6 \\\\ \n",
    "\\textrm{Nap} & 10 & 492.8 & 45.2 \\\\ \n",
    "\\end{array}\n",
    "$$\n",
    "\n",
    "**Part A**: Compute a 95% t-confidence interval for the mean reaction time measurement for participants in each of these three groups. (You should find three separate confidence intervals.) Set up your calculations by hand, and report the results in Markdown/MathJax. Of course, you can and should use Python as a calculator.\n",
    "\n",
    "1. Can you make any conclusions regarding whether coffee, naps or both (coffee-naps) are better for faster reaction times?\n",
    "2. Why did we use a t-distribution?"
   ]
  },
  {
   "cell_type": "markdown",
   "metadata": {
    "collapsed": true
   },
   "source": [
    "**Solution:**\n",
    "we compute the confidence intervel for the mean reaction times:\n",
    "$$\\bar{x} \\pm t_{\\alpha/2, n-1} \\dfrac{s}{\\sqrt{n}}$$\n",
    "        "
   ]
  },
  {
   "cell_type": "code",
   "execution_count": 3,
   "metadata": {},
   "outputs": [
    {
     "name": "stdout",
     "output_type": "stream",
     "text": [
      "CI for Coffee+Nap = [428.480 , 474.120]\n",
      "    CI for Coffee = [465.872, 522.528]\n",
      "       CI for Nap = [460.466, 525.134]\n"
     ]
    }
   ],
   "source": [
    "alpha =  0.05  #1- 0.95\n",
    "#print(alpha)\n",
    "\n",
    "#compute CI for Coffee+Nap\n",
    "xbar, s, n = 451.3, 31.9, 10\n",
    "t_ = stats.t.ppf(1-alpha/2, n-1)\n",
    "LowerCI = xbar - t_ * (s/np.sqrt(n))\n",
    "UpperCI = xbar + t_ * (s/np.sqrt(n))\n",
    "print(\"CI for Coffee+Nap = [{:0.3f} , {:0.3f}]\".format(LowerCI, UpperCI))\n",
    "\n",
    "#Compute CI for Coffee\n",
    "xbar, s, n = 494.2, 39.6, 10\n",
    "LowerCI = xbar - t_ *(s/np.sqrt(n))\n",
    "UpperCI = xbar + t_ *(s/np.sqrt(n))\n",
    "print(\"    CI for Coffee = [{:.03f}, {:.03f}]\".format(LowerCI, UpperCI))\n",
    "\n",
    "#Compute CI for Nap\n",
    "xbar, s, n = 492.8, 45.2, 10\n",
    "LowerCI = xbar - t_ *(s/np.sqrt(n))\n",
    "UpperCI = xbar + t_ *(s/np.sqrt(n))\n",
    "print(\"       CI for Nap = [{:.03f}, {:.03f}]\".format(LowerCI, UpperCI))"
   ]
  },
  {
   "cell_type": "markdown",
   "metadata": {},
   "source": [
    "1.\n",
    "\n",
    "\\begin{align*}\n",
    "\\text{Coffee + Nap CI} & = [428.480, 474.10] \\\\\n",
    "\\text{Coffee CI} & = [465.872, 522.528] \\\\\n",
    "\\text{Nap CI} & = [460.466, 525.134]\n",
    "\\end{align*}\n",
    "\n",
    "The confidence intervals are overlaping that we can't say anything.\n",
    "\n",
    "2. We use a t-distribution because the sample size is small and less than 30.\n",
    "\n",
    "\n",
    "\n",
    "\n",
    "\n",
    "\n"
   ]
  },
  {
   "cell_type": "markdown",
   "metadata": {},
   "source": [
    "**Part B**: Use a **rejection region hypothesis test** to determine if there sufficient evidence, at the $\\alpha = 0.05$ significance level, to conclude that taking a nap promotes faster reaction time than drinking coffee.  Be sure to clearly explain the test that you're doing and state all hypotheses. Do all computations in Python, and report results.\n",
    "\n",
    "**Note** that the number of degrees of freedom for a two-sample t-test is $df_1 + df_2 = (n_1-1) + (n_2-1) = n_1 + n_2 - 2$ (where $n_1$ and $n_2$ are the number of data points from each of the two samples). All other mechanics are the same as the two-sample z-tests we know and love."
   ]
  },
  {
   "cell_type": "markdown",
   "metadata": {
    "collapsed": true
   },
   "source": [
    "**Solution:**\n",
    "We will perform a hypothesis test for the difference between the means. Since the sample sizes are small and the mean reaction times are known to be normally distributed, we will use a t-test. \n",
    "\n",
    "For test of taking a nap against drinking coffee, we have hypothesis:\n",
    "$$H_0 : \\mu_{N} - \\mu_{C} = 0$$\n",
    "$$H_1 : \\mu_{N} - \\mu_{C} < 0 $$\n",
    "\n",
    "The test-statistic is given :\n",
    "$$T = \\dfrac{\\bar{x}_N - \\bar{x}_C }{\\sqrt{\\frac{ s_{N}^2 }{n_N} + \\frac{ s_{C}^2 }{n_C} } }$$\n",
    "\n",
    "**Rejection region:** $T < - t_{\\alpha, n-2} = -1.734$\n",
    "\n",
    "**P-value Test**, p-value = 1-stats.t.cdf(T, 18) $< \\alpha$\n"
   ]
  },
  {
   "cell_type": "code",
   "execution_count": 4,
   "metadata": {},
   "outputs": [
    {
     "name": "stdout",
     "output_type": "stream",
     "text": [
      "t_alpha = -1.734\n"
     ]
    }
   ],
   "source": [
    "t_alp = stats.t.ppf(0.05, 18)\n",
    "print(\"t_alpha = {:.03f}\".format(t_alp))\n"
   ]
  },
  {
   "cell_type": "code",
   "execution_count": 5,
   "metadata": {},
   "outputs": [
    {
     "name": "stdout",
     "output_type": "stream",
     "text": [
      "Test_statistic T = -0.074\n",
      "p-value = 0.471\n"
     ]
    }
   ],
   "source": [
    "alpha = 0.05\n",
    "xbar_nap, s_nap, n_nap = 492.8, 45.2, 10\n",
    "\n",
    "xbar_C, s_C, n_C = 494.2, 39.6, 10\n",
    "\n",
    "dof = n_nap + n_C - 2\n",
    "# t_alp = stats.t.ppf(1 - alpha/2, dof)\n",
    "\n",
    "numerator = xbar_nap - xbar_C\n",
    "denomerator = np.sqrt((s_nap**2)/n_nap + (s_C**2)/n_C)\n",
    "T = numerator / denomerator\n",
    "\n",
    "# print(t_alp)\n",
    "print(\"Test_statistic T = {:.3f}\".format(T))\n",
    "p_value =stats.t.cdf(T,18)\n",
    "print(\"p-value = {:.3f}\".format(p_value))\n"
   ]
  },
  {
   "cell_type": "markdown",
   "metadata": {},
   "source": [
    "**Rejection Rejion:**\n",
    "Since $T = -0.074 > -1.734$, we can't reject the null hypothesis. Therefore, we don't have sufficient evidence to claim that taking a nap is better than drinking coffee.\n",
    "\n",
    "**P-value:**\n",
    "Since $p-value = 0.471 > 0.05 $, we can't reject the null hypothesis. Therefore, we don't have sufficient evidence to claim that taking a nap is better than drinking coffee."
   ]
  },
  {
   "cell_type": "code",
   "execution_count": null,
   "metadata": {},
   "outputs": [],
   "source": [
    " "
   ]
  },
  {
   "cell_type": "markdown",
   "metadata": {},
   "source": [
    "**Part C**: Perform an appropriate hypothesis test (you may use either p-values or rejection region) to determine if there is sufficient evidence, at the $\\alpha = 0.05$ significance level, to conclude that taking a coffee-nap promotes faster reaction time than only drinking coffee, or only having a nap. So, there should be two separate hypothesis tests, but they are seeking to show similar results (one for coffee-nap versus coffee-only, and one for coffee-nap versus nap-only). Be sure to clearly explain the test that you're doing and state all hypotheses. Do all computations in Python, and report results."
   ]
  },
  {
   "cell_type": "markdown",
   "metadata": {
    "collapsed": true
   },
   "source": [
    "**Solution:**\n",
    "We will perform a hypothesis test for the difference between the means. Since the sample sizes are small and the mean reaction times are known to be normally distributed, we will use a t-test. \n",
    "\n",
    "For test of taking a coffee-nap against drinking coffee, we have hypothesis:\n",
    "$$H_0 : \\mu_{CN} - \\mu_{C} = 0$$\n",
    "$$H_1 : \\mu_{CN} - \\mu_{C} < 0 $$\n",
    "\n",
    "The test-statistic is given :\n",
    "$$T = \\dfrac{\\bar{x}_{CN} - \\bar{x}_C }{\\sqrt{\\frac{ s_{CN}^2 }{n_{CN}} + \\frac{ s_{C}^2 }{n_C} } }$$\n",
    "\n",
    "**Rejection region:** $T < - t_{\\alpha, n-2} = -1.734$\n",
    "\n",
    "**P-value Test**, p-value = 1-stats.t.cdf(T, 18) $< \\alpha$\n"
   ]
  },
  {
   "cell_type": "code",
   "execution_count": 6,
   "metadata": {},
   "outputs": [
    {
     "name": "stdout",
     "output_type": "stream",
     "text": [
      "Test_statistic T = -2.668\n",
      "P-value = 0.008\n"
     ]
    }
   ],
   "source": [
    "alpha = 0.05\n",
    "xbar_cn, s_cn, n_cn = 451.3, 31.9, 10\n",
    "\n",
    "xbar_C, s_C, n_C = 494.2, 39.6, 10\n",
    "\n",
    "numerator = xbar_cn - xbar_C\n",
    "denomerator = np.sqrt((s_cn**2)/n_cn + (s_C**2)/n_C)\n",
    "T = numerator / denomerator\n",
    "p_value = stats.t.cdf(T,18)\n",
    "print(\"Test_statistic T = {:.3f}\".format(T))\n",
    "print(\"P-value = {:.03f}\".format(p_value))"
   ]
  },
  {
   "cell_type": "markdown",
   "metadata": {},
   "source": [
    "**Rejection Rejion:**\n",
    "Since $T = -2.668 < -1.734$, we reject the null hypothesis. Therefore, performing at $95\\%$ confidence level, we have statistically sufficient evidence to claim that taking a coffee-nap promotes better reaction than drinking coffee.\n",
    "\n",
    "**P-value*:**\n",
    "Since p-value = 0.008 < 0.05, we reject the null hypothesis. Therfore, performing at $95\\%$ confidence level, we have statistically sufficient evidence to claim that taking a coffee-nap promotes better reaction than drinking coffee. "
   ]
  },
  {
   "cell_type": "code",
   "execution_count": 7,
   "metadata": {},
   "outputs": [
    {
     "name": "stdout",
     "output_type": "stream",
     "text": [
      "Test_statistic T = -2.372\n",
      "P-value = 0.008\n"
     ]
    }
   ],
   "source": [
    "alpha = 0.05\n",
    "\n",
    "xbar_cn, s_cn, n_cn = 451.3, 31.9, 10\n",
    "\n",
    "xbar_n, s_n, n_n = 492.8, 45.2, 10\n",
    "\n",
    "\n",
    "\n",
    "numerator = xbar_cn - xbar_n\n",
    "denomerator = np.sqrt((s_cn**2)/n_cn + (s_n**2)/n_n)\n",
    "T = numerator / denomerator\n",
    "\n",
    "print(\"Test_statistic T = {:.3f}\".format(T))\n",
    "print(\"P-value = {:.03f}\".format(p_value))"
   ]
  },
  {
   "cell_type": "markdown",
   "metadata": {},
   "source": [
    "**Rejection Rejion:**\n",
    "Since $T = -2.372 < -1.734$, we reject the null hypothesis. Therefore, performing at $95\\%$ confidence level, we have statistically sufficient evidence to claim that taking a coffee-nap promotes better reaction than taking a npa.\n",
    "\n",
    "**P-value*:**\n",
    "Since p-value = 0.008 < 0.05, we reject the null hypothesis. Therfore, performing at $95\\%$ confidence level, we have statistically sufficient evidence to claim that taking a coffee-nap promotes better reaction than taking a nap."
   ]
  },
  {
   "cell_type": "markdown",
   "metadata": {},
   "source": [
    "**Part D:** Is there sufficient evidence at the 95% confidence (5% significance) level to support claim that the reaction time after a coffee-nap is at least 20 ms faster than the reaction time after a coffee only? Fully justify your answer and show all work demonstrating this conclusion using a **p-value hypothesis test**. "
   ]
  },
  {
   "cell_type": "markdown",
   "metadata": {
    "collapsed": true
   },
   "source": [
    "**Solution:**\n",
    "\n",
    "For test of taking a coffee-nap against drinking coffee, we have hypothesis:\n",
    "$$H_0 : \\mu_{CN} - \\mu_{C} = 20$$\n",
    "$$H_1 : \\mu_{CN} - \\mu_{C} > 20 $$\n",
    "\n",
    "The test-statistic is given :\n",
    "$$T = \\dfrac{\\bar{x}_{CN} - \\bar{x}_C - 20 }{\\sqrt{\\frac{ s_{CN}^2 }{n_{CN}} + \\frac{ s_{C}^2 }{n_C} } }$$\n",
    "\n",
    "**P-value Test**, p-value = 1-stats.t.cdf(T, 18) $< \\alpha$"
   ]
  },
  {
   "cell_type": "code",
   "execution_count": 8,
   "metadata": {},
   "outputs": [
    {
     "name": "stdout",
     "output_type": "stream",
     "text": [
      "Test_statistic T = -3.912\n",
      "P-value = 0.999\n"
     ]
    }
   ],
   "source": [
    "alpha = 0.05\n",
    "xbar_cn, s_cn, n_cn = 451.3, 31.9, 10\n",
    "\n",
    "xbar_C, s_C, n_C = 494.2, 39.6, 10\n",
    "\n",
    "numerator = xbar_cn - xbar_C - 20\n",
    "denomerator = np.sqrt((s_cn**2)/n_cn + (s_C**2)/n_C)\n",
    "T = numerator / denomerator\n",
    "p_value = 1- stats.t.cdf(T,18)\n",
    "print(\"Test_statistic T = {:.3f}\".format(T))\n",
    "print(\"P-value = {:.03f}\".format(p_value))"
   ]
  },
  {
   "cell_type": "markdown",
   "metadata": {},
   "source": [
    "**P-value*:**\n",
    "Since p-value = 0.999 > 0.05, we  fail to reject the null hypothesis. Therfore, we don't have sufficient evidence to claim that taking a coffee-nap promotes better reaction than taking a coffee."
   ]
  },
  {
   "cell_type": "markdown",
   "metadata": {},
   "source": [
    "**Part E**: Compute a 95% confidence interval for the standard deviation of reaction time for coffee-nap takers. Do all computations in Python, and report the results."
   ]
  },
  {
   "cell_type": "markdown",
   "metadata": {
    "collapsed": true
   },
   "source": [
    "**Solution**: \n",
    "\n",
    "Our confidence interval for the standard deviation is given by \n",
    "\n",
    "$$\n",
    "\\sqrt{\\dfrac{(n-1)s^2}{\\chi^2_{\\alpha/2, n-1}}} \\leq \\sigma \\leq \n",
    "\\sqrt{\\dfrac{(n-1)s^2}{\\chi^2_{1-\\alpha/2, n-1}}} \n",
    "$$\n",
    "\n"
   ]
  },
  {
   "cell_type": "code",
   "execution_count": 9,
   "metadata": {},
   "outputs": [
    {
     "name": "stdout",
     "output_type": "stream",
     "text": [
      " A 95% CI for the standard deviation of reaction time for coffee-nap takers: [21.942, 58.237] ms.\n"
     ]
    }
   ],
   "source": [
    "alpha = 0.05\n",
    "s, n = 31.9, 10\n",
    "chi_alp = stats.chi2.ppf(alpha/2, n-1)\n",
    "chi_one_minus_alp = stats.chi2.ppf((1- (alpha/2)), n-1)\n",
    "numerator = (n-1)*(s**2)\n",
    "RightCI = np.sqrt(numerator/chi_alp)\n",
    "LeftCI = np.sqrt(numerator/chi_one_minus_alp)\n",
    "\n",
    "print(\" A 95% CI for the standard deviation of reaction time for coffee-nap takers: [{:.03f}, {:.03f}] ms.\".format(LeftCI, RightCI))\n"
   ]
  },
  {
   "cell_type": "markdown",
   "metadata": {},
   "source": [
    " A 95% CI for the standard deviation of reaction time for coffee-nap takers: [21.942, 58.237] ms.\n"
   ]
  },
  {
   "cell_type": "markdown",
   "metadata": {},
   "source": [
    "<br>\n",
    "\n",
    "---\n",
    "[Back to top](#top)\n",
    "<a id='p3'></a>\n",
    "\n",
    "### [40 points] Problem 3 - Simple Linear Regression for Science!\n",
    "\n",
    "From [Google Trends](https://trends.google.com/trends/?geo=US) data, it appears that interest in \"science\" in the United States has been waning since about 2004. Interest is measured relative to the maximum rate of Google searches for that term over the time period (so the maximum is 100). \n",
    "\n",
    "**Part A:** Load up the data in `science_interest.csv` into a Pandas DataFrame. Create two new columns:\n",
    "* `year` should be the year associated with that data point, and\n",
    "* `month` should be the month (1-12) associated with that data point.\n",
    "\n",
    "Then, make a **scatter plot** (using `pyplot.scatter`) of all of the data points, showing how interest in \"science\" has evolved over time. Label only the data point associated with January of each even year, and label with the year (and of course be sure to label your axes)."
   ]
  },
  {
   "cell_type": "code",
   "execution_count": 10,
   "metadata": {},
   "outputs": [
    {
     "data": {
      "text/html": [
       "<div>\n",
       "<style scoped>\n",
       "    .dataframe tbody tr th:only-of-type {\n",
       "        vertical-align: middle;\n",
       "    }\n",
       "\n",
       "    .dataframe tbody tr th {\n",
       "        vertical-align: top;\n",
       "    }\n",
       "\n",
       "    .dataframe thead th {\n",
       "        text-align: right;\n",
       "    }\n",
       "</style>\n",
       "<table border=\"1\" class=\"dataframe\">\n",
       "  <thead>\n",
       "    <tr style=\"text-align: right;\">\n",
       "      <th></th>\n",
       "      <th>Date</th>\n",
       "      <th>Data</th>\n",
       "      <th>Year</th>\n",
       "      <th>Month</th>\n",
       "    </tr>\n",
       "  </thead>\n",
       "  <tbody>\n",
       "    <tr>\n",
       "      <th>0</th>\n",
       "      <td>2004-01</td>\n",
       "      <td>100</td>\n",
       "      <td>2004</td>\n",
       "      <td>1</td>\n",
       "    </tr>\n",
       "    <tr>\n",
       "      <th>1</th>\n",
       "      <td>2004-02</td>\n",
       "      <td>96</td>\n",
       "      <td>2004</td>\n",
       "      <td>2</td>\n",
       "    </tr>\n",
       "    <tr>\n",
       "      <th>2</th>\n",
       "      <td>2004-03</td>\n",
       "      <td>84</td>\n",
       "      <td>2004</td>\n",
       "      <td>3</td>\n",
       "    </tr>\n",
       "    <tr>\n",
       "      <th>3</th>\n",
       "      <td>2004-04</td>\n",
       "      <td>77</td>\n",
       "      <td>2004</td>\n",
       "      <td>4</td>\n",
       "    </tr>\n",
       "    <tr>\n",
       "      <th>4</th>\n",
       "      <td>2004-05</td>\n",
       "      <td>69</td>\n",
       "      <td>2004</td>\n",
       "      <td>5</td>\n",
       "    </tr>\n",
       "  </tbody>\n",
       "</table>\n",
       "</div>"
      ],
      "text/plain": [
       "      Date  Data  Year  Month\n",
       "0  2004-01   100  2004      1\n",
       "1  2004-02    96  2004      2\n",
       "2  2004-03    84  2004      3\n",
       "3  2004-04    77  2004      4\n",
       "4  2004-05    69  2004      5"
      ]
     },
     "execution_count": 10,
     "metadata": {},
     "output_type": "execute_result"
    }
   ],
   "source": [
    "list_ = ['Date', 'Data']\n",
    "df = pd.read_csv('science_interest.csv', header=None, skiprows=3, names = list_)\n",
    "# df = df.iloc[2:]  #get from index 2\n",
    "\n",
    "dfnew = df.copy()\n",
    "#new data frame with split valus columns\n",
    "col = dfnew[\"Date\"].str.split('-', n=1, expand=True)\n",
    "\n",
    "#making seperate first year colunm from new data frame\n",
    "dfnew['Year'] = [int(i) for i in col[0]]\n",
    "\n",
    "dfnew['Month'] = [int(i) for i in col[1]]\n",
    "\n",
    "#drop old name clumns\n",
    "#dfnew.drop(columns=[\"Date\"], inplace=True)\n",
    "\n",
    "# dfnew['Year'] = pd.to_numeric(dfnew['Year'])\n",
    "# dfnew['Month']=pd.to_numeric(dfnew['Month'])\n",
    "# dfnew['Data']=pd.to_numeric(dfnew['Data'])\n",
    "\n",
    "# pd.to_datetime(df['Date'])\n",
    "# df['Year'] = pd.DatetimeIndex(df['Date']).year\n",
    "# df['Month'] = pd.DatetimeIndex(df['Date']).month\n",
    "# dfcopy = df.copy()\n",
    "dfnew.head()"
   ]
  },
  {
   "cell_type": "code",
   "execution_count": 11,
   "metadata": {},
   "outputs": [
    {
     "data": {
      "image/png": "[encoded data removed]",
      "text/plain": [
       "<Figure size 504x288 with 1 Axes>"
      ]
     },
     "metadata": {
      "needs_background": "light"
     },
     "output_type": "display_data"
    }
   ],
   "source": [
    "index_label = dfnew.index[((dfnew['Month']==1) & (dfnew['Year']%2==0))]\n",
    "\n",
    "fig, ax = plt.subplots(nrows=1, ncols=1, figsize=(7,4))\n",
    "\n",
    "plt.scatter(range(len(dfnew['Date'])), dfnew['Data'], color='green', label= 'Data')\n",
    "\n",
    "ax.set_xlabel(\"Time\", fontsize=16)\n",
    "ax.set_ylabel(\"Data\", fontsize=16)\n",
    "ax.set_xticks(index_label)\n",
    "ax.set_xticklabels(dfnew.loc[index_label, \"Year\"])\n",
    "plt.legend()\n",
    "plt.show()\n"
   ]
  },
  {
   "cell_type": "code",
   "execution_count": null,
   "metadata": {},
   "outputs": [],
   "source": []
  },
  {
   "cell_type": "markdown",
   "metadata": {},
   "source": [
    "**Part B:** These data (and the sea-level data from Homework 4) are a **time series**, where the independent variable is *time* and the dependent quantity is interest in science. One of the central assumptions of linear regression is that the data are observations generated by some process, independently of one another. With time series data, we need to be careful because there could be some other process affecting the output data. In particular, **annual cycles** are patterns that reoccur each year and are frequently present in time series data. For example, seasonal patterns of weather are annual cycles.\n",
    "\n",
    "To see what kind of effect time has, make a **line plot** (using `pyplot.plot`) of the interest in science, as a function of time. Again, include all of the data points and, for the x-axis, label only the tick marks associated with January of even years, and be sure to label your axes."
   ]
  },
  {
   "cell_type": "code",
   "execution_count": null,
   "metadata": {},
   "outputs": [],
   "source": []
  },
  {
   "cell_type": "code",
   "execution_count": 12,
   "metadata": {},
   "outputs": [
    {
     "data": {
      "image/png": "[encoded data removed]",
      "text/plain": [
       "<Figure size 1152x576 with 1 Axes>"
      ]
     },
     "metadata": {
      "needs_background": "light"
     },
     "output_type": "display_data"
    }
   ],
   "source": [
    "index_label = dfnew.index[((dfnew['Month']==1) & (dfnew['Year']%2==0))]\n",
    "\n",
    "fig, ax = plt.subplots(nrows=1, ncols=1, figsize=(16,8))\n",
    "\n",
    "plt.plot(range(len(dfnew['Date'])), dfnew['Data'], color='coral', label= 'data')\n",
    "\n",
    "ax.set_xlabel(\"Time\", fontsize=16)\n",
    "ax.set_ylabel(\"Data\", fontsize=16)\n",
    "ax.set_xticks(index_label)\n",
    "ax.set_xticklabels(dfnew.loc[index_label, \"Year\"])\n",
    "plt.legend()\n",
    "plt.show()"
   ]
  },
  {
   "cell_type": "markdown",
   "metadata": {},
   "source": [
    "**Part C:** Does your plot from Part B suggest that there is some annual cycle to the interest in science? During which months is interest in science highest? What about lowest? Justify your answers using your plot, **and** by computing the mean interest in science for each month. So, compute 12 values and report them in a table. Do **not** just spit out a horizontal list of 12 numbers. That would be yucky to try to read, and we're scientists, dammit.\n",
    "\n",
    "What do you think accounts for the drop(s) in interest in science during those month(s)? Recall that these data are from the United States."
   ]
  },
  {
   "cell_type": "code",
   "execution_count": 13,
   "metadata": {},
   "outputs": [
    {
     "name": "stdout",
     "output_type": "stream",
     "text": [
      "Month Avg-Interest\n",
      " 1:    60.9375\n",
      " 2:    58.5625\n",
      " 3:    55.8125\n",
      " 4:    55.1333\n",
      " 5:    49.7333\n",
      " 6:    39.5333\n",
      " 7:    36.2000\n",
      " 8:    45.4667\n",
      " 9:    59.1333\n",
      " 10:    56.5333\n",
      " 11:    54.0000\n",
      " 12:    46.9333\n"
     ]
    }
   ],
   "source": [
    "#Part C Solution:\n",
    "\n",
    "avgInterest = {}\n",
    "for month in dfnew['Month'].unique():\n",
    "    avgInterest[month] = dfnew.loc[dfnew['Month'] == month, 'Data'].mean()\n",
    "\n",
    "print('Month Avg-Interest')\n",
    "for k in avgInterest.keys():\n",
    "    print(' {}:    {:0.4f}'.format(k, avgInterest[k]))"
   ]
  },
  {
   "cell_type": "markdown",
   "metadata": {},
   "source": [
    "**Solution:**\n",
    "\n",
    "Yes, there is some annual cycle to the intesrest in science. January is interest in science hightes and Juyly is the lowest."
   ]
  },
  {
   "cell_type": "code",
   "execution_count": null,
   "metadata": {},
   "outputs": [],
   "source": []
  },
  {
   "cell_type": "markdown",
   "metadata": {},
   "source": [
    "**Part D:** (Spoiler alert!) Since there seems to be an annual cycle, one of the fundamental assumptions of our simple linear regression model is not satisfied. Namely, it is not the case that the model-data residuals, $\\epsilon_i$, are independent of one another.\n",
    "\n",
    "So, we need to process our data a bit further before fitting a regression model. One way to address this is to take the mean of all the data each year and use for analysis the time series of annual mean interest in science. Create a new Pandas DataFrame that consists only of two columns:\n",
    "* `year`, and\n",
    "* `interest`, the mean interest in science from the twelve months in that year."
   ]
  },
  {
   "cell_type": "code",
   "execution_count": 14,
   "metadata": {},
   "outputs": [
    {
     "name": "stdout",
     "output_type": "stream",
     "text": [
      " Year  Avg-Interest\n",
      " 2004:    77.333\n",
      " 2005:    70.250\n",
      " 2006:    63.417\n",
      " 2007:    58.750\n",
      " 2008:    54.167\n",
      " 2009:    52.167\n",
      " 2010:    47.333\n",
      " 2011:    47.333\n",
      " 2012:    44.667\n",
      " 2013:    44.250\n",
      " 2014:    45.583\n",
      " 2015:    45.750\n",
      " 2016:    42.000\n",
      " 2017:    43.167\n",
      " 2018:    40.083\n",
      " 2019:    43.333\n"
     ]
    }
   ],
   "source": [
    "#Part D solution:\n",
    "\n",
    "avgInterest = {}\n",
    "for year in dfnew['Year'].unique():\n",
    "    avgInterest[year] = dfnew.loc[dfnew['Year'] == year, 'Data'].mean()\n",
    "\n",
    "print(' Year  Avg-Interest')\n",
    "for k in avgInterest.keys():\n",
    "    print(' {}:    {:0.3f}'.format(k, avgInterest[k]))"
   ]
  },
  {
   "cell_type": "code",
   "execution_count": 15,
   "metadata": {},
   "outputs": [
    {
     "data": {
      "text/html": [
       "<div>\n",
       "<style scoped>\n",
       "    .dataframe tbody tr th:only-of-type {\n",
       "        vertical-align: middle;\n",
       "    }\n",
       "\n",
       "    .dataframe tbody tr th {\n",
       "        vertical-align: top;\n",
       "    }\n",
       "\n",
       "    .dataframe thead th {\n",
       "        text-align: right;\n",
       "    }\n",
       "</style>\n",
       "<table border=\"1\" class=\"dataframe\">\n",
       "  <thead>\n",
       "    <tr style=\"text-align: right;\">\n",
       "      <th></th>\n",
       "      <th>Year</th>\n",
       "      <th>Interest</th>\n",
       "    </tr>\n",
       "  </thead>\n",
       "  <tbody>\n",
       "    <tr>\n",
       "      <th>0</th>\n",
       "      <td>2004.0</td>\n",
       "      <td>77.333333</td>\n",
       "    </tr>\n",
       "    <tr>\n",
       "      <th>1</th>\n",
       "      <td>2005.0</td>\n",
       "      <td>70.250000</td>\n",
       "    </tr>\n",
       "    <tr>\n",
       "      <th>2</th>\n",
       "      <td>2006.0</td>\n",
       "      <td>63.416667</td>\n",
       "    </tr>\n",
       "    <tr>\n",
       "      <th>3</th>\n",
       "      <td>2007.0</td>\n",
       "      <td>58.750000</td>\n",
       "    </tr>\n",
       "    <tr>\n",
       "      <th>4</th>\n",
       "      <td>2008.0</td>\n",
       "      <td>54.166667</td>\n",
       "    </tr>\n",
       "    <tr>\n",
       "      <th>5</th>\n",
       "      <td>2009.0</td>\n",
       "      <td>52.166667</td>\n",
       "    </tr>\n",
       "    <tr>\n",
       "      <th>6</th>\n",
       "      <td>2010.0</td>\n",
       "      <td>47.333333</td>\n",
       "    </tr>\n",
       "    <tr>\n",
       "      <th>7</th>\n",
       "      <td>2011.0</td>\n",
       "      <td>47.333333</td>\n",
       "    </tr>\n",
       "    <tr>\n",
       "      <th>8</th>\n",
       "      <td>2012.0</td>\n",
       "      <td>44.666667</td>\n",
       "    </tr>\n",
       "    <tr>\n",
       "      <th>9</th>\n",
       "      <td>2013.0</td>\n",
       "      <td>44.250000</td>\n",
       "    </tr>\n",
       "    <tr>\n",
       "      <th>10</th>\n",
       "      <td>2014.0</td>\n",
       "      <td>45.583333</td>\n",
       "    </tr>\n",
       "    <tr>\n",
       "      <th>11</th>\n",
       "      <td>2015.0</td>\n",
       "      <td>45.750000</td>\n",
       "    </tr>\n",
       "    <tr>\n",
       "      <th>12</th>\n",
       "      <td>2016.0</td>\n",
       "      <td>42.000000</td>\n",
       "    </tr>\n",
       "    <tr>\n",
       "      <th>13</th>\n",
       "      <td>2017.0</td>\n",
       "      <td>43.166667</td>\n",
       "    </tr>\n",
       "    <tr>\n",
       "      <th>14</th>\n",
       "      <td>2018.0</td>\n",
       "      <td>40.083333</td>\n",
       "    </tr>\n",
       "    <tr>\n",
       "      <th>15</th>\n",
       "      <td>2019.0</td>\n",
       "      <td>43.333333</td>\n",
       "    </tr>\n",
       "  </tbody>\n",
       "</table>\n",
       "</div>"
      ],
      "text/plain": [
       "      Year   Interest\n",
       "0   2004.0  77.333333\n",
       "1   2005.0  70.250000\n",
       "2   2006.0  63.416667\n",
       "3   2007.0  58.750000\n",
       "4   2008.0  54.166667\n",
       "5   2009.0  52.166667\n",
       "6   2010.0  47.333333\n",
       "7   2011.0  47.333333\n",
       "8   2012.0  44.666667\n",
       "9   2013.0  44.250000\n",
       "10  2014.0  45.583333\n",
       "11  2015.0  45.750000\n",
       "12  2016.0  42.000000\n",
       "13  2017.0  43.166667\n",
       "14  2018.0  40.083333\n",
       "15  2019.0  43.333333"
      ]
     },
     "execution_count": 15,
     "metadata": {},
     "output_type": "execute_result"
    }
   ],
   "source": [
    "def interest_mean(y):\n",
    "    dfcopy = dfnew.copy()\n",
    "    dfcopy = dfcopy.loc[dfcopy['Year'] == y, 'Data']\n",
    "    m = dfcopy.mean()\n",
    "    return y, m\n",
    "y = np.zeros(16)\n",
    "interest = np.zeros(16)\n",
    "\n",
    "\n",
    "for i in range(0,16):\n",
    "    y[i], interest[i]=interest_mean(2004+i)\n",
    "\n",
    "dfnewData = pd.DataFrame(columns=['Year', 'Interest'])\n",
    "dfnewData['Year'] = y\n",
    "dfnewData['Interest']= interest\n",
    "dfnewData.head(16)\n"
   ]
  },
  {
   "cell_type": "markdown",
   "metadata": {},
   "source": [
    "**Part E:** Perform a simple linear regression with `year` as the feature and `interest` as the response (mean annual interest in science).  Report the estimated regression model in the form $Y = \\alpha + \\beta x$. Do all computations in Python. \n",
    "\n",
    "Then make a scatter plot of the mean annual interest in science as a function of year, and overlay the estimated regression line. Label your axes and provide a legend."
   ]
  },
  {
   "cell_type": "code",
   "execution_count": 16,
   "metadata": {},
   "outputs": [
    {
     "name": "stdout",
     "output_type": "stream",
     "text": [
      "4131.6601715686265\n",
      "-2.0285539215686272\n"
     ]
    },
    {
     "data": {
      "image/png": "[encoded data removed]",
      "text/plain": [
       "<Figure size 576x360 with 1 Axes>"
      ]
     },
     "metadata": {
      "needs_background": "light"
     },
     "output_type": "display_data"
    }
   ],
   "source": [
    "x = dfnewData['Year']\n",
    "y = dfnewData['Interest']\n",
    "bhat, ahat, rval, pval, stderr = stats.linregress(x, y)\n",
    "#fitted regression line\n",
    "Y = ahat + bhat*x\n",
    "print(ahat)\n",
    "print(bhat)\n",
    "fig, ax = plt.subplots(nrows=1, ncols=1, figsize=(8,5))\n",
    "ax.scatter(x, y, color=\"coral\", alpha=0.75, s=100, label=\"interest\")\n",
    "ax.plot(x, Y, color=\"steelblue\", lw=3, label =\"Y\");\n",
    "ax.grid(alpha=0.25)\n",
    "ax.set_xlabel(\"Time\", fontsize=16)\n",
    "ax.set_ylabel(\"Interest\", fontsize=16)\n",
    "plt.legend()\n",
    "plt.show()\n",
    "# plt.xticks(np.linspace(0,2,5));"
   ]
  },
  {
   "cell_type": "markdown",
   "metadata": {},
   "source": [
    "**Solution:**\n",
    "\n",
    "$Y = 4131.66 - 2.028*x$ "
   ]
  },
  {
   "cell_type": "markdown",
   "metadata": {},
   "source": [
    "**Part F**: Give a physical interpretation of the coefficient $\\hat{\\beta}$, estimated from your model. Include addressing whether the relationship between time and interest in science is positive or negative. Fully justify your responses."
   ]
  },
  {
   "cell_type": "code",
   "execution_count": 17,
   "metadata": {},
   "outputs": [
    {
     "name": "stdout",
     "output_type": "stream",
     "text": [
      "-2.029\n"
     ]
    }
   ],
   "source": [
    "print(\"{:.03f}\".format(bhat))"
   ]
  },
  {
   "cell_type": "markdown",
   "metadata": {},
   "source": [
    "**Solution:**\n",
    "\n",
    "$\\hat{\\beta}$  is the estimate of the additional time that is interest in science.\n",
    "\n",
    "The relationship is negative. We can see this because  $\\hat{\\beta}= -2.029$ , and because the slope of the fitted regression line in the graph is clearly negative."
   ]
  },
  {
   "cell_type": "code",
   "execution_count": null,
   "metadata": {},
   "outputs": [],
   "source": []
  },
  {
   "cell_type": "markdown",
   "metadata": {},
   "source": [
    "**Part G**: What interest in science does your simple linear regression model predict in the year 2030? What about in 2050? What are potential drawbacks to this model for interest in science?"
   ]
  },
  {
   "cell_type": "markdown",
   "metadata": {},
   "source": [
    "**Solution:**\n",
    "\n",
    "Our simple linear regression model will be less interest in the year 2030 and less in the year 2050. From the model of graph above, the time increase, and the date interest in science decrease, the we are less interst in science."
   ]
  },
  {
   "cell_type": "code",
   "execution_count": 18,
   "metadata": {},
   "outputs": [
    {
     "name": "stdout",
     "output_type": "stream",
     "text": [
      "Simple Linear regression model predict : 13.696\n",
      "Simple Linear regression model predict : -26.875\n"
     ]
    }
   ],
   "source": [
    "Y2030 = ahat + bhat*2030\n",
    "Y2050 = ahat + bhat*2050\n",
    "# print(bhat)\n",
    "# print(ahat)\n",
    "print(\"Simple Linear regression model predict : {:.3f}\".format(Y2030))\n",
    "print(\"Simple Linear regression model predict : {:.3f}\".format(Y2050))"
   ]
  },
  {
   "cell_type": "markdown",
   "metadata": {},
   "source": [
    "**Part H:** Compute a 66% confidence interval for the slope parameter, $\\beta$, ***by hand***. This means performing all calculations yourself in Python, as opposed to calling a simple Python function that gives you the result. Why is this a confidence interval for $\\beta$ and not for $\\hat{\\beta}$?"
   ]
  },
  {
   "cell_type": "markdown",
   "metadata": {},
   "source": [
    "\n",
    "**Solution:**\n",
    "\n",
    "$100(1-\\alpha)$% CI for $\\beta$ is:  \n",
    "$$\\hat{\\beta} \\pm t_{\\alpha/2, n-2} SE(\\hat{\\beta})$$, \n",
    "\n",
    "where $SE(\\hat{\\beta}) = \\dfrac{\\hat{\\sigma}}{\\sqrt{\\sum (x_i - \\bar{x})^2}}$\n",
    "\n",
    "and $$\\hat{\\sigma} = \\sqrt{\\dfrac{SSE}{n-2}} = \\sqrt{\\dfrac{\\sum(y_i - \\bar{y}_i)^2)}{n-2}} $$\n",
    "\n",
    "and $\\bar{y} = \\hat{\\alpha} + \\hat{\\beta} \\cdot x$"
   ]
  },
  {
   "cell_type": "code",
   "execution_count": null,
   "metadata": {},
   "outputs": [],
   "source": []
  },
  {
   "cell_type": "code",
   "execution_count": 55,
   "metadata": {},
   "outputs": [
    {
     "name": "stdout",
     "output_type": "stream",
     "text": [
      "T critical= 0.988\n",
      "alpha: 0.33999999999999997\n",
      "SSE = 379.497\n",
      "SSX = 340.000\n",
      "66% CI for beta = [-2.307, -1.750]\n"
     ]
    }
   ],
   "source": [
    "x = dfnewData['Year']\n",
    "y = dfnewData['Interest']\n",
    "x_mean = dfnewData['Year'].mean()\n",
    "n = len(dfnewData['Year'])\n",
    "betahat, alphahat, rval, pval, stderr = stats.linregress(x, y)\n",
    "\n",
    "#fitted regression line\n",
    "yhat = alphahat + betahat*x\n",
    "\n",
    "alp = 1 - 0.66\n",
    "t_critical = stats.t.ppf(1-alp/2, df=n-2)\n",
    "print(\"T critical= {:.3f}\".format(t_critical))\n",
    "SSE = np.sum((y - yhat)**2)\n",
    "SSX = np.sum((x - x_mean)**2)\n",
    "sigmahat = np.sqrt(SSE/(n-2))\n",
    "print(\"alpha: {}\".format(alp))\n",
    "print(\"SSE = {:.03f}\".format(SSE))\n",
    "print(\"SSX = {:.03f}\".format(SSX))\n",
    "LeftCI = betahat - t_critical * sigmahat/np.sqrt(SSX)\n",
    "RightCI = betahat + t_critical * sigmahat/np.sqrt(SSX)\n",
    "print(\"{:.0f}% CI for beta = [{:.3f}, {:.3f}]\".format(100*(1-alp), LeftCI, RightCI))\n"
   ]
  },
  {
   "cell_type": "markdown",
   "metadata": {},
   "source": [
    "**Solution:**\n",
    "\n",
    "$66\\%$ CI for $\\beta = [-2.408, -1.650]$"
   ]
  },
  {
   "cell_type": "markdown",
   "metadata": {
    "collapsed": true
   },
   "source": [
    "**Part I:** What proportion of the variation in mean annual interest in science is explained by your linear regression model?"
   ]
  },
  {
   "cell_type": "markdown",
   "metadata": {},
   "source": [
    "**Solution:**\n",
    "\n",
    "We need to find the cofficient of determination $R^2$ to be the proportion that can be explain by linear regression model. We have:\n",
    "$$R^2 = 1 - \\dfrac{SSE}{SST}$$\n",
    "\n",
    "where $SSE = \\sum{(y_i -\\hat{y_i})^2}$\n",
    "\n",
    "and $SST = \\sum{(y_i - \\bar{y})^2}$"
   ]
  },
  {
   "cell_type": "code",
   "execution_count": 20,
   "metadata": {},
   "outputs": [
    {
     "name": "stdout",
     "output_type": "stream",
     "text": [
      "The proportion of the variation in mean: 0.787\n",
      "0.7866326755553371\n"
     ]
    }
   ],
   "source": [
    "betahat, alphahat, rval, pval, stderr = stats.linregress(x, y)\n",
    "yhat = alphahat + betahat*x\n",
    "SSE = np.sum((y - yhat)**2)\n",
    "SST = np.sum((y- np.mean(y))**2)\n",
    "R_sqrt = 1 - (SSE/SST)\n",
    "print(\"The proportion of the variation in mean: {:.03f}\".format(R_sqrt))\n",
    "\n",
    "print(rval**2)"
   ]
  },
  {
   "cell_type": "markdown",
   "metadata": {},
   "source": [
    "**Part J:** Make a scatter plot of the residuals from this simple linear regression model, relative to the annual mean interest data (and be sure to label your axes). Make a conjecture about what kind of additional feature, also based on `year`, should be added to improve the fit of the model. Note that this new model with have your new feature _and_ `year`, making it a _multiple linear regression_ model."
   ]
  },
  {
   "cell_type": "code",
   "execution_count": null,
   "metadata": {},
   "outputs": [],
   "source": []
  },
  {
   "cell_type": "code",
   "execution_count": 21,
   "metadata": {},
   "outputs": [],
   "source": [
    "def fit_and_res_plot(X, y, yhat, hint=False):\n",
    "    \n",
    "    res = y - yhat \n",
    "    fig, axes = plt.subplots(nrows=1, ncols=1, figsize=(16,8))\n",
    "    \n",
    "    ax.scatter(x, y, color=\"coral\", alpha=0.75, s=100, label=\"interest\")\n",
    "    ax.plot(x, Y, color=\"steelblue\", lw=3, label =\"Y\");\n",
    "\n",
    "    # Plot residuals \n",
    "#     axes.plot([np.min(x), np.max(x)],[0, 0], lw=2, ls=\"--\", alpha=0.5, color=\"black\")\n",
    "    axes.scatter(x, res, color=\"#6a9373\", s=100, alpha=0.9)\n",
    "    axes.grid(alpha=0.25)\n",
    "    axes.set_xlabel(\"Time\", fontsize=16)\n",
    "    axes.set_ylabel(\"Residul Interest\", fontsize=16)\n",
    "    axes.set_title(\"Residual Plot\", fontsize=16)\n",
    "    "
   ]
  },
  {
   "cell_type": "code",
   "execution_count": 22,
   "metadata": {},
   "outputs": [
    {
     "data": {
      "image/png": "[encoded data removed]",
      "text/plain": [
       "<Figure size 1152x576 with 1 Axes>"
      ]
     },
     "metadata": {
      "needs_background": "light"
     },
     "output_type": "display_data"
    }
   ],
   "source": [
    "x = dfnewData['Year']\n",
    "y = dfnewData['Interest']\n",
    "fit_and_res_plot(x, y, yhat)"
   ]
  },
  {
   "cell_type": "markdown",
   "metadata": {},
   "source": [
    "**Solution:**\n",
    "    \n",
    "This graph like like quadratic. The formular should be $\\text{year}^2$."
   ]
  },
  {
   "cell_type": "markdown",
   "metadata": {},
   "source": [
    "<br>\n",
    "\n",
    "---\n",
    "[Back to top](#top)\n",
    "<a id='p4'></a>\n",
    "\n",
    "### [20 points] Problem 4 - Choose-Your-Own Simple Linear Regression Adventure\n",
    "\n",
    "The interest in science data from the previous problem was from [Google Trends](https://trends.google.com/trends/?geo=US). From that main page, you can enter a particular search term and view the interest in that term over time. By default, the data displayed will be weekly data for the past year. You can ask for different time periods or regions as well (my link above defaults to the United States).\n",
    "\n",
    "**Part A:** Download data from Google Trends for a search term, region and time period of your choice. (Alternatively, you can also use data from whatever source you would like, as long as it is a time series.) Then:\n",
    "* clearly state what your search term, region and time period are (or fully describe your other data set),\n",
    "* load your data as a Pandas DataFrame, and\n",
    "* make a plot of the data over the entire time frame. Be sure to label your axes clearly.\n",
    "\n",
    "**NOTE:** be sure to **leave your plot cell executed** because you are not asked to host the data or provide the data set with the homework submission. If your plot is not readily visible when we open your notebook for grading, then you can earn a maximum of 10 points for this problem. "
   ]
  },
  {
   "cell_type": "markdown",
   "metadata": {},
   "source": [
    "**Solution:**\n",
    "\n",
    "My search term is Pizza, region is worldwide and period from 2004 to present."
   ]
  },
  {
   "cell_type": "code",
   "execution_count": 118,
   "metadata": {},
   "outputs": [
    {
     "data": {
      "text/html": [
       "<div>\n",
       "<style scoped>\n",
       "    .dataframe tbody tr th:only-of-type {\n",
       "        vertical-align: middle;\n",
       "    }\n",
       "\n",
       "    .dataframe tbody tr th {\n",
       "        vertical-align: top;\n",
       "    }\n",
       "\n",
       "    .dataframe thead th {\n",
       "        text-align: right;\n",
       "    }\n",
       "</style>\n",
       "<table border=\"1\" class=\"dataframe\">\n",
       "  <thead>\n",
       "    <tr style=\"text-align: right;\">\n",
       "      <th></th>\n",
       "      <th>Date</th>\n",
       "      <th>Interest</th>\n",
       "      <th>Year</th>\n",
       "      <th>Month</th>\n",
       "    </tr>\n",
       "  </thead>\n",
       "  <tbody>\n",
       "    <tr>\n",
       "      <th>0</th>\n",
       "      <td>2004-01</td>\n",
       "      <td>27</td>\n",
       "      <td>2004</td>\n",
       "      <td>1</td>\n",
       "    </tr>\n",
       "    <tr>\n",
       "      <th>1</th>\n",
       "      <td>2004-02</td>\n",
       "      <td>27</td>\n",
       "      <td>2004</td>\n",
       "      <td>2</td>\n",
       "    </tr>\n",
       "    <tr>\n",
       "      <th>2</th>\n",
       "      <td>2004-03</td>\n",
       "      <td>26</td>\n",
       "      <td>2004</td>\n",
       "      <td>3</td>\n",
       "    </tr>\n",
       "    <tr>\n",
       "      <th>3</th>\n",
       "      <td>2004-04</td>\n",
       "      <td>26</td>\n",
       "      <td>2004</td>\n",
       "      <td>4</td>\n",
       "    </tr>\n",
       "    <tr>\n",
       "      <th>4</th>\n",
       "      <td>2004-05</td>\n",
       "      <td>26</td>\n",
       "      <td>2004</td>\n",
       "      <td>5</td>\n",
       "    </tr>\n",
       "  </tbody>\n",
       "</table>\n",
       "</div>"
      ],
      "text/plain": [
       "      Date  Interest  Year  Month\n",
       "0  2004-01        27  2004      1\n",
       "1  2004-02        27  2004      2\n",
       "2  2004-03        26  2004      3\n",
       "3  2004-04        26  2004      4\n",
       "4  2004-05        26  2004      5"
      ]
     },
     "execution_count": 118,
     "metadata": {},
     "output_type": "execute_result"
    }
   ],
   "source": [
    "newList = ['Date', 'Interest']\n",
    "dfpizza = pd.read_csv('pizza_Worldwide.csv', header=None, skiprows=3, names = newList)\n",
    "\n",
    "dfnewPizza = dfpizza.copy()\n",
    "\n",
    "#new data frame with split valus columns\n",
    "newCol = dfnewPizza[\"Date\"].str.split('-', n=1, expand=True)\n",
    "\n",
    "#making seperate first year colunm from new data frame\n",
    "dfnewPizza['Year'] = [int(i) for i in newCol[0]]\n",
    "\n",
    "dfnewPizza['Month'] = [int(i) for i in newCol[1]]\n",
    "\n",
    "\n",
    "dfnewPizza.head()"
   ]
  },
  {
   "cell_type": "code",
   "execution_count": 119,
   "metadata": {},
   "outputs": [
    {
     "data": {
      "image/png": "[encoded data removed]",
      "text/plain": [
       "<Figure size 1008x720 with 1 Axes>"
      ]
     },
     "metadata": {
      "needs_background": "light"
     },
     "output_type": "display_data"
    }
   ],
   "source": [
    "index_label = dfnewPizza.index[((dfnewPizza['Month']==1) & (dfnewPizza['Year']%2==0))]\n",
    "\n",
    "fig, ax = plt.subplots(nrows=1, ncols=1, figsize=(14,10))\n",
    "y_ = dfnewPizza[\"Interest\"]\n",
    "x_= dfnewPizza[\"Year\"]\n",
    "bhat, ahat, rval, pval, stderr = stats.linregress(x_, y_)\n",
    "# plt.plot(x, ahat + bhat*x, color=\"steelblue\", lw=3, label='linear model')\n",
    "plt.scatter(range(len(dfnewPizza['Date'])), dfnewPizza['Interest'], color='green', label= 'data')\n",
    "ax.set_xlabel(\"Time\", fontsize=16)\n",
    "ax.set_ylabel(\"Pizza\", fontsize=16)\n",
    "ax.set_xticks(index_label)\n",
    "ax.set_xticklabels(dfnew.loc[index_label, \"Year\"])\n",
    "plt.legend()\n",
    "plt.show()\n"
   ]
  },
  {
   "cell_type": "code",
   "execution_count": null,
   "metadata": {},
   "outputs": [],
   "source": []
  },
  {
   "cell_type": "markdown",
   "metadata": {},
   "source": [
    "**Part B:** Based on your figure from Part A, formulate a hypothesis regarding whether or not a statistically significant linear trend exists. Clearly state your null and alternative hypotheses, and the level of significance you will use for this hypothesis test. If you have reason to believe some kind of a trend that is *not linear* exists, say so."
   ]
  },
  {
   "cell_type": "markdown",
   "metadata": {},
   "source": [
    "**Solution:**\n",
    "\n",
    "This figure has a statistically significant linear trend that has positive slope.\n",
    "I perform a hypothesis test at the $\\alpha = 0.05$ significance level to determine if the observed relationship between time and pizza is real by testing the hypotheses:\n",
    "\n",
    "$$H_0 : \\beta = 0 \\\\\n",
    "H_1 : \\beta \\neq 0\n",
    "$$\n",
    "\n",
    " \n",
    "\n",
    "Verify that our direct computations yield the same p-value returned by stats.linregress. Is there sufficient evidence to conclude that the observed relationship between the time and people around the world  is real? "
   ]
  },
  {
   "cell_type": "code",
   "execution_count": 153,
   "metadata": {},
   "outputs": [
    {
     "name": "stdout",
     "output_type": "stream",
     "text": [
      "Fitted Model: Y = -9318.38353 + 4.66320x\n",
      "p-value = 9.758657376119912e-140\n",
      "stderr = 0.06142121148336902\n"
     ]
    }
   ],
   "source": [
    "bhat, ahat, rval, pval, stderr = stats.linregress(dfnewPizza[\"Year\"], dfnewPizza[\"Interest\"])\n",
    "print(\"Fitted Model: Y = {:.5f} + {:.5f}x\".format(ahat, bhat))\n",
    "print(\"p-value = {}\".format(pval))\n",
    "print(\"stderr = {}\".format(stderr))"
   ]
  },
  {
   "cell_type": "markdown",
   "metadata": {},
   "source": [
    "**Conclusion:**\n",
    "\n",
    "Since the p-value is less than  𝛼=0.05  we reject the null hypothesis and conclude that there is sufficient statistical evidence that  $\\beta \\ne 0$  and the relationship between the time and people around the world eat pizza is real."
   ]
  },
  {
   "cell_type": "code",
   "execution_count": null,
   "metadata": {},
   "outputs": [],
   "source": []
  },
  {
   "cell_type": "markdown",
   "metadata": {},
   "source": [
    "**Part C:** Perform any processing that you need to do in order to satisfy the assumptions of the simple linear regression model. If you do not do any processing, then explain why you believe your data set already satisfies these assumptions (and clearly state the assumptions)."
   ]
  },
  {
   "cell_type": "markdown",
   "metadata": {},
   "source": [
    "**Solution:**\n",
    "\n",
    "1. We perform a simple linear regression with Time as the feature and interest of pizza as the response.\n",
    "Report the estimated regression model in the form $Y = \\alpha + \\beta x$\n",
    "\n",
    "2. The residual is the difference between the true response value $y$ and the response predicted by the model, $\\hat{y}$: \n",
    "\n",
    "$$\n",
    "r_i = y_i - \\hat{y}_i \n",
    "$$\n",
    "We would expect the residuals to be normally distributed about $0$. "
   ]
  },
  {
   "cell_type": "code",
   "execution_count": null,
   "metadata": {},
   "outputs": [],
   "source": []
  },
  {
   "cell_type": "code",
   "execution_count": 133,
   "metadata": {},
   "outputs": [],
   "source": [
    "def interest_mean(y):\n",
    "    dfcopy = dfnewPizza.copy()\n",
    "    dfcopy = dfcopy.loc[dfcopy['Year'] == y, 'Interest']\n",
    "    m = dfcopy.mean()\n",
    "    return y, m\n",
    "y = np.zeros(16)\n",
    "interest = np.zeros(16)\n",
    "\n",
    "\n",
    "for i in range(0,16):\n",
    "    y[i], interest[i]=interest_mean(2004+i)\n",
    "\n",
    "dfPizza = pd.DataFrame(columns=['Year', 'Interest'])\n",
    "dfPizza['Year'] = y\n",
    "dfPizza['Interest']= interest"
   ]
  },
  {
   "cell_type": "code",
   "execution_count": 147,
   "metadata": {},
   "outputs": [
    {
     "data": {
      "image/png": "[encoded data removed]",
      "text/plain": [
       "<Figure size 576x360 with 1 Axes>"
      ]
     },
     "metadata": {
      "needs_background": "light"
     },
     "output_type": "display_data"
    }
   ],
   "source": [
    "x_ = dfPizza['Year']\n",
    "y_ = dfPizza['Interest']\n",
    "bhat, ahat, rval, pval, stderr = stats.linregress(x, y)\n",
    "#fitted regression line\n",
    "yhat = ahat + bhat*x\n",
    "fig, ax = plt.subplots(nrows=1, ncols=1, figsize=(8,5))\n",
    "ax.scatter(x_, y_, color=\"red\", alpha=0.75, s=100, label=\"interest\")\n",
    "ax.plot(x_, yhat, color=\"black\", lw=3, label =\"Y\");\n",
    "ax.grid(alpha=0.25)\n",
    "ax.set_xlabel(\"Time\", fontsize=16)\n",
    "ax.set_ylabel(\"Interest\", fontsize=16)\n",
    "plt.legend()\n",
    "plt.show()"
   ]
  },
  {
   "cell_type": "code",
   "execution_count": 139,
   "metadata": {},
   "outputs": [
    {
     "name": "stdout",
     "output_type": "stream",
     "text": [
      "Y = -9196.854 + 4.603X\n"
     ]
    }
   ],
   "source": [
    "beta, alpha, rvalue, pvalue, stderr = stats.linregress(dfPizza[\"Year\"], dfPizza[\"Interest\"])\n",
    "print(\"Y = {:.3f} + {:.3f}X\".format(alpha, beta))"
   ]
  },
  {
   "cell_type": "markdown",
   "metadata": {},
   "source": [
    "Assumption 1: Looking at the graph about, we can see the outcome Y has a roughly linear relationship with the explanatory variable x.\n"
   ]
  },
  {
   "cell_type": "code",
   "execution_count": 150,
   "metadata": {},
   "outputs": [
    {
     "data": {
      "text/plain": [
       "Text(0.5, 1.0, 'Residual Plot')"
      ]
     },
     "execution_count": 150,
     "metadata": {},
     "output_type": "execute_result"
    },
    {
     "data": {
      "image/png": "[encoded data removed]",
      "text/plain": [
       "<Figure size 1152x576 with 1 Axes>"
      ]
     },
     "metadata": {
      "needs_background": "light"
     },
     "output_type": "display_data"
    }
   ],
   "source": [
    "res = y_ - yhat \n",
    "fig, axe = plt.subplots(nrows=1, ncols=1, figsize=(16,8))\n",
    "    \n",
    "#     ax.scatter(x, y, color=\"coral\", alpha=0.75, s=100, label=\"interest\")\n",
    "#     ax.plot(x, Y, color=\"steelblue\", lw=3, label =\"Y\");\n",
    "\n",
    "# Plot residuals \n",
    "axe.plot([np.min(x_), np.max(x_)],[0, 0], lw=2, ls=\"--\", alpha=0.5, color=\"black\")\n",
    "axe.scatter(x, res, color=\"#6a9373\", s=100, alpha=0.9)\n",
    "axe.grid(alpha=0.25)\n",
    "axe.set_xlabel(\"Time\", fontsize=16)\n",
    "axe.set_ylabel(\"Residul Interest\", fontsize=16)\n",
    "axe.set_title(\"Residual Plot\", fontsize=16)"
   ]
  },
  {
   "cell_type": "markdown",
   "metadata": {},
   "source": [
    "Assumption 2: We can residuals to be normally distributed about 0 in this graph.\n"
   ]
  },
  {
   "cell_type": "markdown",
   "metadata": {},
   "source": [
    "**Part D:** Compute **by hand** the p-value associated with the hypothesis test from Part B. Clearly state your conclusion. You may use `scipy.stats.linregress` to check your answer, and you may use Python as a calculator (and to get critical values, for example), but you need to show all your work by hand."
   ]
  },
  {
   "cell_type": "markdown",
   "metadata": {},
   "source": [
    "**Solution:**\n",
    "\n",
    "Hypothesis testing:\n",
    "$$\n",
    "    H_0 : \\beta = 0 \\\\\n",
    "    H_1 : \\beta \\ne 0\n",
    "$$\n",
    "\n",
    "Test Statistic: \n",
    "$$\n",
    "    T = \\dfrac{\\hat{\\beta} - 0}{SE(\\hat{\\beta})}\n",
    "$$\n",
    "where: $$SE(\\hat{\\beta}) = \\dfrac{\\hat{\\sigma}}{\\sqrt{\\sum (x_i - \\bar{x})^2}}$$\n",
    "\n",
    "and $$\\hat{\\sigma} = \\sqrt{\\dfrac{SSE}{n-2}} = \\sqrt{\\dfrac{\\sum(y_i - \\bar{y}_i)^2)}{n-2}} $$\n",
    "\n",
    "p-value = $2*(stats.t.cdf(T, df=len(x)-2) < \\alpha$"
   ]
  },
  {
   "cell_type": "code",
   "execution_count": 155,
   "metadata": {},
   "outputs": [
    {
     "name": "stdout",
     "output_type": "stream",
     "text": [
      "p-value:9.758657376119912e-140\n"
     ]
    }
   ],
   "source": [
    "bhat, ahat, rval, pval, stderr = stats.linregress(dfnewPizza[\"Year\"], dfnewPizza[\"Interest\"])\n",
    "print(\"p-value:{}\".format(pval))\n"
   ]
  },
  {
   "cell_type": "code",
   "execution_count": 156,
   "metadata": {},
   "outputs": [],
   "source": [
    "def pvaluebyhand(x, y):\n",
    "    #find betahat\n",
    "    numerator = np.sum((x- np.mean(x))*(y-np.mean(y)))\n",
    "    denum = np.sum(x-(np.mean(x)**2))\n",
    "    bhat_ = numerator/denomerator\n",
    "\n",
    "\n",
    "    ahat_ = np.mean(y) - (bhat_*np.mean(x))\n",
    "    yhat_ = ahat_ + bhat_*x\n",
    "\n",
    "    #find SSE\n",
    "    SSE = np.sum((y-yhat_)**2)\n",
    "    print(\"SSE = \", SSE)\n",
    "\n",
    "    #find sigma\n",
    "    sigmahat = np.sqrt(SSE / (len(dfnewPizza[\"Year\"])-2))\n",
    "    print(\"sig_hat = \", sigmahat)\n",
    "\n",
    "    #find SEbeta\n",
    "    SEbeta = sigmahat / np.sqrt(np.sum((x -np.mean(x))**2))\n",
    "    print(\"SE(beta_hat) = \", SEbeta)\n",
    "\n",
    "    #find Test statistic\n",
    "    Tb = (bhat_ - 0)/SEbeta \n",
    "    print(\"test statistic Tb = {}\".format(Tb))\n",
    "    tpval = 2*(stats.t.cdf(Tb, df=len(x)-2))\n",
    "    print(\"p-value = {}\".format(tpval))"
   ]
  },
  {
   "cell_type": "code",
   "execution_count": 157,
   "metadata": {},
   "outputs": [
    {
     "name": "stdout",
     "output_type": "stream",
     "text": [
      "SSE =  3922649357.384095\n",
      "sig_hat =  4642.522853704154\n",
      "SE(beta_hat) =  77.2634858533077\n",
      "test statistic Tb = 13.551087792697729\n",
      "p-value = 2.0\n"
     ]
    }
   ],
   "source": [
    "x_ =dfnewPizza['Year']\n",
    "y_ =dfnewPizza['Interest']\n",
    "pvaluebyhand(x_,y_ )"
   ]
  },
  {
   "cell_type": "markdown",
   "metadata": {},
   "source": [
    "**Conclusion:**\n",
    "\n",
    "Since the p-value is greater than  𝛼=0.05  we fail to reject the null hypothesis and conclude that there is not sufficient statistical evidence that  $\\beta \\ne 0$  and the relationship between the time and people around the world eat pizza is real."
   ]
  },
  {
   "cell_type": "code",
   "execution_count": null,
   "metadata": {},
   "outputs": [],
   "source": []
  }
 ],
 "metadata": {
  "kernelspec": {
   "display_name": "Python 3",
   "language": "python",
   "name": "python3"
  },
  "language_info": {
   "codemirror_mode": {
    "name": "ipython",
    "version": 3
   },
   "file_extension": ".py",
   "mimetype": "text/x-python",
   "name": "python",
   "nbconvert_exporter": "python",
   "pygments_lexer": "ipython3",
   "version": "3.7.1"
  }
 },
 "nbformat": 4,
 "nbformat_minor": 2
}
