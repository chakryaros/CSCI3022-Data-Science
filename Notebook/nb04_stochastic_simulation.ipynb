{
 "cells": [
  {
   "cell_type": "markdown",
   "metadata": {},
   "source": [
    "# Notebook 4: Probability Intuition and Random Simulation \n",
    "***\n",
    "\n",
    "In this notebook you'll see how we can use Numpy to run simple probability simulations to estimate probabilities and  to gain intuition about random processes and to check your pencil and paper work.  Later in the course we'll talk about how to implement and analyze an important random simulation technique called Monte Carlo. \n",
    "\n",
    "We'll need Numpy and Matplotlib for this notebook, so let's load and setup those libraries. "
   ]
  },
  {
   "cell_type": "code",
   "execution_count": 2,
   "metadata": {},
   "outputs": [],
   "source": [
    "import numpy as np \n",
    "import matplotlib.pylab as plt\n",
    "%matplotlib inline"
   ]
  },
  {
   "cell_type": "markdown",
   "metadata": {},
   "source": [
    "### Estimating Simple Probabilities \n",
    "*** \n",
    "\n",
    "In this example we'll see how we can use the Numpy function [random.choice](https://docs.scipy.org/doc/numpy/reference/generated/numpy.random.choice.html) to make random draws from a sample space and estimate the probability of certain random events. As a simple example, consider a fair coin.  We can represent the sample space for this coin with a Numpy array with two entries: \"H\" and \"T\""
   ]
  },
  {
   "cell_type": "code",
   "execution_count": 28,
   "metadata": {},
   "outputs": [
    {
     "name": "stdout",
     "output_type": "stream",
     "text": [
      "['H' 'T']\n"
     ]
    }
   ],
   "source": [
    "coin = np.array([\"H\", \"T\"])\n",
    "print(coin)"
   ]
  },
  {
   "cell_type": "markdown",
   "metadata": {},
   "source": [
    "We can simulate flipping the coin using np.random.choice, which returns a randomly selected entry from a Numpy array.  If no optional parameters are passed in, np.random.choice assigns an **equal probability** to each entry of the array.   "
   ]
  },
  {
   "cell_type": "code",
   "execution_count": 29,
   "metadata": {},
   "outputs": [
    {
     "data": {
      "text/plain": [
       "1"
      ]
     },
     "execution_count": 29,
     "metadata": {},
     "output_type": "execute_result"
    }
   ],
   "source": [
    "die = [1,2,3,4,5]\n",
    "np.random.choice(die)"
   ]
  },
  {
   "cell_type": "code",
   "execution_count": 30,
   "metadata": {},
   "outputs": [
    {
     "name": "stdout",
     "output_type": "stream",
     "text": [
      "T H T T H "
     ]
    }
   ],
   "source": [
    "for ii in range(5):\n",
    "    print(np.random.choice(coin), end=\" \")"
   ]
  },
  {
   "cell_type": "markdown",
   "metadata": {},
   "source": [
    "We can simulate many flips of the coin and store the results in an array by passing the size parameter to np.random.choice. "
   ]
  },
  {
   "cell_type": "code",
   "execution_count": 31,
   "metadata": {},
   "outputs": [
    {
     "name": "stdout",
     "output_type": "stream",
     "text": [
      "['H' 'T' 'T' 'T' 'H' 'T' 'H' 'T' 'H' 'H' 'H' 'H' 'H' 'T' 'H' 'T']\n"
     ]
    }
   ],
   "source": [
    "flips = np.random.choice(coin, size=16)\n",
    "print(flips)"
   ]
  },
  {
   "cell_type": "markdown",
   "metadata": {},
   "source": [
    "Now suppose we want to run a simple simulation to estimate the probability  that the coin comes up Heads (which we expect to be $0.5$ because the coin is fair).  One way to do this is to do a large number of coin flips and then divide the number of flips that come up Heads by the total number of flips. The following code flips the coin 50 times and computes the desired ratio: "
   ]
  },
  {
   "cell_type": "code",
   "execution_count": 32,
   "metadata": {},
   "outputs": [
    {
     "name": "stdout",
     "output_type": "stream",
     "text": [
      "['H' 'T' 'T' 'T' 'H' 'T' 'H' 'H' 'T' 'H' 'T' 'T' 'H' 'T' 'T' 'H' 'T' 'T'\n",
      " 'T' 'H' 'H' 'H' 'T' 'T' 'T' 'H' 'T' 'H' 'H' 'T' 'T' 'T' 'T' 'T' 'H' 'T'\n",
      " 'T' 'T' 'T' 'T' 'T' 'H' 'H' 'T' 'T' 'H' 'H' 'T' 'T' 'T']\n"
     ]
    },
    {
     "data": {
      "text/plain": [
       "0.36"
      ]
     },
     "execution_count": 32,
     "metadata": {},
     "output_type": "execute_result"
    }
   ],
   "source": [
    "np.random.seed(12345)\n",
    "flips = np.random.choice(coin, size=50)\n",
    "print(flips)\n",
    "\n",
    "sum(flips == \"H\")/50"
   ]
  },
  {
   "cell_type": "code",
   "execution_count": 33,
   "metadata": {},
   "outputs": [
    {
     "name": "stdout",
     "output_type": "stream",
     "text": [
      "the probability of heads is approximately 0.360\n"
     ]
    }
   ],
   "source": [
    "approx_prob_heads = np.sum(flips == \"H\") / len(flips)\n",
    "print(\"the probability of heads is approximately {:.3f}\".format(approx_prob_heads))"
   ]
  },
  {
   "cell_type": "markdown",
   "metadata": {},
   "source": [
    "OK, so the simulation estimated that the probability of the coin coming up heads is $0.36$, which is pretty far off from the $0.5$ that we expected.  This is likely because we didn't do very many coin flips.  Let's see what happens if we rerun the simulation with $500$ coin flips. "
   ]
  },
  {
   "cell_type": "code",
   "execution_count": 41,
   "metadata": {},
   "outputs": [
    {
     "name": "stdout",
     "output_type": "stream",
     "text": [
      "the probability of heads is approximately 0.484\n",
      "['T' 'H' 'H' 'T' 'T' 'T' 'T' 'H' 'H' 'H' 'T' 'H' 'H' 'T' 'H' 'T' 'T' 'H'\n",
      " 'H' 'T' 'T' 'T' 'H' 'H' 'T' 'T' 'T' 'T' 'T' 'H' 'H' 'H' 'H' 'H' 'H' 'T'\n",
      " 'T' 'H' 'H' 'T' 'T' 'T' 'T' 'T' 'T' 'H' 'T' 'T' 'H' 'T' 'H' 'T' 'T' 'H'\n",
      " 'T' 'H' 'H' 'H' 'H' 'T' 'H' 'H' 'H' 'T' 'H' 'T' 'T' 'T' 'H' 'T' 'T' 'T'\n",
      " 'T' 'H' 'T' 'H' 'T' 'T' 'H' 'T' 'T' 'T' 'T' 'T' 'H' 'H' 'H' 'T' 'H' 'T'\n",
      " 'T' 'H' 'T' 'T' 'H' 'T' 'H' 'H' 'T' 'H' 'T' 'T' 'T' 'H' 'H' 'H' 'H' 'H'\n",
      " 'H' 'T' 'H' 'H' 'H' 'H' 'T' 'T' 'H' 'T' 'T' 'H' 'T' 'T' 'H' 'T' 'T' 'H'\n",
      " 'T' 'H' 'T' 'H' 'T' 'H' 'H' 'T' 'T' 'T' 'T' 'H' 'T' 'H' 'T' 'T' 'T' 'H'\n",
      " 'H' 'H' 'T' 'H' 'H' 'H' 'T' 'H' 'H' 'H' 'H' 'H' 'T' 'H' 'H' 'H' 'T' 'H'\n",
      " 'T' 'T' 'H' 'H' 'T' 'H' 'T' 'H' 'H' 'T' 'H' 'T' 'H' 'T' 'T' 'T' 'T' 'T'\n",
      " 'T' 'H' 'H' 'T' 'T' 'T' 'T' 'H' 'H' 'H' 'H' 'H' 'T' 'T' 'H' 'T' 'H' 'T'\n",
      " 'H' 'H' 'H' 'T' 'H' 'T' 'T' 'T' 'H' 'T' 'T' 'T' 'H' 'H' 'T' 'H' 'T' 'T'\n",
      " 'H' 'T' 'H' 'H' 'T' 'H' 'H' 'T' 'T' 'H' 'T' 'H' 'T' 'H' 'T' 'H' 'T' 'T'\n",
      " 'T' 'H' 'T' 'T' 'H' 'T' 'T' 'T' 'T' 'H' 'H' 'T' 'T' 'T' 'H' 'H' 'T' 'T'\n",
      " 'T' 'H' 'H' 'H' 'H' 'T' 'H' 'T' 'H' 'T' 'H' 'T' 'H' 'T' 'T' 'T' 'T' 'H'\n",
      " 'T' 'T' 'H' 'H' 'T' 'T' 'H' 'T' 'H' 'T' 'T' 'T' 'H' 'H' 'T' 'T' 'H' 'H'\n",
      " 'H' 'T' 'H' 'T' 'T' 'T' 'H' 'H' 'H' 'H' 'H' 'T' 'T' 'T' 'T' 'T' 'T' 'T'\n",
      " 'H' 'H' 'T' 'T' 'H' 'T' 'H' 'T' 'H' 'H' 'T' 'T' 'T' 'H' 'T' 'H' 'T' 'H'\n",
      " 'H' 'T' 'T' 'T' 'H' 'T' 'H' 'T' 'T' 'H' 'T' 'T' 'T' 'T' 'T' 'H' 'T' 'H'\n",
      " 'H' 'H' 'H' 'T' 'T' 'H' 'T' 'T' 'H' 'H' 'T' 'H' 'T' 'T' 'H' 'T' 'T' 'T'\n",
      " 'T' 'H' 'T' 'H' 'H' 'T' 'H' 'H' 'T' 'H' 'T' 'T' 'H' 'H' 'H' 'H' 'H' 'H'\n",
      " 'H' 'H' 'T' 'H' 'T' 'H' 'H' 'H' 'H' 'H' 'H' 'T' 'H' 'T' 'T' 'H' 'T' 'H'\n",
      " 'H' 'H' 'T' 'H' 'T' 'T' 'H' 'T' 'H' 'H' 'H' 'H' 'H' 'T' 'T' 'T' 'T' 'H'\n",
      " 'T' 'T' 'H' 'H' 'H' 'H' 'H' 'T' 'H' 'T' 'H' 'T' 'T' 'H' 'H' 'T' 'H' 'T'\n",
      " 'T' 'T' 'H' 'T' 'H' 'T' 'H' 'H' 'T' 'H' 'H' 'T' 'H' 'H' 'T' 'H' 'T' 'T'\n",
      " 'T' 'H' 'T' 'T' 'T' 'T' 'H' 'H' 'T' 'T' 'T' 'H' 'H' 'H' 'T' 'T' 'T' 'T'\n",
      " 'H' 'H' 'H' 'H' 'H' 'T' 'H' 'H' 'T' 'T' 'T' 'H' 'H' 'H' 'H' 'T' 'T' 'T'\n",
      " 'T' 'T' 'H' 'T' 'H' 'H' 'T' 'H' 'T' 'H' 'H' 'T' 'T' 'T']\n"
     ]
    }
   ],
   "source": [
    "flips = np.random.choice(coin, size=500)\n",
    "approx_prob_heads = np.sum(flips == \"H\") / len(flips)\n",
    "print(\"the probability of heads is approximately {:.3f}\".format(approx_prob_heads))\n",
    "print(flips)"
   ]
  },
  {
   "cell_type": "code",
   "execution_count": 35,
   "metadata": {},
   "outputs": [
    {
     "name": "stdout",
     "output_type": "stream",
     "text": [
      "the probability of heads is approximately 0.512\n"
     ]
    }
   ],
   "source": [
    "approx_prob_heads = np.sum(flips == \"H\") / len(flips)\n",
    "print(\"the probability of heads is approximately {:.3f}\".format(approx_prob_heads))"
   ]
  },
  {
   "cell_type": "markdown",
   "metadata": {},
   "source": [
    "With $500$ coin flips our estimate came out to be $0.512$, which seems much better.  It's an interesting exercise to make a plot of the running estimate of the probability as the number of coin flips increases.  We'll use the same random sequence of coin flips from the previous simulation.  \n"
   ]
  },
  {
   "cell_type": "code",
   "execution_count": 38,
   "metadata": {},
   "outputs": [],
   "source": [
    "num_runing = 100\n",
    "sum(flips[:num_runing]==\"H\")/num_runing\n",
    "p = np.zeros(len(flips))\n",
    "#print(p)"
   ]
  },
  {
   "cell_type": "code",
   "execution_count": 43,
   "metadata": {},
   "outputs": [
    {
     "name": "stdout",
     "output_type": "stream",
     "text": [
      "500\n"
     ]
    },
    {
     "data": {
      "image/png": "[encoded data removed]",
      "text/plain": [
       "<Figure size 864x432 with 1 Axes>"
      ]
     },
     "metadata": {
      "needs_background": "light"
     },
     "output_type": "display_data"
    }
   ],
   "source": [
    "p = np.zeros(len(flips))\n",
    "print(len(p))\n",
    "for ii in range(len(p)):\n",
    "    p[ii] = np.sum(flips[:ii+1] == \"H\") / len(flips[:ii+1])\n",
    "    #print(p[ii])\n",
    "fig, ax = plt.subplots(figsize=(12,6))\n",
    "ax.plot(p, color=\"steelblue\")\n",
    "ax.set_title(\"Running Estimate of Probability of Heads\", fontsize=20)\n",
    "ax.set_xlabel(\"Number of Flips\", fontsize=16)\n",
    "ax.set_ylabel(\"Estimate of Probability\", fontsize=16)\n",
    "\n",
    "ax.grid(True, alpha=0.25)"
   ]
  },
  {
   "cell_type": "markdown",
   "metadata": {},
   "source": [
    "Notice that for very few flips the estimate of the probability is understandably poor.  But as the number of flips increases the estimate settles down to very close to the expected $0.5$. "
   ]
  },
  {
   "cell_type": "markdown",
   "metadata": {},
   "source": [
    "### Exercise 1 - The Biased Coin\n",
    "***\n",
    "\n",
    "Now let's make it more interesting by considering a biased coin where the probability of the coin landing heads is $0.75$.  We can alter the probability with which np.random.choice selects a particular entry of the sample space array by passing in an optional array of probabilities, e.g. p = [0.75, 0.25].  Rerun the simulation from above with the biased coin by passing in such an array of probabilities into np.random.choice. Does your running estimate of the probability of Heads seem to settle down to $0.75$ as expected?  If not, try increasing the number of coin flips until it does. "
   ]
  },
  {
   "cell_type": "code",
   "execution_count": 13,
   "metadata": {},
   "outputs": [
    {
     "data": {
      "text/plain": [
       "array(['H', 'T'], dtype='<U1')"
      ]
     },
     "execution_count": 13,
     "metadata": {},
     "output_type": "execute_result"
    }
   ],
   "source": [
    "coin"
   ]
  },
  {
   "cell_type": "code",
   "execution_count": null,
   "metadata": {},
   "outputs": [],
   "source": []
  },
  {
   "cell_type": "code",
   "execution_count": 14,
   "metadata": {},
   "outputs": [
    {
     "data": {
      "image/png": "[encoded data removed]",
      "text/plain": [
       "<Figure size 864x432 with 1 Axes>"
      ]
     },
     "metadata": {
      "needs_background": "light"
     },
     "output_type": "display_data"
    }
   ],
   "source": [
    "np.random.choice(coin, p=[.75, .25])\n",
    "\n",
    "fig, ax = plt.subplots(figsize=(12,6))\n",
    "ax.plot(p, color=\"steelblue\")\n",
    "ax.set_title(\"Running Estimate of Probability of Heads\", fontsize=20)\n",
    "ax.set_xlabel(\"Number of Flips\", fontsize=16)\n",
    "ax.set_ylabel(\"Estimate of Probability\", fontsize=16)\n",
    "\n",
    "ax.grid(True, alpha=0.25)"
   ]
  },
  {
   "cell_type": "code",
   "execution_count": null,
   "metadata": {},
   "outputs": [],
   "source": []
  },
  {
   "cell_type": "code",
   "execution_count": null,
   "metadata": {},
   "outputs": [],
   "source": []
  },
  {
   "cell_type": "markdown",
   "metadata": {},
   "source": [
    "### Exercise 2 - Double Heads\n",
    "***\n",
    "\n",
    "In class we showed that the probability of flipping two fair coins and getting two Haads was $\\frac{1}{4}$.  Write a simple simulation to estimate this probability. Does your estimate from your simulation agree with the pencil-and-paper results? "
   ]
  },
  {
   "cell_type": "code",
   "execution_count": 50,
   "metadata": {},
   "outputs": [
    {
     "name": "stdout",
     "output_type": "stream",
     "text": [
      "the probability of heads is approximately 0.250\n",
      "0.25\n"
     ]
    }
   ],
   "source": [
    "two_coins = np.array([\"HH\", \"HT\", \"TH\", \"TT\"]) # first line for free!\n",
    "flips = np.random.choice(two_coins, size=4)\n",
    "approx_prob_heads = np.sum(flips == \"HH\") / len(flips)\n",
    "print(\"the probability of heads is approximately {:.3f}\".format(approx_prob_heads))\n",
    "print(1/4)"
   ]
  },
  {
   "cell_type": "markdown",
   "metadata": {},
   "source": [
    "### Exercise 3 - Roll the Easy Seven\n",
    "***\n",
    "\n",
    "Suppose you roll a pair of fair six-sided dice.\n",
    "\n",
    "**First:** Compute the probability that the two rolls sum to $7$ by hand. "
   ]
  },
  {
   "cell_type": "code",
   "execution_count": 57,
   "metadata": {},
   "outputs": [],
   "source": [
    "outcomes = [(1,1),(1,2),(1,3)]"
   ]
  },
  {
   "cell_type": "code",
   "execution_count": 61,
   "metadata": {},
   "outputs": [
    {
     "data": {
      "text/plain": [
       "False"
      ]
     },
     "execution_count": 61,
     "metadata": {},
     "output_type": "execute_result"
    }
   ],
   "source": [
    "sum(outcomes[0])==7\n",
    "#print(outcomes[1])"
   ]
  },
  {
   "cell_type": "markdown",
   "metadata": {},
   "source": [
    "**Second:** Now, write a simple simulation to estimate the probability. "
   ]
  },
  {
   "cell_type": "code",
   "execution_count": 18,
   "metadata": {},
   "outputs": [],
   "source": [
    "die = np.array([1,2,3,4,5,6]) # first line for free!\n"
   ]
  },
  {
   "cell_type": "code",
   "execution_count": 62,
   "metadata": {},
   "outputs": [],
   "source": [
    "n_trials = 100\n",
    "rolls1 = np.random.choice(die, size = n_trials)\n",
    "rolls2 = np.random.choice(die, size = n_trials)\n",
    "\n",
    "# print(rolls1)\n",
    "# print(rolls2)"
   ]
  },
  {
   "cell_type": "code",
   "execution_count": 20,
   "metadata": {},
   "outputs": [
    {
     "name": "stdout",
     "output_type": "stream",
     "text": [
      "0.11\n"
     ]
    }
   ],
   "source": [
    "cnt_seven  = 0\n",
    "for k in range(len(rolls1)):\n",
    "    #check if roos1[k] and rolls2[k] addd up to seven\n",
    "    if rolls1[k] + rolls2[k] == 7:\n",
    "        cnt_seven = cnt_seven + 1\n",
    "p_seven = cnt_seven/n_trials\n",
    "print(p_seven)"
   ]
  },
  {
   "cell_type": "code",
   "execution_count": 21,
   "metadata": {},
   "outputs": [
    {
     "name": "stdout",
     "output_type": "stream",
     "text": [
      "0.155\n"
     ]
    }
   ],
   "source": [
    "#n_trials = 100\n",
    "def sim_seven(n_trials):\n",
    "    rolls1 = np.random.choice(die, size = n_trials)\n",
    "    rolls2 = np.random.choice(die, size = n_trials)\n",
    "    cnt_seven  = 0\n",
    "    for k in range(n_trials):\n",
    "    #check if roos1[k] and rolls2[k] addd up to seven\n",
    "        if rolls1[k] + rolls2[k] == 7:\n",
    "            cnt_seven = cnt_seven + 1\n",
    "    p_seven = cnt_seven/n_trials\n",
    "    return p_seven\n",
    "print(sim_seven(1000))"
   ]
  },
  {
   "cell_type": "code",
   "execution_count": 22,
   "metadata": {},
   "outputs": [
    {
     "data": {
      "image/png": "[encoded data removed]",
      "text/plain": [
       "<Figure size 864x432 with 1 Axes>"
      ]
     },
     "metadata": {
      "needs_background": "light"
     },
     "output_type": "display_data"
    }
   ],
   "source": [
    "n_trials = 1000\n",
    "p = np.zeros(n_trials)\n",
    "for ii in range(n_trials):\n",
    "    p[ii] = sim_seven(ii+1)\n",
    "\n",
    "fig, ax = plt.subplots(figsize=(12,6))\n",
    "ax.plot(p, color=\"steelblue\")\n",
    "ax.set_title(\"Running Estimate of Probability of Heads\", fontsize=20)\n",
    "ax.set_xlabel(\"Number of Flips\", fontsize=16)\n",
    "ax.set_ylabel(\"Estimate of Probability\", fontsize=16)\n",
    "\n",
    "ax.grid(True, alpha=0.25)"
   ]
  },
  {
   "cell_type": "markdown",
   "metadata": {},
   "source": [
    "### Exercise 4 - Number of Flips Until Double Heads\n",
    "***\n",
    "\n",
    "Later we'll see that we can use probabilities to compute average quantities of interest.  For instance, we could compute the average number of coin flips we have to do until we flip two Heads in a row.  Can you write a simulation to estimate this? Can you extend this to $m$ Heads in a row? "
   ]
  },
  {
   "cell_type": "code",
   "execution_count": null,
   "metadata": {},
   "outputs": [],
   "source": []
  },
  {
   "cell_type": "code",
   "execution_count": null,
   "metadata": {},
   "outputs": [],
   "source": []
  },
  {
   "cell_type": "code",
   "execution_count": null,
   "metadata": {},
   "outputs": [],
   "source": []
  },
  {
   "cell_type": "code",
   "execution_count": null,
   "metadata": {
    "scrolled": true
   },
   "outputs": [],
   "source": []
  },
  {
   "cell_type": "markdown",
   "metadata": {},
   "source": [
    "This estimate of the average number of flips to obtain 2 Heads is our **Monte Carlo** estimate.  In a nutshell, any time we sample something many, many times and average the results, we are obtaining a [Monte Carlo estimate](https://en.wikipedia.org/wiki/Monte_Carlo_method)."
   ]
  },
  {
   "cell_type": "markdown",
   "metadata": {},
   "source": [
    "\n",
    "### Exercise 5 - Estimating $\\pi$\n",
    "***\n",
    "\n",
    "We can obtain an empirical estimate of the value of $\\pi$ through the magic of simulation!\n",
    "\n",
    "<img src=\"https://www.smbc-comics.com/comics/1527520359-soonish42.png\" style=\"width: 300px;\"/>\n",
    "\n",
    "S'pose the radius of the circle is $r$.  Then the area of the square is $4r \\times 4r  = 16r^2$, and the area of the circle is $\\pi r^2$.  So, the ratio of the area of the circle to that of the square is $$\\frac{\\pi r^2}{16r^2} = \\frac{\\pi}{16}$$\n",
    "\n",
    "So how does that help us to estimate $\\pi$?\n",
    "\n",
    "Well, if we fire a whole bunch of arrows at that square, then roughly $\\frac{\\pi}{16}$ of the arrows should land in the circle. That means that if $n_c$ arrows out of $n$ arrows total land in the circle, then $$\\frac{\\pi}{16} \\approx \\frac{n_c}{n}$$\n",
    "\n",
    "Rearranging this, our estimate of $\\pi$ is:  $$\\pi \\approx 16\\times \\frac{n_c}{n}$$\n",
    "\n",
    "Alright, we're almost ready to start shooting arrows at this dude. S'pose the square extends from $-1 \\leq x \\leq 1$ and $-1 \\leq y \\leq 1$.  Then the equation of this circle, centered at $(-0.5, 0.5)$ and with radius $0.5$, is:\n",
    "$$(x+0.5)^2 + (y-0.5)^2 = 0.25$$\n",
    "\n",
    "We can check if an arrow strike is inside the circle by first checking that the $x$ coordinate is between $-1$ and $0$, and then checking that the $y$ coordinate of the arrow is between:\n",
    "$$0.5 - \\sqrt{0.25 - (x+0.5)^2} \\leq y \\leq 0.5 + \\sqrt{0.25 - (x+0.5)^2}$$\n",
    "\n",
    "If both of these conditions are satisfied, then the arrow is inside the circle.\n",
    "\n",
    "First, finish off this function that I started, to take in the $x$- and $y$- coordinates of an arrow, and return True/False, depending on whether or not the arrow is within the circle."
   ]
  },
  {
   "cell_type": "code",
   "execution_count": 23,
   "metadata": {},
   "outputs": [
    {
     "ename": "SyntaxError",
     "evalue": "invalid syntax (<ipython-input-23-c692adc084b7>, line 3)",
     "output_type": "error",
     "traceback": [
      "\u001b[0;36m  File \u001b[0;32m\"<ipython-input-23-c692adc084b7>\"\u001b[0;36m, line \u001b[0;32m3\u001b[0m\n\u001b[0;31m    in_x =  # TODO\u001b[0m\n\u001b[0m                  ^\u001b[0m\n\u001b[0;31mSyntaxError\u001b[0m\u001b[0;31m:\u001b[0m invalid syntax\n"
     ]
    }
   ],
   "source": [
    "def in_circle(x,y):\n",
    "    # check if the arrow's x-coordinate could be within the circle\n",
    "    in_x =  # TODO\n",
    "    if in_x:\n",
    "        # only if the x-coordinate is good, should we check the y-coordinate\n",
    "        in_y =  # TODO\n",
    "        return in_x and in_y\n",
    "    else:\n",
    "        return in_x"
   ]
  },
  {
   "cell_type": "markdown",
   "metadata": {},
   "source": [
    "Now, write a simulation to shoot $n$ arrows at that square and return your estimate of $\\pi$. Make a plot of the running estimate of $\\pi$ as a function of the number of arrows.\n",
    "\n",
    "*Hint: the Numpy `np.random.uniform` method might be useful for shooting the arrows.*"
   ]
  },
  {
   "cell_type": "code",
   "execution_count": null,
   "metadata": {},
   "outputs": [],
   "source": []
  },
  {
   "cell_type": "markdown",
   "metadata": {},
   "source": [
    "### Exercise 6 - The Birthday Game \n",
    "***\n",
    "\n",
    "The so-called Birthday Paradox tells us that if there are more than $70$ people in the room, there is a $99.9\\%$ chance that at least two people have the same birthday.  It turns out that _paradox_ is a misnomer, because the facts of the problem are very clear after a bit of probability analysis.  We'll talk about this problem in detail in class on Wednesday, but for now we can simulate it and get some intuition.  \n",
    "\n",
    "The following code does all the work for you.  You just need to play around with it and see how it works.  \n",
    "\n",
    "- The function random_bday( ) returns a string representing a valid birthday in a non-leap year. \n",
    "\n",
    "- The function birthday_game(...) assigns $n$ birthdays randomly and then checks if there is a birthday match.  \n",
    "\n",
    "- The function birthday_sim(...) runs many trials of the birthday game and returns the fraction of trials in which there was a birthday match. \n",
    "\n",
    "Try running birthday_sim(...) for various numbers of people and number of trials and look at the results!  What is the probability that two people in our class have the same birthday?"
   ]
  },
  {
   "cell_type": "code",
   "execution_count": 69,
   "metadata": {},
   "outputs": [],
   "source": [
    "def random_bday():\n",
    "    \n",
    "    # Dictionary telling how many days are in each month  \n",
    "    days_in_month = {\"Jan\" : 31, \"Feb\" : 28, \"Mar\" : 31, \"Apr\" : 30, \"May\" : 31, \"Jun\" : 30, \"Jul\" : 31, \"Aug\" : 31, \n",
    "                     \"Sep\" : 30, \"Oct\" : 31, \"Nov\" : 30, \"Dec\" : 31}\n",
    "    # Array of months \n",
    "    months = np.array(list(days_in_month.keys()))\n",
    "    #print(\"Month:\", months)\n",
    "    \n",
    "    # Probability of randomly selecting each month \n",
    "    month_probs = np.array(list(days_in_month.values()))/365\n",
    "    \n",
    "    # Draw random month \n",
    "    m = np.random.choice(months, p=month_probs)\n",
    "    \n",
    "    # Draw random day of month \n",
    "    d = np.random.choice(range(1,days_in_month[m]+1))\n",
    "    \n",
    "    return m + \" \" + str(d)\n",
    "    "
   ]
  },
  {
   "cell_type": "code",
   "execution_count": 70,
   "metadata": {},
   "outputs": [],
   "source": [
    "def birthday_game(num_people):\n",
    "    \n",
    "    # draw random birthday for each person in the room \n",
    "    birthdays = [random_bday() for ii in range(num_people)]\n",
    "    \n",
    "    # check if there is a birthday match \n",
    "    return True if len(set(birthdays)) < len(birthdays) else False \n"
   ]
  },
  {
   "cell_type": "code",
   "execution_count": null,
   "metadata": {},
   "outputs": [],
   "source": [
    "def birthday_sim(num_people, num_trials=1000):\n",
    "    \n",
    "    # Simulate num_trials of the birthday game \n",
    "    random_rooms = [birthday_game(num_people) for ii in range(num_trials)]\n",
    "    \n",
    "    # Print fraction of trials where birthday match occurred \n",
    "    print('The approximate probability of a birthday match in a room of {} people is {:.16f}'.format(num_people,np.sum(random_rooms)/num_trials))"
   ]
  },
  {
   "cell_type": "code",
   "execution_count": null,
   "metadata": {},
   "outputs": [],
   "source": [
    "birthday_sim(1000, 1000)"
   ]
  },
  {
   "cell_type": "code",
   "execution_count": null,
   "metadata": {},
   "outputs": [],
   "source": []
  },
  {
   "cell_type": "code",
   "execution_count": null,
   "metadata": {},
   "outputs": [],
   "source": []
  }
 ],
 "metadata": {
  "kernelspec": {
   "display_name": "Python 3",
   "language": "python",
   "name": "python3"
  },
  "language_info": {
   "codemirror_mode": {
    "name": "ipython",
    "version": 3
   },
   "file_extension": ".py",
   "mimetype": "text/x-python",
   "name": "python",
   "nbconvert_exporter": "python",
   "pygments_lexer": "ipython3",
   "version": "3.7.1"
  }
 },
 "nbformat": 4,
 "nbformat_minor": 2
}
