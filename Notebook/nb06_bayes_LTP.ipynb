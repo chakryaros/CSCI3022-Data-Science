{
 "cells": [
  {
   "cell_type": "markdown",
   "metadata": {},
   "source": [
    "# Notebook 6: Bayes' Rule and the Law of Total Probability\n",
    "***\n",
    "\n",
    "In this notebook we'll get some more practice with conditional probabilities, total probability, the product rule, and now Bayes' Rule.  We'll also see how we can do some simple random simulations using Numpy to verify our results. \n",
    "\n",
    "We'll need Numpy for this notebook, so let's load it. "
   ]
  },
  {
   "cell_type": "code",
   "execution_count": 3,
   "metadata": {},
   "outputs": [],
   "source": [
    "import numpy as np "
   ]
  },
  {
   "cell_type": "markdown",
   "metadata": {},
   "source": [
    "### Exercise 1: Bayes' Rule and The Three Doors Problem \n",
    "***\n",
    "\n",
    "Suppose you're on a game show, and you're given the choice of three doors: Behind one door is a car; behind the others, goats. You pick a door, say No. 1, and the host, Monty, who knows what's behind the doors, opens another door, say No. 3, which has a goat. He then says to you, \"Do you want to pick door No. 2?\" Is it to your advantage to switch your choice?\n",
    "\n",
    "![doors](https://cdn-images-1.medium.com/max/1600/1*fSv7k4vXkOYp8RN7lVeKyA.jpeg)\n",
    "\n",
    "**Historical notes:** This was never how \"Let's Make a Deal\" with Monty Hall was played. ([Here](https://www.youtube.com/watch?v=c1BSkquWkDo) is a snippet from an interview with Monty Hall about it.)  It is a problem posed by Marilyn vos Savant in _Parade_ magazine in 1990.  The fallout was intense.  Read more [here](https://priceonomics.com/the-time-everyone-corrected-the-worlds-smartest/) and [here](http://marilynvossavant.com/game-show-problem/)."
   ]
  },
  {
   "cell_type": "markdown",
   "metadata": {},
   "source": [
    "**Part A**: What does your intuition say?  Is it in your best interest to switch? "
   ]
  },
  {
   "cell_type": "code",
   "execution_count": null,
   "metadata": {},
   "outputs": [],
   "source": []
  },
  {
   "cell_type": "markdown",
   "metadata": {},
   "source": [
    "**Part B**: Let's assume that you pick door number 1 and Monty opens door number 3.  The question then is whether you stick with door number 1 or switch to door number 2. Let $D_i$ be the event that the car is actually behind door $i$.  Let $H$ be the event that Monty opens door number 3. First, compute $P(H \\mid D_i)$ for $i=1,2,3$.  You'll need to think carefully about the particular situation described above."
   ]
  },
  {
   "cell_type": "markdown",
   "metadata": {
    "collapsed": true
   },
   "source": [
    "$P(H|D_i) = \\tfrac{H\\capD_i}"
   ]
  },
  {
   "cell_type": "markdown",
   "metadata": {},
   "source": [
    "If the car is behind door 1, the prob that Monty opens 3 is :\n",
    "    $$P(H \\mid D_1) = \\tfrac{1}{2}$$\n",
    "If the car is behind door 2, the prob that Monty opens 3 is :\n",
    "    $$P(H \\mid D_1) = 1$$\n",
    "If the car is behind door 3, the prob that Monty opens 3 is :\n",
    "    $$P(H \\mid D_1) = 0$$\n",
    "    "
   ]
  },
  {
   "cell_type": "markdown",
   "metadata": {},
   "source": [
    "**Part C**: Use your results from **Part B** and the Law of Total Probability to compute $P(H)$"
   ]
  },
  {
   "cell_type": "markdown",
   "metadata": {
    "collapsed": true
   },
   "source": [
    "$$ \n",
    "\\begin{align}\n",
    "P(H) &= P(H\\mid D_1)P(D_1) +P(H\\mid D_2)P(D_2) + P(H\\mid D_3)P(D_3) \\\\\n",
    "P(H) &= \\tfrac{1}{2} \\cdot \\tfrac{1}{3} + 1 \\cdot \\tfrac{1}{3} + 0 \\cdot \\tfrac{1}{3}\n",
    "\\end{align}\n",
    "$$"
   ]
  },
  {
   "cell_type": "markdown",
   "metadata": {},
   "source": [
    "**Part D**: Now, use Bayes' Rule to compute $P(D_i \\mid H)$ for $i=1$ and $2$ (because these are the doors we care about). "
   ]
  },
  {
   "cell_type": "markdown",
   "metadata": {
    "collapsed": true
   },
   "source": [
    "$$ \n",
    "\\begin{align}\n",
    "P(D_1 \\mid H) &= \\frac{P(H \\mid D_1)P(D_1)}{P(H)} \\\\\n",
    "&= \\frac{1/2 * 1/3}{1/2} = \\frac{1}{3} \\\\\n",
    "p(D_2 \\mid H ) &= 1 - \\frac{1}{3} = \\frac{2}{3}\n",
    "\\end{align}\n",
    "$$"
   ]
  },
  {
   "cell_type": "markdown",
   "metadata": {},
   "source": [
    "**Part E**: Write some simple code to simulate the Three Doors problem and verify your results from **Parts A-D**. "
   ]
  },
  {
   "cell_type": "code",
   "execution_count": 23,
   "metadata": {},
   "outputs": [
    {
     "ename": "NameError",
     "evalue": "name 'le3' is not defined",
     "output_type": "error",
     "traceback": [
      "\u001b[0;31m---------------------------------------------------------------------------\u001b[0m",
      "\u001b[0;31mNameError\u001b[0m                                 Traceback (most recent call last)",
      "\u001b[0;32m<ipython-input-23-06739cb6f43b>\u001b[0m in \u001b[0;36m<module>\u001b[0;34m\u001b[0m\n\u001b[1;32m     13\u001b[0m \u001b[0mmake_a_deal\u001b[0m\u001b[0;34m(\u001b[0m\u001b[0mdoWeSwitch\u001b[0m\u001b[0;34m=\u001b[0m\u001b[0;32mTrue\u001b[0m\u001b[0;34m)\u001b[0m\u001b[0;34m\u001b[0m\u001b[0;34m\u001b[0m\u001b[0m\n\u001b[1;32m     14\u001b[0m \u001b[0;34m\u001b[0m\u001b[0m\n\u001b[0;32m---> 15\u001b[0;31m \u001b[0;32mdef\u001b[0m \u001b[0mthree_doors_sim\u001b[0m\u001b[0;34m(\u001b[0m\u001b[0mdoWeSwitch\u001b[0m\u001b[0;34m=\u001b[0m\u001b[0;32mTrue\u001b[0m\u001b[0;34m,\u001b[0m \u001b[0mnum_trial\u001b[0m\u001b[0;34m=\u001b[0m\u001b[0mint\u001b[0m\u001b[0;34m(\u001b[0m\u001b[0mle3\u001b[0m\u001b[0;34m)\u001b[0m\u001b[0;34m)\u001b[0m\u001b[0;34m:\u001b[0m\u001b[0;34m\u001b[0m\u001b[0;34m\u001b[0m\u001b[0m\n\u001b[0m\u001b[1;32m     16\u001b[0m     \u001b[0mwinners\u001b[0m \u001b[0;34m=\u001b[0m \u001b[0mnp\u001b[0m\u001b[0;34m.\u001b[0m\u001b[0msum\u001b[0m\u001b[0;34m(\u001b[0m\u001b[0;34m[\u001b[0m\u001b[0mmake_a_deal\u001b[0m\u001b[0;34m(\u001b[0m\u001b[0mdoWeSwitch\u001b[0m\u001b[0;34m)\u001b[0m \u001b[0;32mfor\u001b[0m \u001b[0mkk\u001b[0m \u001b[0;32min\u001b[0m \u001b[0mrange\u001b[0m\u001b[0;34m(\u001b[0m\u001b[0mnum_trials\u001b[0m\u001b[0;34m)\u001b[0m\u001b[0;34m]\u001b[0m\u001b[0;34m)\u001b[0m\u001b[0;34m\u001b[0m\u001b[0;34m\u001b[0m\u001b[0m\n\u001b[1;32m     17\u001b[0m     \u001b[0;32mreturn\u001b[0m \u001b[0mwinners\u001b[0m \u001b[0;34m/\u001b[0m \u001b[0mnum_trials\u001b[0m\u001b[0;34m\u001b[0m\u001b[0;34m\u001b[0m\u001b[0m\n",
      "\u001b[0;31mNameError\u001b[0m: name 'le3' is not defined"
     ]
    }
   ],
   "source": [
    "def make_a_deal(doWeSwitch=True):\n",
    "    doors = [0,1,2]\n",
    "    #where'd car\n",
    "    car = np.random.choice(doors)\n",
    "    #what'd we pick\n",
    "    first_choice = np.random.choice(doors)\n",
    "    #what does monte reveal ?\n",
    "    montes_options = list(set(doors) - set([car]) - set([first_choice]))\n",
    "    goat = np.random.choice(montes_options)\n",
    "    #make our final choice by switching or not\n",
    "    final_choice = (set(doors)-set([first_choice])-set([goat])).pop() if doWeSwitch else first_choice\n",
    "    return final_choice == car\n",
    "make_a_deal(doWeSwitch=True)\n",
    "\n",
    "def three_doors_sim(doWeSwitch=True, num_trial=int(le3)):\n",
    "    winners = np.sum([make_a_deal(doWeSwitch) for kk in range(num_trials)])\n",
    "    return winners / num_trials"
   ]
  },
  {
   "cell_type": "code",
   "execution_count": null,
   "metadata": {},
   "outputs": [],
   "source": [
    "three_do"
   ]
  },
  {
   "cell_type": "markdown",
   "metadata": {},
   "source": [
    "### Exercise 2:  What if there are Scooby-Doo numbers of doors?\n",
    "***\n",
    "\n",
    "![moredoors](https://thesaurus.plus/img/sentences/39/Scooby-Dooby_Doors.png)\n",
    "\n",
    "**Part A:** Now suppose there are 4 (or maybe in general, $n$) doors.  There is still only one prize, but now $n-1$ goats.  Modify your simulation from above to estimate the probability of winning if you switch to a random other available door, or if you stick with your original choice."
   ]
  },
  {
   "cell_type": "code",
   "execution_count": null,
   "metadata": {},
   "outputs": [],
   "source": []
  },
  {
   "cell_type": "markdown",
   "metadata": {},
   "source": [
    "**Part B:** Verify your simulation results for the cases of $n=4$ and $n=5$ doors by hand.  What is the probability of winning if you switch, or do not switch, in those cases?"
   ]
  },
  {
   "cell_type": "code",
   "execution_count": null,
   "metadata": {},
   "outputs": [],
   "source": []
  }
 ],
 "metadata": {
  "kernelspec": {
   "display_name": "Python 3",
   "language": "python",
   "name": "python3"
  },
  "language_info": {
   "codemirror_mode": {
    "name": "ipython",
    "version": 3
   },
   "file_extension": ".py",
   "mimetype": "text/x-python",
   "name": "python",
   "nbconvert_exporter": "python",
   "pygments_lexer": "ipython3",
   "version": "3.7.1"
  }
 },
 "nbformat": 4,
 "nbformat_minor": 2
}
