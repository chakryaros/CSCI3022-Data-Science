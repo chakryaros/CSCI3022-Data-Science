{
 "cells": [
  {
   "cell_type": "markdown",
   "metadata": {},
   "source": [
    "# Notebook 1: Introduction to Pandas and the Titanic Data Set\n",
    "***\n",
    "\n",
    "If you haven't at least skimmed the Numpy and Pandas tutorial, **STOP** and go do that now. \n",
    "\n",
    "In this notebook you'll apply some basic Pandas tools to explore the ubiquitous **Titanic** dataset. \n",
    "\n",
    "First, as always, we'll load Numpy and Pandas using their common aliases, np and pd. "
   ]
  },
  {
   "cell_type": "code",
   "execution_count": 5,
   "metadata": {},
   "outputs": [],
   "source": [
    "import numpy as np \n",
    "import pandas as pd"
   ]
  },
  {
   "cell_type": "markdown",
   "metadata": {},
   "source": [
    "The data is stored in a .csv file (a format that lists data separated by commas) called clean_titanic_data.csv.  We'll import the data into Pandas using the read_csv( ) function.  Depending on how you're accessing this notebook you'll use one of two options to access the data.  If you've cloned the class GitHub repository then you'll have a local copy of the data set on your machine and you can use the local file path shown below.  If you are using Azure Notebooks, or have gotten this notebook in some other way, then you will use the the web-based file path shown below. "
   ]
  },
  {
   "cell_type": "code",
   "execution_count": 14,
   "metadata": {},
   "outputs": [
    {
     "name": "stdout",
     "output_type": "stream",
     "text": [
      "     PassengerId  Survived  Pclass  \\\n",
      "0              1         0       3   \n",
      "1              2         1       1   \n",
      "2              3         1       3   \n",
      "3              4         1       1   \n",
      "4              5         0       3   \n",
      "5              7         0       1   \n",
      "6              8         0       3   \n",
      "7              9         1       3   \n",
      "8             10         1       2   \n",
      "9             11         1       3   \n",
      "10            12         1       1   \n",
      "11            13         0       3   \n",
      "12            14         0       3   \n",
      "13            15         0       3   \n",
      "14            16         1       2   \n",
      "15            17         0       3   \n",
      "16            19         0       3   \n",
      "17            21         0       2   \n",
      "18            22         1       2   \n",
      "19            23         1       3   \n",
      "20            24         1       1   \n",
      "21            25         0       3   \n",
      "22            26         1       3   \n",
      "23            28         0       1   \n",
      "24            31         0       1   \n",
      "25            34         0       2   \n",
      "26            35         0       1   \n",
      "27            36         0       1   \n",
      "28            38         0       3   \n",
      "29            39         0       3   \n",
      "..           ...       ...     ...   \n",
      "684          857         1       1   \n",
      "685          858         1       1   \n",
      "686          859         1       3   \n",
      "687          861         0       3   \n",
      "688          862         0       2   \n",
      "689          863         1       1   \n",
      "690          865         0       2   \n",
      "691          866         1       2   \n",
      "692          867         1       2   \n",
      "693          868         0       1   \n",
      "694          870         1       3   \n",
      "695          871         0       3   \n",
      "696          872         1       1   \n",
      "697          873         0       1   \n",
      "698          874         0       3   \n",
      "699          875         1       2   \n",
      "700          876         1       3   \n",
      "701          877         0       3   \n",
      "702          878         0       3   \n",
      "703          880         1       1   \n",
      "704          881         1       2   \n",
      "705          882         0       3   \n",
      "706          883         0       3   \n",
      "707          884         0       2   \n",
      "708          885         0       3   \n",
      "709          886         0       3   \n",
      "710          887         0       2   \n",
      "711          888         1       1   \n",
      "712          890         1       1   \n",
      "713          891         0       3   \n",
      "\n",
      "                                                  Name     Sex   Age  SibSp  \\\n",
      "0                              Braund, Mr. Owen Harris    male  22.0      1   \n",
      "1    Cumings, Mrs. John Bradley (Florence Briggs Th...  female  38.0      1   \n",
      "2                               Heikkinen, Miss. Laina  female  26.0      0   \n",
      "3         Futrelle, Mrs. Jacques Heath (Lily May Peel)  female  35.0      1   \n",
      "4                             Allen, Mr. William Henry    male  35.0      0   \n",
      "5                              McCarthy, Mr. Timothy J    male  54.0      0   \n",
      "6                       Palsson, Master. Gosta Leonard    male   2.0      3   \n",
      "7    Johnson, Mrs. Oscar W (Elisabeth Vilhelmina Berg)  female  27.0      0   \n",
      "8                  Nasser, Mrs. Nicholas (Adele Achem)  female  14.0      1   \n",
      "9                      Sandstrom, Miss. Marguerite Rut  female   4.0      1   \n",
      "10                            Bonnell, Miss. Elizabeth  female  58.0      0   \n",
      "11                      Saundercock, Mr. William Henry    male  20.0      0   \n",
      "12                         Andersson, Mr. Anders Johan    male  39.0      1   \n",
      "13                Vestrom, Miss. Hulda Amanda Adolfina  female  14.0      0   \n",
      "14                    Hewlett, Mrs. (Mary D Kingcome)   female  55.0      0   \n",
      "15                                Rice, Master. Eugene    male   2.0      4   \n",
      "16   Vander Planke, Mrs. Julius (Emelia Maria Vande...  female  31.0      1   \n",
      "17                                Fynney, Mr. Joseph J    male  35.0      0   \n",
      "18                               Beesley, Mr. Lawrence    male  34.0      0   \n",
      "19                         McGowan, Miss. Anna \"Annie\"  female  15.0      0   \n",
      "20                        Sloper, Mr. William Thompson    male  28.0      0   \n",
      "21                       Palsson, Miss. Torborg Danira  female   8.0      3   \n",
      "22   Asplund, Mrs. Carl Oscar (Selma Augusta Emilia...  female  38.0      1   \n",
      "23                      Fortune, Mr. Charles Alexander    male  19.0      3   \n",
      "24                            Uruchurtu, Don. Manuel E    male  40.0      0   \n",
      "25                               Wheadon, Mr. Edward H    male  66.0      0   \n",
      "26                             Meyer, Mr. Edgar Joseph    male  28.0      1   \n",
      "27                      Holverson, Mr. Alexander Oskar    male  42.0      1   \n",
      "28                            Cann, Mr. Ernest Charles    male  21.0      0   \n",
      "29                  Vander Planke, Miss. Augusta Maria  female  18.0      2   \n",
      "..                                                 ...     ...   ...    ...   \n",
      "684         Wick, Mrs. George Dennick (Mary Hitchcock)  female  45.0      1   \n",
      "685                             Daly, Mr. Peter Denis     male  51.0      0   \n",
      "686              Baclini, Mrs. Solomon (Latifa Qurban)  female  24.0      0   \n",
      "687                            Hansen, Mr. Claus Peter    male  41.0      2   \n",
      "688                        Giles, Mr. Frederick Edward    male  21.0      1   \n",
      "689  Swift, Mrs. Frederick Joel (Margaret Welles Ba...  female  48.0      0   \n",
      "690                             Gill, Mr. John William    male  24.0      0   \n",
      "691                           Bystrom, Mrs. (Karolina)  female  42.0      0   \n",
      "692                       Duran y More, Miss. Asuncion  female  27.0      1   \n",
      "693               Roebling, Mr. Washington Augustus II    male  31.0      0   \n",
      "694                    Johnson, Master. Harold Theodor    male   4.0      1   \n",
      "695                                  Balkic, Mr. Cerin    male  26.0      0   \n",
      "696   Beckwith, Mrs. Richard Leonard (Sallie Monypeny)  female  47.0      1   \n",
      "697                           Carlsson, Mr. Frans Olof    male  33.0      0   \n",
      "698                        Vander Cruyssen, Mr. Victor    male  47.0      0   \n",
      "699              Abelson, Mrs. Samuel (Hannah Wizosky)  female  28.0      1   \n",
      "700                   Najib, Miss. Adele Kiamie \"Jane\"  female  15.0      0   \n",
      "701                      Gustafsson, Mr. Alfred Ossian    male  20.0      0   \n",
      "702                               Petroff, Mr. Nedelio    male  19.0      0   \n",
      "703      Potter, Mrs. Thomas Jr (Lily Alexenia Wilson)  female  56.0      0   \n",
      "704       Shelley, Mrs. William (Imanita Parrish Hall)  female  25.0      0   \n",
      "705                                 Markun, Mr. Johann    male  33.0      0   \n",
      "706                       Dahlberg, Miss. Gerda Ulrika  female  22.0      0   \n",
      "707                      Banfield, Mr. Frederick James    male  28.0      0   \n",
      "708                             Sutehall, Mr. Henry Jr    male  25.0      0   \n",
      "709               Rice, Mrs. William (Margaret Norton)  female  39.0      0   \n",
      "710                              Montvila, Rev. Juozas    male  27.0      0   \n",
      "711                       Graham, Miss. Margaret Edith  female  19.0      0   \n",
      "712                              Behr, Mr. Karl Howell    male  26.0      0   \n",
      "713                                Dooley, Mr. Patrick    male  32.0      0   \n",
      "\n",
      "     Parch            Ticket      Fare Embarked  \n",
      "0        0         A/5 21171    7.2500        S  \n",
      "1        0          PC 17599   71.2833        C  \n",
      "2        0  STON/O2. 3101282    7.9250        S  \n",
      "3        0            113803   53.1000        S  \n",
      "4        0            373450    8.0500        S  \n",
      "5        0             17463   51.8625        S  \n",
      "6        1            349909   21.0750        S  \n",
      "7        2            347742   11.1333        S  \n",
      "8        0            237736   30.0708        C  \n",
      "9        1           PP 9549   16.7000        S  \n",
      "10       0            113783   26.5500        S  \n",
      "11       0         A/5. 2151    8.0500        S  \n",
      "12       5            347082   31.2750        S  \n",
      "13       0            350406    7.8542        S  \n",
      "14       0            248706   16.0000        S  \n",
      "15       1            382652   29.1250        Q  \n",
      "16       0            345763   18.0000        S  \n",
      "17       0            239865   26.0000        S  \n",
      "18       0            248698   13.0000        S  \n",
      "19       0            330923    8.0292        Q  \n",
      "20       0            113788   35.5000        S  \n",
      "21       1            349909   21.0750        S  \n",
      "22       5            347077   31.3875        S  \n",
      "23       2             19950  263.0000        S  \n",
      "24       0          PC 17601   27.7208        C  \n",
      "25       0        C.A. 24579   10.5000        S  \n",
      "26       0          PC 17604   82.1708        C  \n",
      "27       0            113789   52.0000        S  \n",
      "28       0        A./5. 2152    8.0500        S  \n",
      "29       0            345764   18.0000        S  \n",
      "..     ...               ...       ...      ...  \n",
      "684      1             36928  164.8667        S  \n",
      "685      0            113055   26.5500        S  \n",
      "686      3              2666   19.2583        C  \n",
      "687      0            350026   14.1083        S  \n",
      "688      0             28134   11.5000        S  \n",
      "689      0             17466   25.9292        S  \n",
      "690      0            233866   13.0000        S  \n",
      "691      0            236852   13.0000        S  \n",
      "692      0     SC/PARIS 2149   13.8583        C  \n",
      "693      0          PC 17590   50.4958        S  \n",
      "694      1            347742   11.1333        S  \n",
      "695      0            349248    7.8958        S  \n",
      "696      1             11751   52.5542        S  \n",
      "697      0               695    5.0000        S  \n",
      "698      0            345765    9.0000        S  \n",
      "699      0         P/PP 3381   24.0000        C  \n",
      "700      0              2667    7.2250        C  \n",
      "701      0              7534    9.8458        S  \n",
      "702      0            349212    7.8958        S  \n",
      "703      1             11767   83.1583        C  \n",
      "704      1            230433   26.0000        S  \n",
      "705      0            349257    7.8958        S  \n",
      "706      0              7552   10.5167        S  \n",
      "707      0  C.A./SOTON 34068   10.5000        S  \n",
      "708      0   SOTON/OQ 392076    7.0500        S  \n",
      "709      5            382652   29.1250        Q  \n",
      "710      0            211536   13.0000        S  \n",
      "711      0            112053   30.0000        S  \n",
      "712      0            111369   30.0000        C  \n",
      "713      0            370376    7.7500        Q  \n",
      "\n",
      "[714 rows x 11 columns]\n"
     ]
    }
   ],
   "source": [
    "# Path to the data - select the path that works for you \n",
    "file_path = '/Users/chakryaros/Dropbox/csci3022_DataSci/data/clean_titanic_data.csv'\n",
    "\n",
    "# Load the data into a DataFrame \n",
    "df = pd.read_csv(file_path)\n",
    "print(df)"
   ]
  },
  {
   "cell_type": "markdown",
   "metadata": {},
   "source": [
    "Take a look at the first few rows of the DataFrame using the head( ) method. "
   ]
  },
  {
   "cell_type": "code",
   "execution_count": 10,
   "metadata": {},
   "outputs": [
    {
     "data": {
      "text/html": [
       "<div>\n",
       "<style scoped>\n",
       "    .dataframe tbody tr th:only-of-type {\n",
       "        vertical-align: middle;\n",
       "    }\n",
       "\n",
       "    .dataframe tbody tr th {\n",
       "        vertical-align: top;\n",
       "    }\n",
       "\n",
       "    .dataframe thead th {\n",
       "        text-align: right;\n",
       "    }\n",
       "</style>\n",
       "<table border=\"1\" class=\"dataframe\">\n",
       "  <thead>\n",
       "    <tr style=\"text-align: right;\">\n",
       "      <th></th>\n",
       "      <th>PassengerId</th>\n",
       "      <th>Survived</th>\n",
       "      <th>Pclass</th>\n",
       "      <th>Name</th>\n",
       "      <th>Sex</th>\n",
       "      <th>Age</th>\n",
       "      <th>SibSp</th>\n",
       "      <th>Parch</th>\n",
       "      <th>Ticket</th>\n",
       "      <th>Fare</th>\n",
       "      <th>Embarked</th>\n",
       "    </tr>\n",
       "  </thead>\n",
       "  <tbody>\n",
       "    <tr>\n",
       "      <th>0</th>\n",
       "      <td>1</td>\n",
       "      <td>0</td>\n",
       "      <td>3</td>\n",
       "      <td>Braund, Mr. Owen Harris</td>\n",
       "      <td>male</td>\n",
       "      <td>22.0</td>\n",
       "      <td>1</td>\n",
       "      <td>0</td>\n",
       "      <td>A/5 21171</td>\n",
       "      <td>7.2500</td>\n",
       "      <td>S</td>\n",
       "    </tr>\n",
       "    <tr>\n",
       "      <th>1</th>\n",
       "      <td>2</td>\n",
       "      <td>1</td>\n",
       "      <td>1</td>\n",
       "      <td>Cumings, Mrs. John Bradley (Florence Briggs Th...</td>\n",
       "      <td>female</td>\n",
       "      <td>38.0</td>\n",
       "      <td>1</td>\n",
       "      <td>0</td>\n",
       "      <td>PC 17599</td>\n",
       "      <td>71.2833</td>\n",
       "      <td>C</td>\n",
       "    </tr>\n",
       "    <tr>\n",
       "      <th>2</th>\n",
       "      <td>3</td>\n",
       "      <td>1</td>\n",
       "      <td>3</td>\n",
       "      <td>Heikkinen, Miss. Laina</td>\n",
       "      <td>female</td>\n",
       "      <td>26.0</td>\n",
       "      <td>0</td>\n",
       "      <td>0</td>\n",
       "      <td>STON/O2. 3101282</td>\n",
       "      <td>7.9250</td>\n",
       "      <td>S</td>\n",
       "    </tr>\n",
       "    <tr>\n",
       "      <th>3</th>\n",
       "      <td>4</td>\n",
       "      <td>1</td>\n",
       "      <td>1</td>\n",
       "      <td>Futrelle, Mrs. Jacques Heath (Lily May Peel)</td>\n",
       "      <td>female</td>\n",
       "      <td>35.0</td>\n",
       "      <td>1</td>\n",
       "      <td>0</td>\n",
       "      <td>113803</td>\n",
       "      <td>53.1000</td>\n",
       "      <td>S</td>\n",
       "    </tr>\n",
       "    <tr>\n",
       "      <th>4</th>\n",
       "      <td>5</td>\n",
       "      <td>0</td>\n",
       "      <td>3</td>\n",
       "      <td>Allen, Mr. William Henry</td>\n",
       "      <td>male</td>\n",
       "      <td>35.0</td>\n",
       "      <td>0</td>\n",
       "      <td>0</td>\n",
       "      <td>373450</td>\n",
       "      <td>8.0500</td>\n",
       "      <td>S</td>\n",
       "    </tr>\n",
       "  </tbody>\n",
       "</table>\n",
       "</div>"
      ],
      "text/plain": [
       "   PassengerId  Survived  Pclass  \\\n",
       "0            1         0       3   \n",
       "1            2         1       1   \n",
       "2            3         1       3   \n",
       "3            4         1       1   \n",
       "4            5         0       3   \n",
       "\n",
       "                                                Name     Sex   Age  SibSp  \\\n",
       "0                            Braund, Mr. Owen Harris    male  22.0      1   \n",
       "1  Cumings, Mrs. John Bradley (Florence Briggs Th...  female  38.0      1   \n",
       "2                             Heikkinen, Miss. Laina  female  26.0      0   \n",
       "3       Futrelle, Mrs. Jacques Heath (Lily May Peel)  female  35.0      1   \n",
       "4                           Allen, Mr. William Henry    male  35.0      0   \n",
       "\n",
       "   Parch            Ticket     Fare Embarked  \n",
       "0      0         A/5 21171   7.2500        S  \n",
       "1      0          PC 17599  71.2833        C  \n",
       "2      0  STON/O2. 3101282   7.9250        S  \n",
       "3      0            113803  53.1000        S  \n",
       "4      0            373450   8.0500        S  "
      ]
     },
     "execution_count": 10,
     "metadata": {},
     "output_type": "execute_result"
    }
   ],
   "source": [
    "df.head()"
   ]
  },
  {
   "cell_type": "markdown",
   "metadata": {},
   "source": [
    "From this you should see that each row in the DataFrame refers to a particular passenger on the Titanic.  The columns of the DataFrame give you specific information about each passenger.  The **PassengerId** is simply a unique identifier given to each passenger in the data set.  The rest of the attributes are more meaningful: \n",
    "\n",
    "- **Survived**: Indicates whether the passenger survived the sinking\n",
    "- **Pclass**: Indicates the socio-economic status of the passenger (lower number means higher class)\n",
    "- **Name**: The passenger's name \n",
    "- **Sex**: The passenger's sex \n",
    "- **Age**: The passenger's age\n",
    "- **SibSp**: The number of siblings / spouses the passenger was traveling with \n",
    "- **Parch**: The number of children / parents the passenger was traveling with \n",
    "- **Ticket**: The passenger's ticket number \n",
    "- **Fare**: How much the passenger paid for their ticket \n",
    "- **Embarked**: The passenger's port of embarkation (C = Cherbourg, Q = Queenstown, S = Southampton)\n",
    "\n",
    "### Exercise 1\n",
    "***\n",
    "Determine how many people survived the disaster"
   ]
  },
  {
   "cell_type": "code",
   "execution_count": 15,
   "metadata": {},
   "outputs": [
    {
     "ename": "ValueError",
     "evalue": "The truth value of a Series is ambiguous. Use a.empty, a.bool(), a.item(), a.any() or a.all().",
     "output_type": "error",
     "traceback": [
      "\u001b[0;31m---------------------------------------------------------------------------\u001b[0m",
      "\u001b[0;31mValueError\u001b[0m                                Traceback (most recent call last)",
      "\u001b[0;32m<ipython-input-15-fa8b09b353be>\u001b[0m in \u001b[0;36m<module>\u001b[0;34m\u001b[0m\n\u001b[0;32m----> 1\u001b[0;31m \u001b[0;32mif\u001b[0m \u001b[0mdf\u001b[0m\u001b[0;34m[\u001b[0m\u001b[0;34m'Survived'\u001b[0m\u001b[0;34m]\u001b[0m \u001b[0;34m==\u001b[0m \u001b[0;36m1\u001b[0m\u001b[0;34m:\u001b[0m\u001b[0;34m\u001b[0m\u001b[0;34m\u001b[0m\u001b[0m\n\u001b[0m\u001b[1;32m      2\u001b[0m     \u001b[0mpeople_survived\u001b[0m \u001b[0;34m=\u001b[0m \u001b[0mpeople_survived\u001b[0m \u001b[0;34m+\u001b[0m \u001b[0;36m1\u001b[0m\u001b[0;34m\u001b[0m\u001b[0;34m\u001b[0m\u001b[0m\n\u001b[1;32m      3\u001b[0m \u001b[0mprint\u001b[0m\u001b[0;34m(\u001b[0m\u001b[0;34m\"{} people survived the disaster\"\u001b[0m\u001b[0;34m.\u001b[0m\u001b[0mformat\u001b[0m\u001b[0;34m(\u001b[0m\u001b[0mpeople_survived\u001b[0m\u001b[0;34m)\u001b[0m\u001b[0;34m)\u001b[0m\u001b[0;34m\u001b[0m\u001b[0;34m\u001b[0m\u001b[0m\n",
      "\u001b[0;32m/anaconda3/lib/python3.7/site-packages/pandas/core/generic.py\u001b[0m in \u001b[0;36m__nonzero__\u001b[0;34m(self)\u001b[0m\n\u001b[1;32m   1574\u001b[0m         raise ValueError(\"The truth value of a {0} is ambiguous. \"\n\u001b[1;32m   1575\u001b[0m                          \u001b[0;34m\"Use a.empty, a.bool(), a.item(), a.any() or a.all().\"\u001b[0m\u001b[0;34m\u001b[0m\u001b[0;34m\u001b[0m\u001b[0m\n\u001b[0;32m-> 1576\u001b[0;31m                          .format(self.__class__.__name__))\n\u001b[0m\u001b[1;32m   1577\u001b[0m \u001b[0;34m\u001b[0m\u001b[0m\n\u001b[1;32m   1578\u001b[0m     \u001b[0m__bool__\u001b[0m \u001b[0;34m=\u001b[0m \u001b[0m__nonzero__\u001b[0m\u001b[0;34m\u001b[0m\u001b[0;34m\u001b[0m\u001b[0m\n",
      "\u001b[0;31mValueError\u001b[0m: The truth value of a Series is ambiguous. Use a.empty, a.bool(), a.item(), a.any() or a.all()."
     ]
    }
   ],
   "source": [
    "if df['Survived'] == 1:\n",
    "    people_survived = people_survived + 1\n",
    "print(\"{} people survived the disaster\".format(people_survived))"
   ]
  },
  {
   "cell_type": "markdown",
   "metadata": {},
   "source": [
    "### Exercise 2  \n",
    "***\n",
    "Determine how many men and how many women survived the disaster "
   ]
  },
  {
   "cell_type": "code",
   "execution_count": null,
   "metadata": {},
   "outputs": [],
   "source": [
    "male_survived = # TODO \n",
    "female_survived = # TODO \n",
    "print(\"{} men survived the disaster\".format(male_survived))\n",
    "print(\"{} women survived the disaster\".format(female_survived))"
   ]
  },
  {
   "cell_type": "markdown",
   "metadata": {},
   "source": [
    "### Exercise 3 \n",
    "***\n",
    "Determine how many children under the age of 12 survived the disaster. "
   ]
  },
  {
   "cell_type": "code",
   "execution_count": null,
   "metadata": {},
   "outputs": [],
   "source": [
    "children_survived = # TODO \n",
    "print(\"{} children survived the disaster\".format(children_survived))"
   ]
  },
  {
   "cell_type": "markdown",
   "metadata": {},
   "source": [
    "### Exercise 4 \n",
    "***\n",
    "The **SibSp** and **Parch** attributes tell us the number of siblings/spouses and parents/children each passenger had on board.  Create a new column in the DataFrame called **Family** that indicates how many siblings/spouses/parents/children a passenger was traveling with. Then report how many people survived that were traveling with 3 or more family members. "
   ]
  },
  {
   "cell_type": "code",
   "execution_count": null,
   "metadata": {},
   "outputs": [],
   "source": [
    "df[\"Family\"] = # TODO \n",
    "family_survived = # TODO \n",
    "print(\"{} people traveling with 3 or more family members survived the disaster\".format(family_survived))"
   ]
  },
  {
   "cell_type": "markdown",
   "metadata": {},
   "source": [
    "### Exercise 5 \n",
    "***\n",
    "In this exercise you will write some code to predict whether a person survived the disaster based on their information.  Obviously, you'll want to ignore the **Survived** attribute for this to avoid cheating. You'll store your predictions ($1$ if you predict survived, $0$ if you predict died) in a column of the DataFrame called **Prediction**.  You can then use the following function to see how accurate your prediction was. "
   ]
  },
  {
   "cell_type": "code",
   "execution_count": null,
   "metadata": {},
   "outputs": [],
   "source": [
    "def score_prediction(df):\n",
    "    '''\n",
    "    Function to score predictions.  \n",
    "    Takes entire DataFrame as sole argument. \n",
    "    '''\n",
    "    acc = (df[\"Survived\"]==df[\"Prediction\"]).sum() / len(df)\n",
    "    print(\"Your accuracy is {0:.1f}%\".format(100*acc))"
   ]
  },
  {
   "cell_type": "markdown",
   "metadata": {},
   "source": [
    "There are several ways that we can accomplish this.  The first method we'll highlight is one that loops over every row in the DataFrame, makes a decision based on that row's attributes, and then sets the relevant prediction in the **Prediction** column.  As an example, we'll use a very naive heuristic that predicts that all males survive and all females die. "
   ]
  },
  {
   "cell_type": "code",
   "execution_count": null,
   "metadata": {},
   "outputs": [],
   "source": [
    "for passenger_index, passenger in df.iterrows():\n",
    "    df.loc[passenger_index, \"Prediction\"] = 1 if df.loc[passenger_index, \"Sex\"] == 'male' else 0"
   ]
  },
  {
   "cell_type": "markdown",
   "metadata": {},
   "source": [
    "We can check that our code actually did something using the head( ) function and observing that we do in fact have a column called **Prediction** populated with $1$'s and $0$'s. You can see that the $1$'s in the **Prediction** column do in-fact line up with \"male\" in the **Sex** column. "
   ]
  },
  {
   "cell_type": "code",
   "execution_count": null,
   "metadata": {},
   "outputs": [],
   "source": [
    "df.head(10)"
   ]
  },
  {
   "cell_type": "markdown",
   "metadata": {},
   "source": [
    "Now, let's see how we did by passing our DataFrame into the score_prediction( ) function. "
   ]
  },
  {
   "cell_type": "code",
   "execution_count": null,
   "metadata": {},
   "outputs": [],
   "source": [
    "score_prediction(df)"
   ]
  },
  {
   "cell_type": "markdown",
   "metadata": {},
   "source": [
    "And here we see that our naive prediction netted us a 22% prediction accuracy (which isn't very good, but you're going to make it better). \n",
    "\n",
    "OK, so looping over the data is one option, but in Python, unfortunately, it's not a very good option.  Python is an interpreted language, which means that loops are slow.  We didn't really notice it here, because our DataFrame only has around 700 rows in it, but on data sets with hundreds of thousands or millions of entries, loops can grind your day to a complete halt.  \n",
    "\n",
    "It's better to use vectorized methods like Pandas apply( ) function combined with Python lambda functions.  One way to accomplish the same results as above is as follows: "
   ]
  },
  {
   "cell_type": "code",
   "execution_count": null,
   "metadata": {},
   "outputs": [],
   "source": [
    "df[\"Prediction\"] = df[\"Sex\"].apply(lambda s: 1 if s==\"male\" else 0)\n",
    "df.head(10)"
   ]
  },
  {
   "cell_type": "markdown",
   "metadata": {},
   "source": [
    "You can check that this produces the same result as the loop-based method. We can compare the speeds of the apply( ) method and the loop-based method using the Jupyter magic %timeit command.  \n"
   ]
  },
  {
   "cell_type": "code",
   "execution_count": null,
   "metadata": {},
   "outputs": [],
   "source": [
    "# Loop-based method \n",
    "print(\"Timing loop-based method: \")\n",
    "%timeit for passenger_index, passenger in df.iterrows(): df.loc[passenger_index, \"Prediction\"] = 1 if df.loc[passenger_index, \"Sex\"] == 'male' else 0\n",
    "    \n",
    "# Apply-based method \n",
    "print(\"Timing apply-based method: \")\n",
    "%timeit df[\"Prediction\"] = df[\"Sex\"].apply(lambda s: 1 if s==\"male\" else 0)"
   ]
  },
  {
   "cell_type": "markdown",
   "metadata": {},
   "source": [
    "Note that here ms is milliseconds and $\\mu\\textrm{s}$ is **micro**seconds.  You can hopefully see that the apply method is **tremendously** faster than the loop-based method. \n",
    "\n",
    "OK, let's do one more slightly more complicated example so that we can see how to use the apply( ) function with multiple inputs.  Suppose say that you want to predict that a person survived if they are male **AND** they were traveling alone (probably not a good heuristic but just go with it).  To do this we need values from both the **Sex** column and the **Family** column.  Here is the code"
   ]
  },
  {
   "cell_type": "code",
   "execution_count": null,
   "metadata": {},
   "outputs": [],
   "source": [
    "df[\"Prediction\"] = df.apply(lambda row: 1 if row[\"Sex\"]==\"male\" and row[\"Family\"]==0 else 0, axis=1)\n",
    "df.head()"
   ]
  },
  {
   "cell_type": "markdown",
   "metadata": {},
   "source": [
    "Here the apply( ) function is applied to the entire DataFrame and the object passed to the lambda function is an entire row of the DataFrame.  We can then carve off the elements from the columns we're interested in and do our thing.  Let's see how we did! "
   ]
  },
  {
   "cell_type": "code",
   "execution_count": null,
   "metadata": {},
   "outputs": [],
   "source": [
    "score_prediction(df)"
   ]
  },
  {
   "cell_type": "markdown",
   "metadata": {},
   "source": [
    "**W00T!** Minor improvement! OK, so you're job is to explore the data and see if you can cook up a custom prediction heuristic that does better than 31.1%!  I've created a Titanic Leaderboard post on Canvas.  If you get an accuracy you're proud of, post it there along with a description of what you did! "
   ]
  },
  {
   "cell_type": "code",
   "execution_count": null,
   "metadata": {},
   "outputs": [],
   "source": []
  }
 ],
 "metadata": {
  "kernelspec": {
   "display_name": "Python 3",
   "language": "python",
   "name": "python3"
  },
  "language_info": {
   "codemirror_mode": {
    "name": "ipython",
    "version": 3
   },
   "file_extension": ".py",
   "mimetype": "text/x-python",
   "name": "python",
   "nbconvert_exporter": "python",
   "pygments_lexer": "ipython3",
   "version": "3.7.1"
  }
 },
 "nbformat": 4,
 "nbformat_minor": 2
}
