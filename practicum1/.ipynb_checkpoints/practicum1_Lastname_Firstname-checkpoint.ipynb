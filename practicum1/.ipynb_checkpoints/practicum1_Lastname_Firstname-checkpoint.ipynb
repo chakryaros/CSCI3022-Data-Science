{
 "cells": [
  {
   "cell_type": "markdown",
   "metadata": {},
   "source": [
    "<a id='top'></a>\n",
    "\n",
    "# CSCI 3022: Intro to Data Science - Spring 2019 Practicum 1\n",
    "***\n",
    "\n",
    "This practicum is due on Canvas by **11:59 PM on Monday March 4**. Your solutions to theoretical questions should be done in Markdown/MathJax directly below the associated question.  Your solutions to computational questions should include any specified Python code and results as well as written commentary on your conclusions.  \n",
    "\n",
    "**Here are the rules:** \n",
    "\n",
    "1. All work, code and analysis, must be your own. \n",
    "1. You may use your course notes, posted lecture slides, textbooks, in-class notebooks, and homework solutions as resources.  You may also search online for answers to general knowledge questions like the form of a probability distribution function or how to perform a particular operation in Python/Pandas. \n",
    "1. This is meant to be like a coding portion of your midterm exam. So, the instructional team will be much less helpful than we typically are with homework. For example, we will not check answers, help debug your code, and so on.\n",
    "1. If something is left open-ended, it is because we want to see how you approach the kinds of problems you will encounter in the wild, where it will not always be clear what sort of tests/methods should be applied. Feel free to ask clarifying questions though.\n",
    "2. You may **NOT** post to message boards or other online resources asking for help.\n",
    "3. You may **NOT** copy-paste solutions *from anywhere*.\n",
    "4. You may **NOT** collaborate with classmates or anyone else.\n",
    "5. In short, **your work must be your own**. It really is that simple.\n",
    "\n",
    "Violation of the above rules will result in an immediate academic sanction (*at the very least*, you will receive a 0 on this practicum or an F in the course, depending on severity), and a trip to the Honor Code Council.\n",
    "\n",
    "**By submitting this assignment, you agree to abide by the rules given above.**\n",
    "\n",
    "***\n",
    "\n",
    "**Name**:  Chakrya Ros\n",
    "\n",
    "***\n",
    "\n",
    "\n",
    "**NOTES**: \n",
    "\n",
    "- You may not use late days on the practicums nor can you drop your practicum grades. \n",
    "- If you have a question for us, post it as a **PRIVATE** message on Piazza.  If we decide that the question is appropriate for the entire class, then we will add it to a Practicum clarifications thread. \n",
    "- Do **NOT** load or use any Python packages that are not available in Anaconda 3.6. \n",
    "- Some problems with code may be autograded.  If we provide a function API **do not** change it.  If we do not provide a function API then you're free to structure your code however you like. \n",
    "- Submit only this Jupyter notebook to Canvas.  Do not compress it using tar, rar, zip, etc. \n",
    "- This should go without saying, but... For any question that asks you to calculate something, you **must show all work to receive credit**. Sparse or nonexistent work will receive sparse or nonexistent credit.\n",
    "\n",
    "---\n",
    "**Shortcuts:**  [Problem 1](#p1) | [Problem 2](#p2) | [Bottom](#bot)\n",
    "\n",
    "---"
   ]
  },
  {
   "cell_type": "code",
   "execution_count": null,
   "metadata": {},
   "outputs": [],
   "source": []
  },
  {
   "cell_type": "code",
   "execution_count": 20,
   "metadata": {},
   "outputs": [],
   "source": [
    "from scipy import stats\n",
    "import numpy as np \n",
    "import pandas as pd\n",
    "import matplotlib.pyplot as plt\n",
    "%matplotlib inline"
   ]
  },
  {
   "cell_type": "markdown",
   "metadata": {},
   "source": [
    "<br>\n",
    "\n",
    "---\n",
    "[Back to top](#top)\n",
    "<a id='p1'></a>\n",
    "\n",
    "### [30 points] Problem 1: The Game of Strife"
   ]
  },
  {
   "cell_type": "markdown",
   "metadata": {},
   "source": [
    "Below, and at the [link here](http://www.cs.colorado.edu/~tonyewong/home/resources/game_of_strife.png), you will find the board for the ***Game of Strife***, a simplified and slightly more depressing version of the [Game of Life](https://en.wikipedia.org/wiki/The_Game_of_Life). Here are some rules:\n",
    "\n",
    "- Players begin at START and may choose to begin the game by either going to college (moving to the right from START) or starting a career (moving downward from START). Players then move along the game board in order of increasing tile number. \n",
    "    - If a player begins by going to college, then they start the game with -\\$20,000. That is indeed negative money, to account for student loan debt.\n",
    "    - If a player begins by starting a career, then they start the game with \\$5,000.\n",
    "\n",
    "<p> </p>\n",
    "\n",
    "- At the beginning of a player's turn, they roll a fair 6-sided die, the outcome of which determines how many tiles they move forward.\n",
    "\n",
    "<p> </p>\n",
    "\n",
    "- When a player reaches a red square (tiles 9, 17 or 30), they must stop at that square for the rest of their turn, even if they would not have landed on the red square.\n",
    "    - When a player stops on the CAREER tile after college (square 9), they are randomly assigned a career and salary from the possibilities: \\$50,000, \\$70,000, \\$90,000, \\$110,000, or \\$130,000 (all with equal probability). The player's actual career is irrelevant to the game, but please make something up so you are emotionally invested in the game.\n",
    "    - If a player starts a career at the beginning of the game, they are assigned a salary randomly from possibilities \\$40,000, \\$50,000, \\$60,000, \\$70,000, or \\$80,000.\n",
    "    - When a player stops on the HOUSE tile, they put a down payment on a house. This down payment is drawn randomly from the set \\$25,000, \\$40,000, \\$55,000 or \\$70,000.\n",
    "    - When a player stops on the RETIRE tile, the player collects a pension equal to half their salary and then the game ends immediately.\n",
    "\n",
    "<p> </p>\n",
    "\n",
    "- When a player lands on or passes a PAYDAY square, they earn money equal to their salary.\n",
    "\n",
    "<p> </p>\n",
    "\n",
    "- When a player lands on a STRIFE square (1, 4, 7, 13, 18, 23 or 29 if they go to college, or 2, 7, 13, 18, 23 or 29 if they start a career immediately at the beginning of the game), they draw a STRIFE card. The STRIFE cards have the player earn \\$5,000 or \\$10,000, or lose \\$1,000, \\$2,000 or \\$5,000.\n",
    "\n",
    "<p> </p>\n",
    "\n",
    "- Players can have negative money, which corresponds to being in debt.\n"
   ]
  },
  {
   "cell_type": "markdown",
   "metadata": {},
   "source": [
    "<img src=\"http://www.cs.colorado.edu/~tonyewong/home/resources/game_of_strife.png\" style=\"width: 700px;\"/>"
   ]
  },
  {
   "cell_type": "markdown",
   "metadata": {},
   "source": [
    "**Part A:** Write code to simulate an entire game of the Game of Strife (with only one player). You may **not** have two separate routines for simulating the game, or a turn, depending on whether a player goes to college or starts a career at the beginning; both possibilities should be accounted for within your one set of codes.\n",
    "\n",
    "Then run two ensembles of at least 10,000 games, one where the player starts by going to college, the other where the player starts a career immediately. Plot density histograms of the players' ending distributions of money on the same set of axes. Be sure to label your axes, include a legend and make your histogram box faces slightly transparent, so both sets of data are visible."
   ]
  },
  {
   "cell_type": "code",
   "execution_count": 21,
   "metadata": {},
   "outputs": [],
   "source": [
    "def game_Strife_turn(cash, salary, Start, event):\n",
    "    \n",
    "    #strife choice when land on the strife land.\n",
    "    strife_choice = [5000, 10000, -1000, -2000, -5000]\n",
    "    \n",
    "    \n",
    "    #The land on 0 from the starting point, go college or get career\n",
    "    if Start == 0:\n",
    "        if event == \"College\":\n",
    "            cash = -20000\n",
    "        else :\n",
    "            cash = 5000\n",
    "            salary = np.random.choice([40000, 50000, 60000, 70000, 80000])\n",
    "            \n",
    "    #player move\n",
    "    rolls = np.random.choice([1,2,3,4,5,6], p=[(1/6),(1/6),(1/6),(1/6),(1/6),(1/6)])\n",
    "    player_land = Start + rolls\n",
    "    \n",
    "    #land on square 9, get career\n",
    "    if event == \"College\":\n",
    "        if Start < 9 and player_land >= 9:\n",
    "            salary = np.random.choice([50000, 70000, 90000, 110000, 130000])\n",
    "            \n",
    "    #land on 17, the house, put down payment\n",
    "    if Start < 17 and player_land >= 17:\n",
    "        down_payment = np.random.choice([25000, 40000, 55000, 70000])\n",
    "        cash = cash - down_payment\n",
    "        \n",
    "    #land on strife\n",
    "    if event == \"College\":\n",
    "        if player_land in [1,4,7,13,18,23,29]:\n",
    "            cash += np.random.choice(strife_choice)\n",
    "            \n",
    "    #career\n",
    "    else:\n",
    "        if player_land in [2,7,13,18,23,29]:\n",
    "            cash += np.random.choice(strife_choice)\n",
    "            \n",
    "    # land on payday\n",
    "    if event == \"College\":\n",
    "        for p in [10, 16, 22, 27]:\n",
    "            if Start < p and player_land >= p:\n",
    "                cash += salary\n",
    "    # career\n",
    "    else:\n",
    "        for p in [4,10,16,22,27]:\n",
    "            if Start < p and player_land >= p:\n",
    "                cash += salary\n",
    "    \n",
    "    # land on 30, player get retired\n",
    "    if Start < 30 and player_land >= 30:\n",
    "            cash += (salary/2) \n",
    "    \n",
    "    \n",
    "    return cash, salary, player_land, event\n",
    "    "
   ]
  },
  {
   "cell_type": "code",
   "execution_count": 22,
   "metadata": {},
   "outputs": [],
   "source": [
    "def game_strife(event):\n",
    "    cash = 0\n",
    "    land = 0\n",
    "    salary = 0\n",
    "    end_game = False\n",
    "    #event = np.random.choice([\"College\", \"Career\"])\n",
    "    while end_game == False:\n",
    "        if land <=30:\n",
    "            cash,salary, land, event = game_Strife_turn(cash, salary, land, event)\n",
    "        else:\n",
    "            end_game = True\n",
    "            return cash\n",
    "    return cash  "
   ]
  },
  {
   "cell_type": "code",
   "execution_count": 23,
   "metadata": {},
   "outputs": [
    {
     "data": {
      "image/png": "[encoded data removed]",
      "text/plain": [
       "<Figure size 576x360 with 1 Axes>"
      ]
     },
     "metadata": {
      "needs_background": "light"
     },
     "output_type": "display_data"
    }
   ],
   "source": [
    "num_game = 10000\n",
    "start_college=np.zeros(num_game)\n",
    "start_career = np.zeros(num_game)\n",
    "for n in range(num_game):\n",
    "    start_college[n] = game_strife(\"College\")\n",
    "    start_career[n]= game_strife(\"Career\")\n",
    "#     print(start_career[i])\n",
    "#     print(start_college[i])\n",
    "\n",
    "my_bin = range(40000,610000,20000)\n",
    "\n",
    "fig, ax = plt.subplots(nrows=1, ncols=1, figsize=(8,5))\n",
    "\n",
    "plt.hist(start_college,density = True,bins = my_bin, alpha = 0.75, facecolor=\"coral\",edgecolor=\"white\", label=\"Go College\")    \n",
    "plt.hist(start_career,density = True,bins = my_bin, alpha = 0.75, facecolor=\"steelblue\",edgecolor=\"white\",label=\"Get Career\")\n",
    "\n",
    "\n",
    "\n",
    "ax.set_title('Player go College or get Career')\n",
    "ax.set_xlabel('Final Cash')\n",
    "ax.set_ylabel('Density')\n",
    "ax.legend();\n",
    "ax.set_axisbelow(True)"
   ]
  },
  {
   "cell_type": "markdown",
   "metadata": {},
   "source": [
    "**Part B:** Use concepts from class to describe the two distributions of player cash at retirement, depending on whether or not they went to college or immediately started a career. How are the two distributions similar? How do they differ? Address characteristics like skew, modality, central tendency and spread. How could the rules of the Game of Strife account for these differences?"
   ]
  },
  {
   "cell_type": "code",
   "execution_count": 24,
   "metadata": {},
   "outputs": [
    {
     "name": "stdout",
     "output_type": "stream",
     "text": [
      "289584.5\n",
      "290000.0\n"
     ]
    }
   ],
   "source": [
    "m_col = np.mean(start_career)\n",
    "med_col = np.median(start_career)\n",
    "print(m_col)\n",
    "print(med_col)"
   ]
  },
  {
   "cell_type": "markdown",
   "metadata": {},
   "source": [
    "**Part B** Solution:\n",
    "\n",
    "As the games get longer, it becomes more likely that players have larger sums of money when they go to college than get career. The distribution of player getting career becomes unimodal. However, the distrubution of player going college is multimodal. The rules of the Game of Strife and buy the house are effect on the player's money when go college."
   ]
  },
  {
   "cell_type": "markdown",
   "metadata": {},
   "source": [
    "**Part C:**  Use your results from Part A to estimate the probability that a person would retire with at least \\$300,000, if they went to college."
   ]
  },
  {
   "cell_type": "code",
   "execution_count": 25,
   "metadata": {},
   "outputs": [
    {
     "name": "stdout",
     "output_type": "stream",
     "text": [
      "Probability that a person would retired with at least $300,000, if they get career is 0.4704\n",
      "Probability that a person would retired with at least $300,000, if they went to college is 0.598\n"
     ]
    }
   ],
   "source": [
    "num_game = 10000\n",
    "start_college=np.zeros(num_game)\n",
    "start_career = np.zeros(num_game)\n",
    "for n in range(num_game):\n",
    "    start_college[n] = game_strife(\"College\")\n",
    "    start_career[n]= game_strife(\"Career\")\n",
    "prob_go_collect = np.sum(start_college>=300000)/num_game\n",
    "prob_get_career = np.sum(start_career>=300000)/num_game\n",
    "print(\"Probability that a person would retired with at least $300,000, if they get career is\", prob_get_career)\n",
    "print(\"Probability that a person would retired with at least $300,000, if they went to college is\", prob_go_collect)"
   ]
  },
  {
   "cell_type": "markdown",
   "metadata": {},
   "source": [
    "**Part C** Solution:\n",
    "\n",
    "Probability that a person would retired with at least 300,000, if they went to college is 0.6066"
   ]
  },
  {
   "cell_type": "markdown",
   "metadata": {},
   "source": [
    "**Part D:** The United States [Bureau of Labor Statistics](https://www.bls.gov/news.release/hsgec.nr0.htm) has found that approximately 66.7% of students go to college. Suppose players of the Game of Strife choose to go to college at the beginning of the game with this probability of $P(\\text{college}) = 0.667$.\n",
    "\n",
    "Use your two ensembles of games from Part A to estimate the probability that an individual, whose college education status is unknown, will retire in the Game of Strife with at least \\$300,000. State any relevant probability laws, theorems or rules that you use, and show all calculations."
   ]
  },
  {
   "cell_type": "markdown",
   "metadata": {},
   "source": [
    "Let C be the event that get cash at retired.\n",
    "\n",
    "Let College the event that go to college\n",
    "\n",
    "$P(C \\mid college) = 0.6066$ from part B\n",
    "\n",
    "$P(C \\mid college^c) = 0.4625$ is the probability that get retired given career.\n",
    "\n",
    "$P(college^c) = 1 - P(college) = 1 - 0.667 = 0.333$\n",
    "\n",
    "using Law of Total probability:\n",
    "$$\n",
    "\\begin{align}\n",
    "P(C)&= P(C \\mid college)P(college) + P(C \\mid college^c)P(college^c) \\\\\n",
    "&= 0.636 * 0.667 +  0.484 * 0.333  = \\fbox{0.5586}\n",
    "\\end{align}\n",
    "$$\n",
    "\n",
    "\n"
   ]
  },
  {
   "cell_type": "code",
   "execution_count": 26,
   "metadata": {},
   "outputs": [
    {
     "name": "stdout",
     "output_type": "stream",
     "text": [
      "Not got College 0.3330\n",
      "Probability that an individual will retire at least $300,000: 0.5586\n"
     ]
    }
   ],
   "source": [
    "print(\"Not got College {:.4f}\".format(1-0.667))\n",
    "print(\"Probability that an individual will retire at least $300,000: {:.4f}\".format((0.6066 * 0.667) +  (0.4625 *0.333)))"
   ]
  },
  {
   "cell_type": "markdown",
   "metadata": {},
   "source": [
    "**Part E:** Let's see how important the Strife tiles are in affecting a player's final money. What is the probability that a player ends the game with at least \\$300,000 in cash if they landed on at least one Strife square? You may want to modify your previous codes to run additional simulations for this part. Use the same method as Part D to address the proportion of players who begin by going to college versus starting a career."
   ]
  },
  {
   "cell_type": "markdown",
   "metadata": {},
   "source": [
    "**Part E** Solution:\n",
    "\n",
    "Let C be the event that player get at least 300,000 in cash\n",
    "\n",
    "Let S be the event that player is at least land on Strife square\n",
    "\n",
    "Using Bayes theorem:\n",
    "$$P(C \\mid S) = \\frac{P(S \\mid C) P(C)}{P(S)}$$\n",
    "$$P(C \\mid S) = \\frac{(0.6499) \\cdot (0.5567)}{0.8566} = \\fbox{0.4224}$$\n"
   ]
  },
  {
   "cell_type": "code",
   "execution_count": null,
   "metadata": {},
   "outputs": [],
   "source": []
  },
  {
   "cell_type": "code",
   "execution_count": 15,
   "metadata": {},
   "outputs": [],
   "source": [
    "def game_strife1(event):\n",
    "    land_strife = [1,4,7,13,18,23,29]\n",
    "    cash = 0\n",
    "    land = 0\n",
    "    salary = 0\n",
    "    end_game = False\n",
    "    strife = False\n",
    "    count = 0\n",
    "    #event = np.random.choice([\"College\", \"Career\"])\n",
    "    while end_game == False:\n",
    "        if land <=30:\n",
    "            cash,salary, land, event = game_Strife_turn(cash, salary, land, event)\n",
    "            if not strife and land in land_strife:\n",
    "                count += 1\n",
    "                strife = True\n",
    "        else:\n",
    "            end_game = True\n",
    "            return cash, count\n",
    "    return cash, count  "
   ]
  },
  {
   "cell_type": "code",
   "execution_count": 19,
   "metadata": {},
   "outputs": [
    {
     "name": "stdout",
     "output_type": "stream",
     "text": [
      "8566.0\n",
      "prob_land_strife =  0.8566\n",
      "Probability of cash over 300000 =  0.5567\n",
      "pS_given_C =  0.6498949334578566\n",
      "P(300000 cash | Strife) = 0.4224\n"
     ]
    }
   ],
   "source": [
    "n_games = 10000\n",
    "count_cash_over =0\n",
    "land_on_strife =0\n",
    "strife_land = np.zeros(n_games)\n",
    "cash_over = np.zeros(n_games)\n",
    "total_land_strife =0\n",
    "for g in range(n_games):\n",
    "    event = np.random.choice([\"College\", \"Career\"], p=[0.667,0.333])\n",
    "    cash_over[g], strife_land[g] = game_strife1(event)\n",
    "    if cash_over[g] >=300000:\n",
    "        count_cash_over += 1\n",
    "\n",
    "# land on strife\n",
    "total_land_strife = np.sum(strife_land)\n",
    "print(total_land_strife)\n",
    "\n",
    "#probability of land on strife\n",
    "prob_land_strife = total_land_strife/n_games\n",
    "print(\"prob_land_strife = \",prob_land_strife)\n",
    "\n",
    "\n",
    "# probability of cash over 300000\n",
    "prob_cash_over = count_cash_over/n_games\n",
    "print(\"Probability of cash over 300000 = \",prob_cash_over)\n",
    "\n",
    "#probability of strife given cash over 300000\n",
    "pS_given_C = count_cash_over/total_land_strife\n",
    "print(\"pS_given_C = \",pS_given_C)\n",
    "\n",
    "# probability of cash over 300000 given strife\n",
    "pC_given_S = (pS_given_C * prob_cash_over)/prob_land_strife\n",
    "\n",
    "print(\"P(300000 cash | Strife) = {:.4f}\".format(pC_given_S))\n"
   ]
  },
  {
   "cell_type": "code",
   "execution_count": null,
   "metadata": {},
   "outputs": [],
   "source": []
  },
  {
   "cell_type": "markdown",
   "metadata": {},
   "source": [
    "<br>\n",
    "\n",
    "---\n",
    "[Back to top](#top)\n",
    "<a id='p2'></a>\n",
    "\n",
    "### [30 points] Problem 2: Sonic or Tails?"
   ]
  },
  {
   "cell_type": "markdown",
   "metadata": {},
   "source": [
    "<img src=\"http://www.cs.colorado.edu/~tonyewong/home/resources/hedgehog_coin.jpg\" style=\"width: 500px;\"/>"
   ]
  },
  {
   "cell_type": "markdown",
   "metadata": {},
   "source": [
    "In the file `flipadelphia.csv` you will find the results of an experiment that was conducted by Amy, the famous hedgehog data scientist, as she was flipping a coin one sunny day in a meadow. This is no ordinary coin, however: this coin has on one side Sonic, and on the other side Tails! The two sides of this coin are above, and at [this link](http://www.cs.colorado.edu/~tonyewong/home/resources/hedgehog_coin.jpg).\n",
    "\n",
    "In Amy's experiment she repeatedly flipped the coin until it came up Sonic. After each trial, she recorded her observed value for $X=$ the number of flips required to see the first Sonic. The results are stored in `flipadelphia.csv`.\n",
    "\n",
    "Amy has a lot of coins for performing cool data science experiments, and these coins have different biases (not all unique). Amy is a forgetful hedgehog, so she isn't sure which coin she was flipping. Her coins have biases of $p_S=.2, .3, .4, .5, .6, .7$ and $.8$, where $p_S$ is the probability of any given flip coming up Sonic."
   ]
  },
  {
   "cell_type": "markdown",
   "metadata": {},
   "source": [
    "**Part A:** Read in the data set and make a frequency histogram of the data. Be sure to label your axes appropriately, and center your bins above the integer numbers of flips (0, 1, 2, etc...). What is the name of the distribution for the random variable that Amy observed and recorded in her data table?"
   ]
  },
  {
   "cell_type": "code",
   "execution_count": 27,
   "metadata": {},
   "outputs": [
    {
     "name": "stdout",
     "output_type": "stream",
     "text": [
      "[[1]\n",
      " [5]\n",
      " [1]\n",
      " [5]\n",
      " [2]\n",
      " [2]\n",
      " [3]\n",
      " [2]\n",
      " [1]\n",
      " [1]]\n"
     ]
    }
   ],
   "source": [
    "df = pd.read_csv('/Users/chakryaros/Dropbox/csci3022_DataSci/practicum1/flipadelphia.csv', header=None)\n",
    "num_flip = np.array(df)\n",
    "#print(np.sum(num_flip))\n",
    "print(num_flip)"
   ]
  },
  {
   "cell_type": "code",
   "execution_count": 28,
   "metadata": {},
   "outputs": [
    {
     "data": {
      "image/png": "[encoded data removed]",
      "text/plain": [
       "<Figure size 576x360 with 1 Axes>"
      ]
     },
     "metadata": {
      "needs_background": "light"
     },
     "output_type": "display_data"
    }
   ],
   "source": [
    "bins = np.arange(-0.5, 6, 1)\n",
    "fig, ax = plt.subplots(nrows=1, ncols=1, figsize=(8,5))\n",
    "ax.hist(num_flip, edgecolor='white',facecolor=\"green\", bins=bins, rwidth=0.8)\n",
    "ax.grid(alpha=0.20)\n",
    "#ax.set_xlim([-0.7, 5.5]);\n",
    "ax.set_title('Distributeion for random variable')\n",
    "ax.set_xlabel('number of flip coin')\n",
    "ax.set_ylabel('Frequency')\n",
    "#ax.legend();\n",
    "ax.set_axisbelow(True)"
   ]
  },
  {
   "cell_type": "markdown",
   "metadata": {},
   "source": [
    "**Part A** solution:\n",
    "    \n",
    "The distribution for the random variable that Amy observed and recorded in her data table is Geometric Distribution.\n",
    "The trials are independent; that is, getting Sonic on one trial does not affect whether we get Sonic on other trials."
   ]
  },
  {
   "cell_type": "markdown",
   "metadata": {},
   "source": [
    "**Part B:** Use the distribution that you identified in Part A to determine $P(X=n \\mid p_S=0.5)$, the probability that Amy would observe the first Sonic flip on the $n$-th flip, assuming that the coin is fair ($p_S=0.5$), for each of the $n$ from her 10 trials in her data set. Then, combine these to find the overall *likelihood* that she would observe her entire data set, assuming that the coin was fair. That is, estimate $P(\\text{data} \\mid p_S=0.5)$. Be sure to note any assumptions you make about how the outcome of one trial relates to the outcomes of the others.\n",
    "\n",
    "If it helps to have some mathematical notation, consider that Amy's data set consists of the results of all 10 of her trials: $$\\text{data} = (X_1 = n_1) \\cap (X_2 = n_2) \\cap \\ldots (X_{10} = n_{10})$$"
   ]
  },
  {
   "cell_type": "markdown",
   "metadata": {},
   "source": [
    "**Part B** Solution:\n",
    "\n",
    "\n",
    "$$P(\\text{data} \\mid p_S) = \\frac{P(\\text{data} \\cap p_S)}{P(p_S)}$$\n",
    "Since each trials is independent, we have\n",
    "$$P(\\text{data} \\mid p_S) = \\frac{P(\\text{data}) P(p_S)}{P(p_S)} = P(\\text{data})$$\n",
    "so we can use geometric distribution to calculate $P(\\text{data})$\n",
    "\n",
    "The probability that Amy would observe the first Sonic flip on the 10 flip: 1.1920928955078125e-07\n",
    "\n"
   ]
  },
  {
   "cell_type": "code",
   "execution_count": 29,
   "metadata": {},
   "outputs": [
    {
     "name": "stdout",
     "output_type": "stream",
     "text": [
      "[0.5     0.03125 0.5     0.03125 0.25    0.25    0.125   0.25    0.5\n",
      " 0.5    ]\n",
      "1.1920928955078125e-07\n",
      "The probability that Amy would observe the first Sonic flip on the 10 flip: 1.1920928955078125e-07\n"
     ]
    }
   ],
   "source": [
    "num_flip = np.array(df)\n",
    "p = 0.5\n",
    "def geometri_dist(k, p):\n",
    "    prob = p * (1-p)**(k-1) #geometric\n",
    "    return prob\n",
    "s=0 \n",
    "likelihood = np.zeros(len(num_flip))\n",
    "for i, n in enumerate(num_flip):\n",
    "    #flip = i + 1\n",
    "    likelihood[i] = geometri_dist(n, p)\n",
    "print(likelihood)\n",
    "data = 1\n",
    "for i in likelihood:\n",
    "    data = data * i\n",
    "print(data)\n",
    "\n",
    "\n",
    "print(\"The probability that Amy would observe the first Sonic flip on the 10 flip:\",data)"
   ]
  },
  {
   "cell_type": "code",
   "execution_count": null,
   "metadata": {},
   "outputs": [],
   "source": []
  },
  {
   "cell_type": "markdown",
   "metadata": {},
   "source": [
    "**Part C:** Suppose before we observed Amy's data set, we believe that each of the seven possible coin biases occur with equal probability, $P(p_S)$. This is called the _prior distribution_ for the coin bias, $p_S$, because we have not yet taken into account Amy's data set.\n",
    "* Now, estimate the probability of each possible bias, given the data: $P(p_S \\mid \\text{data})$.  This is called the _posterior distribution_ for the coin bias, because it is our assessment of the coin's bias _after_ we have accounted for Amy's data.\n",
    "* Make a line plot of the bias along x-axis versus the posterior probability of that bias along the y-axis, and be sure to label your axes. \n",
    "* Comment on your plot. What appears to be the most probable value for the bias, $p_S$? This is called the _maximum a posteriori_ estimate, because it maximizes the posterior distribution and sounds very, *very* fancy."
   ]
  },
  {
   "cell_type": "markdown",
   "metadata": {},
   "source": [
    "**Part C** Solution:\n",
    "$$P(p_S \\mid \\text{data}) = \\frac{P(\\text{data} \\mid p_S)P(p_S)}{P(\\text{data})}$$\n",
    "Using Law of Total Probability to write denominator as\n",
    "$$P(p_S \\mid \\text{data}) = \\frac{P(\\text{data} \\mid p_S)P(p_S)}{\\sum_{p_S} P(\\text{data} \\mid p_S) P(p_S)}$$"
   ]
  },
  {
   "cell_type": "code",
   "execution_count": 30,
   "metadata": {},
   "outputs": [
    {
     "name": "stdout",
     "output_type": "stream",
     "text": [
      "[0.00702614 0.10710886 0.34185601 0.37196079 0.15193601 0.01967306\n",
      " 0.00043913]\n"
     ]
    },
    {
     "data": {
      "text/plain": [
       "Text(0, 0.5, 'P(ps | data)')"
      ]
     },
     "execution_count": 30,
     "metadata": {},
     "output_type": "execute_result"
    },
    {
     "data": {
      "image/png": "[encoded data removed]",
      "text/plain": [
       "<Figure size 432x288 with 1 Axes>"
      ]
     },
     "metadata": {
      "needs_background": "light"
     },
     "output_type": "display_data"
    }
   ],
   "source": [
    "num_flip = np.array(df)\n",
    "#p = 0.5\n",
    "def geometri_dist(num_flip, p):\n",
    "    prob = np.zeros(len(num_flip))\n",
    "    data = 1\n",
    "    for k in num_flip:\n",
    "        prob[i] = p * (1-p)**(k-1) #geometric\n",
    "        data = data * prob[i]\n",
    "    return data\n",
    "\n",
    "p_flip = np.arange(0.2,0.9,0.1)\n",
    "prior= p_flip/np.sum(p_flip)\n",
    "prob = np.zeros(len(p_flip))\n",
    "for i, n in enumerate(p_flip):\n",
    "    prob[i] = geometri_dist(num_flip, n)\n",
    "    \n",
    "posterior = prob*prior/np.sum(prob*prior)  \n",
    "print(posterior)\n",
    "fig,ax = plt.subplots(1,1,figsize=(6,4))        \n",
    "ax.plot(p_flip,posterior,'ro-')\n",
    "ax.set_xlabel('coin bias probability',FontSize=16)\n",
    "ax.set_ylabel('P(ps | data)',FontSize=16)"
   ]
  },
  {
   "cell_type": "markdown",
   "metadata": {},
   "source": [
    "The probabily of 0.5 is the maximum a posteriori."
   ]
  },
  {
   "cell_type": "markdown",
   "metadata": {},
   "source": [
    "**Part D:** Now suppose the prior probability distribution of the coins is not uniform. Namely, suppose these probabilities follow a ***triangular distribution***, centered at $p_S=0.5$:\n",
    "$$P(p_S = p) = \\begin{cases} mp & p \\leq 0.5 \\\\ m(1-p) & p > 0.5 \\end{cases}$$\n",
    "\n",
    "Determine what value the constant $m$ should have in order to make $P(p_S = p)$ is a valid probability mass function. Remember, $p_S \\in \\{.2, .3, \\ldots , .7, .8\\}$ and is discrete."
   ]
  },
  {
   "cell_type": "markdown",
   "metadata": {},
   "source": [
    "**Part D** Soultion:\n",
    "\n",
    "The probability of $p \\leq 0.5$ and $p > 5$ is equal to 1, so we have:\n",
    "\n",
    "$$(p \\leq 0.5) +  (p > 5) = 1$$\n",
    "$$mp + m(1-p)$$\n",
    "$$ m(p \\leq 0.5) +  m(1-(p>5)) = 1$$\n",
    "Substitute the ps into this formular:\n",
    "$$m(0.2 + 0.3 + 0.4 + 0.5) + m[(1 - 0.6) + (1-0.7) + (1-0.8)] = 1$$\n",
    "$$m(1.4) + m(0.9) = 1$$\n",
    "$$m(2.3) = 1$$\n",
    "$$m = \\frac {1}{2.3} = \\fbox{0.4348}$$"
   ]
  },
  {
   "cell_type": "markdown",
   "metadata": {},
   "source": [
    "**Part E:** Compare, using words, the triangular prior distribution (this part) and the uniform prior distribution (from Part C).  What does each represent in terms of our _prior_ knowledge of the coin bias?"
   ]
  },
  {
   "cell_type": "markdown",
   "metadata": {},
   "source": [
    "**Part E** solution:\n",
    "\n",
    "we have m = 0.4348, so we use this valuse to calculate each probability of seven bias coin $p_s \\in \\{.2,.3,...,0.7,0.8) \\} $\n",
    "\n",
    "$$P(p_s = 0.2) = 0.4348 \\cdot 0.2 = 0.0869$$\n",
    "$$P(p_s = 0.3) = 0.4348 \\cdot 0.3 = 0.1304$$\n",
    "$$P(p_s = 0.4) = 0.4348 \\cdot 0.4 = 0.1739$$\n",
    "$$P(p_s = 0.5) = 0.4348 \\cdot 0.5 = 0.2174$$\n",
    "$$P(p_s = 0.6) = 0.4348 \\cdot (1-0.6) = 0.17392$$\n",
    "$$P(p_s = 0.6) = 0.4348\\cdot (1-0.7) = 0.1304$$\n",
    "$$P(p_s = 0.6) = 0.4348\\cdot (1-0.8) = 0.0869$$\n",
    "\n",
    "We can see the pattern from low probabiliy to maximum at 0.5 and drop to the lower. It's mean that the lower probabily are reflect to the higher probability for the valuse m = 0.4348. That's looking similar the graph in part C.\n"
   ]
  },
  {
   "cell_type": "code",
   "execution_count": 31,
   "metadata": {},
   "outputs": [
    {
     "name": "stdout",
     "output_type": "stream",
     "text": [
      "0.08696000000000001\n",
      "0.13044\n",
      "0.17392000000000002\n",
      "0.2174\n",
      "0.17392000000000002\n",
      "0.13044000000000003\n",
      "0.08695999999999998\n"
     ]
    }
   ],
   "source": [
    "print((0.4348) * 0.2)\n",
    "print((0.4348) * 0.3)\n",
    "print((0.4348) * 0.4)\n",
    "print((0.4348) * 0.5)\n",
    "print((0.4348) * (1 - 0.6))\n",
    "print((0.4348) * (1 - 0.7))\n",
    "print((0.4348) * (1 - 0.8))\n",
    "#print(0.4348 * [((0.5)**2/2) -((0.2)**2/2 )])"
   ]
  },
  {
   "cell_type": "markdown",
   "metadata": {},
   "source": [
    "**Part F:** Modify your calculation of the posterior distribution from Part C to use the new triangular prior distribution from Part D. Make a plot of the results that includes both posterior distribution using the uniform prior (from Part C) and the posterior distribution using the triangular prior (from Part D) in the same figure panel. Be sure to label your axes and include a legend."
   ]
  },
  {
   "cell_type": "code",
   "execution_count": 32,
   "metadata": {},
   "outputs": [
    {
     "data": {
      "text/plain": [
       "<matplotlib.legend.Legend at 0x1a24c477f0>"
      ]
     },
     "execution_count": 32,
     "metadata": {},
     "output_type": "execute_result"
    },
    {
     "data": {
      "image/png": "[encoded data removed]",
      "text/plain": [
       "<Figure size 432x288 with 1 Axes>"
      ]
     },
     "metadata": {
      "needs_background": "light"
     },
     "output_type": "display_data"
    }
   ],
   "source": [
    "# for uniform from part C\n",
    "num_flip = np.array(df)\n",
    "def geometri_dist(num_flip, p):\n",
    "    prob = np.zeros(len(num_flip))\n",
    "    data = 1\n",
    "    for k in num_flip:\n",
    "        prob[i] = p * (1-p)**(k-1) #geometric\n",
    "        data = data * prob[i]\n",
    "    return data\n",
    "\n",
    "prior_uniform = np.arange(0.2,0.9,0.1)\n",
    "prior_c= p_flip/np.sum(p_flip)\n",
    "#print(prior_c)\n",
    "prob_c = np.zeros(len(prior_uniform))\n",
    "for i, n in enumerate(prior_uniform):\n",
    "    prob_c[i] = geometri_dist(num_flip, n)\n",
    "    \n",
    "posterior_c = prob_c*prior_c/np.sum(prob_c*prior_c) \n",
    "#print(posterior_c)\n",
    "\n",
    "\n",
    "# for triangular prior distribution from Part D.\n",
    "prior_triangular = np.array([0.0869, 0.1304, 0.1739, 0.2174, 0.1739, 0.1304, 0.666])\n",
    "prior_d= prior_triangular/np.sum(prior_triangular)\n",
    "#print(prior)\n",
    "prob_d = np.zeros(len(prior_triangular))\n",
    "for k, p in enumerate(prior_triangular):\n",
    "    prob_d[k] = geometri_dist(num_flip, p)\n",
    "    \n",
    "posterior_d = prob_d*prior_d/np.sum(prob_d*prior_d) \n",
    "#print(posterior_d)\n",
    "fig,ax = plt.subplots(1,1,figsize=(6,4))        \n",
    "ax.plot(p_flip,posterior_d,'ro-', label = \"triangular prior distribution\")\n",
    "ax.plot(p_flip,posterior_c,'bo-', label = \"uniform prior\")\n",
    "ax.set_title('Posterior distribution using uniform prior and triangular prior')\n",
    "ax.set_xlabel('coin bias probability',FontSize=16)\n",
    "ax.set_ylabel('P(ps | data)',FontSize=16)\n",
    "ax.legend()\n"
   ]
  },
  {
   "cell_type": "markdown",
   "metadata": {},
   "source": [
    "**Part G:** Comment on the effect of your choice of different prior distribution on your posterior inference for the most probable coin bias."
   ]
  },
  {
   "cell_type": "markdown",
   "metadata": {},
   "source": [
    "Looking at this two plots, we can see the triangular prior have the hight maximum posterior than uniform distritution. From the 0.2 to 0.7, the uniform have and triangular prior have the same bias probability and uniform prior is given higher data."
   ]
  },
  {
   "cell_type": "markdown",
   "metadata": {},
   "source": [
    "<br>\n",
    "\n",
    "---\n",
    "[Back to top](#top)\n",
    "<a id='bot'></a>"
   ]
  },
  {
   "cell_type": "code",
   "execution_count": null,
   "metadata": {},
   "outputs": [],
   "source": []
  }
 ],
 "metadata": {
  "kernelspec": {
   "display_name": "Python 3",
   "language": "python",
   "name": "python3"
  },
  "language_info": {
   "codemirror_mode": {
    "name": "ipython",
    "version": 3
   },
   "file_extension": ".py",
   "mimetype": "text/x-python",
   "name": "python",
   "nbconvert_exporter": "python",
   "pygments_lexer": "ipython3",
   "version": "3.7.1"
  }
 },
 "nbformat": 4,
 "nbformat_minor": 2
}
